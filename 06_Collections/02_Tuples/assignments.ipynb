{
 "cells": [
  {
   "cell_type": "markdown",
   "metadata": {},
   "source": [
    "# Assignment\n",
    "# 1. Prove that tuple concatenation is not commutative: t1 + t2 != t2 + t1\n",
    "# 2. Prove that tuple repetition is commutative       : t1 * 3 == 3 * t1"
   ]
  },
  {
   "cell_type": "code",
   "execution_count": 3,
   "metadata": {},
   "outputs": [
    {
     "name": "stdout",
     "output_type": "stream",
     "text": [
      "(2, 4, 6, 7, 8, 9, 'one', 67, (67, 89), 'tom')\n",
      "('one', 67, (67, 89), 'tom', 2, 4, 6, 7, 8, 9)\n",
      "Tuple concatenation is not commutative\n"
     ]
    }
   ],
   "source": [
    "# 1 \n",
    "\n",
    "t1 = (2,4,6,7,8,9)\n",
    "t2 = ('one',67,(67,89),'tom')\n",
    "\n",
    "print(t1 + t2)\n",
    "print (t2 + t1)\n",
    "\n",
    "if (t1 + t2) == (t2 + t1):\n",
    "    print(\"Tuple concatenation is commutative\")\n",
    "else:\n",
    "    print(\"Tuple concatenation is not commutative\")"
   ]
  },
  {
   "cell_type": "code",
   "execution_count": 5,
   "metadata": {},
   "outputs": [
    {
     "name": "stdout",
     "output_type": "stream",
     "text": [
      "('one', 67, (67, 89), 'tom', 'one', 67, (67, 89), 'tom', 'one', 67, (67, 89), 'tom')\n",
      "('one', 67, (67, 89), 'tom', 'one', 67, (67, 89), 'tom', 'one', 67, (67, 89), 'tom')\n",
      "Tuple repetition is commutative\n"
     ]
    }
   ],
   "source": [
    "t2 = ('one',67,(67,89),'tom')\n",
    "\n",
    "print(3 * t2)\n",
    "print (t2 *3)\n",
    "\n",
    "if (3 * t2) == (t2 *3):\n",
    "    print(\"Tuple repetition is commutative\")\n",
    "else:\n",
    "    print(\"Tuple repetition is not commutative\")"
   ]
  },
  {
   "cell_type": "code",
   "execution_count": null,
   "metadata": {},
   "outputs": [],
   "source": []
  }
 ],
 "metadata": {
  "kernelspec": {
   "display_name": "Python 3",
   "language": "python",
   "name": "python3"
  },
  "language_info": {
   "codemirror_mode": {
    "name": "ipython",
    "version": 3
   },
   "file_extension": ".py",
   "mimetype": "text/x-python",
   "name": "python",
   "nbconvert_exporter": "python",
   "pygments_lexer": "ipython3",
   "version": "3.12.1"
  }
 },
 "nbformat": 4,
 "nbformat_minor": 2
}
