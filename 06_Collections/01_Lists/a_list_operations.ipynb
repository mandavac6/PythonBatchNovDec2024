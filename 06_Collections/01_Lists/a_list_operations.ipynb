{
 "cells": [
  {
   "cell_type": "markdown",
   "metadata": {},
   "source": [
    "## Lists\n",
    "\n",
    "        List is representing using [].\n",
    "        Lists can store any no.of different data types together.\n",
    "        List can be classified as single-dimensional and multi-dimensional.\n",
    "        List is a mutable object, which means elements in list can be changed.\n",
    "        It can store asymmetric data types"
   ]
  },
  {
   "cell_type": "code",
   "execution_count": 1,
   "metadata": {},
   "outputs": [
    {
     "name": "stdout",
     "output_type": "stream",
     "text": [
      "<class 'list'> emp_list = []\n",
      "len(emp_list) =0\n"
     ]
    }
   ],
   "source": [
    "emp_list = []\n",
    "\n",
    "print(f\"{type(emp_list)} {emp_list = }\")\n",
    "print(f\"{len(emp_list) =}\")"
   ]
  },
  {
   "cell_type": "code",
   "execution_count": 2,
   "metadata": {},
   "outputs": [
    {
     "name": "stdout",
     "output_type": "stream",
     "text": [
      "\n",
      "<class 'list'> nums =[1, 2, 2, 3, 5, 6, -9, 8]\n",
      "len(nums) =8\n"
     ]
    }
   ],
   "source": [
    "# homogenous( storing same date sets )\n",
    "\n",
    "nums = [1,2,2,3,5,6,-9,8]\n",
    "print(f\"\\n{type(nums)} {nums =}\")\n",
    "print(f\"{len(nums) =}\")"
   ]
  },
  {
   "cell_type": "code",
   "execution_count": 3,
   "metadata": {},
   "outputs": [
    {
     "name": "stdout",
     "output_type": "stream",
     "text": [
      "\n",
      "<class 'list'> nums =[12, 3.2, (5+3j), 'tom']\n",
      "len(nums) =4\n"
     ]
    }
   ],
   "source": [
    "# non-homogenous\n",
    "nums = [12, 3.2, 5+3j, \"tom\"]\n",
    "print(f\"\\n{type(nums)} {nums =}\")\n",
    "print(f\"{len(nums) =}\")\n"
   ]
  },
  {
   "cell_type": "code",
   "execution_count": 6,
   "metadata": {},
   "outputs": [
    {
     "name": "stdout",
     "output_type": "stream",
     "text": [
      "\n",
      "<class 'list'> mdl =[1, 2, 3.3, 4, 5, [6, 7, 8, (9, 10)]]\n",
      "len(mdl) =6\n"
     ]
    }
   ],
   "source": [
    "mdl = [1,2,3.3,4,5,[6,7,8,(9,10)]]\n",
    "\n",
    "print(f\"\\n{type(mdl)} {mdl =}\")\n",
    "print(f\"{len(mdl) =}\")"
   ]
  },
  {
   "cell_type": "code",
   "execution_count": 7,
   "metadata": {},
   "outputs": [
    {
     "name": "stdout",
     "output_type": "stream",
     "text": [
      "<class 'float'> mdl[2] =3.3\n",
      "<class 'list'> mdl[5] =[6, 7, 8, (9, 10)]\n"
     ]
    }
   ],
   "source": [
    "print(f\"{type(mdl[2])} {mdl[2] =}\")\n",
    "print(f\"{type(mdl[5])} {mdl[5] =}\")"
   ]
  },
  {
   "cell_type": "code",
   "execution_count": 8,
   "metadata": {},
   "outputs": [
    {
     "data": {
      "text/plain": [
       "[6, 7, 8, (9, 10)]"
      ]
     },
     "execution_count": 8,
     "metadata": {},
     "output_type": "execute_result"
    }
   ],
   "source": [
    "mdl[5]"
   ]
  },
  {
   "cell_type": "code",
   "execution_count": 9,
   "metadata": {},
   "outputs": [
    {
     "data": {
      "text/plain": [
       "(9, 10)"
      ]
     },
     "execution_count": 9,
     "metadata": {},
     "output_type": "execute_result"
    }
   ],
   "source": [
    "mdl[5][3]"
   ]
  },
  {
   "cell_type": "code",
   "execution_count": 10,
   "metadata": {},
   "outputs": [
    {
     "data": {
      "text/plain": [
       "tuple"
      ]
     },
     "execution_count": 10,
     "metadata": {},
     "output_type": "execute_result"
    }
   ],
   "source": [
    "type(mdl[5][3])"
   ]
  },
  {
   "cell_type": "code",
   "execution_count": 11,
   "metadata": {},
   "outputs": [
    {
     "data": {
      "text/plain": [
       "9"
      ]
     },
     "execution_count": 11,
     "metadata": {},
     "output_type": "execute_result"
    }
   ],
   "source": [
    "mdl[5][3][0]\n",
    "# if you are using positive indexes use all possitves and viceversa\n"
   ]
  },
  {
   "cell_type": "code",
   "execution_count": 12,
   "metadata": {},
   "outputs": [
    {
     "data": {
      "text/plain": [
       "int"
      ]
     },
     "execution_count": 12,
     "metadata": {},
     "output_type": "execute_result"
    }
   ],
   "source": [
    "type(mdl[5][3][0])"
   ]
  },
  {
   "cell_type": "code",
   "execution_count": 13,
   "metadata": {},
   "outputs": [
    {
     "name": "stdout",
     "output_type": "stream",
     "text": [
      "True\n"
     ]
    }
   ],
   "source": [
    "print(mdl[-5] == mdl[1])"
   ]
  },
  {
   "cell_type": "code",
   "execution_count": 14,
   "metadata": {},
   "outputs": [],
   "source": [
    "assert(mdl[-5] == mdl[1])"
   ]
  },
  {
   "cell_type": "code",
   "execution_count": 15,
   "metadata": {},
   "outputs": [
    {
     "name": "stdout",
     "output_type": "stream",
     "text": [
      "\n",
      "mdl[1:4]       [2, 3.3, 4]\n",
      "mdl[1:4:2]     [2, 4]\n"
     ]
    }
   ],
   "source": [
    "# Slicing - last value in boundary will not be included\n",
    "print(\"\\nmdl[1:4]      \", mdl[1:4])\n",
    "print(\"mdl[1:4:2]    \", mdl[1:4:2])"
   ]
  },
  {
   "cell_type": "markdown",
   "metadata": {},
   "source": [
    "### mutability\n",
    "    Mutable objects: List, set, dict\n",
    "    immutable objects: int, float, str, bool, None, tuple, frozenset, iterator"
   ]
  },
  {
   "cell_type": "code",
   "execution_count": 16,
   "metadata": {},
   "outputs": [
    {
     "name": "stdout",
     "output_type": "stream",
     "text": [
      "num1 =1234 <class 'int'> id(num1)=140549791169136\n"
     ]
    }
   ],
   "source": [
    "num1 = 1234\n",
    "print(f\"{num1 =} {type(num1)} {id(num1)=}\")"
   ]
  },
  {
   "cell_type": "code",
   "execution_count": 17,
   "metadata": {},
   "outputs": [
    {
     "name": "stdout",
     "output_type": "stream",
     "text": [
      "num1 =2553 <class 'int'> id(num1)=140549791169296\n"
     ]
    }
   ],
   "source": [
    "num1 = 2553\n",
    "print(f\"{num1 =} {type(num1)} {id(num1)=}\")"
   ]
  },
  {
   "cell_type": "code",
   "execution_count": 18,
   "metadata": {},
   "outputs": [
    {
     "name": "stdout",
     "output_type": "stream",
     "text": [
      "name         :tom brady\n",
      "name[0:3]    :tom\n"
     ]
    }
   ],
   "source": [
    "name = \"tom brady\"\n",
    "print(f\"name         :{name}\")\n",
    "print(f\"name[0:3]    :{name[0:3]}\")"
   ]
  },
  {
   "cell_type": "code",
   "execution_count": 19,
   "metadata": {},
   "outputs": [
    {
     "ename": "TypeError",
     "evalue": "'str' object does not support item assignment",
     "output_type": "error",
     "traceback": [
      "\u001b[0;31m---------------------------------------------------------------------------\u001b[0m",
      "\u001b[0;31mTypeError\u001b[0m                                 Traceback (most recent call last)",
      "Cell \u001b[0;32mIn[19], line 1\u001b[0m\n\u001b[0;32m----> 1\u001b[0m \u001b[43mname\u001b[49m\u001b[43m[\u001b[49m\u001b[38;5;241;43m0\u001b[39;49m\u001b[43m:\u001b[49m\u001b[38;5;241;43m3\u001b[39;49m\u001b[43m]\u001b[49m \u001b[38;5;241m=\u001b[39m \u001b[38;5;124m\"\u001b[39m\u001b[38;5;124mnick\u001b[39m\u001b[38;5;124m\"\u001b[39m\n",
      "\u001b[0;31mTypeError\u001b[0m: 'str' object does not support item assignment"
     ]
    }
   ],
   "source": [
    "name[0:3] = \"nick\""
   ]
  },
  {
   "cell_type": "code",
   "execution_count": 21,
   "metadata": {},
   "outputs": [
    {
     "name": "stdout",
     "output_type": "stream",
     "text": [
      "id(name) = 140549788247344\n",
      "id(name) = 140549788252272\n"
     ]
    }
   ],
   "source": [
    "print(f'{id(name) = }')\n",
    "name = \"nick brady\"      \n",
    "print(f'{id(name) = }')"
   ]
  },
  {
   "cell_type": "code",
   "execution_count": 22,
   "metadata": {},
   "outputs": [
    {
     "data": {
      "text/plain": [
       "'nick brady'"
      ]
     },
     "execution_count": 22,
     "metadata": {},
     "output_type": "execute_result"
    }
   ],
   "source": [
    "name"
   ]
  },
  {
   "cell_type": "code",
   "execution_count": 23,
   "metadata": {},
   "outputs": [
    {
     "name": "stdout",
     "output_type": "stream",
     "text": [
      "List is a mutable object =======\n",
      "mdl            [1, 2, 3.3, 4, 5, [6, 7, 8, (9, 10)]]\n",
      "type(mdl)      <class 'list'>\n",
      "id(mdl)        140549788284480\n"
     ]
    }
   ],
   "source": [
    "mdl = [1,2,3.3,4,5,[6,7,8,(9,10)]]\n",
    "\n",
    "print(\"List is a mutable object =======\")\n",
    "print(\"mdl           \", mdl)\n",
    "print(\"type(mdl)     \", type(mdl))\n",
    "print(\"id(mdl)       \", id(mdl))"
   ]
  },
  {
   "cell_type": "code",
   "execution_count": 24,
   "metadata": {},
   "outputs": [
    {
     "data": {
      "text/plain": [
       "4"
      ]
     },
     "execution_count": 24,
     "metadata": {},
     "output_type": "execute_result"
    }
   ],
   "source": [
    "mdl[3]"
   ]
  },
  {
   "cell_type": "code",
   "execution_count": 25,
   "metadata": {},
   "outputs": [],
   "source": [
    "mdl[3] =4.32"
   ]
  },
  {
   "cell_type": "code",
   "execution_count": 28,
   "metadata": {},
   "outputs": [
    {
     "name": "stdout",
     "output_type": "stream",
     "text": [
      "[1, 2, 3.3, 4.32, 5, [6, 7, 8, (9, 10)]]\n",
      "type(mdl)      <class 'list'>\n",
      "id(mdl)        140549788284480\n"
     ]
    }
   ],
   "source": [
    "print(mdl)\n",
    "print(\"type(mdl)     \", type(mdl))\n",
    "print(\"id(mdl)       \", id(mdl))"
   ]
  },
  {
   "cell_type": "markdown",
   "metadata": {},
   "source": [
    "### List Attributes\n"
   ]
  },
  {
   "cell_type": "code",
   "execution_count": 29,
   "metadata": {},
   "outputs": [
    {
     "name": "stdout",
     "output_type": "stream",
     "text": [
      "type(nums)    = <class 'list'>\n",
      "dir(nums)     = ['__add__', '__class__', '__class_getitem__', '__contains__', '__delattr__', '__delitem__', '__dir__', '__doc__', '__eq__', '__format__', '__ge__', '__getattribute__', '__getitem__', '__getstate__', '__gt__', '__hash__', '__iadd__', '__imul__', '__init__', '__init_subclass__', '__iter__', '__le__', '__len__', '__lt__', '__mul__', '__ne__', '__new__', '__reduce__', '__reduce_ex__', '__repr__', '__reversed__', '__rmul__', '__setattr__', '__setitem__', '__sizeof__', '__str__', '__subclasshook__', 'append', 'clear', 'copy', 'count', 'extend', 'index', 'insert', 'pop', 'remove', 'reverse', 'sort']\n"
     ]
    }
   ],
   "source": [
    "nums = [43, 487, 9856]\n",
    "\n",
    "print(\"type(nums)    =\", type(nums))\n",
    "print(\"dir(nums)     =\", dir(nums))"
   ]
  },
  {
   "cell_type": "code",
   "execution_count": 30,
   "metadata": {},
   "outputs": [
    {
     "name": "stdout",
     "output_type": "stream",
     "text": [
      "len(nums)            = 3\n",
      "nums.__len__()       = 3\n"
     ]
    }
   ],
   "source": [
    "print(\"len(nums)            =\", len(nums))\n",
    "print(\"nums.__len__()       =\", nums.__len__())\n",
    "assert len(nums) == nums.__len__()"
   ]
  },
  {
   "cell_type": "code",
   "execution_count": 31,
   "metadata": {},
   "outputs": [
    {
     "name": "stdout",
     "output_type": "stream",
     "text": [
      "str(nums)= [43, 487, 9856]\n",
      "type(str(nums))= <class 'str'>\n",
      "nums.__str__()= [43, 487, 9856]\n",
      "type(nums.__str__())= <class 'str'>\n"
     ]
    }
   ],
   "source": [
    "print(\"str(nums)=\", str(nums))\n",
    "print(\"type(str(nums))=\", type(str(nums)))\n",
    "print(\"nums.__str__()=\", nums.__str__())\n",
    "print(\"type(nums.__str__())=\", type(nums.__str__()))\n",
    "assert str(nums) == nums.__str__()"
   ]
  },
  {
   "cell_type": "code",
   "execution_count": 32,
   "metadata": {},
   "outputs": [
    {
     "name": "stdout",
     "output_type": "stream",
     "text": [
      "nums * 3= [43, 487, 9856, 43, 487, 9856, 43, 487, 9856]\n",
      "nums= [43, 487, 9856]\n",
      "nums.__mul__(3)  = [43, 487, 9856, 43, 487, 9856, 43, 487, 9856]\n",
      "nums= [43, 487, 9856]\n"
     ]
    }
   ],
   "source": [
    "print(\"nums * 3=\", nums * 3)\n",
    "print(\"nums=\", nums)\n",
    "print(\"nums.__mul__(3)  =\", nums.__mul__(3))\n",
    "print(\"nums=\", nums)\n",
    "assert nums * 3 == nums.__mul__(3)"
   ]
  },
  {
   "cell_type": "code",
   "execution_count": 34,
   "metadata": {},
   "outputs": [
    {
     "name": "stdout",
     "output_type": "stream",
     "text": [
      "nums.__imul__(3) = [43, 487, 9856, 43, 487, 9856, 43, 487, 9856]\n",
      "nums= [43, 487, 9856, 43, 487, 9856, 43, 487, 9856]\n"
     ]
    }
   ],
   "source": [
    "print(\"nums.__imul__(3) =\", nums.__imul__(3))\n",
    "print(\"nums=\", nums)"
   ]
  },
  {
   "cell_type": "code",
   "execution_count": 41,
   "metadata": {},
   "outputs": [
    {
     "name": "stdout",
     "output_type": "stream",
     "text": [
      "id(nums)          = 140549788333824\n",
      "id(nums)          = 140549790105408\n",
      "id(nums)          = 140549788616192\n"
     ]
    }
   ],
   "source": [
    "print(\"id(nums)          =\", id(nums))\n",
    "nums = [43, 487, 9856]\n",
    "print(\"id(nums)          =\", id(nums))\n",
    "nums = [43, 487, 9856]\n",
    "print(\"id(nums)          =\", id(nums))"
   ]
  },
  {
   "cell_type": "code",
   "execution_count": 37,
   "metadata": {},
   "outputs": [
    {
     "name": "stdout",
     "output_type": "stream",
     "text": [
      "id(str_dt)          = 140549788629760\n",
      "id(str_dt)          = 140549788326720\n",
      "id(float_dt)          = 140549788225984\n",
      "id(float_dt)          = 140549788119744\n"
     ]
    }
   ],
   "source": [
    "# NOTE: overwriting will everytime change the address of the object, in datastcurure\n",
    "\n",
    "# Assignment: try checking the overwriting address change in all data types\n",
    "\n",
    "str_dt =['a','b','c','d','e']\n",
    "print(\"id(str_dt)          =\", id(str_dt))\n",
    "\n",
    "str_dt =['a','b','c','d','e']\n",
    "print(\"id(str_dt)          =\", id(str_dt))\n",
    "\n",
    "float_dt = [3.3,5.3,4.5,6.9,8.2,5.7]\n",
    "print(\"id(float_dt)          =\", id(float_dt))\n",
    "\n",
    "float_dt = [3.3,5.3,4.5,6.9,8.2,5.7]\n",
    "print(\"id(float_dt)          =\", id(float_dt))"
   ]
  },
  {
   "cell_type": "code",
   "execution_count": 38,
   "metadata": {},
   "outputs": [
    {
     "name": "stdout",
     "output_type": "stream",
     "text": [
      "id(num)  = 140549788173200\n",
      "id(num)  = 140549788173904\n"
     ]
    }
   ],
   "source": [
    "num = 45654\n",
    "print(\"id(num)  =\", id(num))\n",
    "num = 7532\n",
    "print(\"id(num)  =\", id(num))"
   ]
  },
  {
   "cell_type": "code",
   "execution_count": 39,
   "metadata": {},
   "outputs": [],
   "source": [
    "alphbets= ['e','t','r','y']\n"
   ]
  },
  {
   "cell_type": "code",
   "execution_count": 42,
   "metadata": {},
   "outputs": [
    {
     "data": {
      "text/plain": [
       "[43, 487, 9856, 'e', 't', 'r', 'y']"
      ]
     },
     "execution_count": 42,
     "metadata": {},
     "output_type": "execute_result"
    }
   ],
   "source": [
    "# list concatenation \n",
    "nums + alphbets"
   ]
  },
  {
   "cell_type": "code",
   "execution_count": 43,
   "metadata": {},
   "outputs": [
    {
     "data": {
      "text/plain": [
       "[43, 487, 9856]"
      ]
     },
     "execution_count": 43,
     "metadata": {},
     "output_type": "execute_result"
    }
   ],
   "source": [
    "nums"
   ]
  },
  {
   "cell_type": "code",
   "execution_count": 45,
   "metadata": {},
   "outputs": [
    {
     "data": {
      "text/plain": [
       "[43, 487, 9856, 'e', 't', 'r', 'y']"
      ]
     },
     "execution_count": 45,
     "metadata": {},
     "output_type": "execute_result"
    }
   ],
   "source": [
    "nums.__add__(alphbets)"
   ]
  },
  {
   "cell_type": "code",
   "execution_count": 46,
   "metadata": {},
   "outputs": [
    {
     "data": {
      "text/plain": [
       "[43, 487, 9856, 'e', 't', 'r', 'y']"
      ]
     },
     "execution_count": 46,
     "metadata": {},
     "output_type": "execute_result"
    }
   ],
   "source": [
    "nums.__iadd__(alphbets)"
   ]
  },
  {
   "cell_type": "code",
   "execution_count": 47,
   "metadata": {},
   "outputs": [
    {
     "data": {
      "text/plain": [
       "[43, 487, 9856, 'e', 't', 'r', 'y']"
      ]
     },
     "execution_count": 47,
     "metadata": {},
     "output_type": "execute_result"
    }
   ],
   "source": [
    "nums"
   ]
  },
  {
   "cell_type": "code",
   "execution_count": 50,
   "metadata": {},
   "outputs": [
    {
     "name": "stdout",
     "output_type": "stream",
     "text": [
      "nums.__contains__(3232) = False\n",
      "12 in nums            = False\n",
      "nums.__contains__('e') = True\n",
      "'e' in nums            = True\n"
     ]
    }
   ],
   "source": [
    "print(\"nums.__contains__(3232) =\", nums.__contains__(3232))\n",
    "print(\"12 in nums            =\", 12 in nums)\n",
    "\n",
    "print(\"nums.__contains__('e') =\", nums.__contains__(\"e\"))\n",
    "print(\"'e' in nums            =\", \"e\" in nums)"
   ]
  },
  {
   "cell_type": "code",
   "execution_count": 51,
   "metadata": {},
   "outputs": [
    {
     "data": {
      "text/plain": [
       "136"
      ]
     },
     "execution_count": 51,
     "metadata": {},
     "output_type": "execute_result"
    }
   ],
   "source": [
    "nums.__sizeof__()"
   ]
  },
  {
   "cell_type": "code",
   "execution_count": 53,
   "metadata": {},
   "outputs": [
    {
     "data": {
      "text/plain": [
       "True"
      ]
     },
     "execution_count": 53,
     "metadata": {},
     "output_type": "execute_result"
    }
   ],
   "source": [
    "callable(nums.__sizeof__)"
   ]
  },
  {
   "cell_type": "code",
   "execution_count": 55,
   "metadata": {},
   "outputs": [
    {
     "name": "stdout",
     "output_type": "stream",
     "text": [
      "nums.__sizeof__()  = 136\n",
      "sys.getsizeof(nums)= 152\n"
     ]
    }
   ],
   "source": [
    "print(f\"{nums.__sizeof__()  = }\")  \n",
    "\n",
    "import sys\n",
    "print(f\"{sys.getsizeof(nums)= }\") # object+ c header"
   ]
  },
  {
   "cell_type": "code",
   "execution_count": 56,
   "metadata": {},
   "outputs": [
    {
     "data": {
      "text/plain": [
       "'Built-in mutable sequence.\\n\\nIf no argument is given, the constructor creates a new empty list.\\nThe argument must be an iterable if specified.'"
      ]
     },
     "execution_count": 56,
     "metadata": {},
     "output_type": "execute_result"
    }
   ],
   "source": [
    "nums.__doc__"
   ]
  },
  {
   "cell_type": "code",
   "execution_count": 57,
   "metadata": {},
   "outputs": [
    {
     "name": "stdout",
     "output_type": "stream",
     "text": [
      "Built-in mutable sequence.\n",
      "\n",
      "If no argument is given, the constructor creates a new empty list.\n",
      "The argument must be an iterable if specified.\n"
     ]
    }
   ],
   "source": [
    "print(nums.__doc__)"
   ]
  },
  {
   "cell_type": "code",
   "execution_count": 59,
   "metadata": {},
   "outputs": [
    {
     "name": "stdout",
     "output_type": "stream",
     "text": [
      "Help on list object:\n",
      "\n",
      "class list(object)\n",
      " |  list(iterable=(), /)\n",
      " |\n",
      " |  Built-in mutable sequence.\n",
      " |\n",
      " |  If no argument is given, the constructor creates a new empty list.\n",
      " |  The argument must be an iterable if specified.\n",
      " |\n",
      " |  Methods defined here:\n",
      " |\n",
      " |  __add__(self, value, /)\n",
      " |      Return self+value.\n",
      " |\n",
      " |  __contains__(self, key, /)\n",
      " |      Return bool(key in self).\n",
      " |\n",
      " |  __delitem__(self, key, /)\n",
      " |      Delete self[key].\n",
      " |\n",
      " |  __eq__(self, value, /)\n",
      " |      Return self==value.\n",
      " |\n",
      " |  __ge__(self, value, /)\n",
      " |      Return self>=value.\n",
      " |\n",
      " |  __getattribute__(self, name, /)\n",
      " |      Return getattr(self, name).\n",
      " |\n",
      " |  __getitem__(self, index, /)\n",
      " |      Return self[index].\n",
      " |\n",
      " |  __gt__(self, value, /)\n",
      " |      Return self>value.\n",
      " |\n",
      " |  __iadd__(self, value, /)\n",
      " |      Implement self+=value.\n",
      " |\n",
      " |  __imul__(self, value, /)\n",
      " |      Implement self*=value.\n",
      " |\n",
      " |  __init__(self, /, *args, **kwargs)\n",
      " |      Initialize self.  See help(type(self)) for accurate signature.\n",
      " |\n",
      " |  __iter__(self, /)\n",
      " |      Implement iter(self).\n",
      " |\n",
      " |  __le__(self, value, /)\n",
      " |      Return self<=value.\n",
      " |\n",
      " |  __len__(self, /)\n",
      " |      Return len(self).\n",
      " |\n",
      " |  __lt__(self, value, /)\n",
      " |      Return self<value.\n",
      " |\n",
      " |  __mul__(self, value, /)\n",
      " |      Return self*value.\n",
      " |\n",
      " |  __ne__(self, value, /)\n",
      " |      Return self!=value.\n",
      " |\n",
      " |  __repr__(self, /)\n",
      " |      Return repr(self).\n",
      " |\n",
      " |  __reversed__(self, /)\n",
      " |      Return a reverse iterator over the list.\n",
      " |\n",
      " |  __rmul__(self, value, /)\n",
      " |      Return value*self.\n",
      " |\n",
      " |  __setitem__(self, key, value, /)\n",
      " |      Set self[key] to value.\n",
      " |\n",
      " |  __sizeof__(self, /)\n",
      " |      Return the size of the list in memory, in bytes.\n",
      " |\n",
      " |  append(self, object, /)\n",
      " |      Append object to the end of the list.\n",
      " |\n",
      " |  clear(self, /)\n",
      " |      Remove all items from list.\n",
      " |\n",
      " |  copy(self, /)\n",
      " |      Return a shallow copy of the list.\n",
      " |\n",
      " |  count(self, value, /)\n",
      " |      Return number of occurrences of value.\n",
      " |\n",
      " |  extend(self, iterable, /)\n",
      " |      Extend list by appending elements from the iterable.\n",
      " |\n",
      " |  index(self, value, start=0, stop=9223372036854775807, /)\n",
      " |      Return first index of value.\n",
      " |\n",
      " |      Raises ValueError if the value is not present.\n",
      " |\n",
      " |  insert(self, index, object, /)\n",
      " |      Insert object before index.\n",
      " |\n",
      " |  pop(self, index=-1, /)\n",
      " |      Remove and return item at index (default last).\n",
      " |\n",
      " |      Raises IndexError if list is empty or index is out of range.\n",
      " |\n",
      " |  remove(self, value, /)\n",
      " |      Remove first occurrence of value.\n",
      " |\n",
      " |      Raises ValueError if the value is not present.\n",
      " |\n",
      " |  reverse(self, /)\n",
      " |      Reverse *IN PLACE*.\n",
      " |\n",
      " |  sort(self, /, *, key=None, reverse=False)\n",
      " |      Sort the list in ascending order and return None.\n",
      " |\n",
      " |      The sort is in-place (i.e. the list itself is modified) and stable (i.e. the\n",
      " |      order of two equal elements is maintained).\n",
      " |\n",
      " |      If a key function is given, apply it once to each list item and sort them,\n",
      " |      ascending or descending, according to their function values.\n",
      " |\n",
      " |      The reverse flag can be set to sort in descending order.\n",
      " |\n",
      " |  ----------------------------------------------------------------------\n",
      " |  Class methods defined here:\n",
      " |\n",
      " |  __class_getitem__(...) from builtins.type\n",
      " |      See PEP 585\n",
      " |\n",
      " |  ----------------------------------------------------------------------\n",
      " |  Static methods defined here:\n",
      " |\n",
      " |  __new__(*args, **kwargs) from builtins.type\n",
      " |      Create and return a new object.  See help(type) for accurate signature.\n",
      " |\n",
      " |  ----------------------------------------------------------------------\n",
      " |  Data and other attributes defined here:\n",
      " |\n",
      " |  __hash__ = None\n",
      "\n"
     ]
    }
   ],
   "source": [
    "help(nums)"
   ]
  },
  {
   "cell_type": "code",
   "execution_count": 60,
   "metadata": {},
   "outputs": [
    {
     "data": {
      "text/plain": [
       "['__add__',\n",
       " '__class__',\n",
       " '__class_getitem__',\n",
       " '__contains__',\n",
       " '__delattr__',\n",
       " '__delitem__',\n",
       " '__dir__',\n",
       " '__doc__',\n",
       " '__eq__',\n",
       " '__format__',\n",
       " '__ge__',\n",
       " '__getattribute__',\n",
       " '__getitem__',\n",
       " '__getstate__',\n",
       " '__gt__',\n",
       " '__hash__',\n",
       " '__iadd__',\n",
       " '__imul__',\n",
       " '__init__',\n",
       " '__init_subclass__',\n",
       " '__iter__',\n",
       " '__le__',\n",
       " '__len__',\n",
       " '__lt__',\n",
       " '__mul__',\n",
       " '__ne__',\n",
       " '__new__',\n",
       " '__reduce__',\n",
       " '__reduce_ex__',\n",
       " '__repr__',\n",
       " '__reversed__',\n",
       " '__rmul__',\n",
       " '__setattr__',\n",
       " '__setitem__',\n",
       " '__sizeof__',\n",
       " '__str__',\n",
       " '__subclasshook__',\n",
       " 'append',\n",
       " 'clear',\n",
       " 'copy',\n",
       " 'count',\n",
       " 'extend',\n",
       " 'index',\n",
       " 'insert',\n",
       " 'pop',\n",
       " 'remove',\n",
       " 'reverse',\n",
       " 'sort']"
      ]
     },
     "execution_count": 60,
     "metadata": {},
     "output_type": "execute_result"
    }
   ],
   "source": [
    "mylist =[23,45,67,89]\n",
    "dir(mylist)"
   ]
  },
  {
   "cell_type": "code",
   "execution_count": 62,
   "metadata": {},
   "outputs": [
    {
     "name": "stdout",
     "output_type": "stream",
     "text": [
      "__add__\n",
      "__class__\n",
      "__class_getitem__\n",
      "__contains__\n",
      "__delattr__\n",
      "__delitem__\n",
      "__dir__\n",
      "__doc__\n",
      "__eq__\n",
      "__format__\n",
      "__ge__\n",
      "__getattribute__\n",
      "__getitem__\n",
      "__getstate__\n",
      "__gt__\n",
      "__hash__\n",
      "__iadd__\n",
      "__imul__\n",
      "__init__\n",
      "__init_subclass__\n",
      "__iter__\n",
      "__le__\n",
      "__len__\n",
      "__lt__\n",
      "__mul__\n",
      "__ne__\n",
      "__new__\n",
      "__reduce__\n",
      "__reduce_ex__\n",
      "__repr__\n",
      "__reversed__\n",
      "__rmul__\n",
      "__setattr__\n",
      "__setitem__\n",
      "__sizeof__\n",
      "__str__\n",
      "__subclasshook__\n"
     ]
    }
   ],
   "source": [
    "for attribute in dir(mylist):\n",
    "    if  attribute.startswith('__'):\n",
    "        print(attribute)"
   ]
  },
  {
   "cell_type": "code",
   "execution_count": 63,
   "metadata": {},
   "outputs": [
    {
     "name": "stdout",
     "output_type": "stream",
     "text": [
      "append, clear, copy, count, extend, index, insert, pop, remove, reverse, sort, "
     ]
    }
   ],
   "source": [
    "for attribute in dir(mylist):\n",
    "    if  not attribute.startswith('__'):\n",
    "        print(attribute, end = \", \")"
   ]
  },
  {
   "cell_type": "code",
   "execution_count": 64,
   "metadata": {},
   "outputs": [
    {
     "data": {
      "text/plain": [
       "[23, 45, 67, 89]"
      ]
     },
     "execution_count": 64,
     "metadata": {},
     "output_type": "execute_result"
    }
   ],
   "source": [
    "mylist\n"
   ]
  },
  {
   "cell_type": "code",
   "execution_count": 65,
   "metadata": {},
   "outputs": [
    {
     "data": {
      "text/plain": [
       "[23, 45, 67, 89, 12]"
      ]
     },
     "execution_count": 65,
     "metadata": {},
     "output_type": "execute_result"
    }
   ],
   "source": [
    "mylist.append(12)\n",
    "mylist"
   ]
  },
  {
   "cell_type": "code",
   "execution_count": 66,
   "metadata": {},
   "outputs": [
    {
     "data": {
      "text/plain": [
       "[23, 45, 67, 89, 12, [66, 443, 678]]"
      ]
     },
     "execution_count": 66,
     "metadata": {},
     "output_type": "execute_result"
    }
   ],
   "source": [
    "mylist.append([66,443,678,])\n",
    "mylist"
   ]
  },
  {
   "cell_type": "code",
   "execution_count": 67,
   "metadata": {},
   "outputs": [
    {
     "ename": "TypeError",
     "evalue": "'int' object is not iterable",
     "output_type": "error",
     "traceback": [
      "\u001b[0;31m---------------------------------------------------------------------------\u001b[0m",
      "\u001b[0;31mTypeError\u001b[0m                                 Traceback (most recent call last)",
      "Cell \u001b[0;32mIn[67], line 1\u001b[0m\n\u001b[0;32m----> 1\u001b[0m \u001b[43mmylist\u001b[49m\u001b[38;5;241;43m.\u001b[39;49m\u001b[43mextend\u001b[49m\u001b[43m(\u001b[49m\u001b[38;5;241;43m678\u001b[39;49m\u001b[43m)\u001b[49m\n\u001b[1;32m      2\u001b[0m mylist\n",
      "\u001b[0;31mTypeError\u001b[0m: 'int' object is not iterable"
     ]
    }
   ],
   "source": [
    "mylist.extend(678)\n",
    "mylist"
   ]
  },
  {
   "cell_type": "code",
   "execution_count": 68,
   "metadata": {},
   "outputs": [
    {
     "data": {
      "text/plain": [
       "[23, 45, 67, 89, 12, [66, 443, 678], 678, 987, 945]"
      ]
     },
     "execution_count": 68,
     "metadata": {},
     "output_type": "execute_result"
    }
   ],
   "source": [
    "mylist.extend([678,987,945])\n",
    "mylist"
   ]
  },
  {
   "cell_type": "code",
   "execution_count": 69,
   "metadata": {},
   "outputs": [],
   "source": [
    "mylist.extend([678,(1,2,3,4)])"
   ]
  },
  {
   "cell_type": "code",
   "execution_count": 70,
   "metadata": {},
   "outputs": [
    {
     "data": {
      "text/plain": [
       "[23, 45, 67, 89, 12, [66, 443, 678], 678, 987, 945, 678, (1, 2, 3, 4)]"
      ]
     },
     "execution_count": 70,
     "metadata": {},
     "output_type": "execute_result"
    }
   ],
   "source": [
    "mylist"
   ]
  },
  {
   "cell_type": "code",
   "execution_count": 72,
   "metadata": {},
   "outputs": [],
   "source": [
    "mylist =[23,45,67,89]"
   ]
  },
  {
   "cell_type": "code",
   "execution_count": 73,
   "metadata": {},
   "outputs": [
    {
     "name": "stdout",
     "output_type": "stream",
     "text": [
      "after mylist.insert(0, 'a'):\n",
      "\t ['a', 23, 45, 67, 89]\n"
     ]
    }
   ],
   "source": [
    "mylist.insert(0, \"a\")\n",
    "print(\"after mylist.insert(0, 'a'):\\n\\t\", mylist)"
   ]
  },
  {
   "cell_type": "code",
   "execution_count": 74,
   "metadata": {},
   "outputs": [
    {
     "name": "stdout",
     "output_type": "stream",
     "text": [
      "after mylist.insert(0, 'a'):\n",
      "\t ['a', 23, 45, 67, ['e', 'y', 't'], 89]\n"
     ]
    }
   ],
   "source": [
    "mylist.insert(4, ['e','y','t'])\n",
    "print(\"after mylist.insert(0, 'a'):\\n\\t\", mylist)"
   ]
  },
  {
   "cell_type": "code",
   "execution_count": 75,
   "metadata": {},
   "outputs": [
    {
     "name": "stdout",
     "output_type": "stream",
     "text": [
      "mylist.pop() =89\n",
      "mylist       =['a', 23, 45, 67, ['e', 'y', 't']]\n",
      "\n"
     ]
    }
   ],
   "source": [
    "print(f\"{mylist.pop() =}\")\n",
    "print(f\"{mylist       =}\\n\")\n"
   ]
  },
  {
   "cell_type": "code",
   "execution_count": 76,
   "metadata": {},
   "outputs": [
    {
     "name": "stdout",
     "output_type": "stream",
     "text": [
      "mylist.pop() =['e', 'y', 't']\n",
      "mylist       =['a', 23, 45, 67]\n",
      "\n"
     ]
    }
   ],
   "source": [
    "print(f\"{mylist.pop() =}\")\n",
    "print(f\"{mylist       =}\\n\")"
   ]
  },
  {
   "cell_type": "code",
   "execution_count": 82,
   "metadata": {},
   "outputs": [
    {
     "name": "stdout",
     "output_type": "stream",
     "text": [
      "mylist.remove(5) =None\n",
      "mylist       =[2, 4, 6, 'rat', [6, 'x', 4], (3+6j), 8.9, 6, 4, 5, 6, 8, 5]\n",
      "\n"
     ]
    }
   ],
   "source": [
    "mylist= [2,4,5,6,'rat',[6,'x',4],3+6j,8.9,6,4,5,6,8,5,]\n",
    "print(f\"{mylist.remove(5) = }\")  \n",
    "print(f\"{mylist       =}\\n\")"
   ]
  },
  {
   "cell_type": "code",
   "execution_count": 92,
   "metadata": {},
   "outputs": [
    {
     "name": "stdout",
     "output_type": "stream",
     "text": [
      "[2, 4, 5, 6, 'rat', [6, 'x', 4], (3+6j), 8.9, 6, 4, 5]\n"
     ]
    }
   ],
   "source": [
    "\n",
    "# Assignment - how to remove the last occurence of a element in the list\n",
    "\n",
    "mylist = [2, 4, 5, 6, 'rat', [6, 'x', 4], (3+6j), 8.9, 6, 4, 6, 5]\n",
    "value_of_last_occurene = 6\n",
    "\n",
    "mylist.reverse()\n",
    "mylist.remove(value_of_last_occurene)\n",
    "mylist.reverse()\n",
    "print(mylist)"
   ]
  },
  {
   "cell_type": "code",
   "execution_count": 93,
   "metadata": {},
   "outputs": [
    {
     "name": "stdout",
     "output_type": "stream",
     "text": [
      "After del mylist[3]   = [2, 4, 5, 'rat', [6, 'x', 4], (3+6j), 8.9, 6, 4, 6, 5]\n"
     ]
    }
   ],
   "source": [
    "mylist = [2, 4, 5, 6, 'rat', [6, 'x', 4], (3+6j), 8.9, 6, 4, 6, 5]\n",
    "del mylist[3]\n",
    "print(\"After del mylist[3]   =\", mylist)"
   ]
  },
  {
   "cell_type": "code",
   "execution_count": 94,
   "metadata": {},
   "outputs": [],
   "source": [
    "del mylist"
   ]
  },
  {
   "cell_type": "code",
   "execution_count": 95,
   "metadata": {},
   "outputs": [
    {
     "ename": "NameError",
     "evalue": "name 'mylist' is not defined",
     "output_type": "error",
     "traceback": [
      "\u001b[0;31m---------------------------------------------------------------------------\u001b[0m",
      "\u001b[0;31mNameError\u001b[0m                                 Traceback (most recent call last)",
      "Cell \u001b[0;32mIn[95], line 1\u001b[0m\n\u001b[0;32m----> 1\u001b[0m \u001b[43mmylist\u001b[49m\n",
      "\u001b[0;31mNameError\u001b[0m: name 'mylist' is not defined"
     ]
    }
   ],
   "source": [
    "mylist"
   ]
  },
  {
   "cell_type": "code",
   "execution_count": null,
   "metadata": {},
   "outputs": [],
   "source": []
  }
 ],
 "metadata": {
  "kernelspec": {
   "display_name": "Python 3",
   "language": "python",
   "name": "python3"
  },
  "language_info": {
   "codemirror_mode": {
    "name": "ipython",
    "version": 3
   },
   "file_extension": ".py",
   "mimetype": "text/x-python",
   "name": "python",
   "nbconvert_exporter": "python",
   "pygments_lexer": "ipython3",
   "version": "3.12.1"
  }
 },
 "nbformat": 4,
 "nbformat_minor": 2
}
