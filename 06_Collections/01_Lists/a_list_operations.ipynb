{
 "cells": [
  {
   "cell_type": "markdown",
   "metadata": {},
   "source": [
    "## Lists\n",
    "\n",
    "        List is representing using [].\n",
    "        Lists can store any no.of different data types together.\n",
    "        List can be classified as single-dimensional and multi-dimensional.\n",
    "        List is a mutable object, which means elements in list can be changed.\n",
    "        It can store asymmetric data types"
   ]
  },
  {
   "cell_type": "code",
   "execution_count": 2,
   "metadata": {},
   "outputs": [
    {
     "name": "stdout",
     "output_type": "stream",
     "text": [
      "<class 'list'> emp_list = []\n",
      "len(emp_list) =0\n"
     ]
    }
   ],
   "source": [
    "emp_list = []\n",
    "\n",
    "print(f\"{type(emp_list)} {emp_list = }\")\n",
    "print(f\"{len(emp_list) =}\")"
   ]
  },
  {
   "cell_type": "code",
   "execution_count": 3,
   "metadata": {},
   "outputs": [
    {
     "name": "stdout",
     "output_type": "stream",
     "text": [
      "\n",
      "<class 'list'> nums =[1, 2, 2, 3, 5, 6, -9, 8]\n",
      "len(nums) =8\n"
     ]
    }
   ],
   "source": [
    "# homogenous( storing same date sets )\n",
    "\n",
    "nums = [1,2,2,3,5,6,-9,8]\n",
    "print(f\"\\n{type(nums)} {nums =}\")\n",
    "print(f\"{len(nums) =}\")"
   ]
  },
  {
   "cell_type": "code",
   "execution_count": 4,
   "metadata": {},
   "outputs": [
    {
     "name": "stdout",
     "output_type": "stream",
     "text": [
      "\n",
      "<class 'list'> nums =[12, 3.2, (5+3j), 'tom']\n",
      "len(nums) =4\n"
     ]
    }
   ],
   "source": [
    "# non-homogenous\n",
    "nums = [12, 3.2, 5+3j, \"tom\"]\n",
    "print(f\"\\n{type(nums)} {nums =}\")\n",
    "print(f\"{len(nums) =}\")\n"
   ]
  },
  {
   "cell_type": "code",
   "execution_count": null,
   "metadata": {},
   "outputs": [],
   "source": []
  }
 ],
 "metadata": {
  "kernelspec": {
   "display_name": "Python 3",
   "language": "python",
   "name": "python3"
  },
  "language_info": {
   "codemirror_mode": {
    "name": "ipython",
    "version": 3
   },
   "file_extension": ".py",
   "mimetype": "text/x-python",
   "name": "python",
   "nbconvert_exporter": "python",
   "pygments_lexer": "ipython3",
   "version": "3.12.1"
  }
 },
 "nbformat": 4,
 "nbformat_minor": 2
}
