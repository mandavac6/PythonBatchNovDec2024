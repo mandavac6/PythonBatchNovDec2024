{
 "cells": [
  {
   "cell_type": "markdown",
   "metadata": {},
   "source": [
    "Assignment\n",
    "----------\n",
    "    1) implement the list mechanism - LIFO\n",
    "    Take the values in run time\n",
    "       1. push   - add an element\n",
    "       2. pop    - delete last element\n",
    "       3. status - list size\n",
    "    \n",
    "    -       -\n",
    "    |       |\n",
    "    |       |\n",
    "    ---------\n",
    "    HINT: list.pop() list.append() len()\n",
    "    \n",
    "    2) implement the fifo mechanism - FIFO\n",
    "    Take the values in run time\n",
    "       1. push   - add an element\n",
    "       2. pop    - delete last element\n",
    "       3. status - fifo size\n",
    "        --------\n",
    "     ->         ->\n",
    "        --------\n",
    "    HINT: list.insert() list.pop() len()"
   ]
  },
  {
   "cell_type": "code",
   "execution_count": 7,
   "metadata": {},
   "outputs": [
    {
     "name": "stdout",
     "output_type": "stream",
     "text": [
      "Element 89 pushed onto the list.\n",
      "Element 09 pushed onto the list.\n",
      "Current list size: 2\n",
      "Element 09 popped from the list.\n",
      "Element 10 pushed onto the list.\n",
      "Exiting the program.\n",
      "['89', '10']\n"
     ]
    }
   ],
   "source": [
    "list = []\n",
    "\n",
    "while True:\n",
    "    operation = input(\"Enter operation (push <value>, pop, status, or exit): \").strip().lower()\n",
    "\n",
    "    if operation.startswith(\"push\"):\n",
    "        value = operation.split()[1]\n",
    "        list.append(value)\n",
    "        print(f\"Element {value} pushed onto the list.\")\n",
    "\n",
    "    elif operation == \"pop\":\n",
    "        if list:\n",
    "            popped_value = list.pop()\n",
    "            print(f\"Element {popped_value} popped from the list.\")\n",
    "        else:\n",
    "            print(\"list is empty. Cannot pop.\")\n",
    "\n",
    "    elif operation == \"status\":\n",
    "        print(f\"Current list size: {len(list)}\")\n",
    "\n",
    "    elif operation == \"exit\":\n",
    "        print(\"Exiting the program.\")\n",
    "        break\n",
    "\n",
    "    else:\n",
    "        print(\"Invalid operation. Please try again.\")\n",
    "print(list)"
   ]
  },
  {
   "cell_type": "code",
   "execution_count": 11,
   "metadata": {},
   "outputs": [
    {
     "name": "stdout",
     "output_type": "stream",
     "text": [
      "Element '78' added to the fifo.\n",
      "Element '79' added to the fifo.\n",
      "Exiting...\n",
      "['79', '78']\n"
     ]
    }
   ],
   "source": [
    "fifo = []  \n",
    "\n",
    "while True:\n",
    "    func = input(\"Enter func (push <value>, pop, status, or exit): \").strip().lower()\n",
    "\n",
    "    if func.startswith(\"push\"):\n",
    "        value = func.split()[1]\n",
    "        fifo.insert(0, value)  \n",
    "        print(f\"Element '{value}' added to the fifo.\")\n",
    "\n",
    "    elif func == \"pop\":\n",
    "        if fifo:  \n",
    "            popped_element = fifo.pop()\n",
    "            print(f\"Element '{popped_element}' removed from the fifo.\")\n",
    "        else:\n",
    "            print(\"fifo is empty, nothing to pop.\")\n",
    "\n",
    "    elif func == \"status\":\n",
    "        print(f\"fifo size: {len(fifo)}\")\n",
    "    elif func == \"exit\":\n",
    "        print(\"Exiting...\")\n",
    "        break\n",
    "\n",
    "    else:\n",
    "        print(\"Invalid func. Please enter 'push', 'pop', 'status', or 'exit'.\")\n",
    "print (fifo)\n"
   ]
  },
  {
   "cell_type": "code",
   "execution_count": null,
   "metadata": {},
   "outputs": [],
   "source": []
  }
 ],
 "metadata": {
  "kernelspec": {
   "display_name": "Python 3",
   "language": "python",
   "name": "python3"
  },
  "language_info": {
   "codemirror_mode": {
    "name": "ipython",
    "version": 3
   },
   "file_extension": ".py",
   "mimetype": "text/x-python",
   "name": "python",
   "nbconvert_exporter": "python",
   "pygments_lexer": "ipython3",
   "version": "3.12.1"
  }
 },
 "nbformat": 4,
 "nbformat_minor": 2
}
