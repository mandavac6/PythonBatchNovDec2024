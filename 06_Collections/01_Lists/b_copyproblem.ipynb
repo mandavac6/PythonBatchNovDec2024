{
 "cells": [
  {
   "cell_type": "markdown",
   "metadata": {},
   "source": [
    "### assignment operator vs Shallow copy vs deep copy\n"
   ]
  },
  {
   "cell_type": "code",
   "execution_count": 1,
   "metadata": {},
   "outputs": [
    {
     "name": "stdout",
     "output_type": "stream",
     "text": [
      "num1  852 <class 'int'> 129777171673968\n"
     ]
    }
   ],
   "source": [
    "num1 = 852\n",
    "print(\"num1 \", num1, type(num1), id(num1))"
   ]
  },
  {
   "cell_type": "code",
   "execution_count": null,
   "metadata": {},
   "outputs": [
    {
     "name": "stdout",
     "output_type": "stream",
     "text": [
      "num2  852 <class 'int'> 129777171673968\n"
     ]
    }
   ],
   "source": [
    "num2 = num1             \n",
    "print(\"num2 \", num2, type(num2), id(num2))"
   ]
  },
  {
   "cell_type": "code",
   "execution_count": 3,
   "metadata": {},
   "outputs": [
    {
     "name": "stdout",
     "output_type": "stream",
     "text": [
      "num1           852 <class 'int'> 129777171673968\n",
      "num2           999 <class 'int'> 129777171674096\n"
     ]
    }
   ],
   "source": [
    "num2 = 999\n",
    "print(\"num1          \", num1, type(num1), id(num1))\n",
    "print(\"num2          \", num2, type(num2), id(num2))"
   ]
  },
  {
   "cell_type": "code",
   "execution_count": 4,
   "metadata": {},
   "outputs": [
    {
     "name": "stdout",
     "output_type": "stream",
     "text": [
      "num1           852 <class 'int'> 129777171673968\n",
      "num2           852 <class 'int'> 129777171674896\n"
     ]
    }
   ],
   "source": [
    "num2 = 852\n",
    "print(\"num1          \", num1, type(num1), id(num1))\n",
    "print(\"num2          \", num2, type(num2), id(num2))"
   ]
  },
  {
   "cell_type": "markdown",
   "metadata": {},
   "source": [
    "### for mutable objects if we updates the assigned operator there will be no change in the original variable where as \n",
    "\n",
    "### for immutable objects if we change assigned operator it also updates the ooriginal variable \n"
   ]
  },
  {
   "cell_type": "code",
   "execution_count": 7,
   "metadata": {},
   "outputs": [
    {
     "name": "stdout",
     "output_type": "stream",
     "text": [
      "129777162207488 list1       = [4, 432, 4321]\n",
      "129777162207488 list2 = [4, 432, 4321]\n"
     ]
    }
   ],
   "source": [
    "list1 = [4, 432, 4321]\n",
    "print(f\"{id(list1)} {list1       = }\")\n",
    "\n",
    "\n",
    "list2 = list1   # assignment \n",
    "print(f\"{id(list2)} {list2 = }\")"
   ]
  },
  {
   "cell_type": "code",
   "execution_count": 8,
   "metadata": {},
   "outputs": [
    {
     "name": "stdout",
     "output_type": "stream",
     "text": [
      "list1[2]    4321\n",
      "list1[2]    4343\n",
      "129777162207488 list1       = [4, 432, 4343]\n"
     ]
    }
   ],
   "source": [
    "print(\"list1[2]   \", list1[2])\n",
    "\n",
    "list1[2] = 4343  # Substitution\n",
    "print(\"list1[2]   \", list1[2])\n",
    "print(f\"{id(list1)} {list1       = }\")"
   ]
  },
  {
   "cell_type": "code",
   "execution_count": 9,
   "metadata": {},
   "outputs": [
    {
     "data": {
      "text/plain": [
       "[4, 432, 4343]"
      ]
     },
     "execution_count": 9,
     "metadata": {},
     "output_type": "execute_result"
    }
   ],
   "source": [
    "list2"
   ]
  },
  {
   "cell_type": "code",
   "execution_count": 10,
   "metadata": {},
   "outputs": [
    {
     "data": {
      "text/plain": [
       "[4, 432, 4343]"
      ]
     },
     "execution_count": 10,
     "metadata": {},
     "output_type": "execute_result"
    }
   ],
   "source": [
    "list1"
   ]
  },
  {
   "cell_type": "code",
   "execution_count": 11,
   "metadata": {},
   "outputs": [
    {
     "data": {
      "text/plain": [
       "['Error',\n",
       " '__all__',\n",
       " '__builtins__',\n",
       " '__cached__',\n",
       " '__doc__',\n",
       " '__file__',\n",
       " '__loader__',\n",
       " '__name__',\n",
       " '__package__',\n",
       " '__spec__',\n",
       " '_copy_dispatch',\n",
       " '_copy_immutable',\n",
       " '_deepcopy_atomic',\n",
       " '_deepcopy_dict',\n",
       " '_deepcopy_dispatch',\n",
       " '_deepcopy_list',\n",
       " '_deepcopy_method',\n",
       " '_deepcopy_tuple',\n",
       " '_keep_alive',\n",
       " '_reconstruct',\n",
       " 'copy',\n",
       " 'deepcopy',\n",
       " 'dispatch_table',\n",
       " 'error']"
      ]
     },
     "execution_count": 11,
     "metadata": {},
     "output_type": "execute_result"
    }
   ],
   "source": [
    "import copy\n",
    "dir(copy)"
   ]
  },
  {
   "cell_type": "code",
   "execution_count": 12,
   "metadata": {},
   "outputs": [
    {
     "name": "stdout",
     "output_type": "stream",
     "text": [
      "129777162281216 list3 = [4, 432, 4343]\n"
     ]
    }
   ],
   "source": [
    "list3 = copy.copy(list1)\n",
    "print(f\"{id(list3)} {list3 = }\")"
   ]
  },
  {
   "cell_type": "code",
   "execution_count": 18,
   "metadata": {},
   "outputs": [
    {
     "name": "stdout",
     "output_type": "stream",
     "text": [
      "list2[2] 4343\n",
      "\n",
      "129777162207488 list1       = [4, 432, '0ne']\n",
      "129777162207488 list2 = [4, 432, '0ne']\n",
      "129777162281216 list3 = [4, 432, 4343]\n"
     ]
    }
   ],
   "source": [
    "print(\"list2[2]\", list2[2])\n",
    "\n",
    "list2[2] = \"0ne\"\n",
    "\n",
    "print()\n",
    "print(f\"{id(list1)} {list1       = }\")\n",
    "print(f\"{id(list2)} {list2 = }\")\n",
    "print(f\"{id(list3)} {list3 = }\")"
   ]
  }
 ],
 "metadata": {
  "kernelspec": {
   "display_name": "Python 3",
   "language": "python",
   "name": "python3"
  },
  "language_info": {
   "codemirror_mode": {
    "name": "ipython",
    "version": 3
   },
   "file_extension": ".py",
   "mimetype": "text/x-python",
   "name": "python",
   "nbconvert_exporter": "python",
   "pygments_lexer": "ipython3",
   "version": "3.12.1"
  }
 },
 "nbformat": 4,
 "nbformat_minor": 2
}
