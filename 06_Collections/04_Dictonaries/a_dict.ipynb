{
 "cells": [
  {
   "cell_type": "markdown",
   "metadata": {},
   "source": [
    "### Dict\n",
    "    - This is representation of the data structure\n",
    "        - HashMap\n",
    "    - Properties\n",
    "        - represented using {} or dict()"
   ]
  },
  {
   "cell_type": "code",
   "execution_count": 1,
   "metadata": {},
   "outputs": [
    {
     "name": "stdout",
     "output_type": "stream",
     "text": [
      "{} <class 'dict'>\n",
      "{} <class 'dict'>\n"
     ]
    }
   ],
   "source": [
    "empty_dict = {}\n",
    "print(empty_dict, type(empty_dict))\n",
    "\n",
    "empty_dict = dict()\n",
    "print(empty_dict, type(empty_dict))"
   ]
  },
  {
   "cell_type": "code",
   "execution_count": 2,
   "metadata": {},
   "outputs": [
    {
     "name": "stdout",
     "output_type": "stream",
     "text": [
      "{'a': 1} <class 'dict'>\n",
      "len(dict_with_pair) =1\n"
     ]
    }
   ],
   "source": [
    "dict_with_pair = {\"a\": 1}\n",
    "print(dict_with_pair, type(dict_with_pair))\n",
    "print(f\"{len(dict_with_pair) =}\")"
   ]
  },
  {
   "cell_type": "markdown",
   "metadata": {},
   "source": [
    "### Dict properties\n",
    "    - Properties\n",
    "        - represented using {} or dict()\n",
    "        - from python 3.6 onwards, the order of dict is maintained\n",
    "            - In older versions, OrderedDict module should be used for the same\n",
    "        - Any data type can be used for dict values\n",
    "        - dict keys should be immutable and hashable"
   ]
  },
  {
   "cell_type": "code",
   "execution_count": 4,
   "metadata": {},
   "outputs": [
    {
     "ename": "ModuleNotFoundError",
     "evalue": "No module named 'OrderedDict'",
     "output_type": "error",
     "traceback": [
      "\u001b[0;31m---------------------------------------------------------------------------\u001b[0m",
      "\u001b[0;31mModuleNotFoundError\u001b[0m                       Traceback (most recent call last)",
      "Cell \u001b[0;32mIn[4], line 1\u001b[0m\n\u001b[0;32m----> 1\u001b[0m \u001b[38;5;28;01mimport\u001b[39;00m \u001b[38;5;21;01mOrderedDict\u001b[39;00m\n",
      "\u001b[0;31mModuleNotFoundError\u001b[0m: No module named 'OrderedDict'"
     ]
    }
   ],
   "source": [
    "import OrderedDict"
   ]
  },
  {
   "cell_type": "code",
   "execution_count": 5,
   "metadata": {},
   "outputs": [],
   "source": [
    "player_details ={\n",
    "    'name': \"Tom Brady\",\n",
    "    'age': 45,\n",
    "    'experince':20,\n",
    "    'stats': [48965, 951, 301]\n",
    "}\n"
   ]
  },
  {
   "cell_type": "code",
   "execution_count": 6,
   "metadata": {},
   "outputs": [
    {
     "data": {
      "text/plain": [
       "{'name': 'Tom Brady', 'age': 45, 'experince': 20, 'stats': [48965, 951, 301]}"
      ]
     },
     "execution_count": 6,
     "metadata": {},
     "output_type": "execute_result"
    }
   ],
   "source": [
    "player_details"
   ]
  },
  {
   "cell_type": "code",
   "execution_count": 7,
   "metadata": {},
   "outputs": [],
   "source": [
    "from pprint import pp, pprint"
   ]
  },
  {
   "cell_type": "code",
   "execution_count": 8,
   "metadata": {},
   "outputs": [
    {
     "name": "stdout",
     "output_type": "stream",
     "text": [
      "{'name': 'Tom Brady', 'age': 45, 'experince': 20, 'stats': [48965, 951, 301]}\n"
     ]
    }
   ],
   "source": [
    "pp(player_details)"
   ]
  },
  {
   "cell_type": "code",
   "execution_count": 9,
   "metadata": {},
   "outputs": [
    {
     "name": "stdout",
     "output_type": "stream",
     "text": [
      "{'age': 45, 'experince': 20, 'name': 'Tom Brady', 'stats': [48965, 951, 301]}\n"
     ]
    }
   ],
   "source": [
    "pprint(player_details)"
   ]
  },
  {
   "cell_type": "code",
   "execution_count": 10,
   "metadata": {},
   "outputs": [],
   "source": [
    "# NOTE:\n",
    "# 1. general print() will retain dict order in a single line \n",
    "# 2. pprint() will sort by keys and display\n",
    "# 3. pp() will retain dict order, as created."
   ]
  },
  {
   "cell_type": "markdown",
   "metadata": {},
   "source": [
    "### Iterating over Dictionaries"
   ]
  },
  {
   "cell_type": "code",
   "execution_count": 11,
   "metadata": {},
   "outputs": [
    {
     "data": {
      "text/plain": [
       "dict_keys(['name', 'age', 'experince', 'stats'])"
      ]
     },
     "execution_count": 11,
     "metadata": {},
     "output_type": "execute_result"
    }
   ],
   "source": [
    "player_details.keys()"
   ]
  },
  {
   "cell_type": "code",
   "execution_count": 12,
   "metadata": {},
   "outputs": [
    {
     "data": {
      "text/plain": [
       "dict_values(['Tom Brady', 45, 20, [48965, 951, 301]])"
      ]
     },
     "execution_count": 12,
     "metadata": {},
     "output_type": "execute_result"
    }
   ],
   "source": [
    "player_details.values()"
   ]
  },
  {
   "cell_type": "code",
   "execution_count": 13,
   "metadata": {},
   "outputs": [
    {
     "data": {
      "text/plain": [
       "dict_items([('name', 'Tom Brady'), ('age', 45), ('experince', 20), ('stats', [48965, 951, 301])])"
      ]
     },
     "execution_count": 13,
     "metadata": {},
     "output_type": "execute_result"
    }
   ],
   "source": [
    "player_details.items()"
   ]
  },
  {
   "cell_type": "code",
   "execution_count": 14,
   "metadata": {},
   "outputs": [
    {
     "name": "stdout",
     "output_type": "stream",
     "text": [
      "name\n",
      "age\n",
      "experince\n",
      "stats\n"
     ]
    }
   ],
   "source": [
    "for i in player_details:\n",
    "    print(i)"
   ]
  },
  {
   "cell_type": "code",
   "execution_count": 15,
   "metadata": {},
   "outputs": [
    {
     "name": "stdout",
     "output_type": "stream",
     "text": [
      "('name', 'Tom Brady')\n",
      "('age', 45)\n",
      "('experince', 20)\n",
      "('stats', [48965, 951, 301])\n"
     ]
    }
   ],
   "source": [
    "for i in player_details.items():\n",
    "    print(i)"
   ]
  },
  {
   "cell_type": "code",
   "execution_count": 17,
   "metadata": {},
   "outputs": [
    {
     "name": "stdout",
     "output_type": "stream",
     "text": [
      "name\t Tom Brady\n",
      "age\t 45\n",
      "experince\t 20\n",
      "stats\t [48965, 951, 301]\n"
     ]
    }
   ],
   "source": [
    "for i_key, i_values in player_details.items():\n",
    "    print(f\"{i_key}\\t {i_values}\")"
   ]
  },
  {
   "cell_type": "markdown",
   "metadata": {},
   "source": [
    "### Dictonary operations "
   ]
  },
  {
   "cell_type": "code",
   "execution_count": 18,
   "metadata": {},
   "outputs": [
    {
     "name": "stdout",
     "output_type": "stream",
     "text": [
      "Player Name  : Tom Brady\n",
      "Player Age: 45\n"
     ]
    }
   ],
   "source": [
    "player_details ={\n",
    "    'name': \"Tom Brady\",\n",
    "    'age': 45,\n",
    "    'experince':20,\n",
    "    'stats': [48965, 951, 301]\n",
    "}\n",
    "\n",
    "print(\"Player Name  :\", player_details[\"name\"])\n",
    "print(\"Player Age:\", player_details[\"age\"])"
   ]
  },
  {
   "cell_type": "code",
   "execution_count": 19,
   "metadata": {},
   "outputs": [
    {
     "name": "stdout",
     "output_type": "stream",
     "text": [
      "No such key :'status'\n"
     ]
    }
   ],
   "source": [
    "try:\n",
    "    player_details[\"status\"]\n",
    "except KeyError as ex:\n",
    "    print(f\"No such key :{str(ex)}\")"
   ]
  },
  {
   "cell_type": "code",
   "execution_count": 20,
   "metadata": {},
   "outputs": [],
   "source": [
    "# Difference ways of indexing\n",
    "# Question: dict['key'] vs dict.get() vs dict.setdefault\n",
    "\n",
    "# NOTE: dict.get() - returns None if key is not present"
   ]
  },
  {
   "cell_type": "code",
   "execution_count": 21,
   "metadata": {},
   "outputs": [
    {
     "name": "stdout",
     "output_type": "stream",
     "text": [
      "{'age': 45,\n",
      " 'experince': 20,\n",
      " 'name': 'Tom Brady',\n",
      " 'stats': [48965, 951, 301],\n",
      " 'status': 'retired'}\n",
      "{'name': 'Tom Brady', 'age': 45, 'experince': 20, 'stats': [48965, 951, 301], 'status': 'retired'}\n"
     ]
    }
   ],
   "source": [
    "player_details[\"status\"] = \"retired\"\n",
    "pprint(player_details)\n",
    "print(player_details)"
   ]
  },
  {
   "cell_type": "code",
   "execution_count": 23,
   "metadata": {},
   "outputs": [
    {
     "name": "stdout",
     "output_type": "stream",
     "text": [
      "player_details.get('status') = 'retired'\n",
      "player_details.get('current_team') = None\n"
     ]
    }
   ],
   "source": [
    "print(f\"{player_details.get('status') = }\")\n",
    "print(f\"{player_details.get('current_team') = }\")"
   ]
  },
  {
   "cell_type": "code",
   "execution_count": 24,
   "metadata": {},
   "outputs": [
    {
     "name": "stdout",
     "output_type": "stream",
     "text": [
      "player_details.setdefault('current_team') = None\n"
     ]
    }
   ],
   "source": [
    "print(f\"{player_details.setdefault('current_team') = }\")\n"
   ]
  },
  {
   "cell_type": "code",
   "execution_count": 25,
   "metadata": {},
   "outputs": [
    {
     "data": {
      "text/plain": [
       "{'name': 'Tom Brady',\n",
       " 'age': 45,\n",
       " 'experince': 20,\n",
       " 'stats': [48965, 951, 301],\n",
       " 'status': 'retired',\n",
       " 'current_team': None}"
      ]
     },
     "execution_count": 25,
     "metadata": {},
     "output_type": "execute_result"
    }
   ],
   "source": [
    "player_details"
   ]
  },
  {
   "cell_type": "code",
   "execution_count": 26,
   "metadata": {},
   "outputs": [],
   "source": [
    "#Adding new keys\n",
    "# playerdetails[\"no_of_superbowls_wins\"] = 6\n",
    "\n",
    "# Add more key-value pair in bulk\n",
    "# playerdetails = {\n",
    "#     'coach': 'bill',\n",
    "#     'salary': 2000000,\n",
    "#     'no_ofsacks': 654\n",
    "# }\n",
    "# we cannot add two dict using + \n",
    "\n",
    "#update a values\n",
    "# player_details.update ({\"current_team\": \"tampa bay buccaneers\"})\n",
    "\n",
    "#delete a specific key value pair\n",
    "# using pop we need to give the key to delete  \n",
    "\n",
    "# based on index popitem() will remove the last pair in the dict\n",
    "\n",
    "# del can delete the whole dict at once "
   ]
  },
  {
   "cell_type": "code",
   "execution_count": 27,
   "metadata": {},
   "outputs": [],
   "source": [
    "# Assignment: del dict['key'] vs dict.pop('key')\n",
    "\n",
    "# del dict['key']\n",
    "# Remove the key, but not returns the value and raises KeyError and didn’t provide default value\n",
    "\n",
    "# dict.pop('key')\n",
    "# Remove the key, but returns the valueto be deleted  and raises KeyError and provides default value"
   ]
  },
  {
   "cell_type": "code",
   "execution_count": 28,
   "metadata": {},
   "outputs": [],
   "source": [
    "# merge 2 dictonaries\n",
    "\n",
    "a = {'abc':1}\n",
    "b = {'abc' : 45, 'cba':56}"
   ]
  },
  {
   "cell_type": "code",
   "execution_count": 30,
   "metadata": {},
   "outputs": [
    {
     "data": {
      "text/plain": [
       "{'abc': 1}"
      ]
     },
     "execution_count": 30,
     "metadata": {},
     "output_type": "execute_result"
    }
   ],
   "source": [
    "c = {**a}\n",
    "c"
   ]
  },
  {
   "cell_type": "code",
   "execution_count": 32,
   "metadata": {},
   "outputs": [
    {
     "data": {
      "text/plain": [
       "{'abc': 45, 'cba': 56}"
      ]
     },
     "execution_count": 32,
     "metadata": {},
     "output_type": "execute_result"
    }
   ],
   "source": [
    "c = {**a, **b}\n",
    "c"
   ]
  },
  {
   "cell_type": "code",
   "execution_count": 33,
   "metadata": {},
   "outputs": [
    {
     "data": {
      "text/plain": [
       "{'abc': 1, 'cba': 56}"
      ]
     },
     "execution_count": 33,
     "metadata": {},
     "output_type": "execute_result"
    }
   ],
   "source": [
    "d = {**b, **a}\n",
    "d"
   ]
  },
  {
   "cell_type": "code",
   "execution_count": 1,
   "metadata": {},
   "outputs": [
    {
     "name": "stdout",
     "output_type": "stream",
     "text": [
      "{0}\n",
      "{False}\n"
     ]
    }
   ],
   "source": [
    "print({0} | {False})\n",
    "print({False} | {0})"
   ]
  },
  {
   "cell_type": "code",
   "execution_count": 2,
   "metadata": {},
   "outputs": [
    {
     "name": "stdout",
     "output_type": "stream",
     "text": [
      "{0: 'False', 1: 'True'}\n",
      "{False: 'zero', True: 'one'}\n"
     ]
    }
   ],
   "source": [
    "my_dict = {0: \"zero\", False: \"False\", 1: \"one\", True: \"True\"}\n",
    "print(my_dict)\n",
    "\n",
    "my_dict = {False: \"False\", 0: \"zero\", True: \"True\", 1: \"one\"}\n",
    "print(my_dict)"
   ]
  },
  {
   "cell_type": "markdown",
   "metadata": {},
   "source": [
    "### dict replicas"
   ]
  },
  {
   "cell_type": "code",
   "execution_count": 3,
   "metadata": {},
   "outputs": [
    {
     "name": "stdout",
     "output_type": "stream",
     "text": [
      "{'name': 'bear', 'continent': ('south america', 'north america', 'Asia')}\n"
     ]
    }
   ],
   "source": [
    "animal = {\"name\": \"bear\", \"continent\": (\"south america\", \"north america\", \"Asia\")}\n",
    "print(animal)\n"
   ]
  },
  {
   "cell_type": "code",
   "execution_count": 4,
   "metadata": {},
   "outputs": [
    {
     "name": "stdout",
     "output_type": "stream",
     "text": [
      "{'name': None, 'continent': None}\n"
     ]
    }
   ],
   "source": [
    "animal_rep = {}\n",
    "animal_rep = animal_rep.fromkeys(animal)\n",
    "print(animal_rep)"
   ]
  },
  {
   "cell_type": "code",
   "execution_count": 5,
   "metadata": {},
   "outputs": [],
   "source": [
    "# To flush the content in the dictionary\n",
    "\n",
    "# clear()  will flush the key-value pairs in dict"
   ]
  },
  {
   "cell_type": "markdown",
   "metadata": {},
   "source": [
    "### Zip() function"
   ]
  },
  {
   "cell_type": "code",
   "execution_count": 16,
   "metadata": {},
   "outputs": [],
   "source": [
    "cities = (\"New Delhi\", \"New York\", \"Shangai\", \"Berlin\")\n",
    "countries = [\"India\", \"USA\", \"China\", \"Germany\"]"
   ]
  },
  {
   "cell_type": "code",
   "execution_count": 18,
   "metadata": {},
   "outputs": [
    {
     "name": "stdout",
     "output_type": "stream",
     "text": [
      "{'New Delhi': 'India', 'New York': 'USA', 'Shangai': 'China', 'Berlin': 'Germany'}\n"
     ]
    }
   ],
   "source": [
    "cnc = dict(zip(cities,countries))\n",
    "print(cnc)"
   ]
  },
  {
   "cell_type": "code",
   "execution_count": null,
   "metadata": {},
   "outputs": [],
   "source": []
  },
  {
   "cell_type": "code",
   "execution_count": 19,
   "metadata": {},
   "outputs": [
    {
     "name": "stdout",
     "output_type": "stream",
     "text": [
      "Original Dictionary: {'a': 1, 'b': 2, 'c': 3}\n",
      "Interchanged Dictionary: {1: 'a', 2: 'b', 3: 'c'}\n"
     ]
    }
   ],
   "source": [
    "## Assignment: create a logic to interchange the keys with values, and vice versa, for dictionaries\n",
    "\n",
    "o_dict = {'a': 1, 'b': 2, 'c': 3}\n",
    "new_dict = {}\n",
    "\n",
    "for i, j in o_dict.items():\n",
    "    \n",
    "    new_dict[j] = i\n",
    "    # print(new_dict)\n",
    "\n",
    "print(\"Original Dictionary:\", o_dict)\n",
    "print(\"Interchanged Dictionary:\", new_dict)"
   ]
  },
  {
   "cell_type": "code",
   "execution_count": null,
   "metadata": {},
   "outputs": [],
   "source": []
  }
 ],
 "metadata": {
  "kernelspec": {
   "display_name": "Python 3",
   "language": "python",
   "name": "python3"
  },
  "language_info": {
   "codemirror_mode": {
    "name": "ipython",
    "version": 3
   },
   "file_extension": ".py",
   "mimetype": "text/x-python",
   "name": "python",
   "nbconvert_exporter": "python",
   "pygments_lexer": "ipython3",
   "version": "3.12.1"
  }
 },
 "nbformat": 4,
 "nbformat_minor": 2
}
