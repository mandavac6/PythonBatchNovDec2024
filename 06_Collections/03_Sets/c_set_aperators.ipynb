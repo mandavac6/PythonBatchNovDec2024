{
 "cells": [
  {
   "cell_type": "markdown",
   "metadata": {},
   "source": [
    "### Set operators\n",
    "    |   set union\n",
    "    &   set intersection\n",
    "    ^   set symmetric_difference\n",
    "    <=  isubset\n",
    "    >=  issuperset"
   ]
  },
  {
   "cell_type": "code",
   "execution_count": 1,
   "metadata": {},
   "outputs": [],
   "source": [
    "t_set1 = {\"Cincinnati\", \"Clevland\", \"Pittsburg\", \"Baltimore\"}\n",
    "t_set2 = {\"Dayton\", \"Columbus\", \"Clevland\", \"Cincinnati\"}\n"
   ]
  },
  {
   "cell_type": "code",
   "execution_count": 2,
   "metadata": {},
   "outputs": [
    {
     "name": "stdout",
     "output_type": "stream",
     "text": [
      "all_cities = {'Columbus', 'Clevland', 'Baltimore', 'Dayton', 'Cincinnati', 'Pittsburg'}\n",
      "all_cities = {'Columbus', 'Clevland', 'Baltimore', 'Dayton', 'Cincinnati', 'Pittsburg'}\n"
     ]
    }
   ],
   "source": [
    "all_cities = t_set1 | t_set2\n",
    "print(f\"{all_cities = }\")\n",
    "\n",
    "\n",
    "all_cities = t_set1.union(t_set2)\n",
    "print(f\"{all_cities = }\")"
   ]
  },
  {
   "cell_type": "code",
   "execution_count": 3,
   "metadata": {},
   "outputs": [
    {
     "name": "stdout",
     "output_type": "stream",
     "text": [
      "c_cities = {'Cincinnati', 'Clevland'}\n",
      "c_cities = {'Cincinnati', 'Clevland'}\n"
     ]
    }
   ],
   "source": [
    "c_cities = t_set1 & t_set2\n",
    "print(f\"{c_cities = }\")\n",
    "\n",
    "\n",
    "c_cities = t_set1.intersection(t_set2)\n",
    "print(f\"{c_cities = }\")"
   ]
  },
  {
   "cell_type": "code",
   "execution_count": 4,
   "metadata": {},
   "outputs": [
    {
     "name": "stdout",
     "output_type": "stream",
     "text": [
      "uc_cities = {'Columbus', 'Baltimore', 'Dayton', 'Pittsburg'}\n",
      "uc_cities = {'Columbus', 'Baltimore', 'Dayton', 'Pittsburg'}\n"
     ]
    }
   ],
   "source": [
    "uc_cities = t_set1 ^ t_set2\n",
    "print(f\"{uc_cities = }\")\n",
    "\n",
    "\n",
    "uc_cities = t_set1.symmetric_difference(t_set2)\n",
    "print(f\"{uc_cities = }\")"
   ]
  },
  {
   "cell_type": "code",
   "execution_count": null,
   "metadata": {},
   "outputs": [],
   "source": []
  }
 ],
 "metadata": {
  "kernelspec": {
   "display_name": "Python 3",
   "language": "python",
   "name": "python3"
  },
  "language_info": {
   "codemirror_mode": {
    "name": "ipython",
    "version": 3
   },
   "file_extension": ".py",
   "mimetype": "text/x-python",
   "name": "python",
   "nbconvert_exporter": "python",
   "pygments_lexer": "ipython3",
   "version": "3.12.1"
  }
 },
 "nbformat": 4,
 "nbformat_minor": 2
}
