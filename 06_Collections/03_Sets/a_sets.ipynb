{
 "cells": [
  {
   "cell_type": "markdown",
   "metadata": {},
   "source": [
    "## Sets \n",
    "\n",
    "    Properties of sets\n",
    "    - creating using {} or set()\n",
    "    - can't store duplicates\n",
    "    - sets are unordered\n",
    "    - can't be indexed\n",
    "    - Empty sets need to be represented using set()\n",
    "    - stores only immutable object - basic types, tuple, string\n",
    "    - sets are mutable objects\n"
   ]
  },
  {
   "cell_type": "code",
   "execution_count": 1,
   "metadata": {},
   "outputs": [
    {
     "name": "stdout",
     "output_type": "stream",
     "text": [
      "type(data_with_duplicates) <class 'list'>\n",
      "len(data_with_duplicates)  20\n",
      "data_with_duplicates       [1, 2, 3, 5, 4, 2, 3, 4, 1, 6, 5, 8, 6, 4, 6, 8, 2, 3, 4, 9]\n"
     ]
    }
   ],
   "source": [
    "data_with_duplicates =[1,2,3,5,4,2,3,4,1,6,5,8,6,4,6,8,2,3,4,9]\n",
    "\n",
    "print(\"type(data_with_duplicates)\", type(data_with_duplicates))\n",
    "print(\"len(data_with_duplicates) \", len(data_with_duplicates))\n",
    "print(\"data_with_duplicates      \", data_with_duplicates)"
   ]
  },
  {
   "cell_type": "code",
   "execution_count": 8,
   "metadata": {},
   "outputs": [
    {
     "name": "stdout",
     "output_type": "stream",
     "text": [
      "[1, 2, 3, 5, 4, 6, 8, 9]\n"
     ]
    }
   ],
   "source": [
    "# remove duplicates\n",
    "without_duplicates =[]\n",
    "for i in data_with_duplicates:\n",
    "    if(i not in without_duplicates):\n",
    "        without_duplicates.append(i)\n",
    "print(without_duplicates)\n"
   ]
  },
  {
   "cell_type": "code",
   "execution_count": 10,
   "metadata": {},
   "outputs": [
    {
     "name": "stdout",
     "output_type": "stream",
     "text": [
      "{1, 2, 3, 4, 5, 6, 8, 9}\n"
     ]
    }
   ],
   "source": [
    "# using sets \n",
    "without_duplicates2 = set(data_with_duplicates)\n",
    "print(without_duplicates2)"
   ]
  },
  {
   "cell_type": "code",
   "execution_count": 11,
   "metadata": {},
   "outputs": [
    {
     "name": "stdout",
     "output_type": "stream",
     "text": [
      "<class 'list'> []\n",
      "<class 'tuple'> ()\n",
      "<class 'set'> set()\n",
      "<class 'dict'> {}\n"
     ]
    }
   ],
   "source": [
    "empty_list = [] \n",
    "print(f\"{type(empty_list)} {empty_list}\")\n",
    "\n",
    "empty_tuple = ()  \n",
    "print(f\"{type(empty_tuple)} {empty_tuple}\")\n",
    "\n",
    "empty_set = set()\n",
    "print(f\"{type(empty_set)} {empty_set}\")\n",
    "# NOTE: empty set should be defined with set()\n",
    "\n",
    "empty_dict = {}\n",
    "print(f\"{type(empty_dict)} {empty_dict}\")"
   ]
  },
  {
   "cell_type": "code",
   "execution_count": 12,
   "metadata": {},
   "outputs": [
    {
     "name": "stdout",
     "output_type": "stream",
     "text": [
      "<class 'set'> myset1 ={12321}\n"
     ]
    }
   ],
   "source": [
    "myset1 = {12321}\n",
    "print(f\"{type(myset1)} {myset1 =}\")"
   ]
  },
  {
   "cell_type": "code",
   "execution_count": 16,
   "metadata": {},
   "outputs": [
    {
     "name": "stdout",
     "output_type": "stream",
     "text": [
      "myset: {56, 89, 963, 63}\n"
     ]
    }
   ],
   "source": [
    "\n",
    "myset = {56, 63, 963,89}\n",
    "print(\"myset:\", myset)"
   ]
  },
  {
   "cell_type": "code",
   "execution_count": null,
   "metadata": {},
   "outputs": [],
   "source": [
    "# sets are unordered\n",
    "# sets cant be indexed\n",
    "# sets cant be sliced too"
   ]
  },
  {
   "cell_type": "markdown",
   "metadata": {},
   "source": [
    "### Set Attributes \n"
   ]
  },
  {
   "cell_type": "code",
   "execution_count": 17,
   "metadata": {},
   "outputs": [
    {
     "data": {
      "text/plain": [
       "['__and__',\n",
       " '__class__',\n",
       " '__class_getitem__',\n",
       " '__contains__',\n",
       " '__delattr__',\n",
       " '__dir__',\n",
       " '__doc__',\n",
       " '__eq__',\n",
       " '__format__',\n",
       " '__ge__',\n",
       " '__getattribute__',\n",
       " '__getstate__',\n",
       " '__gt__',\n",
       " '__hash__',\n",
       " '__iand__',\n",
       " '__init__',\n",
       " '__init_subclass__',\n",
       " '__ior__',\n",
       " '__isub__',\n",
       " '__iter__',\n",
       " '__ixor__',\n",
       " '__le__',\n",
       " '__len__',\n",
       " '__lt__',\n",
       " '__ne__',\n",
       " '__new__',\n",
       " '__or__',\n",
       " '__rand__',\n",
       " '__reduce__',\n",
       " '__reduce_ex__',\n",
       " '__repr__',\n",
       " '__ror__',\n",
       " '__rsub__',\n",
       " '__rxor__',\n",
       " '__setattr__',\n",
       " '__sizeof__',\n",
       " '__str__',\n",
       " '__sub__',\n",
       " '__subclasshook__',\n",
       " '__xor__',\n",
       " 'add',\n",
       " 'clear',\n",
       " 'copy',\n",
       " 'difference',\n",
       " 'difference_update',\n",
       " 'discard',\n",
       " 'intersection',\n",
       " 'intersection_update',\n",
       " 'isdisjoint',\n",
       " 'issubset',\n",
       " 'issuperset',\n",
       " 'pop',\n",
       " 'remove',\n",
       " 'symmetric_difference',\n",
       " 'symmetric_difference_update',\n",
       " 'union',\n",
       " 'update']"
      ]
     },
     "execution_count": 17,
     "metadata": {},
     "output_type": "execute_result"
    }
   ],
   "source": [
    "dir(myset)"
   ]
  },
  {
   "cell_type": "code",
   "execution_count": 18,
   "metadata": {},
   "outputs": [
    {
     "name": "stdout",
     "output_type": "stream",
     "text": [
      "\n",
      "myset.__sizeof__()   =200\n",
      "sys.getsizeof(myset) =216\n"
     ]
    }
   ],
   "source": [
    "import sys\n",
    "\n",
    "print(f\"\\n{myset.__sizeof__()   =}\")\n",
    "print(f\"{sys.getsizeof(myset) =}\")"
   ]
  },
  {
   "cell_type": "code",
   "execution_count": 19,
   "metadata": {},
   "outputs": [
    {
     "name": "stdout",
     "output_type": "stream",
     "text": [
      "add\n",
      "clear\n",
      "copy\n",
      "difference\n",
      "difference_update\n",
      "discard\n",
      "intersection\n",
      "intersection_update\n",
      "isdisjoint\n",
      "issubset\n",
      "issuperset\n",
      "pop\n",
      "remove\n",
      "symmetric_difference\n",
      "symmetric_difference_update\n",
      "union\n",
      "update\n",
      "\n"
     ]
    }
   ],
   "source": [
    "for each_attribute in dir(myset):\n",
    "    if not each_attribute.startswith(\"__\"):\n",
    "        print(each_attribute)\n",
    "print()"
   ]
  },
  {
   "cell_type": "markdown",
   "metadata": {},
   "source": [
    "list.append/list.insert  <-> set.add\n",
    "  - takes both iterable & non-iterable items\n",
    "  - Can store only immutable objects\n",
    "\n",
    "list.extend  <-> set.update\n",
    "  - Only iterable objects are allowed\n",
    "  - will add to same dimension\n",
    "\n",
    "set.remove\n",
    "  - to remove a specific element\n",
    "  - throws KeyError exception if that element is not present\n",
    "\n",
    "set.discard\n",
    "  - to remove a specific element\n",
    "  - No error is thrown when element is not present"
   ]
  },
  {
   "cell_type": "code",
   "execution_count": 20,
   "metadata": {},
   "outputs": [
    {
     "name": "stdout",
     "output_type": "stream",
     "text": [
      "{2, 3, 4, 'tomato', 'string'}\n",
      "{2, 3, 4, 'o', 't', 'm', 'tomato', 'string'}\n"
     ]
    }
   ],
   "source": [
    "# Assignment\n",
    "#  1. Try adding a string to both set.add & set.update &\n",
    "#  observe the difference\n",
    "#  'tomoto'\n",
    "\n",
    "set1 ={ 2,3,4,'string'}\n",
    "set1.add(\"tomato\")\n",
    "print(set1)\n",
    "set1.update(\"tomoto\")\n",
    "print(set1)"
   ]
  },
  {
   "cell_type": "markdown",
   "metadata": {},
   "source": [
    "### Set Operations"
   ]
  },
  {
   "cell_type": "markdown",
   "metadata": {},
   "source": [
    "subset and superset "
   ]
  },
  {
   "cell_type": "code",
   "execution_count": null,
   "metadata": {},
   "outputs": [],
   "source": [
    "# Set concatenation is not possible\n",
    "\n",
    "# Set difference\n",
    "# - from first set, remove common elements between both sets\n",
    "\n",
    "# Symmetric Difference\n",
    "#   - To get elements of both sets, which are not common\n",
    "#   - For sets A, B, symmetric_difference is (A U B) - (A intersection B)"
   ]
  }
 ],
 "metadata": {
  "kernelspec": {
   "display_name": "Python 3",
   "language": "python",
   "name": "python3"
  },
  "language_info": {
   "codemirror_mode": {
    "name": "ipython",
    "version": 3
   },
   "file_extension": ".py",
   "mimetype": "text/x-python",
   "name": "python",
   "nbconvert_exporter": "python",
   "pygments_lexer": "ipython3",
   "version": "3.12.1"
  }
 },
 "nbformat": 4,
 "nbformat_minor": 2
}
