{
 "cells": [
  {
   "cell_type": "markdown",
   "metadata": {},
   "source": [
    "### Assignment Expression (OR) Walrus Operator\n",
    "    Introducted in python 3.8\n",
    "\n",
    "    PEP 572 describes all the details of assignment expressions\n",
    "\n",
    "    In simple words, It will combine assignment + some expression"
   ]
  },
  {
   "cell_type": "code",
   "execution_count": null,
   "metadata": {},
   "outputs": [
    {
     "name": "stdout",
     "output_type": "stream",
     "text": [
      "num1 =  100\n",
      "num2 =  200\n"
     ]
    }
   ],
   "source": [
    "num1 = 100\n",
    "print(\"num1 = \", num1)\n",
    "print(\"num2 = \", num2:=200) # Walrus operator"
   ]
  },
  {
   "cell_type": "code",
   "execution_count": 2,
   "metadata": {},
   "outputs": [
    {
     "name": "stdout",
     "output_type": "stream",
     "text": [
      "Num is ODD\n",
      "Num is ODD\n"
     ]
    }
   ],
   "source": [
    "num1 = 123\n",
    "if num1 % 2:\n",
    "    print(\"Num is ODD\")\n",
    "\n",
    "if (num1 := 123) % 2:\n",
    "    print(\"Num is ODD\")"
   ]
  },
  {
   "cell_type": "code",
   "execution_count": 4,
   "metadata": {},
   "outputs": [
    {
     "name": "stdout",
     "output_type": "stream",
     "text": [
      "Num is EVEN\n",
      "Num is EVEN\n"
     ]
    }
   ],
   "source": [
    "num1 = int(input(\"num1 = \"))\n",
    "if num1 % 2:\n",
    "    print(\"Num is ODD\")\n",
    "else:\n",
    "    print(\"Num is EVEN\")\n",
    "\n",
    "\n",
    "if (num1 := int(input(\"num1 = \"))) % 2:\n",
    "    print(\"Num is ODD\")\n",
    "else:\n",
    "    print(\"Num is EVEN\")"
   ]
  },
  {
   "cell_type": "code",
   "execution_count": 5,
   "metadata": {},
   "outputs": [
    {
     "name": "stdout",
     "output_type": "stream",
     "text": [
      "List is too long (5 elements, expected <= 3)\n",
      "List is too long (5 elements, expected <= 3)\n"
     ]
    }
   ],
   "source": [
    "a = [1, 2, 23, 2323, 24323]\n",
    "\n",
    "n = len(a)\n",
    "if n > 3:\n",
    "    print(f\"List is too long ({n} elements, expected <= 3)\")\n",
    "\n",
    "\n",
    "if (n := len(a)) > 3:\n",
    "    print(f\"List is too long ({n} elements, expected <= 3)\")"
   ]
  },
  {
   "cell_type": "code",
   "execution_count": 7,
   "metadata": {},
   "outputs": [
    {
     "name": "stdout",
     "output_type": "stream",
     "text": [
      "{'length': 9, 'sum': 45, 'mean': 5.0}\n",
      "{'length': 9, 'sum': 45, 'mean': 5.0}\n"
     ]
    }
   ],
   "source": [
    "nums = [2, 3, 6, 6, 8, 9, 7, 3, 1]\n",
    "\n",
    "num_length = len(nums)\n",
    "num_sum = sum(nums)\n",
    "statement = {\n",
    "    \"length\":num_length,\n",
    "    \"sum\": num_sum,\n",
    "    \"mean\": num_sum /num_length,\n",
    "}\n",
    "print(statement)  \n",
    "\n",
    "# with walrus operator\n",
    "statement = {\n",
    "    \"length\":(num_length:= len(nums)),\n",
    "    \"sum\": (num_sum := sum(nums)),\n",
    "    \"mean\": num_sum /num_length,\n",
    "}\n",
    "print(statement)"
   ]
  },
  {
   "cell_type": "code",
   "execution_count": null,
   "metadata": {},
   "outputs": [],
   "source": []
  }
 ],
 "metadata": {
  "kernelspec": {
   "display_name": "Python 3",
   "language": "python",
   "name": "python3"
  },
  "language_info": {
   "codemirror_mode": {
    "name": "ipython",
    "version": 3
   },
   "file_extension": ".py",
   "mimetype": "text/x-python",
   "name": "python",
   "nbconvert_exporter": "python",
   "pygments_lexer": "ipython3",
   "version": "3.12.1"
  }
 },
 "nbformat": 4,
 "nbformat_minor": 2
}
