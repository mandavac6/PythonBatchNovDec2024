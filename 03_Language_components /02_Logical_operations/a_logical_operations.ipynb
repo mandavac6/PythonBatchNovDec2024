{
 "cells": [
  {
   "cell_type": "markdown",
   "metadata": {},
   "source": [
    "### Logical Operations\n",
    "    - Will result in a boolean value (True or False)\n",
    "\n",
    "    and - if  all are True, result is True\n",
    "    or  - if any one of them is True, result is True\n",
    "    not - negate the existing value"
   ]
  },
  {
   "cell_type": "code",
   "execution_count": null,
   "metadata": {},
   "outputs": [
    {
     "name": "stdout",
     "output_type": "stream",
     "text": [
      "\n",
      " AND operation \n",
      "True and True   True\n",
      "True and False  False\n",
      "False and True   False\n",
      "False and False  False\n"
     ]
    }
   ],
   "source": [
    "print(\"\\n AND operation \")\n",
    "print(\"True and True  \", True and True)\n",
    "print(\"True and False \", True and False)\n",
    "print(\"False and True  \", False and True)\n",
    "print(\"False and False \", False and False)"
   ]
  },
  {
   "cell_type": "code",
   "execution_count": 2,
   "metadata": {},
   "outputs": [
    {
     "name": "stdout",
     "output_type": "stream",
     "text": [
      "\n",
      " OR operation \n",
      "True or True   True\n",
      "True or False  True\n",
      "False or True   True\n",
      "False or False  False\n"
     ]
    }
   ],
   "source": [
    "print(\"\\n OR operation \")\n",
    "print(\"True or True  \", True or True)\n",
    "print(\"True or False \", True or False)\n",
    "print(\"False or True  \", False or True)\n",
    "print(\"False or False \", False or False)"
   ]
  },
  {
   "cell_type": "code",
   "execution_count": 3,
   "metadata": {},
   "outputs": [
    {
     "name": "stdout",
     "output_type": "stream",
     "text": [
      "\n",
      " NOT operation \n",
      "not True  False\n",
      "not False True\n",
      "not not True =  True\n",
      "not not False =  False\n"
     ]
    }
   ],
   "source": [
    "print(\"\\n NOT operation \")\n",
    "print(\"not True \", not True)\n",
    "print(\"not False\", not False)\n",
    "print(\"not not True = \", not not True)\n",
    "print(\"not not False = \", not not False)"
   ]
  },
  {
   "cell_type": "code",
   "execution_count": 6,
   "metadata": {},
   "outputs": [
    {
     "name": "stdout",
     "output_type": "stream",
     "text": [
      "\n",
      " even NOT's\n",
      "not not not not not not not not not not not not True True\n",
      "\n",
      " odd NOT's\n",
      "not not not not not not not not not not not not not True False\n"
     ]
    }
   ],
   "source": [
    "#even not's\n",
    "print(\"\\n even NOT's\")\n",
    "print(\n",
    "    \"not not not not not not not not not not not not True\",\n",
    "    not not not not not not not not not not not not True,\n",
    ")\n",
    "\n",
    "# If we give even number of not's before the value it returns the same value , if it odd it returns the opposite value \n",
    "\n",
    "#odd not's\n",
    "print(\"\\n odd NOT's\")\n",
    "print(\n",
    "    \"not not not not not not not not not not not not not True\",\n",
    "    not not not not not not not not not not not not not True,\n",
    ")"
   ]
  },
  {
   "cell_type": "code",
   "execution_count": null,
   "metadata": {},
   "outputs": [],
   "source": []
  }
 ],
 "metadata": {
  "kernelspec": {
   "display_name": "Python 3",
   "language": "python",
   "name": "python3"
  },
  "language_info": {
   "codemirror_mode": {
    "name": "ipython",
    "version": 3
   },
   "file_extension": ".py",
   "mimetype": "text/x-python",
   "name": "python",
   "nbconvert_exporter": "python",
   "pygments_lexer": "ipython3",
   "version": "3.12.1"
  }
 },
 "nbformat": 4,
 "nbformat_minor": 2
}
