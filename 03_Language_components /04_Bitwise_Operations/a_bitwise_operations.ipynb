{
 "cells": [
  {
   "cell_type": "markdown",
   "metadata": {},
   "source": [
    "## Bitwise operations \n",
    "\n",
    "    &   binary AND    -> If all are 1, result is 1\n",
    "    |   binary OR     -> If all are 0, only then result is 0\n",
    "    ^   binary XOR    -> If total count of 1's are odd, it results in 1, else 0\n",
    "\n",
    "\n",
    "    ~   binary 1's complement\n",
    "    <<  binary Left Shift\n",
    "    >>  binary right shift\n"
   ]
  },
  {
   "cell_type": "code",
   "execution_count": 1,
   "metadata": {},
   "outputs": [
    {
     "name": "stdout",
     "output_type": "stream",
     "text": [
      "num1= 45 0b101101\n",
      "num2= 18 0b10010\n"
     ]
    }
   ],
   "source": [
    "num1 = 45\n",
    "num2 = 18\n",
    "\n",
    "print(\"num1=\", num1, bin(num1))  \n",
    "print(\"num2=\", num2, bin(num2))"
   ]
  },
  {
   "cell_type": "code",
   "execution_count": 2,
   "metadata": {},
   "outputs": [
    {
     "name": "stdout",
     "output_type": "stream",
     "text": [
      "Value of num3 is  0\n"
     ]
    }
   ],
   "source": [
    "num3 = num1 & num2\n",
    "print(\"Value of num3 is \", num3)"
   ]
  },
  {
   "cell_type": "code",
   "execution_count": 3,
   "metadata": {},
   "outputs": [
    {
     "name": "stdout",
     "output_type": "stream",
     "text": [
      "Value of num3 is  63\n"
     ]
    }
   ],
   "source": [
    "num3 = num1 | num2\n",
    "print(\"Value of num3 is \", num3)"
   ]
  },
  {
   "cell_type": "code",
   "execution_count": 4,
   "metadata": {},
   "outputs": [
    {
     "name": "stdout",
     "output_type": "stream",
     "text": [
      "Value of num3 is  63\n"
     ]
    }
   ],
   "source": [
    "num3 = num1 ^ num2\n",
    "print(\"Value of num3 is \", num3)"
   ]
  },
  {
   "cell_type": "code",
   "execution_count": 6,
   "metadata": {},
   "outputs": [
    {
     "name": "stdout",
     "output_type": "stream",
     "text": [
      "Value of num3 is  -46\n"
     ]
    }
   ],
   "source": [
    "num3 = ~num1 \n",
    "print(\"Value of num3 is \", num3)"
   ]
  },
  {
   "cell_type": "code",
   "execution_count": 9,
   "metadata": {},
   "outputs": [
    {
     "name": "stdout",
     "output_type": "stream",
     "text": [
      "10 << 1 = 20\n",
      "10 << 2 = 40\n",
      "10 << 3 = 80\n",
      "10 << 4 = 160\n",
      "\n",
      "160 >> 1 = 80\n",
      "160 >> 2 = 40\n",
      "160 >> 3 = 20\n",
      "160 >> 4 = 10\n",
      "160 >> 4 = 5\n",
      "160 >> 4 = 2\n"
     ]
    }
   ],
   "source": [
    "# NOTE:\n",
    "# A left shift by n bits is equivalent to multiplication by pow(2, n) without overflow check.\n",
    "print(\"10 << 1 =\", 10 << 1)\n",
    "print(\"10 << 2 =\", 10 << 2)\n",
    "print(\"10 << 3 =\", 10 << 3)\n",
    "print(\"10 << 4 =\", 10 << 4)\n",
    "\n",
    "print()\n",
    "# A right shift by n bits is equivalent to division by pow(2, n) without overflow check.\n",
    "print(\"160 >> 1 =\", 160 >> 1)  \n",
    "print(\"160 >> 2 =\", 160 >> 2) \n",
    "print(\"160 >> 3 =\", 160 >> 3) \n",
    "print(\"160 >> 4 =\", 160 >> 4) \n",
    "print(\"160 >> 4 =\", 160 >> 5)\n",
    "print(\"160 >> 4 =\", 160 >> 6)"
   ]
  },
  {
   "cell_type": "code",
   "execution_count": null,
   "metadata": {},
   "outputs": [],
   "source": []
  }
 ],
 "metadata": {
  "kernelspec": {
   "display_name": "Python 3",
   "language": "python",
   "name": "python3"
  },
  "language_info": {
   "codemirror_mode": {
    "name": "ipython",
    "version": 3
   },
   "file_extension": ".py",
   "mimetype": "text/x-python",
   "name": "python",
   "nbconvert_exporter": "python",
   "pygments_lexer": "ipython3",
   "version": "3.12.1"
  }
 },
 "nbformat": 4,
 "nbformat_minor": 2
}
