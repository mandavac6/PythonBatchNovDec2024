{
 "cells": [
  {
   "cell_type": "markdown",
   "metadata": {},
   "source": [
    "### For loop\n",
    "    Two types of for loops in any language:\n",
    "        1. for (int a = 0; a < 10 ; a ++)       ==> This is NOT VALID in python\n",
    "        2. for a in range(Inital value , final value, increment)             ==> This is the only valid for loop in python\n",
    "\n",
    "    NOTE: for loop can be applied only on ITERABLE OBJECT\n",
    "        non-iterable objects - int, float, None, bool(True/False)\n",
    "        iterable objects     - string, range, list, tuple, set, dictionary, iterators, generators\n",
    "        "
   ]
  },
  {
   "cell_type": "code",
   "execution_count": 2,
   "metadata": {},
   "outputs": [
    {
     "ename": "TypeError",
     "evalue": "'int' object is not iterable",
     "output_type": "error",
     "traceback": [
      "\u001b[0;31m---------------------------------------------------------------------------\u001b[0m",
      "\u001b[0;31mTypeError\u001b[0m                                 Traceback (most recent call last)",
      "Cell \u001b[0;32mIn[2], line 1\u001b[0m\n\u001b[0;32m----> 1\u001b[0m \u001b[38;5;28;43;01mfor\u001b[39;49;00m\u001b[43m \u001b[49m\u001b[43mi\u001b[49m\u001b[43m \u001b[49m\u001b[38;5;129;43;01min\u001b[39;49;00m\u001b[43m \u001b[49m\u001b[38;5;241;43m12123\u001b[39;49m\u001b[43m:\u001b[49m\n\u001b[1;32m      2\u001b[0m \u001b[43m    \u001b[49m\u001b[38;5;28;43mprint\u001b[39;49m\u001b[43m(\u001b[49m\u001b[43mi\u001b[49m\u001b[43m)\u001b[49m\n",
      "\u001b[0;31mTypeError\u001b[0m: 'int' object is not iterable"
     ]
    }
   ],
   "source": [
    "for i in 12123:\n",
    "    print(i)"
   ]
  },
  {
   "cell_type": "code",
   "execution_count": 4,
   "metadata": {},
   "outputs": [
    {
     "ename": "TypeError",
     "evalue": "'float' object is not iterable",
     "output_type": "error",
     "traceback": [
      "\u001b[0;31m---------------------------------------------------------------------------\u001b[0m",
      "\u001b[0;31mTypeError\u001b[0m                                 Traceback (most recent call last)",
      "Cell \u001b[0;32mIn[4], line 1\u001b[0m\n\u001b[0;32m----> 1\u001b[0m \u001b[38;5;28;43;01mfor\u001b[39;49;00m\u001b[43m \u001b[49m\u001b[43mi\u001b[49m\u001b[43m \u001b[49m\u001b[38;5;129;43;01min\u001b[39;49;00m\u001b[43m \u001b[49m\u001b[38;5;241;43m4568767.76\u001b[39;49m\u001b[43m:\u001b[49m\n\u001b[1;32m      2\u001b[0m \u001b[43m    \u001b[49m\u001b[38;5;28;43mprint\u001b[39;49m\u001b[43m \u001b[49m\u001b[43m(\u001b[49m\u001b[43mi\u001b[49m\u001b[43m)\u001b[49m\n",
      "\u001b[0;31mTypeError\u001b[0m: 'float' object is not iterable"
     ]
    }
   ],
   "source": [
    "for i in 4568767.76:\n",
    "    print (i)"
   ]
  },
  {
   "cell_type": "code",
   "execution_count": 5,
   "metadata": {},
   "outputs": [
    {
     "ename": "TypeError",
     "evalue": "'NoneType' object is not iterable",
     "output_type": "error",
     "traceback": [
      "\u001b[0;31m---------------------------------------------------------------------------\u001b[0m",
      "\u001b[0;31mTypeError\u001b[0m                                 Traceback (most recent call last)",
      "Cell \u001b[0;32mIn[5], line 1\u001b[0m\n\u001b[0;32m----> 1\u001b[0m \u001b[38;5;28;43;01mfor\u001b[39;49;00m\u001b[43m \u001b[49m\u001b[43mi\u001b[49m\u001b[43m \u001b[49m\u001b[38;5;129;43;01min\u001b[39;49;00m\u001b[43m \u001b[49m\u001b[38;5;28;43;01mNone\u001b[39;49;00m\u001b[43m:\u001b[49m\n\u001b[1;32m      2\u001b[0m \u001b[43m    \u001b[49m\u001b[38;5;28;43mprint\u001b[39;49m\u001b[43m(\u001b[49m\u001b[43mi\u001b[49m\u001b[43m)\u001b[49m\n",
      "\u001b[0;31mTypeError\u001b[0m: 'NoneType' object is not iterable"
     ]
    }
   ],
   "source": [
    "for i in None:\n",
    "    print(i)"
   ]
  },
  {
   "cell_type": "code",
   "execution_count": 6,
   "metadata": {},
   "outputs": [
    {
     "name": "stdout",
     "output_type": "stream",
     "text": [
      "P, y, t, h, o, n, "
     ]
    }
   ],
   "source": [
    "for i in \"Python\":\n",
    "    print(i, end=\", \")"
   ]
  },
  {
   "cell_type": "code",
   "execution_count": 7,
   "metadata": {},
   "outputs": [
    {
     "name": "stdout",
     "output_type": "stream",
     "text": [
      "0 P\n",
      "1 y\n",
      "2 t\n",
      "3 h\n",
      "4 o\n",
      "5 n\n"
     ]
    }
   ],
   "source": [
    "loop_count = 0\n",
    "for each_chr in \"Python\":\n",
    "    print(loop_count, each_chr)\n",
    "    loop_count += 1"
   ]
  },
  {
   "cell_type": "code",
   "execution_count": null,
   "metadata": {},
   "outputs": [
    {
     "name": "stdout",
     "output_type": "stream",
     "text": [
      "P\n",
      "y\n",
      "t\n",
      "h\n",
      "o\n",
      "n\n",
      "(0, 'P') <class 'tuple'>\n",
      "(1, 'y') <class 'tuple'>\n",
      "(2, 't') <class 'tuple'>\n",
      "(3, 'h') <class 'tuple'>\n",
      "(4, 'o') <class 'tuple'>\n",
      "(5, 'n') <class 'tuple'>\n"
     ]
    }
   ],
   "source": [
    "# enumerate()- builtin function to gent then index of the looop \n",
    "for each_chr in \"Python\":\n",
    "    print(each_chr)\n",
    "\n",
    "for each_pair in enumerate(\"Python\"):\n",
    "    print(each_pair, type(each_pair))"
   ]
  },
  {
   "cell_type": "code",
   "execution_count": 9,
   "metadata": {},
   "outputs": [
    {
     "name": "stdout",
     "output_type": "stream",
     "text": [
      "\n",
      "    type(num1) = <class 'tuple'> num1 = (222, 333)\n",
      "    type(num2) = <class 'int'> num2 = 222\n",
      "    type(num3) = <class 'int'> num3 = 333\n",
      "\n"
     ]
    }
   ],
   "source": [
    "# unpacking\n",
    "num1 = 222, 333  # Asignment operation\n",
    "num2, num3 = 222, 333  # Unpacking(values will go in order of assignment)\n",
    "print(\n",
    "    f\"\"\"\n",
    "    {type(num1) = } {num1 = }\n",
    "    {type(num2) = } {num2 = }\n",
    "    {type(num3) = } {num3 = }\n",
    "\"\"\"\n",
    ")"
   ]
  },
  {
   "cell_type": "code",
   "execution_count": 10,
   "metadata": {},
   "outputs": [
    {
     "ename": "TypeError",
     "evalue": "cannot unpack non-iterable int object",
     "output_type": "error",
     "traceback": [
      "\u001b[0;31m---------------------------------------------------------------------------\u001b[0m",
      "\u001b[0;31mTypeError\u001b[0m                                 Traceback (most recent call last)",
      "Cell \u001b[0;32mIn[10], line 1\u001b[0m\n\u001b[0;32m----> 1\u001b[0m num4 , num5 \u001b[38;5;241m=\u001b[39m \u001b[38;5;241m443\u001b[39m\n",
      "\u001b[0;31mTypeError\u001b[0m: cannot unpack non-iterable int object"
     ]
    }
   ],
   "source": [
    "num4 , num5 = 443"
   ]
  },
  {
   "cell_type": "code",
   "execution_count": 11,
   "metadata": {},
   "outputs": [
    {
     "name": "stdout",
     "output_type": "stream",
     "text": [
      "0 P\n",
      "1 y\n",
      "2 t\n",
      "3 h\n",
      "4 o\n",
      "5 n\n"
     ]
    }
   ],
   "source": [
    "for loop_index, each_chr in enumerate(\"Python\"):\n",
    "    print(loop_index, each_chr)"
   ]
  },
  {
   "cell_type": "code",
   "execution_count": 12,
   "metadata": {},
   "outputs": [
    {
     "name": "stdout",
     "output_type": "stream",
     "text": [
      "At 0, value is P\n",
      "At 1, value is y\n",
      "At 2, value is t\n",
      "At 3, value is h\n",
      "At 4, value is o\n",
      "At 5, value is n\n"
     ]
    }
   ],
   "source": [
    "for loop_index, each_chr in enumerate(\"Python\"):\n",
    "    print(f\"At {loop_index}, value is {each_chr}\")"
   ]
  },
  {
   "cell_type": "code",
   "execution_count": 15,
   "metadata": {},
   "outputs": [
    {
     "name": "stdout",
     "output_type": "stream",
     "text": [
      "11, 22, 33, 44, 55, "
     ]
    }
   ],
   "source": [
    "# lists\n",
    "for val in [11, 22, 33, 44, 55]:\n",
    "    print(val, end=\", \")"
   ]
  },
  {
   "cell_type": "code",
   "execution_count": 16,
   "metadata": {},
   "outputs": [
    {
     "name": "stdout",
     "output_type": "stream",
     "text": [
      "0 ===> 11\n",
      "1 ===> 22\n",
      "2 ===> 33\n",
      "3 ===> 44\n",
      "4 ===> 55\n"
     ]
    }
   ],
   "source": [
    "for val in enumerate([11, 22, 33, 44, 55]):\n",
    "    print(f\"{val[0]} ===> {val[1]}\")"
   ]
  },
  {
   "cell_type": "code",
   "execution_count": 17,
   "metadata": {},
   "outputs": [
    {
     "name": "stdout",
     "output_type": "stream",
     "text": [
      "0 ===> 11\n",
      "1 ===> 22\n",
      "2 ===> 33\n",
      "3 ===> 44\n",
      "4 ===> 55\n"
     ]
    }
   ],
   "source": [
    "for loop_index, val in enumerate([11, 22, 33, 44, 55]):\n",
    "    print(f\"{loop_index} ===> {val}\")"
   ]
  },
  {
   "cell_type": "code",
   "execution_count": 22,
   "metadata": {},
   "outputs": [
    {
     "name": "stdout",
     "output_type": "stream",
     "text": [
      "At position 0, value is 2\n",
      "At position 1, value is 5\n",
      "At position 2, value is 8\n",
      "At position 3, value is 11\n",
      "At position 4, value is 14\n",
      "At position 5, value is 17\n",
      "At position 6, value is 20\n"
     ]
    }
   ],
   "source": [
    "# Assignment: perform for loop & Enumeration on range() object\n",
    "for loop_count, value in enumerate(range(2,23,3)):\n",
    "    print(f\"At position {loop_count}, value is {value}\")"
   ]
  },
  {
   "cell_type": "code",
   "execution_count": null,
   "metadata": {},
   "outputs": [],
   "source": []
  }
 ],
 "metadata": {
  "kernelspec": {
   "display_name": "Python 3",
   "language": "python",
   "name": "python3"
  },
  "language_info": {
   "codemirror_mode": {
    "name": "ipython",
    "version": 3
   },
   "file_extension": ".py",
   "mimetype": "text/x-python",
   "name": "python",
   "nbconvert_exporter": "python",
   "pygments_lexer": "ipython3",
   "version": "3.12.1"
  }
 },
 "nbformat": 4,
 "nbformat_minor": 2
}
