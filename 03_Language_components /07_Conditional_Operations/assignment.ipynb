{
 "cells": [
  {
   "cell_type": "code",
   "execution_count": null,
   "metadata": {},
   "outputs": [
    {
     "name": "stdout",
     "output_type": "stream",
     "text": [
      "46\n",
      "48\n",
      "50\n",
      "52\n",
      "54\n",
      "56\n",
      "58\n",
      "60\n",
      "62\n",
      "64\n",
      "66\n",
      "68\n",
      "70\n",
      "72\n",
      "74\n",
      "76\n",
      "78\n",
      "80\n",
      "82\n",
      "84\n",
      "86\n",
      "88\n",
      "90\n",
      "92\n",
      "94\n",
      "96\n",
      "98\n",
      "100\n",
      "102\n",
      "104\n",
      "106\n",
      "108\n",
      "110\n",
      "112\n",
      "114\n",
      "116\n",
      "118\n",
      "120\n",
      "122\n",
      "124\n",
      "126\n",
      "128\n",
      "130\n",
      "132\n",
      "134\n"
     ]
    }
   ],
   "source": [
    "## Assignment: Generate even numbers between 45 & 137\n",
    "# loop values between limits, test eveness for each number\n",
    "# and display, if it is even\n",
    "a = int(input(\"enter value 1: \"))\n",
    "b = int(input(\"enter value 2: \"))\n",
    "for number in range(a, b):\n",
    "    if number % 2 == 0:\n",
    "        print(number)"
   ]
  },
  {
   "cell_type": "code",
   "execution_count": 8,
   "metadata": {},
   "outputs": [
    {
     "name": "stdout",
     "output_type": "stream",
     "text": [
      "The character 'A' is a vowel.\n"
     ]
    }
   ],
   "source": [
    "\"\"\"\n",
    "Purpose: To check whether the given character\n",
    "        is vowels or consonant\n",
    "\n",
    "        vowels - aeiou\n",
    "\n",
    "in operator  works with any iterable object\n",
    "\n",
    "Algorithm:\n",
    "============\n",
    "1) is it empty \n",
    "2) is it alphabet \n",
    "3) is it vowel or not \n",
    "\n",
    "NOTE: handle case-sensitivity \n",
    "\"\"\"\n",
    "\n",
    "\n",
    "char = input(\"Enter a character: \")\n",
    "if char.isalpha():  \n",
    "    if char in 'aeiou' or 'AEIOU':\n",
    "        print(f\"The character '{char}' is a vowel.\")\n",
    "    else:\n",
    "        print(f\"The character '{char}' is a consonant.\")\n",
    "else:\n",
    "    print(\"Invalid input! Please enter an alphabetic character.\")\n"
   ]
  },
  {
   "cell_type": "code",
   "execution_count": 14,
   "metadata": {},
   "outputs": [
    {
     "name": "stdout",
     "output_type": "stream",
     "text": [
      "25°C is equal to 77°F\n"
     ]
    }
   ],
   "source": [
    "\"\"\"\n",
    "Purpose: Temperature Conversions\n",
    "    - celsius to fahrenheit\n",
    "\n",
    "Algorithm \n",
    "\n",
    "get the input of celsius to be converted \n",
    "do the caluclation for the conversion \n",
    "print the faranheit values \n",
    "\"\"\"\n",
    "\n",
    "celsius_conv = int(input(\"Enter a Value to be coverted into Farneheit: \"))\n",
    "fahrenheit = int(celsius_conv * 9/5) + 32\n",
    "print(f\"{celsius_conv}°C is equal to {fahrenheit}°F\")"
   ]
  },
  {
   "cell_type": "code",
   "execution_count": 25,
   "metadata": {},
   "outputs": [
    {
     "name": "stdout",
     "output_type": "stream",
     "text": [
      "23°C is equal to 73°F\n"
     ]
    }
   ],
   "source": [
    "\"\"\"\n",
    "Purpose: Temperature Conversions\n",
    "    - celsius to fahrenheit , or vice versa\n",
    "\n",
    "\n",
    "user input : 23c\n",
    "output     : xF\n",
    "\n",
    "user input : 23F\n",
    "output     : xC\n",
    "\n",
    "23c, 23C, 23F, 23f\n",
    "23C, 23F\n",
    "23 C\n",
    "23C\n",
    "\n",
    "Algorithm\n",
    "\n",
    "input the temperature with the unit and strip(to remove the empty spaces)\n",
    "write the condition and do the caluclation acordingly using if elseif loop \n",
    "\"\"\"\n",
    "# Input: Get temperature with unit\n",
    "user_input = input(\"Enter temperature : \").strip()\n",
    "\n",
    "# Process the input\n",
    "if user_input[-1].lower() == 'c': \n",
    "    celsius = int(user_input[:-1])\n",
    "    fahrenheit =int(celsius * 9/5) + 32\n",
    "    print(f\"{celsius}°C is equal to {fahrenheit}°F\")\n",
    "elif user_input[-1].lower() == 'f':  # Fahrenheit to Celsius\n",
    "    fahrenheit = int(user_input[:-1])\n",
    "    celsius = int(fahrenheit - 32) * 5/9\n",
    "    print(f\"{fahrenheit}°F is equal to {celsius}°C\")\n",
    "else:\n",
    "    print(\"Invalid input!\")"
   ]
  },
  {
   "cell_type": "code",
   "execution_count": null,
   "metadata": {},
   "outputs": [],
   "source": []
  }
 ],
 "metadata": {
  "kernelspec": {
   "display_name": "Python 3",
   "language": "python",
   "name": "python3"
  },
  "language_info": {
   "codemirror_mode": {
    "name": "ipython",
    "version": 3
   },
   "file_extension": ".py",
   "mimetype": "text/x-python",
   "name": "python",
   "nbconvert_exporter": "python",
   "pygments_lexer": "ipython3",
   "version": "3.12.1"
  }
 },
 "nbformat": 4,
 "nbformat_minor": 2
}
