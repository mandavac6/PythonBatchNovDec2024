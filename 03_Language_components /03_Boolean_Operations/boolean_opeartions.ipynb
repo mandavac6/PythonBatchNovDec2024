{
 "cells": [
  {
   "cell_type": "markdown",
   "metadata": {},
   "source": [
    "## Boolean\n",
    "\n",
    "    True, False  --> keywords defined in python"
   ]
  },
  {
   "cell_type": "code",
   "execution_count": 1,
   "metadata": {},
   "outputs": [
    {
     "name": "stdout",
     "output_type": "stream",
     "text": [
      "tag =  True <class 'bool'> 98019110581152\n"
     ]
    }
   ],
   "source": [
    "tag = True\n",
    "print(\"tag = \", tag, type(tag), id(tag))"
   ]
  },
  {
   "cell_type": "code",
   "execution_count": 2,
   "metadata": {},
   "outputs": [
    {
     "name": "stdout",
     "output_type": "stream",
     "text": [
      "tag =  False <class 'bool'> 98019110581184\n"
     ]
    }
   ],
   "source": [
    "tag = False\n",
    "print(\"tag = \", tag, type(tag), id(tag))"
   ]
  },
  {
   "cell_type": "code",
   "execution_count": 3,
   "metadata": {},
   "outputs": [
    {
     "name": "stdout",
     "output_type": "stream",
     "text": [
      "tag =  453453 <class 'int'> 129137998182256\n"
     ]
    }
   ],
   "source": [
    "tag = 453453\n",
    "print(\"tag = \", tag, type(tag), id(tag))"
   ]
  },
  {
   "cell_type": "code",
   "execution_count": 4,
   "metadata": {},
   "outputs": [],
   "source": [
    "#from python 3.8+ we cant assign values to the boolean values "
   ]
  },
  {
   "cell_type": "code",
   "execution_count": 5,
   "metadata": {},
   "outputs": [
    {
     "name": "stdout",
     "output_type": "stream",
     "text": [
      "True =  True\n",
      "True * 30 =  30\n",
      "True * 3.4 =  3.4\n"
     ]
    }
   ],
   "source": [
    "print(\"True = \", True)\n",
    "print(\"True * 30 = \", True * 30)\n",
    "print(\"True * 3.4 = \", True * 3.4)"
   ]
  },
  {
   "cell_type": "code",
   "execution_count": 6,
   "metadata": {},
   "outputs": [
    {
     "name": "stdout",
     "output_type": "stream",
     "text": [
      "False =  False\n",
      "False * 30 =  0\n"
     ]
    }
   ],
   "source": [
    "print(\"False = \", False)\n",
    "print(\"False * 30 = \", False * 30)"
   ]
  },
  {
   "cell_type": "code",
   "execution_count": 7,
   "metadata": {},
   "outputs": [],
   "source": [
    "#true has a value of 1\n",
    "#false has avalue of 0\n",
    "#True acts like  1 and False acts like 0 during\n",
    "# arithmetic/relational/conditional operations"
   ]
  },
  {
   "cell_type": "code",
   "execution_count": 8,
   "metadata": {},
   "outputs": [
    {
     "name": "stdout",
     "output_type": "stream",
     "text": [
      "str(1) != str(True)  True\n",
      "str(0) != str(False) True\n"
     ]
    }
   ],
   "source": [
    "print(\"str(1) != str(True) \", str(1) != str(True))\n",
    "print(\"str(0) != str(False)\", str(0) != str(False))"
   ]
  },
  {
   "cell_type": "code",
   "execution_count": 9,
   "metadata": {},
   "outputs": [
    {
     "name": "stdout",
     "output_type": "stream",
     "text": [
      "str(True * 1) == str(1) True\n"
     ]
    }
   ],
   "source": [
    "print(\"str(True * 1) == str(1)\", str(True * 1) == str(1))"
   ]
  },
  {
   "cell_type": "markdown",
   "metadata": {},
   "source": [
    "### bool() built-in function\n",
    "\n",
    "    Number  - int & float\n",
    "    Strings\n",
    "    None\n",
    "    boolean\n",
    "    braces"
   ]
  },
  {
   "cell_type": "markdown",
   "metadata": {},
   "source": []
  },
  {
   "cell_type": "code",
   "execution_count": 12,
   "metadata": {},
   "outputs": [
    {
     "name": "stdout",
     "output_type": "stream",
     "text": [
      "bool(12)  True\n",
      "bool(-12)  True\n",
      "bool(0)  False\n",
      "bool(0.000000000000)  False\n",
      "bool(0.0000000000001)  True\n",
      "bool(-0.000000001) True\n"
     ]
    }
   ],
   "source": [
    "print(\"bool(12) \", bool(12))\n",
    "print(\"bool(-12) \", bool(-12))\n",
    "print(\"bool(0) \", bool(0))\n",
    "print(\"bool(0.000000000000) \", bool(0.000000000000))\n",
    "print(\"bool(0.0000000000001) \", bool(0.0000000000001))\n",
    "print(\"bool(-0.000000001)\", bool(-0.000000001))"
   ]
  },
  {
   "cell_type": "code",
   "execution_count": 13,
   "metadata": {},
   "outputs": [],
   "source": [
    "# Anyvalue is true \n",
    "# 0 is false "
   ]
  },
  {
   "cell_type": "code",
   "execution_count": 15,
   "metadata": {},
   "outputs": [
    {
     "name": "stdout",
     "output_type": "stream",
     "text": [
      "bool('cat')  True\n",
      "bool(' ')  True\n",
      "bool('')  False\n"
     ]
    }
   ],
   "source": [
    "# strings\n",
    "#  True - non-empty string\n",
    "#  False - empty string\n",
    "print(\"bool('cat') \", bool(\"ball\"))\n",
    "print(\"bool(' ') \", bool(\" \"))\n",
    "print(\"bool('') \", bool(\"\")) "
   ]
  },
  {
   "cell_type": "code",
   "execution_count": 16,
   "metadata": {},
   "outputs": [
    {
     "name": "stdout",
     "output_type": "stream",
     "text": [
      "bool(None)        False\n"
     ]
    }
   ],
   "source": [
    "print(\"bool(None)       \", bool(None))"
   ]
  },
  {
   "cell_type": "code",
   "execution_count": 17,
   "metadata": {},
   "outputs": [],
   "source": [
    "# braces with values gives true \n",
    "# braces that are empty are false \n",
    "# [], (), {}"
   ]
  },
  {
   "cell_type": "code",
   "execution_count": 18,
   "metadata": {},
   "outputs": [
    {
     "name": "stdout",
     "output_type": "stream",
     "text": [
      "It is non-zero\n",
      "It is non-zero\n"
     ]
    }
   ],
   "source": [
    "num1 =23 \n",
    "# explicit condition\n",
    "if num1 != 0: \n",
    "    print(\"It is non-zero\")\n",
    "# Implicit  condition\n",
    "if num1:\n",
    "    print(\"It is non-zero\")"
   ]
  },
  {
   "cell_type": "code",
   "execution_count": null,
   "metadata": {},
   "outputs": [],
   "source": []
  }
 ],
 "metadata": {
  "kernelspec": {
   "display_name": "Python 3",
   "language": "python",
   "name": "python3"
  },
  "language_info": {
   "codemirror_mode": {
    "name": "ipython",
    "version": 3
   },
   "file_extension": ".py",
   "mimetype": "text/x-python",
   "name": "python",
   "nbconvert_exporter": "python",
   "pygments_lexer": "ipython3",
   "version": "3.12.1"
  }
 },
 "nbformat": 4,
 "nbformat_minor": 2
}
