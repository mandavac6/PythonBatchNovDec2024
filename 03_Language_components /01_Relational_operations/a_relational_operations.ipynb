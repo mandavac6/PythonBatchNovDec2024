{
 "cells": [
  {
   "cell_type": "markdown",
   "metadata": {},
   "source": [
    " Relational Operations\n",
    "    - These operations will result in a boolean value (True or False)\n",
    "\n",
    "     <  lesser\n",
    "     >  greater\n",
    "     == equal to\n",
    "     <= less than or equal to\n",
    "     >= greater than or equal to\n",
    "     != not equal to\n",
    "     <> not equal to  ( in python 2 only)"
   ]
  },
  {
   "cell_type": "code",
   "execution_count": 1,
   "metadata": {},
   "outputs": [
    {
     "name": "stdout",
     "output_type": "stream",
     "text": [
      "us dollar        =  86\n",
      "canadian dollar  =  50\n"
     ]
    }
   ],
   "source": [
    "usd = 86\n",
    "cad = 50\n",
    "print(\"us dollar        = \", usd)\n",
    "print(\"canadian dollar  = \", cad)"
   ]
  },
  {
   "cell_type": "code",
   "execution_count": 2,
   "metadata": {},
   "outputs": [
    {
     "name": "stdout",
     "output_type": "stream",
     "text": [
      "us_dollar       = 86\n",
      "canadian_dollar = 50\n"
     ]
    }
   ],
   "source": [
    "print(f\"us_dollar       = {usd}\")\n",
    "print(f\"canadian_dollar = {cad}\")"
   ]
  },
  {
   "cell_type": "code",
   "execution_count": 4,
   "metadata": {},
   "outputs": [
    {
     "name": "stdout",
     "output_type": "stream",
     "text": [
      "usd      = 86\n",
      "cad      = 50\n"
     ]
    }
   ],
   "source": [
    "print(f\"{usd      = }\")\n",
    "print(f\"{cad      = }\")"
   ]
  },
  {
   "cell_type": "code",
   "execution_count": 5,
   "metadata": {},
   "outputs": [
    {
     "name": "stdout",
     "output_type": "stream",
     "text": [
      "us_dollar == canadian_dollar: False\n",
      "usd == cad = False\n"
     ]
    }
   ],
   "source": [
    "print(\"us_dollar == canadian_dollar:\", usd == cad)\n",
    "print(f\"{usd == cad = }\")\n"
   ]
  },
  {
   "cell_type": "code",
   "execution_count": 6,
   "metadata": {},
   "outputs": [
    {
     "name": "stdout",
     "output_type": "stream",
     "text": [
      "usd > cad  = True\n",
      "usd >= cad = True\n",
      "usd < cad  = False\n",
      "usd <= cad = False\n",
      "usd True\n"
     ]
    }
   ],
   "source": [
    "print(f\"{usd > cad  = }\")\n",
    "print(f\"{usd >= cad = }\")\n",
    "print(f\"{usd < cad  = }\")\n",
    "print(f\"{usd <= cad = }\")\n",
    "print(f\"{usd != cad = }\")"
   ]
  },
  {
   "cell_type": "code",
   "execution_count": 9,
   "metadata": {},
   "outputs": [
    {
     "name": "stdout",
     "output_type": "stream",
     "text": [
      "str1 == str2 = True\n",
      "str1 >  str2 = False\n",
      "str1 >= str2 = True\n",
      "str1 <  str2 = False\n",
      "str1 <= str2 = True\n",
      "str1 False\n",
      "\n"
     ]
    }
   ],
   "source": [
    "str1 = \"abc\"\n",
    "str2 = \"abc\"\n",
    "print(f\"{str1 == str2 = }\")\n",
    "print(f\"{str1 >  str2 = }\")\n",
    "print(f\"{str1 >= str2 = }\")\n",
    "print(f\"{str1 <  str2 = }\")\n",
    "print(f\"{str1 <= str2 = }\")\n",
    "print(f\"{str1 != str2 = }\")\n",
    "print()"
   ]
  },
  {
   "cell_type": "code",
   "execution_count": 10,
   "metadata": {},
   "outputs": [
    {
     "name": "stdout",
     "output_type": "stream",
     "text": [
      "str3 == str4 = False\n",
      "str3 >  str4 = False\n",
      "str3 >= str4 = False\n",
      "str3 <  str4 = True\n",
      "str3 <= str4 = True\n",
      "str3 True\n"
     ]
    }
   ],
   "source": [
    "str3 = \"abc\"\n",
    "str4 = \"bc\"\n",
    "print(f\"{str3 == str4 = }\")\n",
    "print(f\"{str3 >  str4 = }\")\n",
    "print(f\"{str3 >= str4 = }\")\n",
    "print(f\"{str3 <  str4 = }\")\n",
    "print(f\"{str3 <= str4 = }\")\n",
    "print(f\"{str3 != str4 = }\")"
   ]
  },
  {
   "cell_type": "code",
   "execution_count": null,
   "metadata": {},
   "outputs": [],
   "source": []
  }
 ],
 "metadata": {
  "kernelspec": {
   "display_name": "Python 3",
   "language": "python",
   "name": "python3"
  },
  "language_info": {
   "codemirror_mode": {
    "name": "ipython",
    "version": 3
   },
   "file_extension": ".py",
   "mimetype": "text/x-python",
   "name": "python",
   "nbconvert_exporter": "python",
   "pygments_lexer": "ipython3",
   "version": "3.12.1"
  }
 },
 "nbformat": 4,
 "nbformat_minor": 2
}
