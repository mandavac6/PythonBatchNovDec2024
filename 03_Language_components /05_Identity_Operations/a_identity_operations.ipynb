{
 "cells": [
  {
   "cell_type": "markdown",
   "metadata": {},
   "source": [
    "### Identity Operations\n",
    "    Object\n",
    "        - value(s)\n",
    "        - type(s)\n",
    "        - address location where it is stored - id()\n",
    "\n",
    "\n",
    "    =  Assignment operator\n",
    "\n",
    "    == Value-level Equivalence  -  ( value and type) check\n",
    "    is object-level Equivalence - (address location, value and type) check"
   ]
  },
  {
   "cell_type": "code",
   "execution_count": 1,
   "metadata": {},
   "outputs": [
    {
     "name": "stdout",
     "output_type": "stream",
     "text": [
      "num1 == num2 = False\n",
      "num1 is num2 = False\n",
      "id(num1) = 101628725085192 \t id(num2) =101628725088392\n"
     ]
    }
   ],
   "source": [
    "num1 = 100\n",
    "num2 = 200\n",
    "print(f\"{num1 == num2 = }\")\n",
    "print(f\"{num1 is num2 = }\")\n",
    "print(f\"{id(num1) = } \\t {id(num2) =}\")"
   ]
  },
  {
   "cell_type": "code",
   "execution_count": 3,
   "metadata": {},
   "outputs": [],
   "source": [
    "num1 =200"
   ]
  },
  {
   "cell_type": "code",
   "execution_count": 4,
   "metadata": {},
   "outputs": [
    {
     "data": {
      "text/plain": [
       "200"
      ]
     },
     "execution_count": 4,
     "metadata": {},
     "output_type": "execute_result"
    }
   ],
   "source": [
    "num1"
   ]
  },
  {
   "cell_type": "code",
   "execution_count": 5,
   "metadata": {},
   "outputs": [
    {
     "name": "stdout",
     "output_type": "stream",
     "text": [
      "num1 = 200\n",
      "num2 = 200\n",
      "num1 == num2 = True\n",
      "num1 is num2 = True\n",
      "id(num1) = 101628725088392 \t id(num2) =101628725088392\n"
     ]
    }
   ],
   "source": [
    "print(f\"{num1 = }\")\n",
    "print(f\"{num2 = }\")\n",
    "print(f\"{num1 == num2 = }\")\n",
    "print(f\"{num1 is num2 = }\")\n",
    "print(f\"{id(num1) = } \\t {id(num2) =}\")"
   ]
  },
  {
   "cell_type": "code",
   "execution_count": null,
   "metadata": {},
   "outputs": [],
   "source": [
    "num3 = 300\n",
    "num4 = 300"
   ]
  },
  {
   "cell_type": "code",
   "execution_count": 8,
   "metadata": {},
   "outputs": [
    {
     "name": "stdout",
     "output_type": "stream",
     "text": [
      "num3 =300 \t num4 =300\n",
      "num3 == num4 = True\n",
      "num3 is num4 = False\n",
      "id(num3) = 138962796721360 \t id(num4) =138962796722288\n"
     ]
    }
   ],
   "source": [
    "print(f\"{num3 =} \\t {num4 =}\")\n",
    "print(f\"{num3 == num4 = }\")\n",
    "print(f\"{num3 is num4 = }\")\n",
    "print(f\"{id(num3) = } \\t {id(num4) =}\")"
   ]
  },
  {
   "cell_type": "markdown",
   "metadata": {},
   "source": [
    "## Dual Memory management Strategy\n",
    "    In Interactive mode,\n",
    "        For integer,\n",
    "            -5 to 256      -> no new object created\n",
    "            outside bounds -> new object is created for each variable\n",
    "    Python preallocates small integers in a range of -5 to 256.\n",
    "    This allocation happens during initialization and since we cannot update integers (immutability) these preallocated integers are singletons and are directly referenced instead of reallocating.\n",
    "    This means every time we use/creates a small integer, python instead of reallocating just returns the reference of preallocated one."
   ]
  },
  {
   "cell_type": "code",
   "execution_count": 9,
   "metadata": {},
   "outputs": [],
   "source": [
    "num1 = 256\n",
    "num2 = 256\n"
   ]
  },
  {
   "cell_type": "code",
   "execution_count": null,
   "metadata": {},
   "outputs": [
    {
     "data": {
      "text/plain": [
       "True"
      ]
     },
     "execution_count": 10,
     "metadata": {},
     "output_type": "execute_result"
    }
   ],
   "source": [
    "num1 is num2"
   ]
  },
  {
   "cell_type": "code",
   "execution_count": 11,
   "metadata": {},
   "outputs": [
    {
     "data": {
      "text/plain": [
       "False"
      ]
     },
     "execution_count": 11,
     "metadata": {},
     "output_type": "execute_result"
    }
   ],
   "source": [
    "num1 = 257\n",
    "num2 = 257\n",
    "num1 is num2"
   ]
  },
  {
   "cell_type": "code",
   "execution_count": null,
   "metadata": {},
   "outputs": [],
   "source": []
  }
 ],
 "metadata": {
  "kernelspec": {
   "display_name": "Python 3",
   "language": "python",
   "name": "python3"
  },
  "language_info": {
   "codemirror_mode": {
    "name": "ipython",
    "version": 3
   },
   "file_extension": ".py",
   "mimetype": "text/x-python",
   "name": "python",
   "nbconvert_exporter": "python",
   "pygments_lexer": "ipython3",
   "version": "3.12.1"
  }
 },
 "nbformat": 4,
 "nbformat_minor": 2
}
