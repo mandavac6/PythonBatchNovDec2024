{
 "cells": [
  {
   "cell_type": "markdown",
   "metadata": {},
   "source": [
    "## Iterables\n",
    "    - Objects which support iteration over them\n",
    "\n",
    "    non-iterable objects ====> int, float, None, True, False ..\n",
    "    Iterable objects     ====> str, list, tuple, dict, set, iterator, generator, range()"
   ]
  },
  {
   "cell_type": "code",
   "execution_count": 1,
   "metadata": {},
   "outputs": [
    {
     "ename": "TypeError",
     "evalue": "'int' object is not iterable",
     "output_type": "error",
     "traceback": [
      "\u001b[0;31m---------------------------------------------------------------------------\u001b[0m",
      "\u001b[0;31mTypeError\u001b[0m                                 Traceback (most recent call last)",
      "Cell \u001b[0;32mIn[1], line 1\u001b[0m\n\u001b[0;32m----> 1\u001b[0m \u001b[38;5;28;43;01mfor\u001b[39;49;00m\u001b[43m \u001b[49m\u001b[43mi\u001b[49m\u001b[43m \u001b[49m\u001b[38;5;129;43;01min\u001b[39;49;00m\u001b[43m \u001b[49m\u001b[38;5;241;43m1234\u001b[39;49m\u001b[43m:\u001b[49m\n\u001b[1;32m      2\u001b[0m \u001b[43m    \u001b[49m\u001b[38;5;28;43mprint\u001b[39;49m\u001b[43m(\u001b[49m\u001b[43mi\u001b[49m\u001b[43m)\u001b[49m\n",
      "\u001b[0;31mTypeError\u001b[0m: 'int' object is not iterable"
     ]
    }
   ],
   "source": [
    "for i in 1234:\n",
    "    print(i)"
   ]
  },
  {
   "cell_type": "code",
   "execution_count": 2,
   "metadata": {},
   "outputs": [
    {
     "name": "stdout",
     "output_type": "stream",
     "text": [
      "1\n",
      "2\n",
      "3\n",
      "4\n"
     ]
    }
   ],
   "source": [
    "for i in \"1234\":\n",
    "    print(i)"
   ]
  },
  {
   "cell_type": "code",
   "execution_count": 7,
   "metadata": {},
   "outputs": [
    {
     "name": "stdout",
     "output_type": "stream",
     "text": [
      "\t tom <class 'list'>\n",
      "\t brock <class 'list'>\n",
      "\t lamar <class 'list'>\n",
      "\t joe  <class 'list'>\n"
     ]
    }
   ],
   "source": [
    "# lists and tuples are indexed as well as itterable where sets have no indexing but itterable \n",
    "names =[\"tom\",\"brock\",\"lamar\", \"joe \"]\n",
    "for name in names:\n",
    "    print(\"\\t\", name, type(names))"
   ]
  },
  {
   "cell_type": "code",
   "execution_count": 8,
   "metadata": {},
   "outputs": [
    {
     "name": "stdout",
     "output_type": "stream",
     "text": [
      "\t tom <class 'tuple'>\n",
      "\t brock <class 'tuple'>\n",
      "\t lamar <class 'tuple'>\n",
      "\t joe  <class 'tuple'>\n"
     ]
    }
   ],
   "source": [
    "names =(\"tom\",\"brock\",\"lamar\", \"joe \")\n",
    "for name in names:\n",
    "    print(\"\\t\", name,type(names))"
   ]
  },
  {
   "cell_type": "code",
   "execution_count": 9,
   "metadata": {},
   "outputs": [
    {
     "name": "stdout",
     "output_type": "stream",
     "text": [
      "\t brock <class 'set'>\n",
      "\t tom <class 'set'>\n",
      "\t lamar <class 'set'>\n",
      "\t joe  <class 'set'>\n"
     ]
    }
   ],
   "source": [
    "names ={\"tom\",\"brock\",\"lamar\", \"joe \"}\n",
    "for name in names:\n",
    "    print(\"\\t\", name,type(names))\n",
    "    "
   ]
  },
  {
   "cell_type": "code",
   "execution_count": 10,
   "metadata": {},
   "outputs": [],
   "source": [
    "# NOTE: iterating over sets may not give the elements in defined sequence."
   ]
  },
  {
   "cell_type": "code",
   "execution_count": 11,
   "metadata": {},
   "outputs": [
    {
     "name": "stdout",
     "output_type": "stream",
     "text": [
      "\t first <class 'dict'>\n",
      "\t second <class 'dict'>\n",
      "\t third <class 'dict'>\n",
      "\t fourth <class 'dict'>\n"
     ]
    }
   ],
   "source": [
    "# NOTE: By default, when iterating over dict, it gives its keys only\n",
    "names ={\"first\":\"tom\",\"second\":\"brock\", \"third\":\"lamar\", \"fourth\":\"joe\"}\n",
    "for name in names:\n",
    "    print(\"\\t\", name,type(names))"
   ]
  },
  {
   "cell_type": "code",
   "execution_count": 12,
   "metadata": {},
   "outputs": [
    {
     "name": "stdout",
     "output_type": "stream",
     "text": [
      "\t first <class 'dict'>\n",
      "\t second <class 'dict'>\n",
      "\t third <class 'dict'>\n",
      "\t fourth <class 'dict'>\n"
     ]
    }
   ],
   "source": [
    "for name in names.keys():\n",
    "    print(\"\\t\", name,type(names))"
   ]
  },
  {
   "cell_type": "code",
   "execution_count": 13,
   "metadata": {},
   "outputs": [
    {
     "name": "stdout",
     "output_type": "stream",
     "text": [
      "\t tom <class 'dict'>\n",
      "\t brock <class 'dict'>\n",
      "\t lamar <class 'dict'>\n",
      "\t joe <class 'dict'>\n"
     ]
    }
   ],
   "source": [
    "for name in names.values():\n",
    "    print(\"\\t\", name,type(names))"
   ]
  },
  {
   "cell_type": "code",
   "execution_count": 14,
   "metadata": {},
   "outputs": [
    {
     "name": "stdout",
     "output_type": "stream",
     "text": [
      "\t ('first', 'tom') <class 'dict'>\n",
      "\t ('second', 'brock') <class 'dict'>\n",
      "\t ('third', 'lamar') <class 'dict'>\n",
      "\t ('fourth', 'joe') <class 'dict'>\n"
     ]
    }
   ],
   "source": [
    "for name in names.items():\n",
    "    print(\"\\t\", name,type(names))"
   ]
  },
  {
   "cell_type": "code",
   "execution_count": 15,
   "metadata": {},
   "outputs": [
    {
     "name": "stdout",
     "output_type": "stream",
     "text": [
      "45 8 9 3 6 7 \n",
      "0 45\n",
      "1 8\n",
      "2 9\n",
      "3 3\n",
      "4 6\n",
      "5 7\n"
     ]
    }
   ],
   "source": [
    "values = [45,8,9,3,6,7 ]\n",
    "\n",
    "for num in values:\n",
    "    print(num, end= ' ')\n",
    "print()\n",
    "\n",
    "for index, num in enumerate(values):\n",
    "    print(index, num)"
   ]
  },
  {
   "cell_type": "code",
   "execution_count": 16,
   "metadata": {},
   "outputs": [
    {
     "name": "stdout",
     "output_type": "stream",
     "text": [
      "0 first\n",
      "1 second\n",
      "2 third\n",
      "3 fourth\n"
     ]
    }
   ],
   "source": [
    "for index, key in enumerate(names):\n",
    "    print(index, key)"
   ]
  },
  {
   "cell_type": "code",
   "execution_count": 17,
   "metadata": {},
   "outputs": [
    {
     "name": "stdout",
     "output_type": "stream",
     "text": [
      "0 ('first', 'tom')\n",
      "1 ('second', 'brock')\n",
      "2 ('third', 'lamar')\n",
      "3 ('fourth', 'joe')\n"
     ]
    }
   ],
   "source": [
    "for index, key in enumerate(names.items()):\n",
    "    print(index, key)"
   ]
  },
  {
   "cell_type": "code",
   "execution_count": 18,
   "metadata": {},
   "outputs": [
    {
     "ename": "ValueError",
     "evalue": "not enough values to unpack (expected 3, got 2)",
     "output_type": "error",
     "traceback": [
      "\u001b[0;31m---------------------------------------------------------------------------\u001b[0m",
      "\u001b[0;31mValueError\u001b[0m                                Traceback (most recent call last)",
      "Cell \u001b[0;32mIn[18], line 1\u001b[0m\n\u001b[0;32m----> 1\u001b[0m \u001b[38;5;28;01mfor\u001b[39;00m index, key, value \u001b[38;5;129;01min\u001b[39;00m \u001b[38;5;28menumerate\u001b[39m(names\u001b[38;5;241m.\u001b[39mitems()):\n\u001b[1;32m      2\u001b[0m     \u001b[38;5;28mprint\u001b[39m(index, key, value)\n",
      "\u001b[0;31mValueError\u001b[0m: not enough values to unpack (expected 3, got 2)"
     ]
    }
   ],
   "source": [
    "for index, key, value in enumerate(names.items()):\n",
    "    print(index, key, value)"
   ]
  },
  {
   "cell_type": "code",
   "execution_count": 19,
   "metadata": {},
   "outputs": [
    {
     "name": "stdout",
     "output_type": "stream",
     "text": [
      "0 first tom\n",
      "1 second brock\n",
      "2 third lamar\n",
      "3 fourth joe\n"
     ]
    }
   ],
   "source": [
    "for index, (key, value) in enumerate(names.items()):\n",
    "    print(index, key, value)"
   ]
  },
  {
   "cell_type": "code",
   "execution_count": 21,
   "metadata": {},
   "outputs": [],
   "source": [
    "mystr = \"Python\""
   ]
  },
  {
   "cell_type": "code",
   "execution_count": 22,
   "metadata": {},
   "outputs": [
    {
     "name": "stdout",
     "output_type": "stream",
     "text": [
      "At loop  0, we found P\n",
      "At loop  1, we found y\n",
      "At loop  2, we found t\n",
      "At loop  3, we found h\n",
      "At loop  4, we found o\n",
      "At loop  5, we found n\n"
     ]
    }
   ],
   "source": [
    "for loop_index, ech_chr in enumerate(mystr):\n",
    "    print(f\"At loop {loop_index:2}, we found {ech_chr}\")"
   ]
  },
  {
   "cell_type": "code",
   "execution_count": 23,
   "metadata": {},
   "outputs": [
    {
     "name": "stdout",
     "output_type": "stream",
     "text": [
      "At loop  4, we found P\n",
      "At loop  5, we found y\n",
      "At loop  6, we found t\n",
      "At loop  7, we found h\n",
      "At loop  8, we found o\n",
      "At loop  9, we found n\n"
     ]
    }
   ],
   "source": [
    "\n",
    "for loop_index, ech_chr in enumerate(mystr, start=4):\n",
    "    print(f\"At loop {loop_index:2}, we found {ech_chr}\")"
   ]
  },
  {
   "cell_type": "code",
   "execution_count": 24,
   "metadata": {},
   "outputs": [
    {
     "name": "stdout",
     "output_type": "stream",
     "text": [
      "At loop -3, we found P\n",
      "At loop -2, we found y\n",
      "At loop -1, we found t\n",
      "At loop  0, we found h\n",
      "At loop  1, we found o\n",
      "At loop  2, we found n\n"
     ]
    }
   ],
   "source": [
    "for loop_index, ech_chr in enumerate(mystr, start=-3):\n",
    "    print(f\"At loop {loop_index:2}, we found {ech_chr}\")"
   ]
  },
  {
   "cell_type": "code",
   "execution_count": 25,
   "metadata": {},
   "outputs": [
    {
     "ename": "TypeError",
     "evalue": "'float' object cannot be interpreted as an integer",
     "output_type": "error",
     "traceback": [
      "\u001b[0;31m---------------------------------------------------------------------------\u001b[0m",
      "\u001b[0;31mTypeError\u001b[0m                                 Traceback (most recent call last)",
      "Cell \u001b[0;32mIn[25], line 1\u001b[0m\n\u001b[0;32m----> 1\u001b[0m \u001b[38;5;28;01mfor\u001b[39;00m loop_index, ech_chr \u001b[38;5;129;01min\u001b[39;00m \u001b[38;5;28;43menumerate\u001b[39;49m\u001b[43m(\u001b[49m\u001b[43mmystr\u001b[49m\u001b[43m,\u001b[49m\u001b[43m \u001b[49m\u001b[43mstart\u001b[49m\u001b[38;5;241;43m=\u001b[39;49m\u001b[38;5;241;43m3.5\u001b[39;49m\u001b[43m)\u001b[49m:\n\u001b[1;32m      2\u001b[0m     \u001b[38;5;28mprint\u001b[39m(\u001b[38;5;124mf\u001b[39m\u001b[38;5;124m\"\u001b[39m\u001b[38;5;124mAt loop \u001b[39m\u001b[38;5;132;01m{\u001b[39;00mloop_index\u001b[38;5;132;01m:\u001b[39;00m\u001b[38;5;124m2\u001b[39m\u001b[38;5;132;01m}\u001b[39;00m\u001b[38;5;124m, we found \u001b[39m\u001b[38;5;132;01m{\u001b[39;00mech_chr\u001b[38;5;132;01m}\u001b[39;00m\u001b[38;5;124m\"\u001b[39m)\n",
      "\u001b[0;31mTypeError\u001b[0m: 'float' object cannot be interpreted as an integer"
     ]
    }
   ],
   "source": [
    "for loop_index, ech_chr in enumerate(mystr, start=3.5):\n",
    "    print(f\"At loop {loop_index:2}, we found {ech_chr}\")"
   ]
  },
  {
   "cell_type": "markdown",
   "metadata": {},
   "source": [
    "## all() and any()\n",
    "    bool()\n",
    "        int/float\n",
    "            zero     - False\n",
    "            non-zero - True\n",
    "        str\n",
    "            empty str - False\n",
    "            non-empty - True\n",
    "        brace\n",
    "            empty     - False\n",
    "            with ele  - True\n",
    "\n",
    "    all() -> True if bool(each element) is True\n",
    "    any() -> True if bool(at-least one element) is True"
   ]
  },
  {
   "cell_type": "code",
   "execution_count": 26,
   "metadata": {},
   "outputs": [
    {
     "data": {
      "text/plain": [
       "True"
      ]
     },
     "execution_count": 26,
     "metadata": {},
     "output_type": "execute_result"
    }
   ],
   "source": [
    "bool(1)"
   ]
  },
  {
   "cell_type": "code",
   "execution_count": 27,
   "metadata": {},
   "outputs": [
    {
     "data": {
      "text/plain": [
       "False"
      ]
     },
     "execution_count": 27,
     "metadata": {},
     "output_type": "execute_result"
    }
   ],
   "source": [
    "bool(0)"
   ]
  },
  {
   "cell_type": "code",
   "execution_count": 28,
   "metadata": {},
   "outputs": [
    {
     "data": {
      "text/plain": [
       "True"
      ]
     },
     "execution_count": 28,
     "metadata": {},
     "output_type": "execute_result"
    }
   ],
   "source": [
    "bool(0.000000000000001)"
   ]
  },
  {
   "cell_type": "code",
   "execution_count": 29,
   "metadata": {},
   "outputs": [
    {
     "data": {
      "text/plain": [
       "False"
      ]
     },
     "execution_count": 29,
     "metadata": {},
     "output_type": "execute_result"
    }
   ],
   "source": [
    "bool(\"\")"
   ]
  },
  {
   "cell_type": "code",
   "execution_count": 30,
   "metadata": {},
   "outputs": [
    {
     "data": {
      "text/plain": [
       "True"
      ]
     },
     "execution_count": 30,
     "metadata": {},
     "output_type": "execute_result"
    }
   ],
   "source": [
    "bool(\" \")"
   ]
  },
  {
   "cell_type": "code",
   "execution_count": 31,
   "metadata": {},
   "outputs": [
    {
     "name": "stdout",
     "output_type": "stream",
     "text": [
      "All good\n",
      "All good\n",
      "All good\n",
      "All good\n",
      "All good\n",
      "All good\n",
      "All good\n",
      "All good\n",
      "All good\n",
      "All good\n",
      "All good\n",
      "All good\n",
      "0 False\n",
      "False\n"
     ]
    }
   ],
   "source": [
    "list= [1,5,8,9,7,9,24,6,4,6,4,6,0,1,8,9,36,6]\n",
    "for i in list:\n",
    "    if not bool(i):\n",
    "        print(i, bool(i))\n",
    "        result = False\n",
    "        break\n",
    "    else:\n",
    "        print(\"All good\")\n",
    "        result = True \n",
    "print(result)\n",
    "    \n"
   ]
  },
  {
   "cell_type": "code",
   "execution_count": 32,
   "metadata": {},
   "outputs": [
    {
     "data": {
      "text/plain": [
       "False"
      ]
     },
     "execution_count": 32,
     "metadata": {},
     "output_type": "execute_result"
    }
   ],
   "source": [
    "all(list)"
   ]
  },
  {
   "cell_type": "code",
   "execution_count": 33,
   "metadata": {},
   "outputs": [
    {
     "name": "stdout",
     "output_type": "stream",
     "text": [
      "[1, 5, 8, 9, 7, 9, 24, 6, 4, 6, 4, 6, 0, 1, 8, 9, 36, 6] False\n",
      "[1, 5, 8, 9, 7, 9, 24, 6, 4, 6, 4, 6, 0, 1, 8, 9, 36, 6] False\n"
     ]
    }
   ],
   "source": [
    "print(list , result)\n",
    "print(list, all(list))"
   ]
  },
  {
   "cell_type": "code",
   "execution_count": 35,
   "metadata": {},
   "outputs": [
    {
     "name": "stdout",
     "output_type": "stream",
     "text": [
      "[1, 5, 8, 9, 7, 9, 24, 6, 4, 6, 4, 6, 0, 1, 8, 9, 36, 6] True\n"
     ]
    }
   ],
   "source": [
    "print(list, any(list))\n",
    "# if a single element is true any returns true "
   ]
  },
  {
   "cell_type": "markdown",
   "metadata": {},
   "source": [
    "## Sorting\n",
    "\n",
    "    Python uses Timsort algorithm for sorting list.sort()\n",
    "    sorted()\n",
    "        - applicable on any iterable object\n",
    "        - create new list object and stores sorted result there\n",
    "        - default sorting is in ascending order\n",
    "    reversed()\n",
    "        - results in an lazy object\n",
    "        - reverses the elements in reverse order of ASSIGNMENT"
   ]
  },
  {
   "cell_type": "code",
   "execution_count": 3,
   "metadata": {},
   "outputs": [],
   "source": [
    "numbers = [5, 2, 3, 1, 4, 9,8,7,6,10]"
   ]
  },
  {
   "cell_type": "code",
   "execution_count": 4,
   "metadata": {},
   "outputs": [
    {
     "data": {
      "text/plain": [
       "[1, 2, 3, 4, 5, 6, 7, 8, 9, 10]"
      ]
     },
     "execution_count": 4,
     "metadata": {},
     "output_type": "execute_result"
    }
   ],
   "source": [
    "sorted(numbers)"
   ]
  },
  {
   "cell_type": "code",
   "execution_count": 5,
   "metadata": {},
   "outputs": [
    {
     "data": {
      "text/plain": [
       "<list_reverseiterator at 0x74f66863e500>"
      ]
     },
     "execution_count": 5,
     "metadata": {},
     "output_type": "execute_result"
    }
   ],
   "source": [
    "reversed(numbers)"
   ]
  },
  {
   "cell_type": "code",
   "execution_count": 6,
   "metadata": {},
   "outputs": [
    {
     "name": "stdout",
     "output_type": "stream",
     "text": [
      "[10, 6, 7, 8, 9, 4, 1, 3, 2, 5]\n"
     ]
    }
   ],
   "source": [
    "reverse_sort = list(reversed(numbers))\n",
    "print(reverse_sort)"
   ]
  },
  {
   "cell_type": "code",
   "execution_count": 7,
   "metadata": {},
   "outputs": [
    {
     "name": "stdout",
     "output_type": "stream",
     "text": [
      "word:er ER 54\n",
      "list(word):['e', 'r', ' ', 'E', 'R', ' ', '5', '4']\n",
      "sorted(word):[' ', ' ', '4', '5', 'E', 'R', 'e', 'r']\n",
      "sorted(word, key=str.lower) :[' ', ' ', '4', '5', 'e', 'E', 'r', 'R']\n"
     ]
    }
   ],
   "source": [
    "word = \"er ER 54\"\n",
    "\n",
    "print(f\"word:{word}\")\n",
    "print(f\"list(word):{list(word)}\")\n",
    "print(f\"sorted(word):{sorted(word)}\")\n",
    "print(f\"sorted(word, key=str.lower) :{sorted(word, key=str.lower)}\")"
   ]
  },
  {
   "cell_type": "code",
   "execution_count": 8,
   "metadata": {},
   "outputs": [
    {
     "name": "stdout",
     "output_type": "stream",
     "text": [
      "[1, 2, 3, 4, 5]\n"
     ]
    }
   ],
   "source": [
    "my_dict = {1: \"D\", 2: \"B\", 3: \"C\", 4: \"E\", 5: \"A\"}\n",
    "print(sorted(my_dict)) "
   ]
  },
  {
   "cell_type": "code",
   "execution_count": 9,
   "metadata": {},
   "outputs": [
    {
     "name": "stdout",
     "output_type": "stream",
     "text": [
      "[1, 2, 3, 4, 5]\n",
      "['A', 'B', 'C', 'D', 'E']\n"
     ]
    }
   ],
   "source": [
    "print(sorted(my_dict.keys()))\n",
    "print(sorted(my_dict.values()))  "
   ]
  },
  {
   "cell_type": "code",
   "execution_count": 10,
   "metadata": {},
   "outputs": [
    {
     "name": "stdout",
     "output_type": "stream",
     "text": [
      "[(1, 'D'), (2, 'B'), (3, 'C'), (4, 'E'), (5, 'A')]\n"
     ]
    }
   ],
   "source": [
    "print(sorted(my_dict.items())) "
   ]
  },
  {
   "cell_type": "code",
   "execution_count": 12,
   "metadata": {},
   "outputs": [
    {
     "name": "stdout",
     "output_type": "stream",
     "text": [
      "[(1, 'D'), (2, 'B'), (3, 'C'), (4, 'E'), (5, 'A')]\n"
     ]
    }
   ],
   "source": [
    "# by key\n",
    "print(sorted(my_dict.items(), key=lambda x: x[0]))"
   ]
  },
  {
   "cell_type": "code",
   "execution_count": 13,
   "metadata": {},
   "outputs": [
    {
     "name": "stdout",
     "output_type": "stream",
     "text": [
      "[(5, 'A'), (2, 'B'), (3, 'C'), (1, 'D'), (4, 'E')]\n"
     ]
    }
   ],
   "source": [
    "# by value \n",
    "print(sorted(my_dict.items(), key=lambda x: x[1]))"
   ]
  },
  {
   "cell_type": "code",
   "execution_count": 14,
   "metadata": {},
   "outputs": [
    {
     "name": "stdout",
     "output_type": "stream",
     "text": [
      "[(4, 'E'), (1, 'D'), (3, 'C'), (2, 'B'), (5, 'A')]\n"
     ]
    }
   ],
   "source": [
    "# by value desc\n",
    "print(sorted(my_dict.items(), key=lambda x: x[1], reverse=True))"
   ]
  },
  {
   "cell_type": "code",
   "execution_count": 15,
   "metadata": {},
   "outputs": [
    {
     "name": "stdout",
     "output_type": "stream",
     "text": [
      "[(5, 'A'), (2, 'B'), (3, 'C'), (1, 'D'), (4, 'E')]\n"
     ]
    }
   ],
   "source": [
    "print(sorted(my_dict.items(), key=lambda x: (x[1], x[0])))"
   ]
  },
  {
   "cell_type": "code",
   "execution_count": 17,
   "metadata": {},
   "outputs": [
    {
     "name": "stdout",
     "output_type": "stream",
     "text": [
      "[(4, 'E'), (1, 'D'), (3, 'C'), (2, 'B'), (5, 'A')]\n"
     ]
    }
   ],
   "source": [
    "print(sorted(my_dict.items(), key=lambda x: (x[1], x[0]), reverse=True))"
   ]
  },
  {
   "cell_type": "code",
   "execution_count": null,
   "metadata": {},
   "outputs": [],
   "source": []
  }
 ],
 "metadata": {
  "kernelspec": {
   "display_name": "Python 3",
   "language": "python",
   "name": "python3"
  },
  "language_info": {
   "codemirror_mode": {
    "name": "ipython",
    "version": 3
   },
   "file_extension": ".py",
   "mimetype": "text/x-python",
   "name": "python",
   "nbconvert_exporter": "python",
   "pygments_lexer": "ipython3",
   "version": "3.12.1"
  }
 },
 "nbformat": 4,
 "nbformat_minor": 2
}
