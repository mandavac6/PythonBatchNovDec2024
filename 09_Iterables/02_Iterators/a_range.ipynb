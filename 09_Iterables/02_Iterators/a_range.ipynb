{
 "cells": [
  {
   "cell_type": "markdown",
   "metadata": {},
   "source": [
    "## range  function\n",
    "\n",
    "    - Lazy Loading object"
   ]
  },
  {
   "cell_type": "code",
   "execution_count": 1,
   "metadata": {},
   "outputs": [
    {
     "data": {
      "text/plain": [
       "range(0, 9)"
      ]
     },
     "execution_count": 1,
     "metadata": {},
     "output_type": "execute_result"
    }
   ],
   "source": [
    "num = range(0, 9, 1)\n",
    "num"
   ]
  },
  {
   "cell_type": "code",
   "execution_count": 2,
   "metadata": {},
   "outputs": [
    {
     "name": "stdout",
     "output_type": "stream",
     "text": [
      "num: range(0, 9), <class 'range'>\n"
     ]
    }
   ],
   "source": [
    "print(f\"num: {num}, {type(num)}\")\n"
   ]
  },
  {
   "cell_type": "code",
   "execution_count": 3,
   "metadata": {},
   "outputs": [
    {
     "name": "stdout",
     "output_type": "stream",
     "text": [
      "0 1 2 3 4 5 6 7 8 "
     ]
    }
   ],
   "source": [
    "# Method 1 - iterating on range object\n",
    "for each_val in num:\n",
    "    print(each_val, end=\" \")"
   ]
  },
  {
   "cell_type": "code",
   "execution_count": 4,
   "metadata": {},
   "outputs": [
    {
     "name": "stdout",
     "output_type": "stream",
     "text": [
      "num1: [0, 1, 2, 3, 4, 5, 6, 7, 8], <class 'list'>\n",
      "num2: (0, 1, 2, 3, 4, 5, 6, 7, 8), <class 'tuple'>\n",
      "num3: {0, 1, 2, 3, 4, 5, 6, 7, 8}, <class 'set'>\n"
     ]
    }
   ],
   "source": [
    "# Method 2 - Convert to other iterables\n",
    "num1 = list(num)\n",
    "print(f\"num1: {num1}, {type(num1)}\")\n",
    "\n",
    "num2 = tuple(num)\n",
    "print(f\"num2: {num2}, {type(num2)}\")\n",
    "\n",
    "num3 = set(num)\n",
    "print(f\"num3: {num3}, {type(num3)}\")\n"
   ]
  },
  {
   "cell_type": "code",
   "execution_count": 5,
   "metadata": {},
   "outputs": [
    {
     "name": "stdout",
     "output_type": "stream",
     "text": [
      "num4: range(0, 9), <class 'str'>\n"
     ]
    }
   ],
   "source": [
    "num4 = str(num)  \n",
    "print(f\"num4: {num4}, {type(num4)}\")"
   ]
  },
  {
   "cell_type": "code",
   "execution_count": 6,
   "metadata": {},
   "outputs": [
    {
     "name": "stdout",
     "output_type": "stream",
     "text": [
      "0,1,2,3,4,5,6,7,8\n"
     ]
    }
   ],
   "source": [
    "print(\",\".join(str(i) for i in num))"
   ]
  },
  {
   "cell_type": "code",
   "execution_count": null,
   "metadata": {},
   "outputs": [],
   "source": []
  }
 ],
 "metadata": {
  "kernelspec": {
   "display_name": "Python 3",
   "language": "python",
   "name": "python3"
  },
  "language_info": {
   "codemirror_mode": {
    "name": "ipython",
    "version": 3
   },
   "file_extension": ".py",
   "mimetype": "text/x-python",
   "name": "python",
   "nbconvert_exporter": "python",
   "pygments_lexer": "ipython3",
   "version": "3.12.1"
  }
 },
 "nbformat": 4,
 "nbformat_minor": 2
}
