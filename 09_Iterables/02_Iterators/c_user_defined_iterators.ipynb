{
 "cells": [
  {
   "cell_type": "markdown",
   "metadata": {},
   "source": [
    "## iter() protocol\n",
    "    Iterator objects\n",
    "        - iterator is an immutable, disposable and lazy object\n",
    "        - designed for builtin iterable objects\n",
    "        - can't be indexed\n",
    "        - stores the state\n",
    "        - used for large data handling\n",
    "        - values can be retrieved by\n",
    "            - .next() attribute in python 2.x\n",
    "            - next() function in python 3.x\n",
    "            - applying for loop"
   ]
  },
  {
   "cell_type": "code",
   "execution_count": 1,
   "metadata": {},
   "outputs": [],
   "source": [
    "alpha = ['a','e','i','o','u']"
   ]
  },
  {
   "cell_type": "code",
   "execution_count": 2,
   "metadata": {},
   "outputs": [
    {
     "data": {
      "text/plain": [
       "5"
      ]
     },
     "execution_count": 2,
     "metadata": {},
     "output_type": "execute_result"
    }
   ],
   "source": [
    "len(alpha)"
   ]
  },
  {
   "cell_type": "code",
   "execution_count": 3,
   "metadata": {},
   "outputs": [
    {
     "data": {
      "text/plain": [
       "list"
      ]
     },
     "execution_count": 3,
     "metadata": {},
     "output_type": "execute_result"
    }
   ],
   "source": [
    "type(alpha)"
   ]
  },
  {
   "cell_type": "code",
   "execution_count": 4,
   "metadata": {},
   "outputs": [
    {
     "data": {
      "text/plain": [
       "'i'"
      ]
     },
     "execution_count": 4,
     "metadata": {},
     "output_type": "execute_result"
    }
   ],
   "source": [
    "# Indexing\n",
    "alpha[2]"
   ]
  },
  {
   "cell_type": "code",
   "execution_count": 6,
   "metadata": {},
   "outputs": [
    {
     "data": {
      "text/plain": [
       "['i', 'o', 'u']"
      ]
     },
     "execution_count": 6,
     "metadata": {},
     "output_type": "execute_result"
    }
   ],
   "source": [
    "# slicing\n",
    "alpha[2:10]"
   ]
  },
  {
   "cell_type": "code",
   "execution_count": 7,
   "metadata": {},
   "outputs": [
    {
     "name": "stdout",
     "output_type": "stream",
     "text": [
      "<class 'list_iterator'>\n",
      "<list_iterator object at 0x7838596d3490>\n"
     ]
    }
   ],
   "source": [
    "alpha_iter = iter(alpha)\n",
    "print(type(alpha_iter))\n",
    "print(alpha_iter)"
   ]
  },
  {
   "cell_type": "code",
   "execution_count": 8,
   "metadata": {},
   "outputs": [
    {
     "name": "stdout",
     "output_type": "stream",
     "text": [
      "a\n",
      "e\n",
      "i\n",
      "o\n",
      "u\n"
     ]
    }
   ],
   "source": [
    "for i in alpha_iter:\n",
    "    print(i)"
   ]
  },
  {
   "cell_type": "code",
   "execution_count": 9,
   "metadata": {},
   "outputs": [
    {
     "name": "stdout",
     "output_type": "stream",
     "text": [
      "<class 'list'> ['a', 'e', 'i', 'o', 'u']\n",
      "<class 'list_iterator'> <list_iterator object at 0x7838683cc220>\n"
     ]
    }
   ],
   "source": [
    "alpha = [\"a\", \"e\", \"i\", \"o\", \"u\"]\n",
    "print(type(alpha), alpha)\n",
    "\n",
    "alpha_iter = iter(alpha)\n",
    "print(type(alpha_iter), alpha_iter)"
   ]
  },
  {
   "cell_type": "code",
   "execution_count": 10,
   "metadata": {},
   "outputs": [
    {
     "name": "stdout",
     "output_type": "stream",
     "text": [
      "<class 'set'> {'i', 'o', 'a', 'e', 'u'}\n",
      "<class 'set_iterator'> <set_iterator object at 0x783858d1d200>\n"
     ]
    }
   ],
   "source": [
    "alpha = {\"a\", \"e\", \"i\", \"o\", \"u\"}\n",
    "print(type(alpha), alpha)\n",
    "\n",
    "alpha_iter = iter(alpha)\n",
    "print(type(alpha_iter), alpha_iter)"
   ]
  },
  {
   "cell_type": "code",
   "execution_count": 11,
   "metadata": {},
   "outputs": [
    {
     "name": "stdout",
     "output_type": "stream",
     "text": [
      "<class 'tuple'> ('a', 'e', 'i', 'o', 'u')\n",
      "<class 'tuple_iterator'> <tuple_iterator object at 0x7838596d3550>\n"
     ]
    }
   ],
   "source": [
    "alpha = (\"a\", \"e\", \"i\", \"o\", \"u\")\n",
    "print(type(alpha), alpha)\n",
    "\n",
    "alpha_iter = iter(alpha)\n",
    "print(type(alpha_iter), alpha_iter)"
   ]
  },
  {
   "cell_type": "code",
   "execution_count": 12,
   "metadata": {},
   "outputs": [
    {
     "name": "stdout",
     "output_type": "stream",
     "text": [
      "<class 'dict'> {'a': 1, 'e': 2, 'i': 3, 'o': 4}\n",
      "<class 'dict_keyiterator'> <dict_keyiterator object at 0x783858d27100>\n"
     ]
    }
   ],
   "source": [
    "alpha = {\"a\": 1, \"e\": 2, \"i\": 3, \"o\": 4}\n",
    "print(type(alpha), alpha)\n",
    "\n",
    "alpha_iter = iter(alpha)\n",
    "print(type(alpha_iter), alpha_iter)"
   ]
  },
  {
   "cell_type": "code",
   "execution_count": 13,
   "metadata": {},
   "outputs": [
    {
     "name": "stdout",
     "output_type": "stream",
     "text": [
      "<class 'dict_keyiterator'> <dict_keyiterator object at 0x783858d7ec50>\n"
     ]
    }
   ],
   "source": [
    "alpha_iter = iter(alpha.keys())\n",
    "print(type(alpha_iter), alpha_iter)"
   ]
  },
  {
   "cell_type": "code",
   "execution_count": 14,
   "metadata": {},
   "outputs": [
    {
     "name": "stdout",
     "output_type": "stream",
     "text": [
      "<class 'dict_valueiterator'> <dict_valueiterator object at 0x783858d27100>\n"
     ]
    }
   ],
   "source": [
    "alpha_iter = iter(alpha.values())\n",
    "print(type(alpha_iter), alpha_iter)"
   ]
  },
  {
   "cell_type": "code",
   "execution_count": 15,
   "metadata": {},
   "outputs": [
    {
     "name": "stdout",
     "output_type": "stream",
     "text": [
      "<class 'dict_itemiterator'> <dict_itemiterator object at 0x783858d274c0>\n"
     ]
    }
   ],
   "source": [
    "alpha_iter = iter(alpha.items())\n",
    "print(type(alpha_iter), alpha_iter)"
   ]
  },
  {
   "cell_type": "markdown",
   "metadata": {},
   "source": [
    "### Iterators\n",
    "\n",
    "    - To get values from an iterator objects\n",
    "        1. Iterate over it\n",
    "                - for loop\n",
    "                - converting to other iterables\n",
    "                    - list(), tuple(), set(), dict()\n",
    "        2. To apply next()\n",
    "            - will result in one element at a time"
   ]
  }
 ],
 "metadata": {
  "kernelspec": {
   "display_name": "Python 3",
   "language": "python",
   "name": "python3"
  },
  "language_info": {
   "codemirror_mode": {
    "name": "ipython",
    "version": 3
   },
   "file_extension": ".py",
   "mimetype": "text/x-python",
   "name": "python",
   "nbconvert_exporter": "python",
   "pygments_lexer": "ipython3",
   "version": "3.12.1"
  }
 },
 "nbformat": 4,
 "nbformat_minor": 2
}
