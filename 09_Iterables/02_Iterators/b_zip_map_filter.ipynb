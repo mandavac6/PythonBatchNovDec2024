{
 "cells": [
  {
   "cell_type": "markdown",
   "metadata": {},
   "source": [
    "## zip(), map(), filter() result objects\n",
    "    - lazy loading  object (or) on-demand loading object\n",
    "    - Iterators are disposable objects\n",
    "        - one time use only"
   ]
  },
  {
   "cell_type": "code",
   "execution_count": 1,
   "metadata": {},
   "outputs": [],
   "source": [
    "\n",
    "alphabets = {\"a\", \"e\", \"i\", \"o\", \"u\"}\n",
    "numbers = (\"1\", \"2\", \"3\", \"4\")"
   ]
  },
  {
   "cell_type": "code",
   "execution_count": 2,
   "metadata": {},
   "outputs": [
    {
     "name": "stdout",
     "output_type": "stream",
     "text": [
      "pairs: <class 'zip'> <zip object at 0x7d6517de7d40>\n"
     ]
    }
   ],
   "source": [
    "pairs = zip(alphabets, numbers)  \n",
    "print(f\"pairs: {type(pairs)} {pairs}\")"
   ]
  },
  {
   "cell_type": "code",
   "execution_count": 3,
   "metadata": {},
   "outputs": [
    {
     "name": "stdout",
     "output_type": "stream",
     "text": [
      "('e', '1')\n",
      "('u', '2')\n",
      "('i', '3')\n",
      "('a', '4')\n"
     ]
    }
   ],
   "source": [
    "for ech_pair in pairs:\n",
    "    print(ech_pair)"
   ]
  },
  {
   "cell_type": "code",
   "execution_count": 4,
   "metadata": {},
   "outputs": [
    {
     "name": "stdout",
     "output_type": "stream",
     "text": [
      "pairs1: <class 'list'> []\n",
      "pairs2: <class 'tuple'> ()\n",
      "pairs3: <class 'set'> set()\n",
      "pairs4: <class 'str'> <zip object at 0x7d6517de7d40>\n"
     ]
    }
   ],
   "source": [
    "pairs1 = list(pairs)\n",
    "print(f\"pairs1: {type(pairs1)} {pairs1}\")\n",
    "\n",
    "pairs2 = tuple(pairs)\n",
    "print(f\"pairs2: {type(pairs2)} {pairs2}\")\n",
    "\n",
    "pairs3 = set(pairs)\n",
    "print(f\"pairs3: {type(pairs3)} {pairs3}\")\n",
    "\n",
    "pairs4 = str(pairs)\n",
    "print(f\"pairs4: {type(pairs4)} {pairs4}\")\n"
   ]
  },
  {
   "cell_type": "markdown",
   "metadata": {},
   "source": [
    "#### NOTE: Iterators are disposable objects. can give values only once"
   ]
  },
  {
   "cell_type": "code",
   "execution_count": 5,
   "metadata": {},
   "outputs": [
    {
     "name": "stdout",
     "output_type": "stream",
     "text": [
      "pairs1: <class 'list'> [('e', '1'), ('u', '2'), ('i', '3'), ('a', '4')]\n"
     ]
    }
   ],
   "source": [
    "pairs = zip(alphabets, numbers)\n",
    "pairs1 = list(pairs)\n",
    "print(f\"pairs1: {type(pairs1)} {pairs1}\")"
   ]
  },
  {
   "cell_type": "code",
   "execution_count": 6,
   "metadata": {},
   "outputs": [
    {
     "name": "stdout",
     "output_type": "stream",
     "text": [
      "pairs2: <class 'tuple'> (('e', '1'), ('u', '2'), ('i', '3'), ('a', '4'))\n"
     ]
    }
   ],
   "source": [
    "pairs = zip(alphabets, numbers)\n",
    "pairs2 = tuple(pairs)\n",
    "print(f\"pairs2: {type(pairs2)} {pairs2}\")"
   ]
  },
  {
   "cell_type": "code",
   "execution_count": 7,
   "metadata": {},
   "outputs": [
    {
     "name": "stdout",
     "output_type": "stream",
     "text": [
      "pairs3: <class 'set'> {('i', '3'), ('u', '2'), ('a', '4'), ('e', '1')}\n"
     ]
    }
   ],
   "source": [
    "pairs = zip(alphabets, numbers)\n",
    "pairs3 = set(pairs)\n",
    "print(f\"pairs3: {type(pairs3)} {pairs3}\")"
   ]
  },
  {
   "cell_type": "code",
   "execution_count": 8,
   "metadata": {},
   "outputs": [
    {
     "name": "stdout",
     "output_type": "stream",
     "text": [
      "pairs4: <class 'str'> <zip object at 0x7d6517df7d40>\n"
     ]
    }
   ],
   "source": [
    "pairs = zip(alphabets, numbers)\n",
    "pairs4 = str(pairs)  \n",
    "print(f\"pairs4: {type(pairs4)} {pairs4}\")"
   ]
  },
  {
   "cell_type": "code",
   "execution_count": 9,
   "metadata": {},
   "outputs": [
    {
     "name": "stdout",
     "output_type": "stream",
     "text": [
      "pairs5: <class 'dict'> {'e': '1', 'u': '2', 'i': '3', 'a': '4'}\n"
     ]
    }
   ],
   "source": [
    "pairs = zip(alphabets, numbers)\n",
    "pairs5 = dict(pairs)\n",
    "print(f\"pairs5: {type(pairs5)} {pairs5}\")"
   ]
  },
  {
   "cell_type": "code",
   "execution_count": 13,
   "metadata": {},
   "outputs": [],
   "source": [
    "## Assignment: similarly, apply on the map and filter\n",
    "\n"
   ]
  },
  {
   "cell_type": "code",
   "execution_count": 14,
   "metadata": {},
   "outputs": [
    {
     "name": "stdout",
     "output_type": "stream",
     "text": [
      "[1, 4, 9, 16]\n"
     ]
    }
   ],
   "source": [
    "# map()\n",
    "\n",
    "def square(x): \n",
    "    return x * x \n",
    "numbers = [1, 2, 3, 4] \n",
    "squared_numbers = map(square, numbers) \n",
    "print(list(squared_numbers))"
   ]
  },
  {
   "cell_type": "code",
   "execution_count": 15,
   "metadata": {},
   "outputs": [
    {
     "name": "stdout",
     "output_type": "stream",
     "text": [
      "[2, 4, 6]\n"
     ]
    }
   ],
   "source": [
    "# filter ()\n",
    "def is_even(x):\n",
    "    return x % 2 == 0 \n",
    "numbers = [1, 2, 3, 4, 5, 6] \n",
    "even_numbers = filter(is_even, numbers) \n",
    "print(list(even_numbers))"
   ]
  },
  {
   "cell_type": "code",
   "execution_count": null,
   "metadata": {},
   "outputs": [],
   "source": []
  }
 ],
 "metadata": {
  "kernelspec": {
   "display_name": "Python 3",
   "language": "python",
   "name": "python3"
  },
  "language_info": {
   "codemirror_mode": {
    "name": "ipython",
    "version": 3
   },
   "file_extension": ".py",
   "mimetype": "text/x-python",
   "name": "python",
   "nbconvert_exporter": "python",
   "pygments_lexer": "ipython3",
   "version": "3.12.1"
  }
 },
 "nbformat": 4,
 "nbformat_minor": 2
}
