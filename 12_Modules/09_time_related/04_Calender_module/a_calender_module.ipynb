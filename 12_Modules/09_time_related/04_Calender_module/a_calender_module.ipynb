{
 "cells": [
  {
   "cell_type": "code",
   "execution_count": 1,
   "metadata": {},
   "outputs": [],
   "source": [
    "import calendar"
   ]
  },
  {
   "cell_type": "code",
   "execution_count": 2,
   "metadata": {},
   "outputs": [
    {
     "name": "stdout",
     "output_type": "stream",
     "text": [
      "['APRIL', 'AUGUST', 'Calendar', 'DECEMBER', 'Day', 'EPOCH', 'FEBRUARY', 'FRIDAY', 'HTMLCalendar', 'IllegalMonthError', 'IllegalWeekdayError', 'IntEnum', 'JANUARY', 'JULY', 'JUNE', 'LocaleHTMLCalendar', 'LocaleTextCalendar', 'MARCH', 'MAY', 'MONDAY', 'Month', 'NOVEMBER', 'OCTOBER', 'SATURDAY', 'SEPTEMBER', 'SUNDAY', 'THURSDAY', 'TUESDAY', 'TextCalendar', 'WEDNESDAY', '_EPOCH_ORD', '__all__', '__builtins__', '__cached__', '__doc__', '__file__', '__getattr__', '__loader__', '__name__', '__package__', '__spec__', '_colwidth', '_get_default_locale', '_locale', '_localized_day', '_localized_month', '_monthlen', '_nextmonth', '_prevmonth', '_spacing', 'c', 'calendar', 'datetime', 'day_abbr', 'day_name', 'different_locale', 'error', 'firstweekday', 'format', 'formatstring', 'global_enum', 'isleap', 'leapdays', 'main', 'mdays', 'month', 'month_abbr', 'month_name', 'monthcalendar', 'monthrange', 'prcal', 'prmonth', 'prweek', 'repeat', 'setfirstweekday', 'sys', 'timegm', 'warnings', 'week', 'weekday', 'weekheader']\n"
     ]
    }
   ],
   "source": [
    "print(dir(calendar))"
   ]
  },
  {
   "cell_type": "code",
   "execution_count": 3,
   "metadata": {},
   "outputs": [
    {
     "name": "stdout",
     "output_type": "stream",
     "text": [
      "Calendar printing functions\n",
      "\n",
      "Note when comparing these calendars to the ones printed by cal(1): By\n",
      "default, these calendars have Monday as the first day of the week, and\n",
      "Sunday as the last (the European convention). Use setfirstweekday() to\n",
      "set the first day of the week (0=Monday, 6=Sunday).\n"
     ]
    }
   ],
   "source": [
    "print(calendar.__doc__)"
   ]
  },
  {
   "cell_type": "code",
   "execution_count": 4,
   "metadata": {},
   "outputs": [
    {
     "name": "stdout",
     "output_type": "stream",
     "text": [
      " \n",
      "calendar.EPOCH      =1970\n",
      "calendar._EPOCH_ORD =719163\n",
      "\n",
      "calendar.MONDAY     =calendar.MONDAY\n",
      "calendar.TUESDAY    =calendar.TUESDAY\n",
      "calendar.WEDNESDAY  =calendar.WEDNESDAY\n",
      "calendar.THURSDAY   =calendar.THURSDAY\n",
      "calendar.FRIDAY     =calendar.FRIDAY\n",
      "calendar.SATURDAY   =calendar.SATURDAY\n",
      "calendar.SUNDAY     =calendar.SUNDAY\n",
      "\n",
      "calendar.mdays      =[0, 31, 28, 31, 30, 31, 30, 31, 31, 30, 31, 30, 31]\n",
      "\n"
     ]
    }
   ],
   "source": [
    "print(\n",
    "    f\"\"\" \n",
    "{calendar.EPOCH      =}\n",
    "{calendar._EPOCH_ORD =}\n",
    "\n",
    "{calendar.MONDAY     =}\n",
    "{calendar.TUESDAY    =}\n",
    "{calendar.WEDNESDAY  =}\n",
    "{calendar.THURSDAY   =}\n",
    "{calendar.FRIDAY     =}\n",
    "{calendar.SATURDAY   =}\n",
    "{calendar.SUNDAY     =}\n",
    "\n",
    "{calendar.mdays      =}\n",
    "\"\"\"\n",
    ")"
   ]
  },
  {
   "cell_type": "markdown",
   "metadata": {},
   "source": [
    "Getting Abbreviated Weekday Names"
   ]
  },
  {
   "cell_type": "code",
   "execution_count": 5,
   "metadata": {},
   "outputs": [
    {
     "data": {
      "text/plain": [
       "'Mo Tu We Th Fr Sa Su'"
      ]
     },
     "execution_count": 5,
     "metadata": {},
     "output_type": "execute_result"
    }
   ],
   "source": [
    "calendar.weekheader(2)"
   ]
  },
  {
   "cell_type": "code",
   "execution_count": 6,
   "metadata": {},
   "outputs": [
    {
     "name": "stdout",
     "output_type": "stream",
     "text": [
      "0 ==>       \n",
      "1 ==> M T W T F S S\n",
      "2 ==> Mo Tu We Th Fr Sa Su\n",
      "3 ==> Mon Tue Wed Thu Fri Sat Sun\n",
      "4 ==> Mon  Tue  Wed  Thu  Fri  Sat  Sun \n",
      "5 ==>  Mon   Tue   Wed   Thu   Fri   Sat   Sun \n",
      "6 ==>  Mon    Tue    Wed    Thu    Fri    Sat    Sun  \n"
     ]
    }
   ],
   "source": [
    "for i in range(7):\n",
    "    print(i, \"==>\", calendar.weekheader(i))"
   ]
  },
  {
   "cell_type": "markdown",
   "metadata": {},
   "source": [
    "__Problem:__ For a given date, tell the week of the day"
   ]
  },
  {
   "cell_type": "code",
   "execution_count": 7,
   "metadata": {},
   "outputs": [],
   "source": [
    "import calendar\n",
    "\n",
    "\n",
    "def get_week_of_day():\n",
    "    given_input = input('Enter the date in \"MM DD YYYY\" format:')\n",
    "    month, day, year = map(int, given_input.split(\" \"))\n",
    "\n",
    "    weeks = (\n",
    "        \"MONDAY\",\n",
    "        \"TUESDAY\",\n",
    "        \"WEDNESDAY\",\n",
    "        \"THURSDAY\",\n",
    "        \"FRIDAY\",\n",
    "        \"SATURDAY\",\n",
    "        \"SUNDAY\",\n",
    "    )\n",
    "    week_no = calendar.weekday(year, month, day)\n",
    "    week_name = weeks[week_no]\n",
    "    return f\"day of week for {given_input} is {week_name}\""
   ]
  },
  {
   "cell_type": "code",
   "execution_count": 9,
   "metadata": {},
   "outputs": [
    {
     "data": {
      "text/plain": [
       "'day of week for 12 25 1998 is FRIDAY'"
      ]
     },
     "execution_count": 9,
     "metadata": {},
     "output_type": "execute_result"
    }
   ],
   "source": [
    "get_week_of_day()"
   ]
  },
  {
   "cell_type": "code",
   "execution_count": 10,
   "metadata": {},
   "outputs": [
    {
     "data": {
      "text/plain": [
       "'    August 1947\\nMo Tu We Th Fr Sa Su\\n             1  2  3\\n 4  5  6  7  8  9 10\\n11 12 13 14 15 16 17\\n18 19 20 21 22 23 24\\n25 26 27 28 29 30 31\\n'"
      ]
     },
     "execution_count": 10,
     "metadata": {},
     "output_type": "execute_result"
    }
   ],
   "source": [
    "calendar.month(1947, 8)"
   ]
  },
  {
   "cell_type": "code",
   "execution_count": 11,
   "metadata": {},
   "outputs": [
    {
     "name": "stdout",
     "output_type": "stream",
     "text": [
      "    August 1947\n",
      "Mo Tu We Th Fr Sa Su\n",
      "             1  2  3\n",
      " 4  5  6  7  8  9 10\n",
      "11 12 13 14 15 16 17\n",
      "18 19 20 21 22 23 24\n",
      "25 26 27 28 29 30 31\n",
      "\n"
     ]
    }
   ],
   "source": [
    "print(calendar.month(1947, 8))"
   ]
  },
  {
   "cell_type": "code",
   "execution_count": 12,
   "metadata": {},
   "outputs": [
    {
     "name": "stdout",
     "output_type": "stream",
     "text": [
      "    August 2020\n",
      "Mo Tu We Th Fr Sa Su\n",
      "                1  2\n",
      " 3  4  5  6  7  8  9\n",
      "10 11 12 13 14 15 16\n",
      "17 18 19 20 21 22 23\n",
      "24 25 26 27 28 29 30\n",
      "31\n",
      "\n"
     ]
    }
   ],
   "source": [
    "print(calendar.month(2020, 8))"
   ]
  },
  {
   "cell_type": "markdown",
   "metadata": {},
   "source": [
    "Getting Number of Days in a Month\n",
    "    - weekday (0-6 ~ Mon-Sun) and number of days (28-31) for year, month"
   ]
  },
  {
   "cell_type": "code",
   "execution_count": 13,
   "metadata": {},
   "outputs": [
    {
     "name": "stdout",
     "output_type": "stream",
     "text": [
      "(calendar.FRIDAY, 31)\n"
     ]
    }
   ],
   "source": [
    "print(calendar.monthrange(1947, 8))"
   ]
  },
  {
   "cell_type": "code",
   "execution_count": 14,
   "metadata": {},
   "outputs": [
    {
     "name": "stdout",
     "output_type": "stream",
     "text": [
      "(calendar.SATURDAY, 31)\n"
     ]
    }
   ],
   "source": [
    "print(calendar.monthrange(2020, 8))  "
   ]
  },
  {
   "cell_type": "code",
   "execution_count": 15,
   "metadata": {},
   "outputs": [
    {
     "name": "stdout",
     "output_type": "stream",
     "text": [
      "     March 2020\n",
      "Mo Tu We Th Fr Sa Su\n",
      "                   1\n",
      " 2  3  4  5  6  7  8\n",
      " 9 10 11 12 13 14 15\n",
      "16 17 18 19 20 21 22\n",
      "23 24 25 26 27 28 29\n",
      "30 31\n",
      "\n"
     ]
    }
   ],
   "source": [
    "print(calendar.month(2020, 3))"
   ]
  },
  {
   "cell_type": "code",
   "execution_count": 16,
   "metadata": {},
   "outputs": [
    {
     "name": "stdout",
     "output_type": "stream",
     "text": [
      "(calendar.SUNDAY, 31)\n"
     ]
    }
   ],
   "source": [
    "print(calendar.monthrange(2020, 3))"
   ]
  },
  {
   "cell_type": "code",
   "execution_count": 17,
   "metadata": {},
   "outputs": [
    {
     "name": "stdout",
     "output_type": "stream",
     "text": [
      "[[0, 0, 0, 0, 1, 2, 3], [4, 5, 6, 7, 8, 9, 10], [11, 12, 13, 14, 15, 16, 17], [18, 19, 20, 21, 22, 23, 24], [25, 26, 27, 28, 29, 30, 31]]\n"
     ]
    }
   ],
   "source": [
    "print(calendar.monthcalendar(1947, 8))"
   ]
  },
  {
   "cell_type": "code",
   "execution_count": 18,
   "metadata": {},
   "outputs": [
    {
     "name": "stdout",
     "output_type": "stream",
     "text": [
      "[0, 0, 0, 0, 1, 2, 3]\n",
      "[4, 5, 6, 7, 8, 9, 10]\n",
      "[11, 12, 13, 14, 15, 16, 17]\n",
      "[18, 19, 20, 21, 22, 23, 24]\n",
      "[25, 26, 27, 28, 29, 30, 31]\n"
     ]
    }
   ],
   "source": [
    "for i in calendar.monthcalendar(1947, 8):\n",
    "    print(i)"
   ]
  },
  {
   "cell_type": "markdown",
   "metadata": {},
   "source": [
    "### Displaying the calendar"
   ]
  },
  {
   "cell_type": "code",
   "execution_count": 19,
   "metadata": {},
   "outputs": [
    {
     "name": "stdout",
     "output_type": "stream",
     "text": [
      "Help on method formatyear in module calendar:\n",
      "\n",
      "formatyear(theyear, w=2, l=1, c=6, m=3) method of calendar.TextCalendar instance\n",
      "    Returns a year's calendar as a multi-line string.\n",
      "\n"
     ]
    }
   ],
   "source": [
    "help(calendar.calendar)"
   ]
  },
  {
   "cell_type": "code",
   "execution_count": 20,
   "metadata": {},
   "outputs": [
    {
     "name": "stdout",
     "output_type": "stream",
     "text": [
      "                                      1947\n",
      "\n",
      "      January                       February                       March\n",
      "Mo Tu We Th Fr Sa Su          Mo Tu We Th Fr Sa Su          Mo Tu We Th Fr Sa Su\n",
      "       1  2  3  4  5                          1  2                          1  2\n",
      " 6  7  8  9 10 11 12           3  4  5  6  7  8  9           3  4  5  6  7  8  9\n",
      "13 14 15 16 17 18 19          10 11 12 13 14 15 16          10 11 12 13 14 15 16\n",
      "20 21 22 23 24 25 26          17 18 19 20 21 22 23          17 18 19 20 21 22 23\n",
      "27 28 29 30 31                24 25 26 27 28                24 25 26 27 28 29 30\n",
      "                                                            31\n",
      "\n",
      "       April                          May                           June\n",
      "Mo Tu We Th Fr Sa Su          Mo Tu We Th Fr Sa Su          Mo Tu We Th Fr Sa Su\n",
      "    1  2  3  4  5  6                    1  2  3  4                             1\n",
      " 7  8  9 10 11 12 13           5  6  7  8  9 10 11           2  3  4  5  6  7  8\n",
      "14 15 16 17 18 19 20          12 13 14 15 16 17 18           9 10 11 12 13 14 15\n",
      "21 22 23 24 25 26 27          19 20 21 22 23 24 25          16 17 18 19 20 21 22\n",
      "28 29 30                      26 27 28 29 30 31             23 24 25 26 27 28 29\n",
      "                                                            30\n",
      "\n",
      "        July                         August                      September\n",
      "Mo Tu We Th Fr Sa Su          Mo Tu We Th Fr Sa Su          Mo Tu We Th Fr Sa Su\n",
      "    1  2  3  4  5  6                       1  2  3           1  2  3  4  5  6  7\n",
      " 7  8  9 10 11 12 13           4  5  6  7  8  9 10           8  9 10 11 12 13 14\n",
      "14 15 16 17 18 19 20          11 12 13 14 15 16 17          15 16 17 18 19 20 21\n",
      "21 22 23 24 25 26 27          18 19 20 21 22 23 24          22 23 24 25 26 27 28\n",
      "28 29 30 31                   25 26 27 28 29 30 31          29 30\n",
      "\n",
      "      October                       November                      December\n",
      "Mo Tu We Th Fr Sa Su          Mo Tu We Th Fr Sa Su          Mo Tu We Th Fr Sa Su\n",
      "       1  2  3  4  5                          1  2           1  2  3  4  5  6  7\n",
      " 6  7  8  9 10 11 12           3  4  5  6  7  8  9           8  9 10 11 12 13 14\n",
      "13 14 15 16 17 18 19          10 11 12 13 14 15 16          15 16 17 18 19 20 21\n",
      "20 21 22 23 24 25 26          17 18 19 20 21 22 23          22 23 24 25 26 27 28\n",
      "27 28 29 30 31                24 25 26 27 28 29 30          29 30 31\n",
      "\n"
     ]
    }
   ],
   "source": [
    "print(calendar.calendar(1947, 2, 1, 10))\n"
   ]
  },
  {
   "cell_type": "code",
   "execution_count": 21,
   "metadata": {},
   "outputs": [
    {
     "data": {
      "text/plain": [
       "0"
      ]
     },
     "execution_count": 21,
     "metadata": {},
     "output_type": "execute_result"
    }
   ],
   "source": [
    "calendar.firstweekday()  "
   ]
  },
  {
   "cell_type": "code",
   "execution_count": 22,
   "metadata": {},
   "outputs": [],
   "source": [
    "calendar.setfirstweekday(4)"
   ]
  },
  {
   "cell_type": "code",
   "execution_count": 23,
   "metadata": {},
   "outputs": [
    {
     "data": {
      "text/plain": [
       "4"
      ]
     },
     "execution_count": 23,
     "metadata": {},
     "output_type": "execute_result"
    }
   ],
   "source": [
    "calendar.firstweekday()  "
   ]
  },
  {
   "cell_type": "code",
   "execution_count": 24,
   "metadata": {},
   "outputs": [
    {
     "name": "stdout",
     "output_type": "stream",
     "text": [
      "                                      1947\n",
      "\n",
      "      January                       February                       March\n",
      "Fr Sa Su Mo Tu We Th          Fr Sa Su Mo Tu We Th          Fr Sa Su Mo Tu We Th\n",
      "                1  2              1  2  3  4  5  6              1  2  3  4  5  6\n",
      " 3  4  5  6  7  8  9           7  8  9 10 11 12 13           7  8  9 10 11 12 13\n",
      "10 11 12 13 14 15 16          14 15 16 17 18 19 20          14 15 16 17 18 19 20\n",
      "17 18 19 20 21 22 23          21 22 23 24 25 26 27          21 22 23 24 25 26 27\n",
      "24 25 26 27 28 29 30          28                            28 29 30 31\n",
      "31\n",
      "\n",
      "       April                          May                           June\n",
      "Fr Sa Su Mo Tu We Th          Fr Sa Su Mo Tu We Th          Fr Sa Su Mo Tu We Th\n",
      "             1  2  3                             1                 1  2  3  4  5\n",
      " 4  5  6  7  8  9 10           2  3  4  5  6  7  8           6  7  8  9 10 11 12\n",
      "11 12 13 14 15 16 17           9 10 11 12 13 14 15          13 14 15 16 17 18 19\n",
      "18 19 20 21 22 23 24          16 17 18 19 20 21 22          20 21 22 23 24 25 26\n",
      "25 26 27 28 29 30             23 24 25 26 27 28 29          27 28 29 30\n",
      "                              30 31\n",
      "\n",
      "        July                         August                      September\n",
      "Fr Sa Su Mo Tu We Th          Fr Sa Su Mo Tu We Th          Fr Sa Su Mo Tu We Th\n",
      "             1  2  3           1  2  3  4  5  6  7                    1  2  3  4\n",
      " 4  5  6  7  8  9 10           8  9 10 11 12 13 14           5  6  7  8  9 10 11\n",
      "11 12 13 14 15 16 17          15 16 17 18 19 20 21          12 13 14 15 16 17 18\n",
      "18 19 20 21 22 23 24          22 23 24 25 26 27 28          19 20 21 22 23 24 25\n",
      "25 26 27 28 29 30 31          29 30 31                      26 27 28 29 30\n",
      "\n",
      "      October                       November                      December\n",
      "Fr Sa Su Mo Tu We Th          Fr Sa Su Mo Tu We Th          Fr Sa Su Mo Tu We Th\n",
      "                1  2              1  2  3  4  5  6                    1  2  3  4\n",
      " 3  4  5  6  7  8  9           7  8  9 10 11 12 13           5  6  7  8  9 10 11\n",
      "10 11 12 13 14 15 16          14 15 16 17 18 19 20          12 13 14 15 16 17 18\n",
      "17 18 19 20 21 22 23          21 22 23 24 25 26 27          19 20 21 22 23 24 25\n",
      "24 25 26 27 28 29 30          28 29 30                      26 27 28 29 30 31\n",
      "31\n",
      "\n"
     ]
    }
   ],
   "source": [
    "print(calendar.calendar(1947, 2, 1, 10))"
   ]
  },
  {
   "cell_type": "markdown",
   "metadata": {},
   "source": [
    "### TextCalendar\n",
    "    - used to generate plain text calendars. "
   ]
  },
  {
   "cell_type": "code",
   "execution_count": 25,
   "metadata": {},
   "outputs": [],
   "source": [
    "c = calendar.TextCalendar()"
   ]
  },
  {
   "cell_type": "markdown",
   "metadata": {},
   "source": [
    "formatmonth()\n",
    "    - This method takes 4 arguments namely: \n",
    "        - year\n",
    "        - month\n",
    "        - the width of days column (w)\n",
    "        - a number of lines used by each week (l). \n",
    "    - This method returns a multi-line string."
   ]
  },
  {
   "cell_type": "code",
   "execution_count": 26,
   "metadata": {},
   "outputs": [
    {
     "name": "stdout",
     "output_type": "stream",
     "text": [
      "    August 1047\n",
      "Mo Tu We Th Fr Sa Su\n",
      "                   1\n",
      " 2  3  4  5  6  7  8\n",
      " 9 10 11 12 13 14 15\n",
      "16 17 18 19 20 21 22\n",
      "23 24 25 26 27 28 29\n",
      "30 31\n",
      "\n"
     ]
    }
   ],
   "source": [
    "print(c.formatmonth(1047, 8))  # default, w = 2"
   ]
  },
  {
   "cell_type": "code",
   "execution_count": 27,
   "metadata": {},
   "outputs": [
    {
     "name": "stdout",
     "output_type": "stream",
     "text": [
      "        August 1047\n",
      "Mon Tue Wed Thu Fri Sat Sun\n",
      "                          1\n",
      "  2   3   4   5   6   7   8\n",
      "  9  10  11  12  13  14  15\n",
      " 16  17  18  19  20  21  22\n",
      " 23  24  25  26  27  28  29\n",
      " 30  31\n",
      "\n"
     ]
    }
   ],
   "source": [
    "print(c.formatmonth(1047, 8, 3))"
   ]
  },
  {
   "cell_type": "code",
   "execution_count": 28,
   "metadata": {},
   "outputs": [
    {
     "data": {
      "text/plain": [
       "'        August 1047\\nMon Tue Wed Thu Fri Sat Sun\\n                          1\\n  2   3   4   5   6   7   8\\n  9  10  11  12  13  14  15\\n 16  17  18  19  20  21  22\\n 23  24  25  26  27  28  29\\n 30  31\\n'"
      ]
     },
     "execution_count": 28,
     "metadata": {},
     "output_type": "execute_result"
    }
   ],
   "source": [
    "c.formatmonth(1047, 8, 3)"
   ]
  },
  {
   "cell_type": "markdown",
   "metadata": {},
   "source": [
    "prmonth()\n",
    "    - prints value returned from formatmonth, without using print()"
   ]
  },
  {
   "cell_type": "code",
   "execution_count": 29,
   "metadata": {},
   "outputs": [
    {
     "name": "stdout",
     "output_type": "stream",
     "text": [
      "    August 1947\n",
      "Mo Tu We Th Fr Sa Su\n",
      "             1  2  3\n",
      " 4  5  6  7  8  9 10\n",
      "11 12 13 14 15 16 17\n",
      "18 19 20 21 22 23 24\n",
      "25 26 27 28 29 30 31\n"
     ]
    }
   ],
   "source": [
    "c.prmonth(1947, 8)  # default is Monday"
   ]
  },
  {
   "cell_type": "code",
   "execution_count": 30,
   "metadata": {},
   "outputs": [
    {
     "name": "stdout",
     "output_type": "stream",
     "text": [
      "    August 1947\n",
      "Mo Tu We Th Fr Sa Su\n",
      "             1  2  3\n",
      " 4  5  6  7  8  9 10\n",
      "11 12 13 14 15 16 17\n",
      "18 19 20 21 22 23 24\n",
      "25 26 27 28 29 30 31\n",
      "None\n"
     ]
    }
   ],
   "source": [
    "print(c.prmonth(1947, 8))"
   ]
  },
  {
   "cell_type": "code",
   "execution_count": 31,
   "metadata": {
    "scrolled": true
   },
   "outputs": [
    {
     "name": "stdout",
     "output_type": "stream",
     "text": [
      "    August 1947\n",
      "Su Mo Tu We Th Fr Sa\n",
      "                1  2\n",
      " 3  4  5  6  7  8  9\n",
      "10 11 12 13 14 15 16\n",
      "17 18 19 20 21 22 23\n",
      "24 25 26 27 28 29 30\n",
      "31\n"
     ]
    }
   ],
   "source": [
    "# American calendar starts with Sunday\n",
    "c = calendar.TextCalendar(calendar.SUNDAY)\n",
    "c.prmonth(1947, 8)"
   ]
  },
  {
   "cell_type": "code",
   "execution_count": 32,
   "metadata": {},
   "outputs": [
    {
     "name": "stdout",
     "output_type": "stream",
     "text": [
      "    August 1947\n",
      "Fr Sa Su Mo Tu We Th\n",
      " 1  2  3  4  5  6  7\n",
      " 8  9 10 11 12 13 14\n",
      "15 16 17 18 19 20 21\n",
      "22 23 24 25 26 27 28\n",
      "29 30 31\n"
     ]
    }
   ],
   "source": [
    "# Arabic calendar starts with Friday\n",
    "c = calendar.TextCalendar(calendar.FRIDAY)\n",
    "c.prmonth(1947, 8)"
   ]
  },
  {
   "cell_type": "markdown",
   "metadata": {},
   "source": [
    "## LocaleTextCalendar "
   ]
  },
  {
   "cell_type": "markdown",
   "metadata": {},
   "source": [
    "To display in Local language, https://docs.microsoft.com/en-us/cpp/c-runtime-library/language-strings?view=vs-2017"
   ]
  },
  {
   "cell_type": "code",
   "execution_count": 33,
   "metadata": {},
   "outputs": [
    {
     "name": "stdout",
     "output_type": "stream",
     "text": [
      "af_ZA\n",
      "sq_AL\n",
      "gsw_FR\n",
      "am_ET\n",
      "ar_SA\n",
      "ar_IQ\n",
      "ar_EG\n",
      "ar_LY\n",
      "ar_DZ\n",
      "ar_MA\n",
      "ar_TN\n",
      "ar_OM\n",
      "ar_YE\n",
      "ar_SY\n",
      "ar_JO\n",
      "ar_LB\n",
      "ar_KW\n",
      "ar_AE\n",
      "ar_BH\n",
      "ar_QA\n",
      "hy_AM\n",
      "as_IN\n",
      "az_AZ\n",
      "az_AZ\n",
      "ba_RU\n",
      "eu_ES\n",
      "be_BY\n",
      "bn_IN\n",
      "bs_BA\n",
      "bs_BA\n",
      "br_FR\n",
      "bg_BG\n",
      "ca_ES\n",
      "zh_CHS\n",
      "zh_TW\n",
      "zh_CN\n",
      "zh_HK\n",
      "zh_SG\n",
      "zh_MO\n",
      "zh_CHT\n",
      "co_FR\n",
      "hr_HR\n",
      "hr_BA\n",
      "cs_CZ\n",
      "da_DK\n",
      "gbz_AF\n",
      "div_MV\n",
      "nl_NL\n",
      "nl_BE\n",
      "en_US\n",
      "en_GB\n",
      "en_AU\n",
      "en_CA\n",
      "en_NZ\n",
      "en_IE\n",
      "en_ZA\n",
      "en_JA\n",
      "en_CB\n",
      "en_BZ\n",
      "en_TT\n",
      "en_ZW\n",
      "en_PH\n",
      "en_IN\n",
      "en_MY\n",
      "en_IN\n",
      "et_EE\n",
      "fo_FO\n",
      "fil_PH\n",
      "fi_FI\n",
      "fr_FR\n",
      "fr_BE\n",
      "fr_CA\n",
      "fr_CH\n",
      "fr_LU\n",
      "fr_MC\n",
      "fy_NL\n",
      "gl_ES\n",
      "ka_GE\n",
      "de_DE\n",
      "de_CH\n",
      "de_AT\n",
      "de_LU\n",
      "de_LI\n",
      "el_GR\n",
      "kl_GL\n",
      "gu_IN\n",
      "ha_NG\n",
      "he_IL\n",
      "hi_IN\n",
      "hu_HU\n",
      "is_IS\n",
      "id_ID\n",
      "iu_CA\n",
      "iu_CA\n",
      "ga_IE\n",
      "it_IT\n",
      "it_CH\n",
      "ja_JP\n",
      "kn_IN\n",
      "kk_KZ\n",
      "kh_KH\n",
      "qut_GT\n",
      "rw_RW\n",
      "kok_IN\n",
      "ko_KR\n",
      "ky_KG\n",
      "lo_LA\n",
      "lv_LV\n",
      "lt_LT\n",
      "dsb_DE\n",
      "lb_LU\n",
      "mk_MK\n",
      "ms_MY\n",
      "ms_BN\n",
      "ml_IN\n",
      "mt_MT\n",
      "mi_NZ\n",
      "arn_CL\n",
      "mr_IN\n",
      "moh_CA\n",
      "mn_MN\n",
      "mn_CN\n",
      "ne_NP\n",
      "nb_NO\n",
      "nn_NO\n",
      "oc_FR\n",
      "or_IN\n",
      "ps_AF\n",
      "fa_IR\n",
      "pl_PL\n",
      "pt_BR\n",
      "pt_PT\n",
      "pa_IN\n",
      "quz_BO\n",
      "quz_EC\n",
      "quz_PE\n",
      "ro_RO\n",
      "rm_CH\n",
      "ru_RU\n",
      "smn_FI\n",
      "smj_NO\n",
      "smj_SE\n",
      "se_NO\n",
      "se_SE\n",
      "se_FI\n",
      "sms_FI\n",
      "sma_NO\n",
      "sma_SE\n",
      "sa_IN\n",
      "sr_SP\n",
      "sr_BA\n",
      "sr_SP\n",
      "sr_BA\n",
      "si_LK\n",
      "ns_ZA\n",
      "tn_ZA\n",
      "sk_SK\n",
      "sl_SI\n",
      "es_ES\n",
      "es_MX\n",
      "es_ES\n",
      "es_GT\n",
      "es_CR\n",
      "es_PA\n",
      "es_DO\n",
      "es_VE\n",
      "es_CO\n",
      "es_PE\n",
      "es_AR\n",
      "es_EC\n",
      "es_CL\n",
      "es_UR\n",
      "es_PY\n",
      "es_BO\n",
      "es_SV\n",
      "es_HN\n",
      "es_NI\n",
      "es_PR\n",
      "es_US\n",
      "sw_KE\n",
      "sv_SE\n",
      "sv_FI\n",
      "syr_SY\n",
      "tg_TJ\n",
      "tmz_DZ\n",
      "ta_IN\n",
      "tt_RU\n",
      "te_IN\n",
      "th_TH\n",
      "bo_BT\n",
      "bo_CN\n",
      "tr_TR\n",
      "tk_TM\n",
      "ug_CN\n",
      "uk_UA\n",
      "wen_DE\n",
      "ur_PK\n",
      "ur_IN\n",
      "uz_UZ\n",
      "uz_UZ\n",
      "vi_VN\n",
      "cy_GB\n",
      "wo_SN\n",
      "xh_ZA\n",
      "sah_RU\n",
      "ii_CN\n",
      "yo_NG\n",
      "zu_ZA\n"
     ]
    }
   ],
   "source": [
    "import locale\n",
    "import sys\n",
    "\n",
    "for x in locale.windows_locale.values():\n",
    "    if sys.platform == \"win32\":\n",
    "        print(x.replace(\"_\", \"-\"))\n",
    "    else:\n",
    "        print(x)"
   ]
  },
  {
   "cell_type": "code",
   "execution_count": 38,
   "metadata": {},
   "outputs": [
    {
     "name": "stdout",
     "output_type": "stream",
     "text": [
      "    August 1947\n",
      "Mo Tu We Th Fr Sa Su\n",
      "             1  2  3\n",
      " 4  5  6  7  8  9 10\n",
      "11 12 13 14 15 16 17\n",
      "18 19 20 21 22 23 24\n",
      "25 26 27 28 29 30 31\n"
     ]
    }
   ],
   "source": [
    "import locale\n",
    "c = calendar.LocaleTextCalendar(locale=\"en_US.utf8\")\n",
    "c.prmonth(1947, 8)"
   ]
  },
  {
   "cell_type": "code",
   "execution_count": 43,
   "metadata": {},
   "outputs": [
    {
     "data": {
      "text/plain": [
       "calendar.FRIDAY"
      ]
     },
     "execution_count": 43,
     "metadata": {},
     "output_type": "execute_result"
    }
   ],
   "source": [
    "calendar.weekday(1947, 8, 15)\n",
    "# Return weekday (0-6 ~ Mon-Sun) for year, month (1-12), day (1-31)."
   ]
  },
  {
   "cell_type": "code",
   "execution_count": 44,
   "metadata": {},
   "outputs": [
    {
     "data": {
      "text/plain": [
       "False"
      ]
     },
     "execution_count": 44,
     "metadata": {},
     "output_type": "execute_result"
    }
   ],
   "source": [
    "calendar.isleap(2019)"
   ]
  },
  {
   "cell_type": "code",
   "execution_count": 45,
   "metadata": {},
   "outputs": [
    {
     "data": {
      "text/plain": [
       "True"
      ]
     },
     "execution_count": 45,
     "metadata": {},
     "output_type": "execute_result"
    }
   ],
   "source": [
    "calendar.isleap(2020)"
   ]
  },
  {
   "cell_type": "code",
   "execution_count": 46,
   "metadata": {},
   "outputs": [
    {
     "data": {
      "text/plain": [
       "8"
      ]
     },
     "execution_count": 46,
     "metadata": {},
     "output_type": "execute_result"
    }
   ],
   "source": [
    "calendar.leapdays(2000, 2030)"
   ]
  },
  {
   "cell_type": "code",
   "execution_count": 47,
   "metadata": {},
   "outputs": [
    {
     "data": {
      "text/plain": [
       "[2000, 2004, 2008, 2012, 2016, 2020, 2024, 2028]"
      ]
     },
     "execution_count": 47,
     "metadata": {},
     "output_type": "execute_result"
    }
   ],
   "source": [
    "[yr for yr in range(2000, 2031) if calendar.isleap(yr)]"
   ]
  },
  {
   "cell_type": "markdown",
   "metadata": {},
   "source": [
    "iterweekdays \n",
    "    - returns an iterator that contains a list of indexes for the days in a week."
   ]
  },
  {
   "cell_type": "code",
   "execution_count": 48,
   "metadata": {},
   "outputs": [
    {
     "name": "stdout",
     "output_type": "stream",
     "text": [
      "0 1 2 3 4 5 6 "
     ]
    }
   ],
   "source": [
    "c = calendar.Calendar()\n",
    "for i in c.iterweekdays():\n",
    "    print(i, end=\" \")"
   ]
  },
  {
   "cell_type": "markdown",
   "metadata": {},
   "source": [
    "itermonthdates()\n",
    "    - returns an iterator of all days of the given month. \n",
    "    - Also, all days before the start of the month and after the end of the month, \n",
    "      required to get the complete week, are displayed."
   ]
  },
  {
   "cell_type": "code",
   "execution_count": 49,
   "metadata": {},
   "outputs": [
    {
     "name": "stdout",
     "output_type": "stream",
     "text": [
      "2019-12-30\t2019-12-31\t2020-01-01\t2020-01-02\t2020-01-03\t2020-01-04\t2020-01-05\t2020-01-06\t2020-01-07\t2020-01-08\t2020-01-09\t2020-01-10\t2020-01-11\t2020-01-12\t2020-01-13\t2020-01-14\t2020-01-15\t2020-01-16\t2020-01-17\t2020-01-18\t2020-01-19\t2020-01-20\t2020-01-21\t2020-01-22\t2020-01-23\t2020-01-24\t2020-01-25\t2020-01-26\t2020-01-27\t2020-01-28\t2020-01-29\t2020-01-30\t2020-01-31\t2020-02-01\t2020-02-02\t"
     ]
    }
   ],
   "source": [
    "c = calendar.Calendar()\n",
    "for i in c.itermonthdates(2020, 1):\n",
    "    print(i, end=\"\\t\")"
   ]
  },
  {
   "cell_type": "markdown",
   "metadata": {},
   "source": [
    "itermonthdays()\n",
    "    - similar to itermonthdates method, but it only returns the day numbers."
   ]
  },
  {
   "cell_type": "code",
   "execution_count": 50,
   "metadata": {},
   "outputs": [
    {
     "name": "stdout",
     "output_type": "stream",
     "text": [
      "0 0 1 2 3 4 5 6 7 8 9 10 11 12 13 14 15 16 17 18 19 20 21 22 23 24 25 26 27 28 29 30 31 0 0 "
     ]
    }
   ],
   "source": [
    "c = calendar.Calendar()\n",
    "for i in c.itermonthdays(2020, 1):\n",
    "    print(i, end=\" \")"
   ]
  },
  {
   "cell_type": "markdown",
   "metadata": {},
   "source": [
    "itermonthdays2()\n",
    "    - displays a tuple consisting of day and weekday numbers."
   ]
  },
  {
   "cell_type": "code",
   "execution_count": 51,
   "metadata": {},
   "outputs": [
    {
     "name": "stdout",
     "output_type": "stream",
     "text": [
      "(0, 0)\t(0, 1)\t(1, 2)\t(2, 3)\t(3, 4)\t(4, 5)\t(5, 6)\t(6, 0)\t(7, 1)\t(8, 2)\t(9, 3)\t(10, 4)\t(11, 5)\t(12, 6)\t(13, 0)\t(14, 1)\t(15, 2)\t(16, 3)\t(17, 4)\t(18, 5)\t(19, 6)\t(20, 0)\t(21, 1)\t(22, 2)\t(23, 3)\t(24, 4)\t(25, 5)\t(26, 6)\t(27, 0)\t(28, 1)\t(29, 2)\t(30, 3)\t(31, 4)\t(0, 5)\t(0, 6)\t"
     ]
    }
   ],
   "source": [
    "c = calendar.Calendar()\n",
    "for i in c.itermonthdays2(2020, 1):\n",
    "    print(i, end=\"\\t\")"
   ]
  },
  {
   "cell_type": "markdown",
   "metadata": {},
   "source": [
    "itermonthdays3()\n",
    "    - similar to the itermonthdays3() method, except that it returns a tuple of year, month, and the day of the month."
   ]
  },
  {
   "cell_type": "code",
   "execution_count": 52,
   "metadata": {},
   "outputs": [
    {
     "name": "stdout",
     "output_type": "stream",
     "text": [
      "(2019, 12, 30)\t(2019, 12, 31)\t(2020, 1, 1)\t(2020, 1, 2)\t(2020, 1, 3)\t(2020, 1, 4)\t(2020, 1, 5)\t(2020, 1, 6)\t(2020, 1, 7)\t(2020, 1, 8)\t(2020, 1, 9)\t(2020, 1, 10)\t(2020, 1, 11)\t(2020, 1, 12)\t(2020, 1, 13)\t(2020, 1, 14)\t(2020, 1, 15)\t(2020, 1, 16)\t(2020, 1, 17)\t(2020, 1, 18)\t(2020, 1, 19)\t(2020, 1, 20)\t(2020, 1, 21)\t(2020, 1, 22)\t(2020, 1, 23)\t(2020, 1, 24)\t(2020, 1, 25)\t(2020, 1, 26)\t(2020, 1, 27)\t(2020, 1, 28)\t(2020, 1, 29)\t(2020, 1, 30)\t(2020, 1, 31)\t(2020, 2, 1)\t(2020, 2, 2)\t"
     ]
    }
   ],
   "source": [
    "c = calendar.Calendar()\n",
    "for i in c.itermonthdays3(2020, 1):\n",
    "    print(i, end=\"\\t\")"
   ]
  },
  {
   "cell_type": "markdown",
   "metadata": {},
   "source": [
    "monthdatescalendar()\n",
    "    - returns a list of full weeks in the month\n",
    "    - Each week is a list of 7 datetime.date objects."
   ]
  },
  {
   "cell_type": "code",
   "execution_count": 53,
   "metadata": {},
   "outputs": [
    {
     "name": "stdout",
     "output_type": "stream",
     "text": [
      "[datetime.date(2019, 12, 30), datetime.date(2019, 12, 31), datetime.date(2020, 1, 1), datetime.date(2020, 1, 2), datetime.date(2020, 1, 3), datetime.date(2020, 1, 4), datetime.date(2020, 1, 5)]\n",
      "[datetime.date(2020, 1, 6), datetime.date(2020, 1, 7), datetime.date(2020, 1, 8), datetime.date(2020, 1, 9), datetime.date(2020, 1, 10), datetime.date(2020, 1, 11), datetime.date(2020, 1, 12)]\n",
      "[datetime.date(2020, 1, 13), datetime.date(2020, 1, 14), datetime.date(2020, 1, 15), datetime.date(2020, 1, 16), datetime.date(2020, 1, 17), datetime.date(2020, 1, 18), datetime.date(2020, 1, 19)]\n",
      "[datetime.date(2020, 1, 20), datetime.date(2020, 1, 21), datetime.date(2020, 1, 22), datetime.date(2020, 1, 23), datetime.date(2020, 1, 24), datetime.date(2020, 1, 25), datetime.date(2020, 1, 26)]\n",
      "[datetime.date(2020, 1, 27), datetime.date(2020, 1, 28), datetime.date(2020, 1, 29), datetime.date(2020, 1, 30), datetime.date(2020, 1, 31), datetime.date(2020, 2, 1), datetime.date(2020, 2, 2)]\n"
     ]
    }
   ],
   "source": [
    "c = calendar.Calendar()\n",
    "for i in c.monthdatescalendar(2020, 1):\n",
    "    print(i)"
   ]
  },
  {
   "cell_type": "markdown",
   "metadata": {},
   "source": [
    "monthdays2calendar()\n",
    "    - returns a list of weeks, with each week as 7 tuples of the day of month and day of the week.\n",
    "    - the first value of the tuple is the day of the month (0-31) and second value of the tuple is the week number (0-6)"
   ]
  },
  {
   "cell_type": "code",
   "execution_count": 54,
   "metadata": {},
   "outputs": [
    {
     "name": "stdout",
     "output_type": "stream",
     "text": [
      "[(0, 0), (0, 1), (1, 2), (2, 3), (3, 4), (4, 5), (5, 6)]\n",
      "[(6, 0), (7, 1), (8, 2), (9, 3), (10, 4), (11, 5), (12, 6)]\n",
      "[(13, 0), (14, 1), (15, 2), (16, 3), (17, 4), (18, 5), (19, 6)]\n",
      "[(20, 0), (21, 1), (22, 2), (23, 3), (24, 4), (25, 5), (26, 6)]\n",
      "[(27, 0), (28, 1), (29, 2), (30, 3), (31, 4), (0, 5), (0, 6)]\n"
     ]
    }
   ],
   "source": [
    "c = calendar.Calendar()\n",
    "for i in c.monthdays2calendar(2020, 1):\n",
    "    print(i)"
   ]
  },
  {
   "cell_type": "markdown",
   "metadata": {},
   "source": [
    "monthdayscalendar()\n",
    "    - returns a list of full weeks, with each week being a list of days of a month."
   ]
  },
  {
   "cell_type": "code",
   "execution_count": 55,
   "metadata": {},
   "outputs": [
    {
     "name": "stdout",
     "output_type": "stream",
     "text": [
      "[0, 0, 1, 2, 3, 4, 5]\n",
      "[6, 7, 8, 9, 10, 11, 12]\n",
      "[13, 14, 15, 16, 17, 18, 19]\n",
      "[20, 21, 22, 23, 24, 25, 26]\n",
      "[27, 28, 29, 30, 31, 0, 0]\n"
     ]
    }
   ],
   "source": [
    "c = calendar.Calendar()\n",
    "for i in c.monthdayscalendar(2020, 1):\n",
    "    print(i)"
   ]
  },
  {
   "cell_type": "markdown",
   "metadata": {},
   "source": [
    "yeardatescalendar()\n",
    "    - This function takes the year (yyyy) and the number of months in a month row (w). \n",
    "    - By default, w parameter is 3. \n",
    "    - The function returns a list of month rows, where days are datetime.date objects."
   ]
  },
  {
   "cell_type": "code",
   "execution_count": 56,
   "metadata": {},
   "outputs": [
    {
     "name": "stdout",
     "output_type": "stream",
     "text": [
      "2019-12-30\t2019-12-31\t2020-01-01\t2020-01-02\t2020-01-03\t2020-01-04\t2020-01-05\t2020-01-06\t2020-01-07\t2020-01-08\t2020-01-09\t2020-01-10\t2020-01-11\t2020-01-12\t2020-01-13\t2020-01-14\t2020-01-15\t2020-01-16\t2020-01-17\t2020-01-18\t2020-01-19\t2020-01-20\t2020-01-21\t2020-01-22\t2020-01-23\t2020-01-24\t2020-01-25\t2020-01-26\t2020-01-27\t2020-01-28\t2020-01-29\t2020-01-30\t2020-01-31\t2020-02-01\t2020-02-02\t\n",
      "\n",
      "\n",
      "2020-01-27\t2020-01-28\t2020-01-29\t2020-01-30\t2020-01-31\t2020-02-01\t2020-02-02\t2020-02-03\t2020-02-04\t2020-02-05\t2020-02-06\t2020-02-07\t2020-02-08\t2020-02-09\t2020-02-10\t2020-02-11\t2020-02-12\t2020-02-13\t2020-02-14\t2020-02-15\t2020-02-16\t2020-02-17\t2020-02-18\t2020-02-19\t2020-02-20\t2020-02-21\t2020-02-22\t2020-02-23\t2020-02-24\t2020-02-25\t2020-02-26\t2020-02-27\t2020-02-28\t2020-02-29\t2020-03-01\t\n",
      "\n",
      "\n",
      "2020-02-24\t2020-02-25\t2020-02-26\t2020-02-27\t2020-02-28\t2020-02-29\t2020-03-01\t2020-03-02\t2020-03-03\t2020-03-04\t2020-03-05\t2020-03-06\t2020-03-07\t2020-03-08\t2020-03-09\t2020-03-10\t2020-03-11\t2020-03-12\t2020-03-13\t2020-03-14\t2020-03-15\t2020-03-16\t2020-03-17\t2020-03-18\t2020-03-19\t2020-03-20\t2020-03-21\t2020-03-22\t2020-03-23\t2020-03-24\t2020-03-25\t2020-03-26\t2020-03-27\t2020-03-28\t2020-03-29\t2020-03-30\t2020-03-31\t2020-04-01\t2020-04-02\t2020-04-03\t2020-04-04\t2020-04-05\t\n",
      "\n",
      "\n",
      "2020-03-30\t2020-03-31\t2020-04-01\t2020-04-02\t2020-04-03\t2020-04-04\t2020-04-05\t2020-04-06\t2020-04-07\t2020-04-08\t2020-04-09\t2020-04-10\t2020-04-11\t2020-04-12\t2020-04-13\t2020-04-14\t2020-04-15\t2020-04-16\t2020-04-17\t2020-04-18\t2020-04-19\t2020-04-20\t2020-04-21\t2020-04-22\t2020-04-23\t2020-04-24\t2020-04-25\t2020-04-26\t2020-04-27\t2020-04-28\t2020-04-29\t2020-04-30\t2020-05-01\t2020-05-02\t2020-05-03\t\n",
      "\n",
      "\n",
      "2020-04-27\t2020-04-28\t2020-04-29\t2020-04-30\t2020-05-01\t2020-05-02\t2020-05-03\t2020-05-04\t2020-05-05\t2020-05-06\t2020-05-07\t2020-05-08\t2020-05-09\t2020-05-10\t2020-05-11\t2020-05-12\t2020-05-13\t2020-05-14\t2020-05-15\t2020-05-16\t2020-05-17\t2020-05-18\t2020-05-19\t2020-05-20\t2020-05-21\t2020-05-22\t2020-05-23\t2020-05-24\t2020-05-25\t2020-05-26\t2020-05-27\t2020-05-28\t2020-05-29\t2020-05-30\t2020-05-31\t\n",
      "\n",
      "\n",
      "2020-06-01\t2020-06-02\t2020-06-03\t2020-06-04\t2020-06-05\t2020-06-06\t2020-06-07\t2020-06-08\t2020-06-09\t2020-06-10\t2020-06-11\t2020-06-12\t2020-06-13\t2020-06-14\t2020-06-15\t2020-06-16\t2020-06-17\t2020-06-18\t2020-06-19\t2020-06-20\t2020-06-21\t2020-06-22\t2020-06-23\t2020-06-24\t2020-06-25\t2020-06-26\t2020-06-27\t2020-06-28\t2020-06-29\t2020-06-30\t2020-07-01\t2020-07-02\t2020-07-03\t2020-07-04\t2020-07-05\t\n",
      "\n",
      "\n",
      "2020-06-29\t2020-06-30\t2020-07-01\t2020-07-02\t2020-07-03\t2020-07-04\t2020-07-05\t2020-07-06\t2020-07-07\t2020-07-08\t2020-07-09\t2020-07-10\t2020-07-11\t2020-07-12\t2020-07-13\t2020-07-14\t2020-07-15\t2020-07-16\t2020-07-17\t2020-07-18\t2020-07-19\t2020-07-20\t2020-07-21\t2020-07-22\t2020-07-23\t2020-07-24\t2020-07-25\t2020-07-26\t2020-07-27\t2020-07-28\t2020-07-29\t2020-07-30\t2020-07-31\t2020-08-01\t2020-08-02\t\n",
      "\n",
      "\n",
      "2020-07-27\t2020-07-28\t2020-07-29\t2020-07-30\t2020-07-31\t2020-08-01\t2020-08-02\t2020-08-03\t2020-08-04\t2020-08-05\t2020-08-06\t2020-08-07\t2020-08-08\t2020-08-09\t2020-08-10\t2020-08-11\t2020-08-12\t2020-08-13\t2020-08-14\t2020-08-15\t2020-08-16\t2020-08-17\t2020-08-18\t2020-08-19\t2020-08-20\t2020-08-21\t2020-08-22\t2020-08-23\t2020-08-24\t2020-08-25\t2020-08-26\t2020-08-27\t2020-08-28\t2020-08-29\t2020-08-30\t2020-08-31\t2020-09-01\t2020-09-02\t2020-09-03\t2020-09-04\t2020-09-05\t2020-09-06\t\n",
      "\n",
      "\n",
      "2020-08-31\t2020-09-01\t2020-09-02\t2020-09-03\t2020-09-04\t2020-09-05\t2020-09-06\t2020-09-07\t2020-09-08\t2020-09-09\t2020-09-10\t2020-09-11\t2020-09-12\t2020-09-13\t2020-09-14\t2020-09-15\t2020-09-16\t2020-09-17\t2020-09-18\t2020-09-19\t2020-09-20\t2020-09-21\t2020-09-22\t2020-09-23\t2020-09-24\t2020-09-25\t2020-09-26\t2020-09-27\t2020-09-28\t2020-09-29\t2020-09-30\t2020-10-01\t2020-10-02\t2020-10-03\t2020-10-04\t\n",
      "\n",
      "\n",
      "2020-09-28\t2020-09-29\t2020-09-30\t2020-10-01\t2020-10-02\t2020-10-03\t2020-10-04\t2020-10-05\t2020-10-06\t2020-10-07\t2020-10-08\t2020-10-09\t2020-10-10\t2020-10-11\t2020-10-12\t2020-10-13\t2020-10-14\t2020-10-15\t2020-10-16\t2020-10-17\t2020-10-18\t2020-10-19\t2020-10-20\t2020-10-21\t2020-10-22\t2020-10-23\t2020-10-24\t2020-10-25\t2020-10-26\t2020-10-27\t2020-10-28\t2020-10-29\t2020-10-30\t2020-10-31\t2020-11-01\t\n",
      "\n",
      "\n",
      "2020-10-26\t2020-10-27\t2020-10-28\t2020-10-29\t2020-10-30\t2020-10-31\t2020-11-01\t2020-11-02\t2020-11-03\t2020-11-04\t2020-11-05\t2020-11-06\t2020-11-07\t2020-11-08\t2020-11-09\t2020-11-10\t2020-11-11\t2020-11-12\t2020-11-13\t2020-11-14\t2020-11-15\t2020-11-16\t2020-11-17\t2020-11-18\t2020-11-19\t2020-11-20\t2020-11-21\t2020-11-22\t2020-11-23\t2020-11-24\t2020-11-25\t2020-11-26\t2020-11-27\t2020-11-28\t2020-11-29\t2020-11-30\t2020-12-01\t2020-12-02\t2020-12-03\t2020-12-04\t2020-12-05\t2020-12-06\t\n",
      "\n",
      "\n",
      "2020-11-30\t2020-12-01\t2020-12-02\t2020-12-03\t2020-12-04\t2020-12-05\t2020-12-06\t2020-12-07\t2020-12-08\t2020-12-09\t2020-12-10\t2020-12-11\t2020-12-12\t2020-12-13\t2020-12-14\t2020-12-15\t2020-12-16\t2020-12-17\t2020-12-18\t2020-12-19\t2020-12-20\t2020-12-21\t2020-12-22\t2020-12-23\t2020-12-24\t2020-12-25\t2020-12-26\t2020-12-27\t2020-12-28\t2020-12-29\t2020-12-30\t2020-12-31\t2021-01-01\t2021-01-02\t2021-01-03\t\n",
      "\n",
      "\n"
     ]
    }
   ],
   "source": [
    "c = calendar.Calendar()\n",
    "for i in c.yeardatescalendar(2020, 1):\n",
    "    for month in i:\n",
    "        for week in month:\n",
    "            for day in week:\n",
    "                print(day, end=\"\\t\")\n",
    "    print(\"\\n\\n\")"
   ]
  },
  {
   "cell_type": "markdown",
   "metadata": {},
   "source": [
    "yeardays2calendar()\n",
    "    - This function takes the year (yyyy) and number of months we want in a month row (w). \n",
    "    - By default, the w parameter is 3. The function returns a list of weeks, as tuples of \n",
    "      days of the month and the day of the week.\n",
    "\n"
   ]
  },
  {
   "cell_type": "code",
   "execution_count": 57,
   "metadata": {},
   "outputs": [
    {
     "name": "stdout",
     "output_type": "stream",
     "text": [
      "(0, 0)\t(0, 1)\t(1, 2)\t(2, 3)\t(3, 4)\t(4, 5)\t(5, 6)\t(6, 0)\t(7, 1)\t(8, 2)\t(9, 3)\t(10, 4)\t(11, 5)\t(12, 6)\t(13, 0)\t(14, 1)\t(15, 2)\t(16, 3)\t(17, 4)\t(18, 5)\t(19, 6)\t(20, 0)\t(21, 1)\t(22, 2)\t(23, 3)\t(24, 4)\t(25, 5)\t(26, 6)\t(27, 0)\t(28, 1)\t(29, 2)\t(30, 3)\t(31, 4)\t(0, 5)\t(0, 6)\t\n",
      "\n",
      "\n",
      "(0, 0)\t(0, 1)\t(0, 2)\t(0, 3)\t(0, 4)\t(1, 5)\t(2, 6)\t(3, 0)\t(4, 1)\t(5, 2)\t(6, 3)\t(7, 4)\t(8, 5)\t(9, 6)\t(10, 0)\t(11, 1)\t(12, 2)\t(13, 3)\t(14, 4)\t(15, 5)\t(16, 6)\t(17, 0)\t(18, 1)\t(19, 2)\t(20, 3)\t(21, 4)\t(22, 5)\t(23, 6)\t(24, 0)\t(25, 1)\t(26, 2)\t(27, 3)\t(28, 4)\t(29, 5)\t(0, 6)\t\n",
      "\n",
      "\n",
      "(0, 0)\t(0, 1)\t(0, 2)\t(0, 3)\t(0, 4)\t(0, 5)\t(1, 6)\t(2, 0)\t(3, 1)\t(4, 2)\t(5, 3)\t(6, 4)\t(7, 5)\t(8, 6)\t(9, 0)\t(10, 1)\t(11, 2)\t(12, 3)\t(13, 4)\t(14, 5)\t(15, 6)\t(16, 0)\t(17, 1)\t(18, 2)\t(19, 3)\t(20, 4)\t(21, 5)\t(22, 6)\t(23, 0)\t(24, 1)\t(25, 2)\t(26, 3)\t(27, 4)\t(28, 5)\t(29, 6)\t(30, 0)\t(31, 1)\t(0, 2)\t(0, 3)\t(0, 4)\t(0, 5)\t(0, 6)\t\n",
      "\n",
      "\n",
      "(0, 0)\t(0, 1)\t(1, 2)\t(2, 3)\t(3, 4)\t(4, 5)\t(5, 6)\t(6, 0)\t(7, 1)\t(8, 2)\t(9, 3)\t(10, 4)\t(11, 5)\t(12, 6)\t(13, 0)\t(14, 1)\t(15, 2)\t(16, 3)\t(17, 4)\t(18, 5)\t(19, 6)\t(20, 0)\t(21, 1)\t(22, 2)\t(23, 3)\t(24, 4)\t(25, 5)\t(26, 6)\t(27, 0)\t(28, 1)\t(29, 2)\t(30, 3)\t(0, 4)\t(0, 5)\t(0, 6)\t\n",
      "\n",
      "\n",
      "(0, 0)\t(0, 1)\t(0, 2)\t(0, 3)\t(1, 4)\t(2, 5)\t(3, 6)\t(4, 0)\t(5, 1)\t(6, 2)\t(7, 3)\t(8, 4)\t(9, 5)\t(10, 6)\t(11, 0)\t(12, 1)\t(13, 2)\t(14, 3)\t(15, 4)\t(16, 5)\t(17, 6)\t(18, 0)\t(19, 1)\t(20, 2)\t(21, 3)\t(22, 4)\t(23, 5)\t(24, 6)\t(25, 0)\t(26, 1)\t(27, 2)\t(28, 3)\t(29, 4)\t(30, 5)\t(31, 6)\t\n",
      "\n",
      "\n",
      "(1, 0)\t(2, 1)\t(3, 2)\t(4, 3)\t(5, 4)\t(6, 5)\t(7, 6)\t(8, 0)\t(9, 1)\t(10, 2)\t(11, 3)\t(12, 4)\t(13, 5)\t(14, 6)\t(15, 0)\t(16, 1)\t(17, 2)\t(18, 3)\t(19, 4)\t(20, 5)\t(21, 6)\t(22, 0)\t(23, 1)\t(24, 2)\t(25, 3)\t(26, 4)\t(27, 5)\t(28, 6)\t(29, 0)\t(30, 1)\t(0, 2)\t(0, 3)\t(0, 4)\t(0, 5)\t(0, 6)\t\n",
      "\n",
      "\n",
      "(0, 0)\t(0, 1)\t(1, 2)\t(2, 3)\t(3, 4)\t(4, 5)\t(5, 6)\t(6, 0)\t(7, 1)\t(8, 2)\t(9, 3)\t(10, 4)\t(11, 5)\t(12, 6)\t(13, 0)\t(14, 1)\t(15, 2)\t(16, 3)\t(17, 4)\t(18, 5)\t(19, 6)\t(20, 0)\t(21, 1)\t(22, 2)\t(23, 3)\t(24, 4)\t(25, 5)\t(26, 6)\t(27, 0)\t(28, 1)\t(29, 2)\t(30, 3)\t(31, 4)\t(0, 5)\t(0, 6)\t\n",
      "\n",
      "\n",
      "(0, 0)\t(0, 1)\t(0, 2)\t(0, 3)\t(0, 4)\t(1, 5)\t(2, 6)\t(3, 0)\t(4, 1)\t(5, 2)\t(6, 3)\t(7, 4)\t(8, 5)\t(9, 6)\t(10, 0)\t(11, 1)\t(12, 2)\t(13, 3)\t(14, 4)\t(15, 5)\t(16, 6)\t(17, 0)\t(18, 1)\t(19, 2)\t(20, 3)\t(21, 4)\t(22, 5)\t(23, 6)\t(24, 0)\t(25, 1)\t(26, 2)\t(27, 3)\t(28, 4)\t(29, 5)\t(30, 6)\t(31, 0)\t(0, 1)\t(0, 2)\t(0, 3)\t(0, 4)\t(0, 5)\t(0, 6)\t\n",
      "\n",
      "\n",
      "(0, 0)\t(1, 1)\t(2, 2)\t(3, 3)\t(4, 4)\t(5, 5)\t(6, 6)\t(7, 0)\t(8, 1)\t(9, 2)\t(10, 3)\t(11, 4)\t(12, 5)\t(13, 6)\t(14, 0)\t(15, 1)\t(16, 2)\t(17, 3)\t(18, 4)\t(19, 5)\t(20, 6)\t(21, 0)\t(22, 1)\t(23, 2)\t(24, 3)\t(25, 4)\t(26, 5)\t(27, 6)\t(28, 0)\t(29, 1)\t(30, 2)\t(0, 3)\t(0, 4)\t(0, 5)\t(0, 6)\t\n",
      "\n",
      "\n",
      "(0, 0)\t(0, 1)\t(0, 2)\t(1, 3)\t(2, 4)\t(3, 5)\t(4, 6)\t(5, 0)\t(6, 1)\t(7, 2)\t(8, 3)\t(9, 4)\t(10, 5)\t(11, 6)\t(12, 0)\t(13, 1)\t(14, 2)\t(15, 3)\t(16, 4)\t(17, 5)\t(18, 6)\t(19, 0)\t(20, 1)\t(21, 2)\t(22, 3)\t(23, 4)\t(24, 5)\t(25, 6)\t(26, 0)\t(27, 1)\t(28, 2)\t(29, 3)\t(30, 4)\t(31, 5)\t(0, 6)\t\n",
      "\n",
      "\n",
      "(0, 0)\t(0, 1)\t(0, 2)\t(0, 3)\t(0, 4)\t(0, 5)\t(1, 6)\t(2, 0)\t(3, 1)\t(4, 2)\t(5, 3)\t(6, 4)\t(7, 5)\t(8, 6)\t(9, 0)\t(10, 1)\t(11, 2)\t(12, 3)\t(13, 4)\t(14, 5)\t(15, 6)\t(16, 0)\t(17, 1)\t(18, 2)\t(19, 3)\t(20, 4)\t(21, 5)\t(22, 6)\t(23, 0)\t(24, 1)\t(25, 2)\t(26, 3)\t(27, 4)\t(28, 5)\t(29, 6)\t(30, 0)\t(0, 1)\t(0, 2)\t(0, 3)\t(0, 4)\t(0, 5)\t(0, 6)\t\n",
      "\n",
      "\n",
      "(0, 0)\t(1, 1)\t(2, 2)\t(3, 3)\t(4, 4)\t(5, 5)\t(6, 6)\t(7, 0)\t(8, 1)\t(9, 2)\t(10, 3)\t(11, 4)\t(12, 5)\t(13, 6)\t(14, 0)\t(15, 1)\t(16, 2)\t(17, 3)\t(18, 4)\t(19, 5)\t(20, 6)\t(21, 0)\t(22, 1)\t(23, 2)\t(24, 3)\t(25, 4)\t(26, 5)\t(27, 6)\t(28, 0)\t(29, 1)\t(30, 2)\t(31, 3)\t(0, 4)\t(0, 5)\t(0, 6)\t\n",
      "\n",
      "\n"
     ]
    }
   ],
   "source": [
    "c = calendar.Calendar()\n",
    "for i in c.yeardays2calendar(2020, 1):\n",
    "    for month in i:\n",
    "        for week in month:\n",
    "            for day in week:\n",
    "                print(day, end=\"\\t\")\n",
    "    print(\"\\n\\n\")"
   ]
  },
  {
   "cell_type": "markdown",
   "metadata": {},
   "source": [
    "yeardayscalendar()\n",
    "    - This function takes the year (yyyy) and the number of months we want in a month row (w). \n",
    "    - By default, w parameter is 3. The function returns a list of weeks as the day of the month."
   ]
  },
  {
   "cell_type": "code",
   "execution_count": 58,
   "metadata": {},
   "outputs": [
    {
     "name": "stdout",
     "output_type": "stream",
     "text": [
      "0\t0\t1\t2\t3\t4\t5\t6\t7\t8\t9\t10\t11\t12\t13\t14\t15\t16\t17\t18\t19\t20\t21\t22\t23\t24\t25\t26\t27\t28\t29\t30\t31\t0\t0\t\n",
      "\n",
      "\n",
      "0\t0\t0\t0\t0\t1\t2\t3\t4\t5\t6\t7\t8\t9\t10\t11\t12\t13\t14\t15\t16\t17\t18\t19\t20\t21\t22\t23\t24\t25\t26\t27\t28\t29\t0\t\n",
      "\n",
      "\n",
      "0\t0\t0\t0\t0\t0\t1\t2\t3\t4\t5\t6\t7\t8\t9\t10\t11\t12\t13\t14\t15\t16\t17\t18\t19\t20\t21\t22\t23\t24\t25\t26\t27\t28\t29\t30\t31\t0\t0\t0\t0\t0\t\n",
      "\n",
      "\n",
      "0\t0\t1\t2\t3\t4\t5\t6\t7\t8\t9\t10\t11\t12\t13\t14\t15\t16\t17\t18\t19\t20\t21\t22\t23\t24\t25\t26\t27\t28\t29\t30\t0\t0\t0\t\n",
      "\n",
      "\n",
      "0\t0\t0\t0\t1\t2\t3\t4\t5\t6\t7\t8\t9\t10\t11\t12\t13\t14\t15\t16\t17\t18\t19\t20\t21\t22\t23\t24\t25\t26\t27\t28\t29\t30\t31\t\n",
      "\n",
      "\n",
      "1\t2\t3\t4\t5\t6\t7\t8\t9\t10\t11\t12\t13\t14\t15\t16\t17\t18\t19\t20\t21\t22\t23\t24\t25\t26\t27\t28\t29\t30\t0\t0\t0\t0\t0\t\n",
      "\n",
      "\n",
      "0\t0\t1\t2\t3\t4\t5\t6\t7\t8\t9\t10\t11\t12\t13\t14\t15\t16\t17\t18\t19\t20\t21\t22\t23\t24\t25\t26\t27\t28\t29\t30\t31\t0\t0\t\n",
      "\n",
      "\n",
      "0\t0\t0\t0\t0\t1\t2\t3\t4\t5\t6\t7\t8\t9\t10\t11\t12\t13\t14\t15\t16\t17\t18\t19\t20\t21\t22\t23\t24\t25\t26\t27\t28\t29\t30\t31\t0\t0\t0\t0\t0\t0\t\n",
      "\n",
      "\n",
      "0\t1\t2\t3\t4\t5\t6\t7\t8\t9\t10\t11\t12\t13\t14\t15\t16\t17\t18\t19\t20\t21\t22\t23\t24\t25\t26\t27\t28\t29\t30\t0\t0\t0\t0\t\n",
      "\n",
      "\n",
      "0\t0\t0\t1\t2\t3\t4\t5\t6\t7\t8\t9\t10\t11\t12\t13\t14\t15\t16\t17\t18\t19\t20\t21\t22\t23\t24\t25\t26\t27\t28\t29\t30\t31\t0\t\n",
      "\n",
      "\n",
      "0\t0\t0\t0\t0\t0\t1\t2\t3\t4\t5\t6\t7\t8\t9\t10\t11\t12\t13\t14\t15\t16\t17\t18\t19\t20\t21\t22\t23\t24\t25\t26\t27\t28\t29\t30\t0\t0\t0\t0\t0\t0\t\n",
      "\n",
      "\n",
      "0\t1\t2\t3\t4\t5\t6\t7\t8\t9\t10\t11\t12\t13\t14\t15\t16\t17\t18\t19\t20\t21\t22\t23\t24\t25\t26\t27\t28\t29\t30\t31\t0\t0\t0\t\n",
      "\n",
      "\n"
     ]
    }
   ],
   "source": [
    "c = calendar.Calendar()\n",
    "for i in c.yeardayscalendar(2020, 1):\n",
    "    for month in i:\n",
    "        for week in month:\n",
    "            for day in week:\n",
    "                print(day, end=\"\\t\")\n",
    "    print(\"\\n\\n\")"
   ]
  },
  {
   "cell_type": "markdown",
   "metadata": {},
   "source": [
    "## HTMLCalendar \n",
    "    - similar to TextCalendar class, but, generates an HTML calendar."
   ]
  },
  {
   "cell_type": "code",
   "execution_count": 59,
   "metadata": {},
   "outputs": [],
   "source": [
    "hc = calendar.HTMLCalendar()"
   ]
  },
  {
   "cell_type": "code",
   "execution_count": 60,
   "metadata": {},
   "outputs": [
    {
     "name": "stdout",
     "output_type": "stream",
     "text": [
      "<table border=\"0\" cellpadding=\"0\" cellspacing=\"0\" class=\"month\">\n",
      "<tr><th colspan=\"7\" class=\"month\">August 2020</th></tr>\n",
      "<tr><th class=\"mon\">Mon</th><th class=\"tue\">Tue</th><th class=\"wed\">Wed</th><th class=\"thu\">Thu</th><th class=\"fri\">Fri</th><th class=\"sat\">Sat</th><th class=\"sun\">Sun</th></tr>\n",
      "<tr><td class=\"noday\">&nbsp;</td><td class=\"noday\">&nbsp;</td><td class=\"noday\">&nbsp;</td><td class=\"noday\">&nbsp;</td><td class=\"noday\">&nbsp;</td><td class=\"sat\">1</td><td class=\"sun\">2</td></tr>\n",
      "<tr><td class=\"mon\">3</td><td class=\"tue\">4</td><td class=\"wed\">5</td><td class=\"thu\">6</td><td class=\"fri\">7</td><td class=\"sat\">8</td><td class=\"sun\">9</td></tr>\n",
      "<tr><td class=\"mon\">10</td><td class=\"tue\">11</td><td class=\"wed\">12</td><td class=\"thu\">13</td><td class=\"fri\">14</td><td class=\"sat\">15</td><td class=\"sun\">16</td></tr>\n",
      "<tr><td class=\"mon\">17</td><td class=\"tue\">18</td><td class=\"wed\">19</td><td class=\"thu\">20</td><td class=\"fri\">21</td><td class=\"sat\">22</td><td class=\"sun\">23</td></tr>\n",
      "<tr><td class=\"mon\">24</td><td class=\"tue\">25</td><td class=\"wed\">26</td><td class=\"thu\">27</td><td class=\"fri\">28</td><td class=\"sat\">29</td><td class=\"sun\">30</td></tr>\n",
      "<tr><td class=\"mon\">31</td><td class=\"noday\">&nbsp;</td><td class=\"noday\">&nbsp;</td><td class=\"noday\">&nbsp;</td><td class=\"noday\">&nbsp;</td><td class=\"noday\">&nbsp;</td><td class=\"noday\">&nbsp;</td></tr>\n",
      "</table>\n",
      "\n"
     ]
    }
   ],
   "source": [
    "print(hc.formatmonth(2020, 8))"
   ]
  },
  {
   "cell_type": "code",
   "execution_count": 61,
   "metadata": {},
   "outputs": [
    {
     "name": "stdout",
     "output_type": "stream",
     "text": [
      "<table border=\"0\" cellpadding=\"0\" cellspacing=\"0\" class=\"year\">\n",
      "<tr><th colspan=\"8\" class=\"year\">2020</th></tr><tr><td><table border=\"0\" cellpadding=\"0\" cellspacing=\"0\" class=\"month\">\n",
      "<tr><th colspan=\"7\" class=\"month\">January</th></tr>\n",
      "<tr><th class=\"mon\">Mon</th><th class=\"tue\">Tue</th><th class=\"wed\">Wed</th><th class=\"thu\">Thu</th><th class=\"fri\">Fri</th><th class=\"sat\">Sat</th><th class=\"sun\">Sun</th></tr>\n",
      "<tr><td class=\"noday\">&nbsp;</td><td class=\"noday\">&nbsp;</td><td class=\"wed\">1</td><td class=\"thu\">2</td><td class=\"fri\">3</td><td class=\"sat\">4</td><td class=\"sun\">5</td></tr>\n",
      "<tr><td class=\"mon\">6</td><td class=\"tue\">7</td><td class=\"wed\">8</td><td class=\"thu\">9</td><td class=\"fri\">10</td><td class=\"sat\">11</td><td class=\"sun\">12</td></tr>\n",
      "<tr><td class=\"mon\">13</td><td class=\"tue\">14</td><td class=\"wed\">15</td><td class=\"thu\">16</td><td class=\"fri\">17</td><td class=\"sat\">18</td><td class=\"sun\">19</td></tr>\n",
      "<tr><td class=\"mon\">20</td><td class=\"tue\">21</td><td class=\"wed\">22</td><td class=\"thu\">23</td><td class=\"fri\">24</td><td class=\"sat\">25</td><td class=\"sun\">26</td></tr>\n",
      "<tr><td class=\"mon\">27</td><td class=\"tue\">28</td><td class=\"wed\">29</td><td class=\"thu\">30</td><td class=\"fri\">31</td><td class=\"noday\">&nbsp;</td><td class=\"noday\">&nbsp;</td></tr>\n",
      "</table>\n",
      "</td><td><table border=\"0\" cellpadding=\"0\" cellspacing=\"0\" class=\"month\">\n",
      "<tr><th colspan=\"7\" class=\"month\">February</th></tr>\n",
      "<tr><th class=\"mon\">Mon</th><th class=\"tue\">Tue</th><th class=\"wed\">Wed</th><th class=\"thu\">Thu</th><th class=\"fri\">Fri</th><th class=\"sat\">Sat</th><th class=\"sun\">Sun</th></tr>\n",
      "<tr><td class=\"noday\">&nbsp;</td><td class=\"noday\">&nbsp;</td><td class=\"noday\">&nbsp;</td><td class=\"noday\">&nbsp;</td><td class=\"noday\">&nbsp;</td><td class=\"sat\">1</td><td class=\"sun\">2</td></tr>\n",
      "<tr><td class=\"mon\">3</td><td class=\"tue\">4</td><td class=\"wed\">5</td><td class=\"thu\">6</td><td class=\"fri\">7</td><td class=\"sat\">8</td><td class=\"sun\">9</td></tr>\n",
      "<tr><td class=\"mon\">10</td><td class=\"tue\">11</td><td class=\"wed\">12</td><td class=\"thu\">13</td><td class=\"fri\">14</td><td class=\"sat\">15</td><td class=\"sun\">16</td></tr>\n",
      "<tr><td class=\"mon\">17</td><td class=\"tue\">18</td><td class=\"wed\">19</td><td class=\"thu\">20</td><td class=\"fri\">21</td><td class=\"sat\">22</td><td class=\"sun\">23</td></tr>\n",
      "<tr><td class=\"mon\">24</td><td class=\"tue\">25</td><td class=\"wed\">26</td><td class=\"thu\">27</td><td class=\"fri\">28</td><td class=\"sat\">29</td><td class=\"noday\">&nbsp;</td></tr>\n",
      "</table>\n",
      "</td><td><table border=\"0\" cellpadding=\"0\" cellspacing=\"0\" class=\"month\">\n",
      "<tr><th colspan=\"7\" class=\"month\">March</th></tr>\n",
      "<tr><th class=\"mon\">Mon</th><th class=\"tue\">Tue</th><th class=\"wed\">Wed</th><th class=\"thu\">Thu</th><th class=\"fri\">Fri</th><th class=\"sat\">Sat</th><th class=\"sun\">Sun</th></tr>\n",
      "<tr><td class=\"noday\">&nbsp;</td><td class=\"noday\">&nbsp;</td><td class=\"noday\">&nbsp;</td><td class=\"noday\">&nbsp;</td><td class=\"noday\">&nbsp;</td><td class=\"noday\">&nbsp;</td><td class=\"sun\">1</td></tr>\n",
      "<tr><td class=\"mon\">2</td><td class=\"tue\">3</td><td class=\"wed\">4</td><td class=\"thu\">5</td><td class=\"fri\">6</td><td class=\"sat\">7</td><td class=\"sun\">8</td></tr>\n",
      "<tr><td class=\"mon\">9</td><td class=\"tue\">10</td><td class=\"wed\">11</td><td class=\"thu\">12</td><td class=\"fri\">13</td><td class=\"sat\">14</td><td class=\"sun\">15</td></tr>\n",
      "<tr><td class=\"mon\">16</td><td class=\"tue\">17</td><td class=\"wed\">18</td><td class=\"thu\">19</td><td class=\"fri\">20</td><td class=\"sat\">21</td><td class=\"sun\">22</td></tr>\n",
      "<tr><td class=\"mon\">23</td><td class=\"tue\">24</td><td class=\"wed\">25</td><td class=\"thu\">26</td><td class=\"fri\">27</td><td class=\"sat\">28</td><td class=\"sun\">29</td></tr>\n",
      "<tr><td class=\"mon\">30</td><td class=\"tue\">31</td><td class=\"noday\">&nbsp;</td><td class=\"noday\">&nbsp;</td><td class=\"noday\">&nbsp;</td><td class=\"noday\">&nbsp;</td><td class=\"noday\">&nbsp;</td></tr>\n",
      "</table>\n",
      "</td><td><table border=\"0\" cellpadding=\"0\" cellspacing=\"0\" class=\"month\">\n",
      "<tr><th colspan=\"7\" class=\"month\">April</th></tr>\n",
      "<tr><th class=\"mon\">Mon</th><th class=\"tue\">Tue</th><th class=\"wed\">Wed</th><th class=\"thu\">Thu</th><th class=\"fri\">Fri</th><th class=\"sat\">Sat</th><th class=\"sun\">Sun</th></tr>\n",
      "<tr><td class=\"noday\">&nbsp;</td><td class=\"noday\">&nbsp;</td><td class=\"wed\">1</td><td class=\"thu\">2</td><td class=\"fri\">3</td><td class=\"sat\">4</td><td class=\"sun\">5</td></tr>\n",
      "<tr><td class=\"mon\">6</td><td class=\"tue\">7</td><td class=\"wed\">8</td><td class=\"thu\">9</td><td class=\"fri\">10</td><td class=\"sat\">11</td><td class=\"sun\">12</td></tr>\n",
      "<tr><td class=\"mon\">13</td><td class=\"tue\">14</td><td class=\"wed\">15</td><td class=\"thu\">16</td><td class=\"fri\">17</td><td class=\"sat\">18</td><td class=\"sun\">19</td></tr>\n",
      "<tr><td class=\"mon\">20</td><td class=\"tue\">21</td><td class=\"wed\">22</td><td class=\"thu\">23</td><td class=\"fri\">24</td><td class=\"sat\">25</td><td class=\"sun\">26</td></tr>\n",
      "<tr><td class=\"mon\">27</td><td class=\"tue\">28</td><td class=\"wed\">29</td><td class=\"thu\">30</td><td class=\"noday\">&nbsp;</td><td class=\"noday\">&nbsp;</td><td class=\"noday\">&nbsp;</td></tr>\n",
      "</table>\n",
      "</td><td><table border=\"0\" cellpadding=\"0\" cellspacing=\"0\" class=\"month\">\n",
      "<tr><th colspan=\"7\" class=\"month\">May</th></tr>\n",
      "<tr><th class=\"mon\">Mon</th><th class=\"tue\">Tue</th><th class=\"wed\">Wed</th><th class=\"thu\">Thu</th><th class=\"fri\">Fri</th><th class=\"sat\">Sat</th><th class=\"sun\">Sun</th></tr>\n",
      "<tr><td class=\"noday\">&nbsp;</td><td class=\"noday\">&nbsp;</td><td class=\"noday\">&nbsp;</td><td class=\"noday\">&nbsp;</td><td class=\"fri\">1</td><td class=\"sat\">2</td><td class=\"sun\">3</td></tr>\n",
      "<tr><td class=\"mon\">4</td><td class=\"tue\">5</td><td class=\"wed\">6</td><td class=\"thu\">7</td><td class=\"fri\">8</td><td class=\"sat\">9</td><td class=\"sun\">10</td></tr>\n",
      "<tr><td class=\"mon\">11</td><td class=\"tue\">12</td><td class=\"wed\">13</td><td class=\"thu\">14</td><td class=\"fri\">15</td><td class=\"sat\">16</td><td class=\"sun\">17</td></tr>\n",
      "<tr><td class=\"mon\">18</td><td class=\"tue\">19</td><td class=\"wed\">20</td><td class=\"thu\">21</td><td class=\"fri\">22</td><td class=\"sat\">23</td><td class=\"sun\">24</td></tr>\n",
      "<tr><td class=\"mon\">25</td><td class=\"tue\">26</td><td class=\"wed\">27</td><td class=\"thu\">28</td><td class=\"fri\">29</td><td class=\"sat\">30</td><td class=\"sun\">31</td></tr>\n",
      "</table>\n",
      "</td><td><table border=\"0\" cellpadding=\"0\" cellspacing=\"0\" class=\"month\">\n",
      "<tr><th colspan=\"7\" class=\"month\">June</th></tr>\n",
      "<tr><th class=\"mon\">Mon</th><th class=\"tue\">Tue</th><th class=\"wed\">Wed</th><th class=\"thu\">Thu</th><th class=\"fri\">Fri</th><th class=\"sat\">Sat</th><th class=\"sun\">Sun</th></tr>\n",
      "<tr><td class=\"mon\">1</td><td class=\"tue\">2</td><td class=\"wed\">3</td><td class=\"thu\">4</td><td class=\"fri\">5</td><td class=\"sat\">6</td><td class=\"sun\">7</td></tr>\n",
      "<tr><td class=\"mon\">8</td><td class=\"tue\">9</td><td class=\"wed\">10</td><td class=\"thu\">11</td><td class=\"fri\">12</td><td class=\"sat\">13</td><td class=\"sun\">14</td></tr>\n",
      "<tr><td class=\"mon\">15</td><td class=\"tue\">16</td><td class=\"wed\">17</td><td class=\"thu\">18</td><td class=\"fri\">19</td><td class=\"sat\">20</td><td class=\"sun\">21</td></tr>\n",
      "<tr><td class=\"mon\">22</td><td class=\"tue\">23</td><td class=\"wed\">24</td><td class=\"thu\">25</td><td class=\"fri\">26</td><td class=\"sat\">27</td><td class=\"sun\">28</td></tr>\n",
      "<tr><td class=\"mon\">29</td><td class=\"tue\">30</td><td class=\"noday\">&nbsp;</td><td class=\"noday\">&nbsp;</td><td class=\"noday\">&nbsp;</td><td class=\"noday\">&nbsp;</td><td class=\"noday\">&nbsp;</td></tr>\n",
      "</table>\n",
      "</td><td><table border=\"0\" cellpadding=\"0\" cellspacing=\"0\" class=\"month\">\n",
      "<tr><th colspan=\"7\" class=\"month\">July</th></tr>\n",
      "<tr><th class=\"mon\">Mon</th><th class=\"tue\">Tue</th><th class=\"wed\">Wed</th><th class=\"thu\">Thu</th><th class=\"fri\">Fri</th><th class=\"sat\">Sat</th><th class=\"sun\">Sun</th></tr>\n",
      "<tr><td class=\"noday\">&nbsp;</td><td class=\"noday\">&nbsp;</td><td class=\"wed\">1</td><td class=\"thu\">2</td><td class=\"fri\">3</td><td class=\"sat\">4</td><td class=\"sun\">5</td></tr>\n",
      "<tr><td class=\"mon\">6</td><td class=\"tue\">7</td><td class=\"wed\">8</td><td class=\"thu\">9</td><td class=\"fri\">10</td><td class=\"sat\">11</td><td class=\"sun\">12</td></tr>\n",
      "<tr><td class=\"mon\">13</td><td class=\"tue\">14</td><td class=\"wed\">15</td><td class=\"thu\">16</td><td class=\"fri\">17</td><td class=\"sat\">18</td><td class=\"sun\">19</td></tr>\n",
      "<tr><td class=\"mon\">20</td><td class=\"tue\">21</td><td class=\"wed\">22</td><td class=\"thu\">23</td><td class=\"fri\">24</td><td class=\"sat\">25</td><td class=\"sun\">26</td></tr>\n",
      "<tr><td class=\"mon\">27</td><td class=\"tue\">28</td><td class=\"wed\">29</td><td class=\"thu\">30</td><td class=\"fri\">31</td><td class=\"noday\">&nbsp;</td><td class=\"noday\">&nbsp;</td></tr>\n",
      "</table>\n",
      "</td><td><table border=\"0\" cellpadding=\"0\" cellspacing=\"0\" class=\"month\">\n",
      "<tr><th colspan=\"7\" class=\"month\">August</th></tr>\n",
      "<tr><th class=\"mon\">Mon</th><th class=\"tue\">Tue</th><th class=\"wed\">Wed</th><th class=\"thu\">Thu</th><th class=\"fri\">Fri</th><th class=\"sat\">Sat</th><th class=\"sun\">Sun</th></tr>\n",
      "<tr><td class=\"noday\">&nbsp;</td><td class=\"noday\">&nbsp;</td><td class=\"noday\">&nbsp;</td><td class=\"noday\">&nbsp;</td><td class=\"noday\">&nbsp;</td><td class=\"sat\">1</td><td class=\"sun\">2</td></tr>\n",
      "<tr><td class=\"mon\">3</td><td class=\"tue\">4</td><td class=\"wed\">5</td><td class=\"thu\">6</td><td class=\"fri\">7</td><td class=\"sat\">8</td><td class=\"sun\">9</td></tr>\n",
      "<tr><td class=\"mon\">10</td><td class=\"tue\">11</td><td class=\"wed\">12</td><td class=\"thu\">13</td><td class=\"fri\">14</td><td class=\"sat\">15</td><td class=\"sun\">16</td></tr>\n",
      "<tr><td class=\"mon\">17</td><td class=\"tue\">18</td><td class=\"wed\">19</td><td class=\"thu\">20</td><td class=\"fri\">21</td><td class=\"sat\">22</td><td class=\"sun\">23</td></tr>\n",
      "<tr><td class=\"mon\">24</td><td class=\"tue\">25</td><td class=\"wed\">26</td><td class=\"thu\">27</td><td class=\"fri\">28</td><td class=\"sat\">29</td><td class=\"sun\">30</td></tr>\n",
      "<tr><td class=\"mon\">31</td><td class=\"noday\">&nbsp;</td><td class=\"noday\">&nbsp;</td><td class=\"noday\">&nbsp;</td><td class=\"noday\">&nbsp;</td><td class=\"noday\">&nbsp;</td><td class=\"noday\">&nbsp;</td></tr>\n",
      "</table>\n",
      "</td></tr><tr><td><table border=\"0\" cellpadding=\"0\" cellspacing=\"0\" class=\"month\">\n",
      "<tr><th colspan=\"7\" class=\"month\">September</th></tr>\n",
      "<tr><th class=\"mon\">Mon</th><th class=\"tue\">Tue</th><th class=\"wed\">Wed</th><th class=\"thu\">Thu</th><th class=\"fri\">Fri</th><th class=\"sat\">Sat</th><th class=\"sun\">Sun</th></tr>\n",
      "<tr><td class=\"noday\">&nbsp;</td><td class=\"tue\">1</td><td class=\"wed\">2</td><td class=\"thu\">3</td><td class=\"fri\">4</td><td class=\"sat\">5</td><td class=\"sun\">6</td></tr>\n",
      "<tr><td class=\"mon\">7</td><td class=\"tue\">8</td><td class=\"wed\">9</td><td class=\"thu\">10</td><td class=\"fri\">11</td><td class=\"sat\">12</td><td class=\"sun\">13</td></tr>\n",
      "<tr><td class=\"mon\">14</td><td class=\"tue\">15</td><td class=\"wed\">16</td><td class=\"thu\">17</td><td class=\"fri\">18</td><td class=\"sat\">19</td><td class=\"sun\">20</td></tr>\n",
      "<tr><td class=\"mon\">21</td><td class=\"tue\">22</td><td class=\"wed\">23</td><td class=\"thu\">24</td><td class=\"fri\">25</td><td class=\"sat\">26</td><td class=\"sun\">27</td></tr>\n",
      "<tr><td class=\"mon\">28</td><td class=\"tue\">29</td><td class=\"wed\">30</td><td class=\"noday\">&nbsp;</td><td class=\"noday\">&nbsp;</td><td class=\"noday\">&nbsp;</td><td class=\"noday\">&nbsp;</td></tr>\n",
      "</table>\n",
      "</td><td><table border=\"0\" cellpadding=\"0\" cellspacing=\"0\" class=\"month\">\n",
      "<tr><th colspan=\"7\" class=\"month\">October</th></tr>\n",
      "<tr><th class=\"mon\">Mon</th><th class=\"tue\">Tue</th><th class=\"wed\">Wed</th><th class=\"thu\">Thu</th><th class=\"fri\">Fri</th><th class=\"sat\">Sat</th><th class=\"sun\">Sun</th></tr>\n",
      "<tr><td class=\"noday\">&nbsp;</td><td class=\"noday\">&nbsp;</td><td class=\"noday\">&nbsp;</td><td class=\"thu\">1</td><td class=\"fri\">2</td><td class=\"sat\">3</td><td class=\"sun\">4</td></tr>\n",
      "<tr><td class=\"mon\">5</td><td class=\"tue\">6</td><td class=\"wed\">7</td><td class=\"thu\">8</td><td class=\"fri\">9</td><td class=\"sat\">10</td><td class=\"sun\">11</td></tr>\n",
      "<tr><td class=\"mon\">12</td><td class=\"tue\">13</td><td class=\"wed\">14</td><td class=\"thu\">15</td><td class=\"fri\">16</td><td class=\"sat\">17</td><td class=\"sun\">18</td></tr>\n",
      "<tr><td class=\"mon\">19</td><td class=\"tue\">20</td><td class=\"wed\">21</td><td class=\"thu\">22</td><td class=\"fri\">23</td><td class=\"sat\">24</td><td class=\"sun\">25</td></tr>\n",
      "<tr><td class=\"mon\">26</td><td class=\"tue\">27</td><td class=\"wed\">28</td><td class=\"thu\">29</td><td class=\"fri\">30</td><td class=\"sat\">31</td><td class=\"noday\">&nbsp;</td></tr>\n",
      "</table>\n",
      "</td><td><table border=\"0\" cellpadding=\"0\" cellspacing=\"0\" class=\"month\">\n",
      "<tr><th colspan=\"7\" class=\"month\">November</th></tr>\n",
      "<tr><th class=\"mon\">Mon</th><th class=\"tue\">Tue</th><th class=\"wed\">Wed</th><th class=\"thu\">Thu</th><th class=\"fri\">Fri</th><th class=\"sat\">Sat</th><th class=\"sun\">Sun</th></tr>\n",
      "<tr><td class=\"noday\">&nbsp;</td><td class=\"noday\">&nbsp;</td><td class=\"noday\">&nbsp;</td><td class=\"noday\">&nbsp;</td><td class=\"noday\">&nbsp;</td><td class=\"noday\">&nbsp;</td><td class=\"sun\">1</td></tr>\n",
      "<tr><td class=\"mon\">2</td><td class=\"tue\">3</td><td class=\"wed\">4</td><td class=\"thu\">5</td><td class=\"fri\">6</td><td class=\"sat\">7</td><td class=\"sun\">8</td></tr>\n",
      "<tr><td class=\"mon\">9</td><td class=\"tue\">10</td><td class=\"wed\">11</td><td class=\"thu\">12</td><td class=\"fri\">13</td><td class=\"sat\">14</td><td class=\"sun\">15</td></tr>\n",
      "<tr><td class=\"mon\">16</td><td class=\"tue\">17</td><td class=\"wed\">18</td><td class=\"thu\">19</td><td class=\"fri\">20</td><td class=\"sat\">21</td><td class=\"sun\">22</td></tr>\n",
      "<tr><td class=\"mon\">23</td><td class=\"tue\">24</td><td class=\"wed\">25</td><td class=\"thu\">26</td><td class=\"fri\">27</td><td class=\"sat\">28</td><td class=\"sun\">29</td></tr>\n",
      "<tr><td class=\"mon\">30</td><td class=\"noday\">&nbsp;</td><td class=\"noday\">&nbsp;</td><td class=\"noday\">&nbsp;</td><td class=\"noday\">&nbsp;</td><td class=\"noday\">&nbsp;</td><td class=\"noday\">&nbsp;</td></tr>\n",
      "</table>\n",
      "</td><td><table border=\"0\" cellpadding=\"0\" cellspacing=\"0\" class=\"month\">\n",
      "<tr><th colspan=\"7\" class=\"month\">December</th></tr>\n",
      "<tr><th class=\"mon\">Mon</th><th class=\"tue\">Tue</th><th class=\"wed\">Wed</th><th class=\"thu\">Thu</th><th class=\"fri\">Fri</th><th class=\"sat\">Sat</th><th class=\"sun\">Sun</th></tr>\n",
      "<tr><td class=\"noday\">&nbsp;</td><td class=\"tue\">1</td><td class=\"wed\">2</td><td class=\"thu\">3</td><td class=\"fri\">4</td><td class=\"sat\">5</td><td class=\"sun\">6</td></tr>\n",
      "<tr><td class=\"mon\">7</td><td class=\"tue\">8</td><td class=\"wed\">9</td><td class=\"thu\">10</td><td class=\"fri\">11</td><td class=\"sat\">12</td><td class=\"sun\">13</td></tr>\n",
      "<tr><td class=\"mon\">14</td><td class=\"tue\">15</td><td class=\"wed\">16</td><td class=\"thu\">17</td><td class=\"fri\">18</td><td class=\"sat\">19</td><td class=\"sun\">20</td></tr>\n",
      "<tr><td class=\"mon\">21</td><td class=\"tue\">22</td><td class=\"wed\">23</td><td class=\"thu\">24</td><td class=\"fri\">25</td><td class=\"sat\">26</td><td class=\"sun\">27</td></tr>\n",
      "<tr><td class=\"mon\">28</td><td class=\"tue\">29</td><td class=\"wed\">30</td><td class=\"thu\">31</td><td class=\"noday\">&nbsp;</td><td class=\"noday\">&nbsp;</td><td class=\"noday\">&nbsp;</td></tr>\n",
      "</table>\n",
      "</td></tr></table>\n"
     ]
    }
   ],
   "source": [
    "print(hc.formatyear(2020, 8))"
   ]
  },
  {
   "cell_type": "code",
   "execution_count": 62,
   "metadata": {},
   "outputs": [
    {
     "name": "stdout",
     "output_type": "stream",
     "text": [
      "b'<?xml version=\"1.0\" encoding=\"utf-8\"?>\\n<!DOCTYPE html PUBLIC \"-//W3C//DTD XHTML 1.0 Strict//EN\" \"http://www.w3.org/TR/xhtml1/DTD/xhtml1-strict.dtd\">\\n<html>\\n<head>\\n<meta http-equiv=\"Content-Type\" content=\"text/html; charset=utf-8\" />\\n<title>Calendar for 2020</title>\\n</head>\\n<body>\\n<table border=\"0\" cellpadding=\"0\" cellspacing=\"0\" class=\"year\">\\n<tr><th colspan=\"8\" class=\"year\">2020</th></tr><tr><td><table border=\"0\" cellpadding=\"0\" cellspacing=\"0\" class=\"month\">\\n<tr><th colspan=\"7\" class=\"month\">January</th></tr>\\n<tr><th class=\"mon\">Mon</th><th class=\"tue\">Tue</th><th class=\"wed\">Wed</th><th class=\"thu\">Thu</th><th class=\"fri\">Fri</th><th class=\"sat\">Sat</th><th class=\"sun\">Sun</th></tr>\\n<tr><td class=\"noday\">&nbsp;</td><td class=\"noday\">&nbsp;</td><td class=\"wed\">1</td><td class=\"thu\">2</td><td class=\"fri\">3</td><td class=\"sat\">4</td><td class=\"sun\">5</td></tr>\\n<tr><td class=\"mon\">6</td><td class=\"tue\">7</td><td class=\"wed\">8</td><td class=\"thu\">9</td><td class=\"fri\">10</td><td class=\"sat\">11</td><td class=\"sun\">12</td></tr>\\n<tr><td class=\"mon\">13</td><td class=\"tue\">14</td><td class=\"wed\">15</td><td class=\"thu\">16</td><td class=\"fri\">17</td><td class=\"sat\">18</td><td class=\"sun\">19</td></tr>\\n<tr><td class=\"mon\">20</td><td class=\"tue\">21</td><td class=\"wed\">22</td><td class=\"thu\">23</td><td class=\"fri\">24</td><td class=\"sat\">25</td><td class=\"sun\">26</td></tr>\\n<tr><td class=\"mon\">27</td><td class=\"tue\">28</td><td class=\"wed\">29</td><td class=\"thu\">30</td><td class=\"fri\">31</td><td class=\"noday\">&nbsp;</td><td class=\"noday\">&nbsp;</td></tr>\\n</table>\\n</td><td><table border=\"0\" cellpadding=\"0\" cellspacing=\"0\" class=\"month\">\\n<tr><th colspan=\"7\" class=\"month\">February</th></tr>\\n<tr><th class=\"mon\">Mon</th><th class=\"tue\">Tue</th><th class=\"wed\">Wed</th><th class=\"thu\">Thu</th><th class=\"fri\">Fri</th><th class=\"sat\">Sat</th><th class=\"sun\">Sun</th></tr>\\n<tr><td class=\"noday\">&nbsp;</td><td class=\"noday\">&nbsp;</td><td class=\"noday\">&nbsp;</td><td class=\"noday\">&nbsp;</td><td class=\"noday\">&nbsp;</td><td class=\"sat\">1</td><td class=\"sun\">2</td></tr>\\n<tr><td class=\"mon\">3</td><td class=\"tue\">4</td><td class=\"wed\">5</td><td class=\"thu\">6</td><td class=\"fri\">7</td><td class=\"sat\">8</td><td class=\"sun\">9</td></tr>\\n<tr><td class=\"mon\">10</td><td class=\"tue\">11</td><td class=\"wed\">12</td><td class=\"thu\">13</td><td class=\"fri\">14</td><td class=\"sat\">15</td><td class=\"sun\">16</td></tr>\\n<tr><td class=\"mon\">17</td><td class=\"tue\">18</td><td class=\"wed\">19</td><td class=\"thu\">20</td><td class=\"fri\">21</td><td class=\"sat\">22</td><td class=\"sun\">23</td></tr>\\n<tr><td class=\"mon\">24</td><td class=\"tue\">25</td><td class=\"wed\">26</td><td class=\"thu\">27</td><td class=\"fri\">28</td><td class=\"sat\">29</td><td class=\"noday\">&nbsp;</td></tr>\\n</table>\\n</td><td><table border=\"0\" cellpadding=\"0\" cellspacing=\"0\" class=\"month\">\\n<tr><th colspan=\"7\" class=\"month\">March</th></tr>\\n<tr><th class=\"mon\">Mon</th><th class=\"tue\">Tue</th><th class=\"wed\">Wed</th><th class=\"thu\">Thu</th><th class=\"fri\">Fri</th><th class=\"sat\">Sat</th><th class=\"sun\">Sun</th></tr>\\n<tr><td class=\"noday\">&nbsp;</td><td class=\"noday\">&nbsp;</td><td class=\"noday\">&nbsp;</td><td class=\"noday\">&nbsp;</td><td class=\"noday\">&nbsp;</td><td class=\"noday\">&nbsp;</td><td class=\"sun\">1</td></tr>\\n<tr><td class=\"mon\">2</td><td class=\"tue\">3</td><td class=\"wed\">4</td><td class=\"thu\">5</td><td class=\"fri\">6</td><td class=\"sat\">7</td><td class=\"sun\">8</td></tr>\\n<tr><td class=\"mon\">9</td><td class=\"tue\">10</td><td class=\"wed\">11</td><td class=\"thu\">12</td><td class=\"fri\">13</td><td class=\"sat\">14</td><td class=\"sun\">15</td></tr>\\n<tr><td class=\"mon\">16</td><td class=\"tue\">17</td><td class=\"wed\">18</td><td class=\"thu\">19</td><td class=\"fri\">20</td><td class=\"sat\">21</td><td class=\"sun\">22</td></tr>\\n<tr><td class=\"mon\">23</td><td class=\"tue\">24</td><td class=\"wed\">25</td><td class=\"thu\">26</td><td class=\"fri\">27</td><td class=\"sat\">28</td><td class=\"sun\">29</td></tr>\\n<tr><td class=\"mon\">30</td><td class=\"tue\">31</td><td class=\"noday\">&nbsp;</td><td class=\"noday\">&nbsp;</td><td class=\"noday\">&nbsp;</td><td class=\"noday\">&nbsp;</td><td class=\"noday\">&nbsp;</td></tr>\\n</table>\\n</td><td><table border=\"0\" cellpadding=\"0\" cellspacing=\"0\" class=\"month\">\\n<tr><th colspan=\"7\" class=\"month\">April</th></tr>\\n<tr><th class=\"mon\">Mon</th><th class=\"tue\">Tue</th><th class=\"wed\">Wed</th><th class=\"thu\">Thu</th><th class=\"fri\">Fri</th><th class=\"sat\">Sat</th><th class=\"sun\">Sun</th></tr>\\n<tr><td class=\"noday\">&nbsp;</td><td class=\"noday\">&nbsp;</td><td class=\"wed\">1</td><td class=\"thu\">2</td><td class=\"fri\">3</td><td class=\"sat\">4</td><td class=\"sun\">5</td></tr>\\n<tr><td class=\"mon\">6</td><td class=\"tue\">7</td><td class=\"wed\">8</td><td class=\"thu\">9</td><td class=\"fri\">10</td><td class=\"sat\">11</td><td class=\"sun\">12</td></tr>\\n<tr><td class=\"mon\">13</td><td class=\"tue\">14</td><td class=\"wed\">15</td><td class=\"thu\">16</td><td class=\"fri\">17</td><td class=\"sat\">18</td><td class=\"sun\">19</td></tr>\\n<tr><td class=\"mon\">20</td><td class=\"tue\">21</td><td class=\"wed\">22</td><td class=\"thu\">23</td><td class=\"fri\">24</td><td class=\"sat\">25</td><td class=\"sun\">26</td></tr>\\n<tr><td class=\"mon\">27</td><td class=\"tue\">28</td><td class=\"wed\">29</td><td class=\"thu\">30</td><td class=\"noday\">&nbsp;</td><td class=\"noday\">&nbsp;</td><td class=\"noday\">&nbsp;</td></tr>\\n</table>\\n</td><td><table border=\"0\" cellpadding=\"0\" cellspacing=\"0\" class=\"month\">\\n<tr><th colspan=\"7\" class=\"month\">May</th></tr>\\n<tr><th class=\"mon\">Mon</th><th class=\"tue\">Tue</th><th class=\"wed\">Wed</th><th class=\"thu\">Thu</th><th class=\"fri\">Fri</th><th class=\"sat\">Sat</th><th class=\"sun\">Sun</th></tr>\\n<tr><td class=\"noday\">&nbsp;</td><td class=\"noday\">&nbsp;</td><td class=\"noday\">&nbsp;</td><td class=\"noday\">&nbsp;</td><td class=\"fri\">1</td><td class=\"sat\">2</td><td class=\"sun\">3</td></tr>\\n<tr><td class=\"mon\">4</td><td class=\"tue\">5</td><td class=\"wed\">6</td><td class=\"thu\">7</td><td class=\"fri\">8</td><td class=\"sat\">9</td><td class=\"sun\">10</td></tr>\\n<tr><td class=\"mon\">11</td><td class=\"tue\">12</td><td class=\"wed\">13</td><td class=\"thu\">14</td><td class=\"fri\">15</td><td class=\"sat\">16</td><td class=\"sun\">17</td></tr>\\n<tr><td class=\"mon\">18</td><td class=\"tue\">19</td><td class=\"wed\">20</td><td class=\"thu\">21</td><td class=\"fri\">22</td><td class=\"sat\">23</td><td class=\"sun\">24</td></tr>\\n<tr><td class=\"mon\">25</td><td class=\"tue\">26</td><td class=\"wed\">27</td><td class=\"thu\">28</td><td class=\"fri\">29</td><td class=\"sat\">30</td><td class=\"sun\">31</td></tr>\\n</table>\\n</td><td><table border=\"0\" cellpadding=\"0\" cellspacing=\"0\" class=\"month\">\\n<tr><th colspan=\"7\" class=\"month\">June</th></tr>\\n<tr><th class=\"mon\">Mon</th><th class=\"tue\">Tue</th><th class=\"wed\">Wed</th><th class=\"thu\">Thu</th><th class=\"fri\">Fri</th><th class=\"sat\">Sat</th><th class=\"sun\">Sun</th></tr>\\n<tr><td class=\"mon\">1</td><td class=\"tue\">2</td><td class=\"wed\">3</td><td class=\"thu\">4</td><td class=\"fri\">5</td><td class=\"sat\">6</td><td class=\"sun\">7</td></tr>\\n<tr><td class=\"mon\">8</td><td class=\"tue\">9</td><td class=\"wed\">10</td><td class=\"thu\">11</td><td class=\"fri\">12</td><td class=\"sat\">13</td><td class=\"sun\">14</td></tr>\\n<tr><td class=\"mon\">15</td><td class=\"tue\">16</td><td class=\"wed\">17</td><td class=\"thu\">18</td><td class=\"fri\">19</td><td class=\"sat\">20</td><td class=\"sun\">21</td></tr>\\n<tr><td class=\"mon\">22</td><td class=\"tue\">23</td><td class=\"wed\">24</td><td class=\"thu\">25</td><td class=\"fri\">26</td><td class=\"sat\">27</td><td class=\"sun\">28</td></tr>\\n<tr><td class=\"mon\">29</td><td class=\"tue\">30</td><td class=\"noday\">&nbsp;</td><td class=\"noday\">&nbsp;</td><td class=\"noday\">&nbsp;</td><td class=\"noday\">&nbsp;</td><td class=\"noday\">&nbsp;</td></tr>\\n</table>\\n</td><td><table border=\"0\" cellpadding=\"0\" cellspacing=\"0\" class=\"month\">\\n<tr><th colspan=\"7\" class=\"month\">July</th></tr>\\n<tr><th class=\"mon\">Mon</th><th class=\"tue\">Tue</th><th class=\"wed\">Wed</th><th class=\"thu\">Thu</th><th class=\"fri\">Fri</th><th class=\"sat\">Sat</th><th class=\"sun\">Sun</th></tr>\\n<tr><td class=\"noday\">&nbsp;</td><td class=\"noday\">&nbsp;</td><td class=\"wed\">1</td><td class=\"thu\">2</td><td class=\"fri\">3</td><td class=\"sat\">4</td><td class=\"sun\">5</td></tr>\\n<tr><td class=\"mon\">6</td><td class=\"tue\">7</td><td class=\"wed\">8</td><td class=\"thu\">9</td><td class=\"fri\">10</td><td class=\"sat\">11</td><td class=\"sun\">12</td></tr>\\n<tr><td class=\"mon\">13</td><td class=\"tue\">14</td><td class=\"wed\">15</td><td class=\"thu\">16</td><td class=\"fri\">17</td><td class=\"sat\">18</td><td class=\"sun\">19</td></tr>\\n<tr><td class=\"mon\">20</td><td class=\"tue\">21</td><td class=\"wed\">22</td><td class=\"thu\">23</td><td class=\"fri\">24</td><td class=\"sat\">25</td><td class=\"sun\">26</td></tr>\\n<tr><td class=\"mon\">27</td><td class=\"tue\">28</td><td class=\"wed\">29</td><td class=\"thu\">30</td><td class=\"fri\">31</td><td class=\"noday\">&nbsp;</td><td class=\"noday\">&nbsp;</td></tr>\\n</table>\\n</td><td><table border=\"0\" cellpadding=\"0\" cellspacing=\"0\" class=\"month\">\\n<tr><th colspan=\"7\" class=\"month\">August</th></tr>\\n<tr><th class=\"mon\">Mon</th><th class=\"tue\">Tue</th><th class=\"wed\">Wed</th><th class=\"thu\">Thu</th><th class=\"fri\">Fri</th><th class=\"sat\">Sat</th><th class=\"sun\">Sun</th></tr>\\n<tr><td class=\"noday\">&nbsp;</td><td class=\"noday\">&nbsp;</td><td class=\"noday\">&nbsp;</td><td class=\"noday\">&nbsp;</td><td class=\"noday\">&nbsp;</td><td class=\"sat\">1</td><td class=\"sun\">2</td></tr>\\n<tr><td class=\"mon\">3</td><td class=\"tue\">4</td><td class=\"wed\">5</td><td class=\"thu\">6</td><td class=\"fri\">7</td><td class=\"sat\">8</td><td class=\"sun\">9</td></tr>\\n<tr><td class=\"mon\">10</td><td class=\"tue\">11</td><td class=\"wed\">12</td><td class=\"thu\">13</td><td class=\"fri\">14</td><td class=\"sat\">15</td><td class=\"sun\">16</td></tr>\\n<tr><td class=\"mon\">17</td><td class=\"tue\">18</td><td class=\"wed\">19</td><td class=\"thu\">20</td><td class=\"fri\">21</td><td class=\"sat\">22</td><td class=\"sun\">23</td></tr>\\n<tr><td class=\"mon\">24</td><td class=\"tue\">25</td><td class=\"wed\">26</td><td class=\"thu\">27</td><td class=\"fri\">28</td><td class=\"sat\">29</td><td class=\"sun\">30</td></tr>\\n<tr><td class=\"mon\">31</td><td class=\"noday\">&nbsp;</td><td class=\"noday\">&nbsp;</td><td class=\"noday\">&nbsp;</td><td class=\"noday\">&nbsp;</td><td class=\"noday\">&nbsp;</td><td class=\"noday\">&nbsp;</td></tr>\\n</table>\\n</td></tr><tr><td><table border=\"0\" cellpadding=\"0\" cellspacing=\"0\" class=\"month\">\\n<tr><th colspan=\"7\" class=\"month\">September</th></tr>\\n<tr><th class=\"mon\">Mon</th><th class=\"tue\">Tue</th><th class=\"wed\">Wed</th><th class=\"thu\">Thu</th><th class=\"fri\">Fri</th><th class=\"sat\">Sat</th><th class=\"sun\">Sun</th></tr>\\n<tr><td class=\"noday\">&nbsp;</td><td class=\"tue\">1</td><td class=\"wed\">2</td><td class=\"thu\">3</td><td class=\"fri\">4</td><td class=\"sat\">5</td><td class=\"sun\">6</td></tr>\\n<tr><td class=\"mon\">7</td><td class=\"tue\">8</td><td class=\"wed\">9</td><td class=\"thu\">10</td><td class=\"fri\">11</td><td class=\"sat\">12</td><td class=\"sun\">13</td></tr>\\n<tr><td class=\"mon\">14</td><td class=\"tue\">15</td><td class=\"wed\">16</td><td class=\"thu\">17</td><td class=\"fri\">18</td><td class=\"sat\">19</td><td class=\"sun\">20</td></tr>\\n<tr><td class=\"mon\">21</td><td class=\"tue\">22</td><td class=\"wed\">23</td><td class=\"thu\">24</td><td class=\"fri\">25</td><td class=\"sat\">26</td><td class=\"sun\">27</td></tr>\\n<tr><td class=\"mon\">28</td><td class=\"tue\">29</td><td class=\"wed\">30</td><td class=\"noday\">&nbsp;</td><td class=\"noday\">&nbsp;</td><td class=\"noday\">&nbsp;</td><td class=\"noday\">&nbsp;</td></tr>\\n</table>\\n</td><td><table border=\"0\" cellpadding=\"0\" cellspacing=\"0\" class=\"month\">\\n<tr><th colspan=\"7\" class=\"month\">October</th></tr>\\n<tr><th class=\"mon\">Mon</th><th class=\"tue\">Tue</th><th class=\"wed\">Wed</th><th class=\"thu\">Thu</th><th class=\"fri\">Fri</th><th class=\"sat\">Sat</th><th class=\"sun\">Sun</th></tr>\\n<tr><td class=\"noday\">&nbsp;</td><td class=\"noday\">&nbsp;</td><td class=\"noday\">&nbsp;</td><td class=\"thu\">1</td><td class=\"fri\">2</td><td class=\"sat\">3</td><td class=\"sun\">4</td></tr>\\n<tr><td class=\"mon\">5</td><td class=\"tue\">6</td><td class=\"wed\">7</td><td class=\"thu\">8</td><td class=\"fri\">9</td><td class=\"sat\">10</td><td class=\"sun\">11</td></tr>\\n<tr><td class=\"mon\">12</td><td class=\"tue\">13</td><td class=\"wed\">14</td><td class=\"thu\">15</td><td class=\"fri\">16</td><td class=\"sat\">17</td><td class=\"sun\">18</td></tr>\\n<tr><td class=\"mon\">19</td><td class=\"tue\">20</td><td class=\"wed\">21</td><td class=\"thu\">22</td><td class=\"fri\">23</td><td class=\"sat\">24</td><td class=\"sun\">25</td></tr>\\n<tr><td class=\"mon\">26</td><td class=\"tue\">27</td><td class=\"wed\">28</td><td class=\"thu\">29</td><td class=\"fri\">30</td><td class=\"sat\">31</td><td class=\"noday\">&nbsp;</td></tr>\\n</table>\\n</td><td><table border=\"0\" cellpadding=\"0\" cellspacing=\"0\" class=\"month\">\\n<tr><th colspan=\"7\" class=\"month\">November</th></tr>\\n<tr><th class=\"mon\">Mon</th><th class=\"tue\">Tue</th><th class=\"wed\">Wed</th><th class=\"thu\">Thu</th><th class=\"fri\">Fri</th><th class=\"sat\">Sat</th><th class=\"sun\">Sun</th></tr>\\n<tr><td class=\"noday\">&nbsp;</td><td class=\"noday\">&nbsp;</td><td class=\"noday\">&nbsp;</td><td class=\"noday\">&nbsp;</td><td class=\"noday\">&nbsp;</td><td class=\"noday\">&nbsp;</td><td class=\"sun\">1</td></tr>\\n<tr><td class=\"mon\">2</td><td class=\"tue\">3</td><td class=\"wed\">4</td><td class=\"thu\">5</td><td class=\"fri\">6</td><td class=\"sat\">7</td><td class=\"sun\">8</td></tr>\\n<tr><td class=\"mon\">9</td><td class=\"tue\">10</td><td class=\"wed\">11</td><td class=\"thu\">12</td><td class=\"fri\">13</td><td class=\"sat\">14</td><td class=\"sun\">15</td></tr>\\n<tr><td class=\"mon\">16</td><td class=\"tue\">17</td><td class=\"wed\">18</td><td class=\"thu\">19</td><td class=\"fri\">20</td><td class=\"sat\">21</td><td class=\"sun\">22</td></tr>\\n<tr><td class=\"mon\">23</td><td class=\"tue\">24</td><td class=\"wed\">25</td><td class=\"thu\">26</td><td class=\"fri\">27</td><td class=\"sat\">28</td><td class=\"sun\">29</td></tr>\\n<tr><td class=\"mon\">30</td><td class=\"noday\">&nbsp;</td><td class=\"noday\">&nbsp;</td><td class=\"noday\">&nbsp;</td><td class=\"noday\">&nbsp;</td><td class=\"noday\">&nbsp;</td><td class=\"noday\">&nbsp;</td></tr>\\n</table>\\n</td><td><table border=\"0\" cellpadding=\"0\" cellspacing=\"0\" class=\"month\">\\n<tr><th colspan=\"7\" class=\"month\">December</th></tr>\\n<tr><th class=\"mon\">Mon</th><th class=\"tue\">Tue</th><th class=\"wed\">Wed</th><th class=\"thu\">Thu</th><th class=\"fri\">Fri</th><th class=\"sat\">Sat</th><th class=\"sun\">Sun</th></tr>\\n<tr><td class=\"noday\">&nbsp;</td><td class=\"tue\">1</td><td class=\"wed\">2</td><td class=\"thu\">3</td><td class=\"fri\">4</td><td class=\"sat\">5</td><td class=\"sun\">6</td></tr>\\n<tr><td class=\"mon\">7</td><td class=\"tue\">8</td><td class=\"wed\">9</td><td class=\"thu\">10</td><td class=\"fri\">11</td><td class=\"sat\">12</td><td class=\"sun\">13</td></tr>\\n<tr><td class=\"mon\">14</td><td class=\"tue\">15</td><td class=\"wed\">16</td><td class=\"thu\">17</td><td class=\"fri\">18</td><td class=\"sat\">19</td><td class=\"sun\">20</td></tr>\\n<tr><td class=\"mon\">21</td><td class=\"tue\">22</td><td class=\"wed\">23</td><td class=\"thu\">24</td><td class=\"fri\">25</td><td class=\"sat\">26</td><td class=\"sun\">27</td></tr>\\n<tr><td class=\"mon\">28</td><td class=\"tue\">29</td><td class=\"wed\">30</td><td class=\"thu\">31</td><td class=\"noday\">&nbsp;</td><td class=\"noday\">&nbsp;</td><td class=\"noday\">&nbsp;</td></tr>\\n</table>\\n</td></tr></table></body>\\n</html>\\n'\n"
     ]
    }
   ],
   "source": [
    "print(hc.formatyearpage(2020, 8, css=None, encoding=None))"
   ]
  },
  {
   "cell_type": "markdown",
   "metadata": {},
   "source": [
    "### LocaleHTMLCalendar "
   ]
  },
  {
   "cell_type": "code",
   "execution_count": 67,
   "metadata": {},
   "outputs": [
    {
     "name": "stdout",
     "output_type": "stream",
     "text": [
      "<table border=\"0\" cellpadding=\"0\" cellspacing=\"0\" class=\"month\">\n",
      "<tr><th colspan=\"7\" class=\"month\">August 2020</th></tr>\n",
      "<tr><th class=\"mon\">Mon</th><th class=\"tue\">Tue</th><th class=\"wed\">Wed</th><th class=\"thu\">Thu</th><th class=\"fri\">Fri</th><th class=\"sat\">Sat</th><th class=\"sun\">Sun</th></tr>\n",
      "<tr><td class=\"noday\">&nbsp;</td><td class=\"noday\">&nbsp;</td><td class=\"noday\">&nbsp;</td><td class=\"noday\">&nbsp;</td><td class=\"noday\">&nbsp;</td><td class=\"sat\">1</td><td class=\"sun\">2</td></tr>\n",
      "<tr><td class=\"mon\">3</td><td class=\"tue\">4</td><td class=\"wed\">5</td><td class=\"thu\">6</td><td class=\"fri\">7</td><td class=\"sat\">8</td><td class=\"sun\">9</td></tr>\n",
      "<tr><td class=\"mon\">10</td><td class=\"tue\">11</td><td class=\"wed\">12</td><td class=\"thu\">13</td><td class=\"fri\">14</td><td class=\"sat\">15</td><td class=\"sun\">16</td></tr>\n",
      "<tr><td class=\"mon\">17</td><td class=\"tue\">18</td><td class=\"wed\">19</td><td class=\"thu\">20</td><td class=\"fri\">21</td><td class=\"sat\">22</td><td class=\"sun\">23</td></tr>\n",
      "<tr><td class=\"mon\">24</td><td class=\"tue\">25</td><td class=\"wed\">26</td><td class=\"thu\">27</td><td class=\"fri\">28</td><td class=\"sat\">29</td><td class=\"sun\">30</td></tr>\n",
      "<tr><td class=\"mon\">31</td><td class=\"noday\">&nbsp;</td><td class=\"noday\">&nbsp;</td><td class=\"noday\">&nbsp;</td><td class=\"noday\">&nbsp;</td><td class=\"noday\">&nbsp;</td><td class=\"noday\">&nbsp;</td></tr>\n",
      "</table>\n",
      "\n"
     ]
    }
   ],
   "source": [
    "cal = calendar.LocaleHTMLCalendar()\n",
    "print(cal.formatmonth(2020, 8))"
   ]
  }
 ],
 "metadata": {
  "kernelspec": {
   "display_name": ".venv",
   "language": "python",
   "name": "python3"
  },
  "language_info": {
   "codemirror_mode": {
    "name": "ipython",
    "version": 3
   },
   "file_extension": ".py",
   "mimetype": "text/x-python",
   "name": "python",
   "nbconvert_exporter": "python",
   "pygments_lexer": "ipython3",
   "version": "3.12.1"
  }
 },
 "nbformat": 4,
 "nbformat_minor": 2
}
