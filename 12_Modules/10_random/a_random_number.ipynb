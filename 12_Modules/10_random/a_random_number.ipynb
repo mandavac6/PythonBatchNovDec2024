{
 "cells": [
  {
   "cell_type": "markdown",
   "metadata": {},
   "source": [
    "## Random module\n",
    "    Python random module, uses pseudo-random generator (PRNG)\n",
    "    called the Mersenne Twister.\n",
    "\n",
    "    NOTE: random module is good enough for many purposes, including simulations,\n",
    "    numerical analysis, and games, but it's definitely not good enough for\n",
    "    cryptographic use.\n",
    "\n",
    "    In Python3, 'secret' module is used for cryptographic purpose."
   ]
  },
  {
   "cell_type": "code",
   "execution_count": 1,
   "metadata": {},
   "outputs": [],
   "source": [
    "import random"
   ]
  },
  {
   "cell_type": "code",
   "execution_count": 2,
   "metadata": {},
   "outputs": [
    {
     "data": {
      "text/plain": [
       "['BPF',\n",
       " 'LOG4',\n",
       " 'NV_MAGICCONST',\n",
       " 'RECIP_BPF',\n",
       " 'Random',\n",
       " 'SG_MAGICCONST',\n",
       " 'SystemRandom',\n",
       " 'TWOPI',\n",
       " '_ONE',\n",
       " '_Sequence',\n",
       " '__all__',\n",
       " '__builtins__',\n",
       " '__cached__',\n",
       " '__doc__',\n",
       " '__file__',\n",
       " '__loader__',\n",
       " '__name__',\n",
       " '__package__',\n",
       " '__spec__',\n",
       " '_accumulate',\n",
       " '_acos',\n",
       " '_bisect',\n",
       " '_ceil',\n",
       " '_cos',\n",
       " '_e',\n",
       " '_exp',\n",
       " '_fabs',\n",
       " '_floor',\n",
       " '_index',\n",
       " '_inst',\n",
       " '_isfinite',\n",
       " '_lgamma',\n",
       " '_log',\n",
       " '_log2',\n",
       " '_os',\n",
       " '_pi',\n",
       " '_random',\n",
       " '_repeat',\n",
       " '_sha512',\n",
       " '_sin',\n",
       " '_sqrt',\n",
       " '_test',\n",
       " '_test_generator',\n",
       " '_urandom',\n",
       " '_warn',\n",
       " 'betavariate',\n",
       " 'binomialvariate',\n",
       " 'choice',\n",
       " 'choices',\n",
       " 'expovariate',\n",
       " 'gammavariate',\n",
       " 'gauss',\n",
       " 'getrandbits',\n",
       " 'getstate',\n",
       " 'lognormvariate',\n",
       " 'normalvariate',\n",
       " 'paretovariate',\n",
       " 'randbytes',\n",
       " 'randint',\n",
       " 'random',\n",
       " 'randrange',\n",
       " 'sample',\n",
       " 'seed',\n",
       " 'setstate',\n",
       " 'shuffle',\n",
       " 'triangular',\n",
       " 'uniform',\n",
       " 'vonmisesvariate',\n",
       " 'weibullvariate']"
      ]
     },
     "execution_count": 2,
     "metadata": {},
     "output_type": "execute_result"
    }
   ],
   "source": [
    "\n",
    "dir(random)"
   ]
  },
  {
   "cell_type": "code",
   "execution_count": 3,
   "metadata": {},
   "outputs": [
    {
     "name": "stdout",
     "output_type": "stream",
     "text": [
      "random.random()      : 0.7648536177034038\n"
     ]
    }
   ],
   "source": [
    "print(\"random.random()      :\", random.random())"
   ]
  },
  {
   "cell_type": "code",
   "execution_count": 4,
   "metadata": {},
   "outputs": [
    {
     "name": "stdout",
     "output_type": "stream",
     "text": [
      "random.random() * 100: 4.8239559915499\n",
      "random.random() * 100: 95.1532564283217\n"
     ]
    }
   ],
   "source": [
    "\n",
    "print(\"random.random() * 100:\", random.random() * 100)\n",
    "print(\"random.random() * 100:\", random.random() * 100)"
   ]
  },
  {
   "cell_type": "code",
   "execution_count": 5,
   "metadata": {},
   "outputs": [],
   "source": [
    "# if we set the seed, we guarantee that we will get the same answer\n",
    "random.seed(18485)"
   ]
  },
  {
   "cell_type": "code",
   "execution_count": 6,
   "metadata": {},
   "outputs": [
    {
     "name": "stdout",
     "output_type": "stream",
     "text": [
      "0.6797936184081204\n",
      "0.9122712611873796\n",
      "0.12926723301605425\n"
     ]
    }
   ],
   "source": [
    "print(random.random())\n",
    "print(random.random())\n",
    "print(random.random())"
   ]
  },
  {
   "cell_type": "code",
   "execution_count": 7,
   "metadata": {},
   "outputs": [
    {
     "name": "stdout",
     "output_type": "stream",
     "text": [
      "os.urandom(1024) b'G\\xc1o$\\xb5\\xe6\\x9d1\\xe0R\\xc3\\x166z\\xd7\\x91\\xceu\\xeee\\x93\\xcb\\x10\\xb1Y9\\xb4<\\x80I\\xed\\x15w\\xcf\\xd2:\\x06J\\xafC\\x8c\\x99\\x92\\x03y]\\xa4M\\xe7\\xfe\\x9c\\xd4\\xb2R\\r\\x9c%9\\x1f\\x19\\xc0F|\\xfc\\xe0\\xd9\\xb8\\xb9\\x04?K\\xf6\\xf6G\\xee\\xa3\\xb1|Rd\\x91\\xb3\\x1a\\xc8\\xce\\x88\\x01\\xe8?9\\xf7\\xd2c\\x9f\\x04\\xde\\x04\\xa3\\xc8\\xc3d3/\\x12\\xc1\\x99\\xb7KV\\xfd\\xf3\\x99\\x18\\x1e\\x86\\x1d\\x8f\\xcb:\\x813Eo\\x9d\\n)&\\x9d\\x07\\x0bqO?\\xce\\xca\\xf9\\xa4h\\x87\\xff\\xab5NuX\\xba\\x904)\\n\\x8c\\xcd\\x07\\xf5\\xaf\\xf8\\xcb\\xfb\\x04\\xb55}\\xb6GJIY\\xd8U\\x9cX\\x1f\\xac\\x08]\\x8b\\x9c\\xea\\xe0\\x87\\xf6\\xbdj^\\x8c\\x02\\x17|\\xe4\\xd1\\xeb\\xf6`\\x13\\xaf\\xf0\"\\x96\\xfa\\x13\\xe6\\xbd\\xc8\\x08|\\xfdv5 \\'.b\\xd3\\xff\\x9dNC\\x95\\xee\\'k\\xee\\x93\\n\\xba\\xa5\\xb8\\x1a\\xa59\\xd2\\xd2\\xd7\\xe8\\x168\\x11\\x94\\x95\\xed3\\xd9\\xaf\\xb8^\\x9b\\xed\\x8asv \\xffT1\\xe0\\x1d8\\x8b\\x8a\\x93m\\xb3\\x97]\\xd1!Y\"\\xc1UG.\\xdcM\\xe7\\x17\\x10Vr0\\xa0\\xc2\\x9a\\x10%\\xce\\xa5\\x8d-E\\xd1\\rh\\x1boO\\x81:I\\x91f\\xb2l\\xa4\\xa7\\x9c\\xc6q\\x7f}\\x9c0@N\\x1c\\xfa^\\xb82z\\\\\\xb0\\xba\\x8a\\x03\\x1f\\xd9p\\xcd\\xe5@\\x86\\x7f\\xea\\xc7\\xef\\x0c\\x95t\\xc49\\xbc\\xbe/\\xe3\\xd2[\\xc8\\xf8\\xf8\\xa2\\xb9`8Ky\\xf4\\xd1N8\\xa1\\x95\\xcf\\xca\\x14~?\\r\\x188<\\xfd\\x05\\')\\xe1\\xd6.\\x0f\\x19\\x8fj\\x04\\x87?\\\\<?\\x15n\\xef\\xc6\\xf2\\xfdu!\\xd2\\xe9\\x9f\\xa0\\xe6\\xb0U!\\x17\\xc4hA\\xdb\\xa1\\x97\\xef\\x9d\\xc4o\\xd4\\xe4\\xfe`\\x0b\\xe2\\xe6z\\xc2 \\xa6\\xbeal\\xde\\r\\x92l\\x07a \\x13E\\x03O\\x83\\xfd\\x1cG\\x9b\\xb8\\xd3\\xc8Y\\x1c\\x1b.\\xf0s\\x8cM\\xe3\\xcd\\xb3\\x90\\xc3\\xc0\\x85\\x17\\xf1\\xcf\\x9d\\x1d\\x19\\xf7\\x0c\\xa0\\xb5\\xa8&\\x08J\\xa4\\x0e\\x01\\xbb\\xaf\\x17`\\xa9\\x9bV\\x8e\\x8cj\\x86\\xdc\\x8e\\xc5\\xbd\\xb6Y\\t!\\xa8\\ri0\\xf5\\xec\\x0c\\x0elA\\xca,|\\x84\\xf7h\\xfd5\\xbcUm\\xef\\xd3\\xe7\\t_\\x10\\xeb~M\\xc6CZ\\x05\\x14+\\xd8\\x84\\x95\\xb2\\x9b\\xc0\\xc9\\xb4h\\r\\xca\\xe4\\x05\\xb8w\\xa5\\xe9\\x1dP\\xe4\\xc9f\\x01b\\x1aM\\xf8d\\xa5\\xe8\\x8bJ4\\xbfKz\\xea\\xd6\\xf44\\xcd\\x94vR\\xdf\\x15\\xffa\\x1f+6\\x9f\\xd1\\xc3\\xad^{HS\\xb1<\\xa3%O\\x81\\xdd\\xde\\n\\x96+T\\x19;\\'\\xb3Y\\xdb\\x99\\x13\\x96\\x9d\\xb5R\\xb5P\\xe6\\x8at/O\\xea\\xb6\\x83\\x85\\xde\\x9e\\x1f+\\xc5s\\x9c\\xb6\\xe7\\xf5{\\xcb\\xddR\\x01\\xa2!\\xcfO\\x80i7\\xe2\\xae\\x05\\x1d?AE\\x91\\xde^\\x9b\\xd5\\xd1\\t\\x85U5\\x937\\x8b\\xc5\\xdfZ\\xf8\\xae\\xca2\\xa3w\\xf6\\x94\\xe1md\\x1bG\\x94\\xda\\xfd\\xd8\\x8a}&\\xe6IuZ\\x8d\\x1a\\xfey(\\x17\\xf0\\x8f\\xeaf\\xba\\xdd\\xd8zd\\xe3\\xec\\xf1\\xb9\\xbe\\x8e\\xf25?]\\x1dd\\xa2|u4i\\x1b\\xc0\\xbb\\x92D\\xf6\\xe8v?4\\xb9\\xbd\\x1c\\x05j\\x99\\xa3\\r\\x8c\\xbf\\xc3\\xd7\\xb8\\x0eq\\x82^M\\xbcF\\x1c\\xa5\\x9c\\xd6^u)+\\x92?\\xb7w\\x84W\\xae\\x01UW\\x9d*O\\x966]\\x16\\xf4\\xb5\\xa5\\xf9\\xady\\xc2\\x07\\xb6\\xd1\\xea,%,}\\x89\\xdce\\xfe\\xeb(u\\x9d\\xb4cD\\xfe\\x97\\xdf\\xa0\\xcf\\x06\\x14v^\\xd8\\xf9SD/\\x00\\xf1\\x1d)V\\xd4{\\x1fW\\xf6=-\\x86332&\\x17\\x08\\x1ef}HdC8\\x9fFN\\xfa\\xaf\\xf1\\xafvN?\\x8c\\x80\\xfbc|\\xd8}t\\xa0\\xe2[c\\x1eRxM\\xe0\\x1c1\\x98#\\xaa\\xc5\\x8f\\xf7\\xb2WG\\xb0\\xe7D\\xa7\\x86\\x83Q\\xff\\x0f\\x89MUi\\x83\\xab\"\\x87\\xf0R\\x87\\xa4\\xbb\\xe1EP\\xe5o\\xe0O\\x03#NoR\\xf7\\xa9\\xb0^\\xe9\\xe2\\xd1\\xe0\\xe5\\x85\\xe6Q]/5\\xb9E\\'J\\x1dz\\xfeN\\xc8o\\xde\\xafbn\\xb1\\x92\\xd4j\\xb9\\x0e\\xfd\\x96.\\x13\\\\`\\xa8\\x95\\xed{\\xff\\x04!\\xf1Ua\\x05&\\xb2S\\x01\\x81\\x83\\x8f&n\\x87\\x00\\xb1Y\\xaf\\xa2vAF6J\\x83\\xd6\\xa0\\xe39V\\x88\\n)\\xc8<4Fe \\xc0\\x1e\\xc1\\xfc\\x84}\\x02\\xd9\\x8f\\x06\\xd7|\\x93\\xff'\n"
     ]
    }
   ],
   "source": [
    "import os\n",
    "\n",
    "print(\"os.urandom(1024)\", os.urandom(1024))\n",
    "random.seed(os.urandom(1024))"
   ]
  },
  {
   "cell_type": "code",
   "execution_count": 8,
   "metadata": {},
   "outputs": [
    {
     "name": "stdout",
     "output_type": "stream",
     "text": [
      "30\n",
      "5\n",
      "85\n"
     ]
    }
   ],
   "source": [
    "for i in range(3):\n",
    "    print(random.randrange(0, 101, 5))"
   ]
  },
  {
   "cell_type": "code",
   "execution_count": 9,
   "metadata": {},
   "outputs": [
    {
     "name": "stdout",
     "output_type": "stream",
     "text": [
      "[9]\n",
      "[1, 7, 10, 2]\n"
     ]
    }
   ],
   "source": [
    "items = [1, 2, 3, 4, 5, 6, 7, 8, 9, 10]\n",
    "\n",
    "x = random.sample(items, 1)\n",
    "print(x)\n",
    "\n",
    "y = random.sample(items, 4)\n",
    "print(y)"
   ]
  },
  {
   "cell_type": "code",
   "execution_count": 10,
   "metadata": {},
   "outputs": [
    {
     "name": "stdout",
     "output_type": "stream",
     "text": [
      "after shuffle [9, 3, 5, 10, 1, 8, 4, 6, 7, 2]\n"
     ]
    }
   ],
   "source": [
    "numbers = [1, 2, 3, 4, 5, 6, 7, 8, 9, 10]\n",
    "random.shuffle(numbers)\n",
    "print(\"after shuffle\", numbers)"
   ]
  },
  {
   "cell_type": "markdown",
   "metadata": {},
   "source": [
    "### tossing_coin"
   ]
  },
  {
   "cell_type": "code",
   "execution_count": 13,
   "metadata": {},
   "outputs": [],
   "source": [
    "outcomes = {\n",
    "    \"heads\": 0,\n",
    "    \"tails\": 0,\n",
    "}\n",
    "sides = list(outcomes.keys())"
   ]
  },
  {
   "cell_type": "code",
   "execution_count": 15,
   "metadata": {},
   "outputs": [
    {
     "data": {
      "text/plain": [
       "'tails'"
      ]
     },
     "execution_count": 15,
     "metadata": {},
     "output_type": "execute_result"
    }
   ],
   "source": [
    "random.choice(sides)"
   ]
  },
  {
   "cell_type": "code",
   "execution_count": 16,
   "metadata": {},
   "outputs": [
    {
     "name": "stdout",
     "output_type": "stream",
     "text": [
      "In 10000 tosses,\n",
      "\tHeads: 46\n",
      "\tTails: 54\n"
     ]
    }
   ],
   "source": [
    "for i in range(100):\n",
    "    outcome = random.choice(sides)\n",
    "    outcomes[outcome] += 1\n",
    "\n",
    "print(\"In 10000 tosses,\")\n",
    "print(\"\\tHeads:\", outcomes[\"heads\"])\n",
    "print(\"\\tTails:\", outcomes[\"tails\"])"
   ]
  },
  {
   "cell_type": "code",
   "execution_count": 12,
   "metadata": {},
   "outputs": [
    {
     "name": "stdout",
     "output_type": "stream",
     "text": [
      "Jeremy Jones\n",
      "Tyler Smith\n",
      "Jeremy Taylor\n",
      "Tom Jones\n",
      "Landon Taylor\n"
     ]
    }
   ],
   "source": [
    "import random\n",
    "\n",
    "\n",
    "def random_name_generator(first, second, count):\n",
    "    _names = []\n",
    "    for _ in range(count):\n",
    "        fst_name = random.choice(first)\n",
    "        lst_name = random.choice(second)\n",
    "        name = f\"{fst_name} {lst_name}\"\n",
    "        _names.append(name)\n",
    "    return _names\n",
    "\n",
    "\n",
    "def random_name_generator(first, second, count):\n",
    "    _names = set()\n",
    "    while len(_names) < count:\n",
    "        fst_name = random.choice(first)\n",
    "        lst_name = random.choice(second)\n",
    "        name = f\"{fst_name} {lst_name}\"\n",
    "        _names.add(name)\n",
    "    return _names\n",
    "\n",
    "\n",
    "first_names = [\"Drew\", \"Mike\", \"Landon\", \"Jeremy\", \"Tyler\", \"Tom\", \"Avery\"]\n",
    "last_names = [\"Smith\", \"Jones\", \"Brighton\", \"Taylor\"]\n",
    "names = random_name_generator(first_names, last_names, 5)\n",
    "print(\"\\n\".join(names))\n"
   ]
  },
  {
   "cell_type": "code",
   "execution_count": 24,
   "metadata": {},
   "outputs": [
    {
     "name": "stdout",
     "output_type": "stream",
     "text": [
      "Generated Name: David Brown\n"
     ]
    }
   ],
   "source": [
    "\n",
    "# Assignment:\n",
    "# In runtime, take the gender name as input, and generate random name.\n",
    "# HINT: Take a dataset of female first names, and another with male first names\n",
    "# one dataset with last names\n",
    "\n",
    "\n",
    "import random\n",
    "\n",
    "# Datasets for first and last names\n",
    "female_first_names = [\"Mary\", \"Patricia\", \"Linda\", \"Barbara\", \"Elizabeth\"]\n",
    "male_first_names = [\"John\", \"Michael\", \"David\", \"James\", \"Robert\"]\n",
    "last_names = [\"Smith\", \"Johnson\", \"Brown\", \"Taylor\", \"Anderson\"]\n",
    "\n",
    "def generate_random_name(gender):\n",
    "    if gender.lower() == \"male\":\n",
    "        first_name = random.choice(male_first_names)\n",
    "    elif gender.lower() == \"female\":\n",
    "        first_name = random.choice(female_first_names)\n",
    "    else:\n",
    "        raise ValueError(\"Invalid gender. Please enter 'male' or 'female'.\")\n",
    "    \n",
    "    last_name = random.choice(last_names)\n",
    "\n",
    "    return f\"{first_name} {last_name}\"\n",
    "\n",
    "try:\n",
    "    gender_input = input(\"Enter the gender (male/female): \")\n",
    "    random_name = generate_random_name(gender_input)\n",
    "    print(f\"Generated Name: {random_name}\")\n",
    "except ValueError as ex:\n",
    "\n",
    "    print(ex)\n"
   ]
  },
  {
   "cell_type": "code",
   "execution_count": null,
   "metadata": {},
   "outputs": [],
   "source": []
  }
 ],
 "metadata": {
  "kernelspec": {
   "display_name": ".venv",
   "language": "python",
   "name": "python3"
  },
  "language_info": {
   "codemirror_mode": {
    "name": "ipython",
    "version": 3
   },
   "file_extension": ".py",
   "mimetype": "text/x-python",
   "name": "python",
   "nbconvert_exporter": "python",
   "pygments_lexer": "ipython3",
   "version": "3.12.1"
  }
 },
 "nbformat": 4,
 "nbformat_minor": 2
}
