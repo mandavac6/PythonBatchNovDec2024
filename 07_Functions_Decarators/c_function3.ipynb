{
 "cells": [
  {
   "cell_type": "markdown",
   "metadata": {},
   "source": [
    "### Inner Functions"
   ]
  },
  {
   "cell_type": "code",
   "execution_count": 1,
   "metadata": {},
   "outputs": [],
   "source": [
    "def outer():\n",
    "    print(\"In outer function\")\n",
    "    num = 456"
   ]
  },
  {
   "cell_type": "code",
   "execution_count": 2,
   "metadata": {},
   "outputs": [
    {
     "name": "stdout",
     "output_type": "stream",
     "text": [
      "In outer function\n"
     ]
    }
   ],
   "source": [
    "outer()"
   ]
  },
  {
   "cell_type": "code",
   "execution_count": 1,
   "metadata": {},
   "outputs": [],
   "source": [
    "def outer():\n",
    "    print(\"In outer function\")\n",
    "    num = 456\n",
    "\n",
    "    def inner():\n",
    "        print(\"In Inner function\", num)\n",
    "\n",
    "    inner()"
   ]
  },
  {
   "cell_type": "code",
   "execution_count": 2,
   "metadata": {},
   "outputs": [
    {
     "name": "stdout",
     "output_type": "stream",
     "text": [
      "In outer function\n",
      "In Inner function 456\n"
     ]
    }
   ],
   "source": [
    "outer()"
   ]
  },
  {
   "cell_type": "code",
   "execution_count": 4,
   "metadata": {},
   "outputs": [
    {
     "ename": "NameError",
     "evalue": "name 'inner' is not defined",
     "output_type": "error",
     "traceback": [
      "\u001b[0;31m---------------------------------------------------------------------------\u001b[0m",
      "\u001b[0;31mNameError\u001b[0m                                 Traceback (most recent call last)",
      "Cell \u001b[0;32mIn[4], line 1\u001b[0m\n\u001b[0;32m----> 1\u001b[0m \u001b[43minner\u001b[49m()\n",
      "\u001b[0;31mNameError\u001b[0m: name 'inner' is not defined"
     ]
    }
   ],
   "source": [
    "inner()\n",
    "# we cannot call the inner functions from outside "
   ]
  },
  {
   "cell_type": "markdown",
   "metadata": {},
   "source": [
    "### Closures\n",
    "- Closures can avoid the use of global values and provides some form \n",
    "of __data hiding__. \n",
    "\n",
    "- It can also provide an object oriented solution to the problem.\n"
   ]
  },
  {
   "cell_type": "code",
   "execution_count": 7,
   "metadata": {},
   "outputs": [
    {
     "name": "stdout",
     "output_type": "stream",
     "text": [
      "In outer function\n",
      "inner.__closure__:456\n",
      "In Inner function 456\n",
      "result <class 'NoneType'> None\n"
     ]
    }
   ],
   "source": [
    "def outer():\n",
    "    print(\"In outer function\")\n",
    "    num = 456\n",
    "\n",
    "    def inner():\n",
    "        print(\"In Inner function\", num)\n",
    "\n",
    "    print(f\"inner.__closure__:{inner.__closure__[0].cell_contents}\")\n",
    "    inner()\n",
    "\n",
    "\n",
    "res = outer()\n",
    "print(\"result\", type(res), res)"
   ]
  },
  {
   "cell_type": "code",
   "execution_count": 8,
   "metadata": {},
   "outputs": [
    {
     "name": "stdout",
     "output_type": "stream",
     "text": [
      "In outer function\n",
      "inner.__closure__:(<cell at 0x710198bf72e0: int object at 0x71017be3fe10>,)\n",
      "inner.__closure__[0].cell_contents:456\n",
      "result <class 'function'> <function outer.<locals>.inner at 0x710198c049a0>\n"
     ]
    }
   ],
   "source": [
    "def outer():\n",
    "    print(\"In outer function\")\n",
    "    num = 456\n",
    "    num2 = 555\n",
    "\n",
    "    def inner():\n",
    "        print(\"In Inner function\", num)\n",
    "\n",
    "    print(f\"inner.__closure__:{inner.__closure__}\")\n",
    "    print(f\"inner.__closure__[0].cell_contents:{inner.__closure__[0].cell_contents}\")\n",
    "    return inner  \n",
    "\n",
    "res = outer()\n",
    "print(\"result\", type(res), res)"
   ]
  },
  {
   "cell_type": "code",
   "execution_count": 9,
   "metadata": {},
   "outputs": [
    {
     "name": "stdout",
     "output_type": "stream",
     "text": [
      "In Inner function 456\n"
     ]
    }
   ],
   "source": [
    "res()"
   ]
  },
  {
   "cell_type": "code",
   "execution_count": 10,
   "metadata": {},
   "outputs": [
    {
     "name": "stdout",
     "output_type": "stream",
     "text": [
      "In outer function\n",
      "inner.__closure__:(<cell at 0x7101a80a1660: int object at 0x71017be3fe10>,)\n",
      "inner.__closure__[0].cell_contents:456\n",
      "In Inner function 456\n"
     ]
    }
   ],
   "source": [
    "outer()()"
   ]
  },
  {
   "cell_type": "markdown",
   "metadata": {},
   "source": [
    "__closure__ is None or a tuple of cells that contain binding for the function's free variables.\n",
    "\n",
    "Also, it is NOT writable.\n",
    "\n"
   ]
  },
  {
   "cell_type": "code",
   "execution_count": null,
   "metadata": {},
   "outputs": [],
   "source": [
    "def outer():\n",
    "    print(\"In outer function\")\n",
    "    num = 456\n",
    "    num2 = 333\n",
    "\n",
    "    def inner():\n",
    "        print(\"In Inner function\", num)\n",
    "        print(num2)\n",
    "\n",
    "    print(f\"inner.__closure__                 :{inner.__closure__}\")\n",
    "    print(f\"inner.__closure__[0].cell_contents:{inner.__closure__[0].cell_contents}\")\n",
    "    print(f\"inner.__closure__[1].cell_contents:{inner.__closure__[1].cell_contents}\")\n",
    "\n",
    "    print(f\"inner.__code__.co_freevars:{inner.__code__.co_freevars}\")\n",
    "    print(f\"inner.__code__.co_cellvars:{inner.__code__.co_cellvars}\")\n",
    "    return inner()  ## Not a closure \n",
    "\n",
    "\n",
    "res = outer()\n",
    "print(\"res\", type(res), res)"
   ]
  },
  {
   "cell_type": "code",
   "execution_count": 11,
   "metadata": {},
   "outputs": [
    {
     "name": "stdout",
     "output_type": "stream",
     "text": [
      "In outer function\n",
      "inner.__closure__                 :(<cell at 0x71019830e230: int object at 0x71017be3ff50>, <cell at 0x71019830d300: int object at 0x71017be3feb0>)\n",
      "inner.__closure__[0].cell_contents:456\n",
      "inner.__closure__[1].cell_contents:333\n",
      "inner.__code__.co_freevars:('num', 'num2')\n",
      "inner.__code__.co_cellvars:()\n",
      "In Inner function 456\n",
      "333\n",
      "res <class 'NoneType'> None\n"
     ]
    }
   ],
   "source": [
    "def outer():\n",
    "    print(\"In outer function\")\n",
    "    num = 456\n",
    "    num2 = 333\n",
    "\n",
    "    def inner():\n",
    "        # num = 4569\n",
    "        print(\"In Inner function\", num)\n",
    "        print(num2)\n",
    "\n",
    "    print(f\"inner.__closure__                 :{inner.__closure__}\")\n",
    "    print(f\"inner.__closure__[0].cell_contents:{inner.__closure__[0].cell_contents}\")\n",
    "    print(f\"inner.__closure__[1].cell_contents:{inner.__closure__[1].cell_contents}\")\n",
    "\n",
    "    print(f\"inner.__code__.co_freevars:{inner.__code__.co_freevars}\")\n",
    "    print(f\"inner.__code__.co_cellvars:{inner.__code__.co_cellvars}\")\n",
    "    return inner()\n",
    "\n",
    "\n",
    "res = outer()\n",
    "print(\"result\", type(res), res)"
   ]
  },
  {
   "cell_type": "code",
   "execution_count": 13,
   "metadata": {},
   "outputs": [
    {
     "name": "stdout",
     "output_type": "stream",
     "text": [
      "12 <function closure1.<locals>.func at 0x71017bee0720>\n",
      "12 <function closure1.<locals>.func at 0x71017bee05e0>\n",
      "12 <function closure1.<locals>.func at 0x71017bee07c0>\n",
      "12 <function closure1.<locals>.func at 0x71017bee0860>\n",
      "12 <function closure1.<locals>.func at 0x71017bee0a40>\n"
     ]
    }
   ],
   "source": [
    "def closure1():\n",
    "    f_list = []\n",
    "\n",
    "    for i in range(5):\n",
    "\n",
    "        def func(x):\n",
    "            return x * i\n",
    "\n",
    "        f_list.append(func)\n",
    "\n",
    "    for f in f_list:\n",
    "        print(f(3), f)\n",
    "\n",
    "\n",
    "closure1()"
   ]
  },
  {
   "cell_type": "code",
   "execution_count": 16,
   "metadata": {},
   "outputs": [
    {
     "name": "stdout",
     "output_type": "stream",
     "text": [
      "booooo!\n"
     ]
    }
   ],
   "source": [
    "def closure2(msg):\n",
    "    def printer():\n",
    "        print(msg)\n",
    "\n",
    "    return printer   # closure\n",
    "\n",
    "\n",
    "printer = closure2(\"booooo!\")\n",
    "printer()"
   ]
  },
  {
   "cell_type": "code",
   "execution_count": 15,
   "metadata": {},
   "outputs": [
    {
     "name": "stdout",
     "output_type": "stream",
     "text": [
      "booooo!\n"
     ]
    }
   ],
   "source": [
    "def not_closure2(msg):\n",
    "    def printer(msg=msg):\n",
    "        print(msg)\n",
    "\n",
    "    return printer\n",
    "\n",
    "\n",
    "printer = not_closure2(\"booooo!\")\n",
    "printer()"
   ]
  },
  {
   "cell_type": "code",
   "execution_count": 17,
   "metadata": {},
   "outputs": [
    {
     "name": "stdout",
     "output_type": "stream",
     "text": [
      "d = {'y': 0}\n"
     ]
    },
    {
     "data": {
      "text/plain": [
       "1"
      ]
     },
     "execution_count": 17,
     "metadata": {},
     "output_type": "execute_result"
    }
   ],
   "source": [
    "def outer():\n",
    "    d = {\"y\": 0}\n",
    "\n",
    "    def inner():\n",
    "        d[\"y\"] += 1\n",
    "        return d[\"y\"]\n",
    "    print(f'{d = }')  \n",
    "    return inner\n",
    "\n",
    "\n",
    "outer = outer()\n",
    "outer()"
   ]
  },
  {
   "cell_type": "markdown",
   "metadata": {},
   "source": [
    "## Decorators"
   ]
  },
  {
   "cell_type": "markdown",
   "metadata": {},
   "source": [
    "#### Without decorators\n"
   ]
  },
  {
   "cell_type": "code",
   "execution_count": 18,
   "metadata": {},
   "outputs": [
    {
     "data": {
      "text/plain": [
       "30"
      ]
     },
     "execution_count": 18,
     "metadata": {},
     "output_type": "execute_result"
    }
   ],
   "source": [
    "def add(n1, n2):\n",
    "    return n1 + n2\n",
    "\n",
    "add(10, 20)"
   ]
  },
  {
   "cell_type": "code",
   "execution_count": 19,
   "metadata": {},
   "outputs": [
    {
     "data": {
      "text/plain": [
       "'1020'"
      ]
     },
     "execution_count": 19,
     "metadata": {},
     "output_type": "execute_result"
    }
   ],
   "source": [
    "add('10', '20')"
   ]
  },
  {
   "cell_type": "code",
   "execution_count": 20,
   "metadata": {},
   "outputs": [
    {
     "ename": "TypeError",
     "evalue": "unsupported operand type(s) for +: 'int' and 'str'",
     "output_type": "error",
     "traceback": [
      "\u001b[0;31m---------------------------------------------------------------------------\u001b[0m",
      "\u001b[0;31mTypeError\u001b[0m                                 Traceback (most recent call last)",
      "Cell \u001b[0;32mIn[20], line 1\u001b[0m\n\u001b[0;32m----> 1\u001b[0m \u001b[43madd\u001b[49m\u001b[43m(\u001b[49m\u001b[38;5;241;43m10\u001b[39;49m\u001b[43m,\u001b[49m\u001b[43m \u001b[49m\u001b[38;5;124;43m'\u001b[39;49m\u001b[38;5;124;43m20\u001b[39;49m\u001b[38;5;124;43m'\u001b[39;49m\u001b[43m)\u001b[49m\n",
      "Cell \u001b[0;32mIn[18], line 2\u001b[0m, in \u001b[0;36madd\u001b[0;34m(n1, n2)\u001b[0m\n\u001b[1;32m      1\u001b[0m \u001b[38;5;28;01mdef\u001b[39;00m \u001b[38;5;21madd\u001b[39m(n1, n2):\n\u001b[0;32m----> 2\u001b[0m     \u001b[38;5;28;01mreturn\u001b[39;00m \u001b[43mn1\u001b[49m\u001b[43m \u001b[49m\u001b[38;5;241;43m+\u001b[39;49m\u001b[43m \u001b[49m\u001b[43mn2\u001b[49m\n",
      "\u001b[0;31mTypeError\u001b[0m: unsupported operand type(s) for +: 'int' and 'str'"
     ]
    }
   ],
   "source": [
    "add(10, '20')"
   ]
  },
  {
   "cell_type": "code",
   "execution_count": 21,
   "metadata": {},
   "outputs": [
    {
     "name": "stdout",
     "output_type": "stream",
     "text": [
      "add(10, 20)=30\n",
      "add('10','20') ='1020'\n",
      "add(10, '20')   =TypeError(\"unsupported operand type(s) for +: 'int' and 'str'\")\n"
     ]
    }
   ],
   "source": [
    "def add(a, b):\n",
    "    try:\n",
    "        a + b\n",
    "    except Exception as e:\n",
    "        return e\n",
    "    else:\n",
    "        return a + b\n",
    "\n",
    "\n",
    "print(f\"{add(10, 20)=}\")\n",
    "print(f\"{add('10','20') =}\")\n",
    "print(f\"{add(10, '20')   =}\")"
   ]
  },
  {
   "cell_type": "code",
   "execution_count": null,
   "metadata": {},
   "outputs": [],
   "source": [
    "def div(a, b):\n",
    "    try:\n",
    "        a / b\n",
    "    except Exception as e:\n",
    "        return e\n",
    "    else:\n",
    "        return a / b\n",
    "\n",
    "\n",
    "def add(a, b):\n",
    "    try:\n",
    "        a + b\n",
    "    except Exception as e:\n",
    "        return e\n",
    "    else:\n",
    "        return a + b\n",
    "\n",
    "\n",
    "print(div(4, 2))\n",
    "print(div(4, 0))\n",
    "\n",
    "print(add(2, 3))\n",
    "print(add(\"a\", 3))"
   ]
  },
  {
   "cell_type": "code",
   "execution_count": 22,
   "metadata": {},
   "outputs": [
    {
     "name": "stdout",
     "output_type": "stream",
     "text": [
      "<function except_handler.<locals>.inner at 0x710198c65ee0>\n"
     ]
    }
   ],
   "source": [
    "def except_handler(func):  \n",
    "    def inner(a, b):\n",
    "        try:\n",
    "            a + b              \n",
    "        except Exception as e:\n",
    "            return e\n",
    "        else:\n",
    "            return a + b       \n",
    "    return inner\n",
    "\n",
    "\n",
    "def add(a, b):\n",
    "    return a + b\n",
    "\n",
    "add_with_exception_handling = except_handler(add)\n",
    "print(add_with_exception_handling)  "
   ]
  },
  {
   "cell_type": "code",
   "execution_count": 23,
   "metadata": {},
   "outputs": [
    {
     "data": {
      "text/plain": [
       "15"
      ]
     },
     "execution_count": 23,
     "metadata": {},
     "output_type": "execute_result"
    }
   ],
   "source": [
    "add_with_exception_handling(10, 5)"
   ]
  },
  {
   "cell_type": "code",
   "execution_count": 25,
   "metadata": {},
   "outputs": [
    {
     "name": "stdout",
     "output_type": "stream",
     "text": [
      "<function except_handler.<locals>.inner at 0x71017bee3380>\n"
     ]
    }
   ],
   "source": [
    "def except_handler(func):  \n",
    "    def inner(a, b):\n",
    "        try:\n",
    "            a / b              \n",
    "        except Exception as e:\n",
    "            return e\n",
    "        else:\n",
    "            return a / b       \n",
    "    return inner\n",
    "\n",
    "\n",
    "def div(a, b):\n",
    "    return a / b\n",
    "\n",
    "div_with_exception_handling = except_handler(div)\n",
    "print(div_with_exception_handling)  "
   ]
  },
  {
   "cell_type": "code",
   "execution_count": 26,
   "metadata": {},
   "outputs": [
    {
     "data": {
      "text/plain": [
       "5.0"
      ]
     },
     "execution_count": 26,
     "metadata": {},
     "output_type": "execute_result"
    }
   ],
   "source": [
    "div_with_exception_handling(10,2)"
   ]
  },
  {
   "cell_type": "code",
   "execution_count": 28,
   "metadata": {},
   "outputs": [
    {
     "name": "stdout",
     "output_type": "stream",
     "text": [
      "div_with_exception__handling =<function except_handler.<locals>.inner at 0x71017bee3880>\n",
      "add_with_exception_handling = <function except_handler.<locals>.inner at 0x71017bee3920>\n",
      "2.0\n",
      "division by zero\n",
      "5\n",
      "can only concatenate str (not \"int\") to str\n"
     ]
    }
   ],
   "source": [
    "def except_handler(func): \n",
    "    def inner(a, b):\n",
    "        try:\n",
    "            res = func(a, b)     \n",
    "        except Exception as e:\n",
    "            return e\n",
    "        else:\n",
    "            return res           \n",
    "    return inner\n",
    "\n",
    "\n",
    "def div(a, b):\n",
    "    return a / b\n",
    "\n",
    "\n",
    "def add(a, b):\n",
    "    return a + b\n",
    "\n",
    "\n",
    "\n",
    "div_with_exception__handling =  except_handler(div)\n",
    "print(f'{div_with_exception__handling =}')\n",
    "\n",
    "add_with_exception_handling = except_handler(add)\n",
    "print(f'{add_with_exception_handling = }')  \n",
    "\n",
    "\n",
    "print(div_with_exception__handling(4, 2))\n",
    "print(div_with_exception__handling(4, 0))\n",
    "\n",
    "print(add_with_exception_handling(2, 3))\n",
    "print(add_with_exception_handling(\"a\", 3))"
   ]
  },
  {
   "cell_type": "code",
   "execution_count": 32,
   "metadata": {},
   "outputs": [
    {
     "name": "stdout",
     "output_type": "stream",
     "text": [
      "add_with_exception_handling=<function except_handler.<locals>.inner at 0x71017bee39c0>\n"
     ]
    }
   ],
   "source": [
    "def addition(n1, n2, n3):\n",
    "    return n1 + n2 + n3\n",
    "\n",
    "\n",
    "add_with_exception_handling = except_handler(addition)\n",
    "print(f'{add_with_exception_handling=}') "
   ]
  },
  {
   "cell_type": "code",
   "execution_count": 30,
   "metadata": {},
   "outputs": [
    {
     "data": {
      "text/plain": [
       "60"
      ]
     },
     "execution_count": 30,
     "metadata": {},
     "output_type": "execute_result"
    }
   ],
   "source": [
    "addition(10, 20, 30)"
   ]
  },
  {
   "cell_type": "code",
   "execution_count": 33,
   "metadata": {},
   "outputs": [
    {
     "ename": "TypeError",
     "evalue": "except_handler.<locals>.inner() takes 2 positional arguments but 3 were given",
     "output_type": "error",
     "traceback": [
      "\u001b[0;31m---------------------------------------------------------------------------\u001b[0m",
      "\u001b[0;31mTypeError\u001b[0m                                 Traceback (most recent call last)",
      "Cell \u001b[0;32mIn[33], line 1\u001b[0m\n\u001b[0;32m----> 1\u001b[0m \u001b[43madd_with_exception_handling\u001b[49m\u001b[43m(\u001b[49m\u001b[38;5;241;43m10\u001b[39;49m\u001b[43m,\u001b[49m\u001b[43m \u001b[49m\u001b[38;5;241;43m20\u001b[39;49m\u001b[43m,\u001b[49m\u001b[43m \u001b[49m\u001b[38;5;241;43m30\u001b[39;49m\u001b[43m)\u001b[49m\n",
      "\u001b[0;31mTypeError\u001b[0m: except_handler.<locals>.inner() takes 2 positional arguments but 3 were given"
     ]
    }
   ],
   "source": [
    "add_with_exception_handling(10, 20, 30)"
   ]
  },
  {
   "cell_type": "markdown",
   "metadata": {},
   "source": [
    "#### Decorator syntactic sugar"
   ]
  },
  {
   "cell_type": "code",
   "execution_count": 34,
   "metadata": {},
   "outputs": [
    {
     "name": "stdout",
     "output_type": "stream",
     "text": [
      "2.0\n",
      "division by zero\n"
     ]
    }
   ],
   "source": [
    "@except_handler  \n",
    "def div(a, b):\n",
    "    return a / b\n",
    "\n",
    "\n",
    "print(div(4, 2))\n",
    "print(div(4, 0))"
   ]
  },
  {
   "cell_type": "code",
   "execution_count": 35,
   "metadata": {},
   "outputs": [
    {
     "name": "stdout",
     "output_type": "stream",
     "text": [
      "5\n",
      "can only concatenate str (not \"int\") to str\n"
     ]
    }
   ],
   "source": [
    "@except_handler\n",
    "def add(a, b):\n",
    "    return a + b\n",
    "\n",
    "\n",
    "print(add(2, 3))\n",
    "print(add(\"a\", 3))"
   ]
  },
  {
   "cell_type": "markdown",
   "metadata": {},
   "source": [
    "__NOTE:__ Decorators slow down the function call. Keep that in mind."
   ]
  },
  {
   "cell_type": "code",
   "execution_count": 36,
   "metadata": {},
   "outputs": [],
   "source": [
    "def makebold(fn):\n",
    "    def wrapped(*args, **kwargs):\n",
    "        print(\"makebold - args\", args)\n",
    "        print(\"makebold  - kwargs\", kwargs)\n",
    "        print()\n",
    "        return \"<b>\" + fn(*args, **kwargs) + \"</b>\"\n",
    "\n",
    "    return wrapped\n",
    "\n",
    "\n",
    "def makeitalic(fn):\n",
    "    def wrapped(*args, **kwargs):\n",
    "        print(\"makeitalic - args\", args)\n",
    "        print(\"makeitalic  - kwargs\", kwargs)\n",
    "        print()\n",
    "        return \"<i>\" + fn(*args, **kwargs) + \"</i>\"\n",
    "\n",
    "    return wrapped"
   ]
  },
  {
   "cell_type": "code",
   "execution_count": 38,
   "metadata": {},
   "outputs": [
    {
     "name": "stdout",
     "output_type": "stream",
     "text": [
      "makeitalic - args ('tom', 25000000)\n",
      "makeitalic  - kwargs {}\n",
      "\n",
      "makebold - args ('tom', 25000000)\n",
      "makebold  - kwargs {}\n",
      "\n",
      "<i><b>hello world:tom\t salary:25000000</b></i>\n"
     ]
    }
   ],
   "source": [
    "@makeitalic\n",
    "@makebold\n",
    "def hello(name, salary=20000000):\n",
    "    return f\"hello world:{name}\\t salary:{salary}\"\n",
    "\n",
    "\n",
    "print(hello(\"tom\", 25000000)) "
   ]
  },
  {
   "cell_type": "code",
   "execution_count": 62,
   "metadata": {},
   "outputs": [],
   "source": [
    "# NOTE: decorators will execute in top to bottom orderr"
   ]
  },
  {
   "cell_type": "code",
   "execution_count": 39,
   "metadata": {},
   "outputs": [
    {
     "name": "stdout",
     "output_type": "stream",
     "text": [
      "function -start \n",
      "function - before end\n",
      "46\n",
      "function -start \n",
      "function - before end\n",
      "408\n"
     ]
    }
   ],
   "source": [
    "def addition(num1, num2):\n",
    "    print(\"function -start \")\n",
    "    res = num1 + num2\n",
    "    print(\"function - before end\")\n",
    "    return res\n",
    "\n",
    "\n",
    "def multiplication(num1, num2):\n",
    "    print(\"function -start \")\n",
    "    res = num1 * num2\n",
    "    print(\"function - before end\")\n",
    "    return res\n",
    "\n",
    "\n",
    "print(addition(12, 34))\n",
    "print(multiplication(12, 34))"
   ]
  },
  {
   "cell_type": "code",
   "execution_count": 40,
   "metadata": {},
   "outputs": [
    {
     "name": "stdout",
     "output_type": "stream",
     "text": [
      "\n",
      "===USING DECORATORS\n",
      "function -start \n",
      "function - before end\n",
      "27\n",
      "function -start \n",
      "function - before end\n",
      "81\n"
     ]
    }
   ],
   "source": [
    "print(\"\\n===USING DECORATORS\")\n",
    "\n",
    "\n",
    "def print_statements(func):\n",
    "    def inner(*args, **kwargs):\n",
    "        print(\"function -start \")\n",
    "        myres = func(*args, **kwargs)\n",
    "        print(\"function - before end\")\n",
    "        return myres\n",
    "\n",
    "    return inner\n",
    "\n",
    "\n",
    "@print_statements\n",
    "def addition11111(num1, num2):\n",
    "    res = num1 + num2\n",
    "    return res\n",
    "\n",
    "\n",
    "@print_statements\n",
    "def multiplication1111(num1, num2):\n",
    "    res = num1 * num2\n",
    "    return res\n",
    "\n",
    "\n",
    "print(multiplication1111(3, 9))\n",
    "print(addition11111(12, 69))"
   ]
  },
  {
   "cell_type": "code",
   "execution_count": 41,
   "metadata": {},
   "outputs": [
    {
     "name": "stdout",
     "output_type": "stream",
     "text": [
      "[0, 2, 4, 6, 8, 10, 12, 14, 16, 18, 20, 22, 24, 26, 28, 30, 32, 34, 36, 38, 40, 42, 44, 46, 48]\n",
      "[0, 2, 4, 6, 8, 10, 12, 14, 16, 18, 20, 22, 24, 26, 28, 30, 32, 34, 36, 38, 40, 42, 44, 46, 48, 50, 52, 54, 56, 58, 60, 62, 64, 66, 68, 70, 72, 74, 76, 78, 80, 82, 84, 86, 88, 90, 92, 94, 96, 98, 100, 102, 104, 106, 108, 110, 112, 114, 116, 118, 120, 122, 124, 126, 128, 130, 132, 134, 136, 138, 140, 142, 144, 146, 148, 150, 152, 154, 156, 158, 160, 162, 164, 166, 168, 170, 172, 174, 176, 178, 180, 182, 184, 186, 188, 190, 192, 194, 196, 198, 200, 202, 204, 206, 208, 210, 212, 214, 216, 218, 220, 222, 224, 226, 228, 230, 232, 234, 236, 238, 240, 242, 244, 246, 248, 250, 252, 254, 256, 258, 260, 262, 264, 266, 268, 270, 272, 274, 276, 278, 280, 282, 284, 286, 288, 290, 292, 294, 296, 298, 300, 302, 304, 306, 308, 310, 312, 314, 316, 318, 320, 322, 324, 326, 328, 330, 332, 334, 336, 338, 340, 342, 344, 346, 348, 350, 352, 354, 356, 358, 360, 362, 364, 366, 368, 370, 372, 374, 376, 378, 380, 382, 384, 386, 388, 390, 392, 394, 396, 398, 400, 402, 404, 406, 408, 410, 412, 414, 416, 418, 420, 422, 424, 426, 428, 430, 432, 434, 436, 438, 440, 442, 444, 446, 448, 450, 452, 454, 456, 458, 460, 462, 464, 466, 468, 470, 472, 474, 476, 478, 480, 482, 484, 486, 488, 490, 492, 494, 496, 498]\n"
     ]
    }
   ],
   "source": [
    "# decorator to calculate the time taken by a function\n",
    "\n",
    "def get_even_number(num):\n",
    "    even_numbers = []\n",
    "    for i in range(num):\n",
    "        if i % 2 == 0:\n",
    "            even_numbers.append(i)\n",
    "    return even_numbers\n",
    "\n",
    "\n",
    "print(get_even_number(50))\n",
    "print(get_even_number(500))"
   ]
  },
  {
   "cell_type": "code",
   "execution_count": 42,
   "metadata": {},
   "outputs": [
    {
     "data": {
      "text/plain": [
       "6520132274374"
      ]
     },
     "execution_count": 42,
     "metadata": {},
     "output_type": "execute_result"
    }
   ],
   "source": [
    "import time \n",
    "\n",
    "time.perf_counter_ns()"
   ]
  },
  {
   "cell_type": "code",
   "execution_count": 43,
   "metadata": {},
   "outputs": [
    {
     "name": "stdout",
     "output_type": "stream",
     "text": [
      "TIME_TAKEN = 4889 ns\n",
      "[0, 2, 4, 6, 8, 10, 12, 14, 16, 18, 20, 22, 24, 26, 28, 30, 32, 34, 36, 38, 40, 42, 44, 46, 48]\n",
      "TIME_TAKEN = 22973 ns\n",
      "[0, 2, 4, 6, 8, 10, 12, 14, 16, 18, 20, 22, 24, 26, 28, 30, 32, 34, 36, 38, 40, 42, 44, 46, 48, 50, 52, 54, 56, 58, 60, 62, 64, 66, 68, 70, 72, 74, 76, 78, 80, 82, 84, 86, 88, 90, 92, 94, 96, 98, 100, 102, 104, 106, 108, 110, 112, 114, 116, 118, 120, 122, 124, 126, 128, 130, 132, 134, 136, 138, 140, 142, 144, 146, 148, 150, 152, 154, 156, 158, 160, 162, 164, 166, 168, 170, 172, 174, 176, 178, 180, 182, 184, 186, 188, 190, 192, 194, 196, 198, 200, 202, 204, 206, 208, 210, 212, 214, 216, 218, 220, 222, 224, 226, 228, 230, 232, 234, 236, 238, 240, 242, 244, 246, 248, 250, 252, 254, 256, 258, 260, 262, 264, 266, 268, 270, 272, 274, 276, 278, 280, 282, 284, 286, 288, 290, 292, 294, 296, 298, 300, 302, 304, 306, 308, 310, 312, 314, 316, 318, 320, 322, 324, 326, 328, 330, 332, 334, 336, 338, 340, 342, 344, 346, 348, 350, 352, 354, 356, 358, 360, 362, 364, 366, 368, 370, 372, 374, 376, 378, 380, 382, 384, 386, 388, 390, 392, 394, 396, 398, 400, 402, 404, 406, 408, 410, 412, 414, 416, 418, 420, 422, 424, 426, 428, 430, 432, 434, 436, 438, 440, 442, 444, 446, 448, 450, 452, 454, 456, 458, 460, 462, 464, 466, 468, 470, 472, 474, 476, 478, 480, 482, 484, 486, 488, 490, 492, 494, 496, 498]\n"
     ]
    }
   ],
   "source": [
    "\n",
    "def get_even_number(num):\n",
    "    start_time = time.perf_counter_ns()\n",
    "\n",
    "    even_numbers = []\n",
    "    for i in range(num):\n",
    "        if i % 2 == 0:\n",
    "            even_numbers.append(i)\n",
    "    end_time = time.perf_counter_ns()\n",
    "    print(f'TIME_TAKEN = {end_time - start_time} ns')\n",
    "    return even_numbers\n",
    "\n",
    "\n",
    "print(get_even_number(50))\n",
    "print(get_even_number(500))"
   ]
  },
  {
   "cell_type": "code",
   "execution_count": 44,
   "metadata": {},
   "outputs": [
    {
     "name": "stdout",
     "output_type": "stream",
     "text": [
      "TIME_TAKEN = 942 ns\n",
      "Hello python! welcome to the world\n",
      "TIME_TAKEN = 1142 ns\n",
      "Hello rust! welcome to the world\n"
     ]
    }
   ],
   "source": [
    "\n",
    "def hello_word(name):\n",
    "    start_time = time.perf_counter_ns()\n",
    "\n",
    "    greeting = f'Hello {name}! welcome to the world'\n",
    "\n",
    "    end_time = time.perf_counter_ns()\n",
    "    print(f'TIME_TAKEN = {end_time - start_time} ns')\n",
    "    return greeting\n",
    "\n",
    "\n",
    "print(hello_word('python'))\n",
    "print(hello_word('rust'))"
   ]
  },
  {
   "cell_type": "code",
   "execution_count": 45,
   "metadata": {},
   "outputs": [],
   "source": [
    "def time_taken(func):\n",
    "    def inner(*args, **kwargs):\n",
    "        start_time = time.perf_counter_ns()\n",
    "        \n",
    "        res = func(*args, **kwargs)\n",
    "        \n",
    "        end_time = time.perf_counter_ns()\n",
    "        print(f'TIME_TAKEN = {end_time - start_time} ns')\n",
    "\n",
    "        return res\n",
    "    return inner"
   ]
  },
  {
   "cell_type": "code",
   "execution_count": 46,
   "metadata": {},
   "outputs": [
    {
     "name": "stdout",
     "output_type": "stream",
     "text": [
      "TIME_TAKEN = 8586 ns\n",
      "[0, 2, 4, 6, 8, 10, 12, 14, 16, 18, 20, 22, 24, 26, 28, 30, 32, 34, 36, 38, 40, 42, 44, 46, 48]\n",
      "TIME_TAKEN = 42289 ns\n",
      "[0, 2, 4, 6, 8, 10, 12, 14, 16, 18, 20, 22, 24, 26, 28, 30, 32, 34, 36, 38, 40, 42, 44, 46, 48, 50, 52, 54, 56, 58, 60, 62, 64, 66, 68, 70, 72, 74, 76, 78, 80, 82, 84, 86, 88, 90, 92, 94, 96, 98, 100, 102, 104, 106, 108, 110, 112, 114, 116, 118, 120, 122, 124, 126, 128, 130, 132, 134, 136, 138, 140, 142, 144, 146, 148, 150, 152, 154, 156, 158, 160, 162, 164, 166, 168, 170, 172, 174, 176, 178, 180, 182, 184, 186, 188, 190, 192, 194, 196, 198, 200, 202, 204, 206, 208, 210, 212, 214, 216, 218, 220, 222, 224, 226, 228, 230, 232, 234, 236, 238, 240, 242, 244, 246, 248, 250, 252, 254, 256, 258, 260, 262, 264, 266, 268, 270, 272, 274, 276, 278, 280, 282, 284, 286, 288, 290, 292, 294, 296, 298, 300, 302, 304, 306, 308, 310, 312, 314, 316, 318, 320, 322, 324, 326, 328, 330, 332, 334, 336, 338, 340, 342, 344, 346, 348, 350, 352, 354, 356, 358, 360, 362, 364, 366, 368, 370, 372, 374, 376, 378, 380, 382, 384, 386, 388, 390, 392, 394, 396, 398, 400, 402, 404, 406, 408, 410, 412, 414, 416, 418, 420, 422, 424, 426, 428, 430, 432, 434, 436, 438, 440, 442, 444, 446, 448, 450, 452, 454, 456, 458, 460, 462, 464, 466, 468, 470, 472, 474, 476, 478, 480, 482, 484, 486, 488, 490, 492, 494, 496, 498]\n",
      "TIME_TAKEN = 1423 ns\n",
      "Hello python! welcome to the world\n",
      "TIME_TAKEN = 992 ns\n",
      "Hello rust! welcome to the world\n"
     ]
    }
   ],
   "source": [
    "@time_taken\n",
    "def get_even_number(num):\n",
    "    even_numbers = []\n",
    "    for i in range(num):\n",
    "        if i % 2 == 0:\n",
    "            even_numbers.append(i)\n",
    "    return even_numbers\n",
    "\n",
    "\n",
    "print(get_even_number(50))\n",
    "print(get_even_number(500))\n",
    "\n",
    "\n",
    "@time_taken\n",
    "def hello_word(name):\n",
    "    greeting = f'Hello {name}! welcome to the world'\n",
    "    return greeting\n",
    "\n",
    "\n",
    "print(hello_word('python'))\n",
    "print(hello_word('rust'))"
   ]
  },
  {
   "cell_type": "markdown",
   "metadata": {},
   "source": [
    "### Class Decorator"
   ]
  },
  {
   "cell_type": "code",
   "execution_count": 48,
   "metadata": {},
   "outputs": [
    {
     "name": "stdout",
     "output_type": "stream",
     "text": [
      "<b><i>hi</i></b>\n"
     ]
    }
   ],
   "source": [
    "class bold:\n",
    "    def __init__(self, f):\n",
    "        self.f = f\n",
    "\n",
    "    def __call__(self):\n",
    "        return \"<b>{}</b>\".format(self.f())\n",
    "\n",
    "\n",
    "class italic:\n",
    "    def __init__(self, f):\n",
    "        self.f = f\n",
    "\n",
    "    def __call__(self):\n",
    "        return \"<i>{}</i>\".format(self.f())\n",
    "\n",
    "\n",
    "\n",
    "@bold\n",
    "@italic\n",
    "def sayhi():\n",
    "    return \"hi\"\n",
    "\n",
    "\n",
    "print(sayhi())\n"
   ]
  },
  {
   "cell_type": "code",
   "execution_count": 49,
   "metadata": {},
   "outputs": [
    {
     "name": "stdout",
     "output_type": "stream",
     "text": [
      "<b><i>hi</i></b>\n"
     ]
    }
   ],
   "source": [
    "class sty(object):\n",
    "    def __init__(self, tag):\n",
    "        self.tag = tag\n",
    "\n",
    "    def __call__(self, f):\n",
    "        def newf():\n",
    "            return \"<{tag}>{res}</{tag}>\".format(res=f(), tag=self.tag)\n",
    "\n",
    "        return newf\n",
    "\n",
    "\n",
    "@sty(\"b\")\n",
    "@sty(\"i\")\n",
    "def sayhi():\n",
    "    return \"hi\"\n",
    "\n",
    "\n",
    "print(sayhi())"
   ]
  },
  {
   "cell_type": "code",
   "execution_count": null,
   "metadata": {},
   "outputs": [],
   "source": []
  }
 ],
 "metadata": {
  "kernelspec": {
   "display_name": "Python 3",
   "language": "python",
   "name": "python3"
  },
  "language_info": {
   "codemirror_mode": {
    "name": "ipython",
    "version": 3
   },
   "file_extension": ".py",
   "mimetype": "text/x-python",
   "name": "python",
   "nbconvert_exporter": "python",
   "pygments_lexer": "ipython3",
   "version": "3.12.1"
  }
 },
 "nbformat": 4,
 "nbformat_minor": 2
}
