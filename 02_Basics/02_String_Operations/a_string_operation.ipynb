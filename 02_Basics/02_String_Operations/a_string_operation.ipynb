{
 "cells": [
  {
   "cell_type": "markdown",
   "metadata": {},
   "source": [
    "Strings can be represented using\n",
    "    single quotes, double quotes, triple single quotes, triple double quotes\n",
    "    NOTE: PEP 8 -> use triple double quotes for doc-strings"
   ]
  },
  {
   "cell_type": "code",
   "execution_count": 1,
   "metadata": {},
   "outputs": [
    {
     "name": "stdout",
     "output_type": "stream",
     "text": [
      "Python Programming <class 'str'>\n"
     ]
    }
   ],
   "source": [
    "# single quotes\n",
    "language = 'Python Programming'\n",
    "print(language, type(language))"
   ]
  },
  {
   "cell_type": "code",
   "execution_count": 2,
   "metadata": {},
   "outputs": [
    {
     "name": "stdout",
     "output_type": "stream",
     "text": [
      "Python Programming <class 'str'>\n"
     ]
    }
   ],
   "source": [
    "language = \"Python Programming\"\n",
    "print(language, type(language))"
   ]
  },
  {
   "cell_type": "code",
   "execution_count": 3,
   "metadata": {},
   "outputs": [
    {
     "name": "stdout",
     "output_type": "stream",
     "text": [
      "Python Programming <class 'str'>\n"
     ]
    }
   ],
   "source": [
    "language = '''Python Programming'''\n",
    "print(language, type(language))"
   ]
  },
  {
   "cell_type": "code",
   "execution_count": 4,
   "metadata": {},
   "outputs": [
    {
     "name": "stdout",
     "output_type": "stream",
     "text": [
      "Python Programming <class 'str'>\n"
     ]
    }
   ],
   "source": [
    "# tripe double quotes\n",
    "language = \"\"\"Python Programming\"\"\"\n",
    "print(language, type(language))"
   ]
  },
  {
   "cell_type": "markdown",
   "metadata": {},
   "source": [
    "### Importance of Quotes "
   ]
  },
  {
   "cell_type": "code",
   "execution_count": 5,
   "metadata": {},
   "outputs": [
    {
     "name": "stdout",
     "output_type": "stream",
     "text": [
      "how are you ? <class 'str'>\n"
     ]
    }
   ],
   "source": [
    "question = 'how are you ?'\n",
    "print(question, type(question))"
   ]
  },
  {
   "cell_type": "code",
   "execution_count": 6,
   "metadata": {},
   "outputs": [
    {
     "ename": "SyntaxError",
     "evalue": "unterminated string literal (detected at line 1) (3503667590.py, line 1)",
     "output_type": "error",
     "traceback": [
      "\u001b[0;36m  Cell \u001b[0;32mIn[6], line 1\u001b[0;36m\u001b[0m\n\u001b[0;31m    where_abouts = 'what's up !'\u001b[0m\n\u001b[0m                               ^\u001b[0m\n\u001b[0;31mSyntaxError\u001b[0m\u001b[0;31m:\u001b[0m unterminated string literal (detected at line 1)\n"
     ]
    }
   ],
   "source": [
    "where_abouts = 'what's up !'"
   ]
  },
  {
   "cell_type": "code",
   "execution_count": 7,
   "metadata": {},
   "outputs": [
    {
     "name": "stdout",
     "output_type": "stream",
     "text": [
      "what's up ! <class 'str'>\n"
     ]
    }
   ],
   "source": [
    "where_abouts = 'what\\'s up !'\n",
    "print(where_abouts, type(where_abouts))"
   ]
  },
  {
   "cell_type": "code",
   "execution_count": 8,
   "metadata": {},
   "outputs": [],
   "source": [
    "# NOTE 1: Placing \\ before any operator with result\n",
    "# in treating operator as a ordinary character\n",
    "# if the line or paragraph is bigger then changing is a little bit harder so prefer double quotes \n"
   ]
  },
  {
   "cell_type": "code",
   "execution_count": 9,
   "metadata": {},
   "outputs": [
    {
     "ename": "SyntaxError",
     "evalue": "invalid syntax (2054524882.py, line 1)",
     "output_type": "error",
     "traceback": [
      "\u001b[0;36m  Cell \u001b[0;32mIn[9], line 1\u001b[0;36m\u001b[0m\n\u001b[0;31m    sql_cmd = \"select * from table where name = 'dom' and profession like \"%work\" \"\u001b[0m\n\u001b[0m                                                                                ^\u001b[0m\n\u001b[0;31mSyntaxError\u001b[0m\u001b[0;31m:\u001b[0m invalid syntax\n"
     ]
    }
   ],
   "source": [
    "sql_cmd = \"select * from table where name = 'dom' and profession like \"%work\" \""
   ]
  },
  {
   "cell_type": "code",
   "execution_count": 10,
   "metadata": {},
   "outputs": [
    {
     "name": "stdout",
     "output_type": "stream",
     "text": [
      " select * from table where name = 'dom' and profession like \"%work\" \n"
     ]
    }
   ],
   "source": [
    "sql_cmd = ''' select * from table where name = 'dom' and profession like \"%work\" '''\n",
    "print(sql_cmd)"
   ]
  },
  {
   "cell_type": "markdown",
   "metadata": {},
   "source": [
    "### Multi-line Strings"
   ]
  },
  {
   "cell_type": "code",
   "execution_count": 11,
   "metadata": {},
   "outputs": [
    {
     "ename": "SyntaxError",
     "evalue": "unterminated string literal (detected at line 2) (492867409.py, line 2)",
     "output_type": "error",
     "traceback": [
      "\u001b[0;36m  Cell \u001b[0;32mIn[11], line 2\u001b[0;36m\u001b[0m\n\u001b[0;31m    'good morning\u001b[0m\n\u001b[0m    ^\u001b[0m\n\u001b[0;31mSyntaxError\u001b[0m\u001b[0;31m:\u001b[0m unterminated string literal (detected at line 2)\n"
     ]
    }
   ],
   "source": [
    "print(\n",
    "    'good morning \n",
    "    how are you ?'\n",
    ")"
   ]
  },
  {
   "cell_type": "code",
   "execution_count": 12,
   "metadata": {},
   "outputs": [
    {
     "name": "stdout",
     "output_type": "stream",
     "text": [
      "good morning     how are you ?\n"
     ]
    }
   ],
   "source": [
    "print(\n",
    "    'good morning \\\n",
    "    how are you ?'\n",
    ")"
   ]
  },
  {
   "cell_type": "code",
   "execution_count": 15,
   "metadata": {},
   "outputs": [
    {
     "name": "stdout",
     "output_type": "stream",
     "text": [
      "good morning\n",
      "    how are you ? \n"
     ]
    }
   ],
   "source": [
    "# by default tripple quotes are designed for multiple lines without continution operator\n",
    "print(\n",
    "    \"\"\"good morning\n",
    "    how are you ? \"\"\"\n",
    ")"
   ]
  },
  {
   "cell_type": "code",
   "execution_count": 16,
   "metadata": {},
   "outputs": [
    {
     "name": "stdout",
     "output_type": "stream",
     "text": [
      "\n",
      "    a - apple\n",
      "    b - ball\n",
      "    c - cat\n",
      "    d - dog\n"
     ]
    }
   ],
   "source": [
    "print(\n",
    "    \"\"\"\n",
    "    a - apple\n",
    "    b - ball\n",
    "    c - cat\n",
    "    d - dog\"\"\"\n",
    ")"
   ]
  },
  {
   "cell_type": "code",
   "execution_count": 17,
   "metadata": {},
   "outputs": [
    {
     "ename": "SyntaxError",
     "evalue": "unterminated string literal (detected at line 1) (1135251421.py, line 1)",
     "output_type": "error",
     "traceback": [
      "\u001b[0;36m  Cell \u001b[0;32mIn[17], line 1\u001b[0;36m\u001b[0m\n\u001b[0;31m    my_string = \"\"\"  select * from my_table where column='python' and column2 = \"django\"\"\"\"\u001b[0m\n\u001b[0m                                                                                          ^\u001b[0m\n\u001b[0;31mSyntaxError\u001b[0m\u001b[0;31m:\u001b[0m unterminated string literal (detected at line 1)\n"
     ]
    }
   ],
   "source": [
    "my_string = \"\"\"  select * from my_table where column='python' and column2 = \"django\"\"\"\""
   ]
  },
  {
   "cell_type": "code",
   "execution_count": 18,
   "metadata": {},
   "outputs": [
    {
     "name": "stdout",
     "output_type": "stream",
     "text": [
      "  select * from my_table where column='python' and column2 = \"django\" \n"
     ]
    }
   ],
   "source": [
    "my_string = \"\"\"  select * from my_table where column='python' and column2 = \"django\" \"\"\"\n",
    "print(my_string)"
   ]
  },
  {
   "cell_type": "markdown",
   "metadata": {},
   "source": [
    "### String Indexing"
   ]
  },
  {
   "cell_type": "code",
   "execution_count": 19,
   "metadata": {},
   "outputs": [
    {
     "name": "stdout",
     "output_type": "stream",
     "text": [
      "Python Programming <class 'str'>\n"
     ]
    }
   ],
   "source": [
    "language = 'Python Programming'\n",
    "print(language, type(language))"
   ]
  },
  {
   "cell_type": "code",
   "execution_count": 20,
   "metadata": {},
   "outputs": [
    {
     "name": "stdout",
     "output_type": "stream",
     "text": [
      "len(language)= 18\n"
     ]
    }
   ],
   "source": [
    "#len() gives the length of string\n",
    "print(\"len(language)=\", len(language))"
   ]
  },
  {
   "cell_type": "code",
   "execution_count": 21,
   "metadata": {},
   "outputs": [],
   "source": [
    "# P   y  t  h  o n   P r  o g  r  a  m  m  i  n  g\n",
    "# 0   1  2  3  4 5 6 7 8  9 10 11 12 13 14 15 16 17    - forward indexing\n",
    "# -18                    -9 -8 -7 -6 -5 -4 -3 -2 -1    - reverse indexing\n",
    "\n",
    "# NOTE: indexing starts with 0 for most of the languages "
   ]
  },
  {
   "cell_type": "code",
   "execution_count": 22,
   "metadata": {},
   "outputs": [
    {
     "name": "stdout",
     "output_type": "stream",
     "text": [
      "language    : Python Programming\n",
      "language[13]: m\n",
      "language[3] : h\n",
      "language[17]: g\n"
     ]
    }
   ],
   "source": [
    "print(\"language    :\", language)\n",
    "print(\"language[13]:\", language[13])\n",
    "print(\"language[3] :\", language[3])\n",
    "print(\"language[17]:\", language[17])"
   ]
  },
  {
   "cell_type": "code",
   "execution_count": 24,
   "metadata": {},
   "outputs": [
    {
     "name": "stdout",
     "output_type": "stream",
     "text": [
      "language[-3]  : i\n",
      "len(language) : 18\n",
      "language[len(language)-3]  : i\n"
     ]
    }
   ],
   "source": [
    "print(\"language[-3]  :\", language[-3])\n",
    "print(\"len(language) :\", len(language))\n",
    "print(\"language[len(language)-3]  :\", language[len(language) - 3])\n",
    "# when ever we are using the negative indices we are doing the the above action \n",
    "# NOTE 1: For a string of length N,\n",
    "# we can indexing from -N to (N -1)"
   ]
  },
  {
   "cell_type": "markdown",
   "metadata": {},
   "source": [
    "### String Slicing "
   ]
  },
  {
   "cell_type": "code",
   "execution_count": 25,
   "metadata": {},
   "outputs": [
    {
     "name": "stdout",
     "output_type": "stream",
     "text": [
      "String Slicing\n",
      "language[0:13] : Python Progra\n"
     ]
    }
   ],
   "source": [
    "print(\"String Slicing\")  # [start_index: final_index]\n",
    "print(\"language[0:13] :\", language[0:13])  "
   ]
  },
  {
   "cell_type": "code",
   "execution_count": 26,
   "metadata": {},
   "outputs": [
    {
     "name": "stdout",
     "output_type": "stream",
     "text": [
      "language[5:17] : n Programmin\n"
     ]
    }
   ],
   "source": [
    "\n",
    "print(\"language[5:17] :\", language[5:17])"
   ]
  },
  {
   "cell_type": "code",
   "execution_count": 27,
   "metadata": {},
   "outputs": [
    {
     "name": "stdout",
     "output_type": "stream",
     "text": [
      "language[3:14] : hon Program\n"
     ]
    }
   ],
   "source": [
    "\n",
    "print(\"language[3:14] :\", language[3:14])"
   ]
  },
  {
   "cell_type": "code",
   "execution_count": 28,
   "metadata": {},
   "outputs": [],
   "source": [
    "# NOTE: In python, it doesn't include the last value, in a boundary condition."
   ]
  },
  {
   "cell_type": "code",
   "execution_count": 29,
   "metadata": {},
   "outputs": [
    {
     "name": "stdout",
     "output_type": "stream",
     "text": [
      "language[0:5]  : Pytho\n",
      "language[0:6]  : Python\n"
     ]
    }
   ],
   "source": [
    "print(\"language[0:5]  :\", language[0:5])  \n",
    "print(\"language[0:6]  :\", language[0:6])"
   ]
  },
  {
   "cell_type": "code",
   "execution_count": 30,
   "metadata": {},
   "outputs": [
    {
     "name": "stdout",
     "output_type": "stream",
     "text": [
      "language[7:18] : Programming\n",
      "language[7:999]: Programming\n",
      "language[45:87]: \n"
     ]
    }
   ],
   "source": [
    "print(\"language[7:18] :\", language[7:18])   # Programming\n",
    "print(\"language[7:999]:\", language[7:999])  # 999 index isn't present\n",
    "print(\"language[45:87]:\", language[45:87])  # indexes are not present"
   ]
  },
  {
   "cell_type": "code",
   "execution_count": null,
   "metadata": {},
   "outputs": [],
   "source": []
  }
 ],
 "metadata": {
  "kernelspec": {
   "display_name": "Python 3",
   "language": "python",
   "name": "python3"
  },
  "language_info": {
   "codemirror_mode": {
    "name": "ipython",
    "version": 3
   },
   "file_extension": ".py",
   "mimetype": "text/x-python",
   "name": "python",
   "nbconvert_exporter": "python",
   "pygments_lexer": "ipython3",
   "version": "3.12.1"
  }
 },
 "nbformat": 4,
 "nbformat_minor": 2
}
