{
 "cells": [
  {
   "cell_type": "markdown",
   "metadata": {},
   "source": [
    "## String Attributes "
   ]
  },
  {
   "cell_type": "code",
   "execution_count": 1,
   "metadata": {},
   "outputs": [
    {
     "name": "stdout",
     "output_type": "stream",
     "text": [
      "language       =  Python Programming\n",
      "type(language) =  <class 'str'>\n",
      "len(language)  =  18\n",
      "id(language)   =  133131574216816\n"
     ]
    }
   ],
   "source": [
    "language = \"Python Programming\"\n",
    "print(\"language       = \", language)\n",
    "print(\"type(language) = \", type(language))\n",
    "\n",
    "print(\"len(language)  = \", len(language))\n",
    "print(\"id(language)   = \", id(language))  # specifying the address location wher it is storing in the memory "
   ]
  },
  {
   "cell_type": "code",
   "execution_count": 2,
   "metadata": {},
   "outputs": [
    {
     "name": "stdout",
     "output_type": "stream",
     "text": [
      "String Attributes\n",
      "dir(language) :  ['__add__', '__class__', '__contains__', '__delattr__', '__dir__', '__doc__', '__eq__', '__format__', '__ge__', '__getattribute__', '__getitem__', '__getnewargs__', '__getstate__', '__gt__', '__hash__', '__init__', '__init_subclass__', '__iter__', '__le__', '__len__', '__lt__', '__mod__', '__mul__', '__ne__', '__new__', '__reduce__', '__reduce_ex__', '__repr__', '__rmod__', '__rmul__', '__setattr__', '__sizeof__', '__str__', '__subclasshook__', 'capitalize', 'casefold', 'center', 'count', 'encode', 'endswith', 'expandtabs', 'find', 'format', 'format_map', 'index', 'isalnum', 'isalpha', 'isascii', 'isdecimal', 'isdigit', 'isidentifier', 'islower', 'isnumeric', 'isprintable', 'isspace', 'istitle', 'isupper', 'join', 'ljust', 'lower', 'lstrip', 'maketrans', 'partition', 'removeprefix', 'removesuffix', 'replace', 'rfind', 'rindex', 'rjust', 'rpartition', 'rsplit', 'rstrip', 'split', 'splitlines', 'startswith', 'strip', 'swapcase', 'title', 'translate', 'upper', 'zfill']\n"
     ]
    }
   ],
   "source": [
    "print(\"String Attributes\")\n",
    "print (\"dir(language) : \", dir(language))"
   ]
  },
  {
   "cell_type": "code",
   "execution_count": 3,
   "metadata": {},
   "outputs": [
    {
     "data": {
      "text/plain": [
       "['__add__',\n",
       " '__class__',\n",
       " '__contains__',\n",
       " '__delattr__',\n",
       " '__dir__',\n",
       " '__doc__',\n",
       " '__eq__',\n",
       " '__format__',\n",
       " '__ge__',\n",
       " '__getattribute__',\n",
       " '__getitem__',\n",
       " '__getnewargs__',\n",
       " '__getstate__',\n",
       " '__gt__',\n",
       " '__hash__',\n",
       " '__init__',\n",
       " '__init_subclass__',\n",
       " '__iter__',\n",
       " '__le__',\n",
       " '__len__',\n",
       " '__lt__',\n",
       " '__mod__',\n",
       " '__mul__',\n",
       " '__ne__',\n",
       " '__new__',\n",
       " '__reduce__',\n",
       " '__reduce_ex__',\n",
       " '__repr__',\n",
       " '__rmod__',\n",
       " '__rmul__',\n",
       " '__setattr__',\n",
       " '__sizeof__',\n",
       " '__str__',\n",
       " '__subclasshook__',\n",
       " 'capitalize',\n",
       " 'casefold',\n",
       " 'center',\n",
       " 'count',\n",
       " 'encode',\n",
       " 'endswith',\n",
       " 'expandtabs',\n",
       " 'find',\n",
       " 'format',\n",
       " 'format_map',\n",
       " 'index',\n",
       " 'isalnum',\n",
       " 'isalpha',\n",
       " 'isascii',\n",
       " 'isdecimal',\n",
       " 'isdigit',\n",
       " 'isidentifier',\n",
       " 'islower',\n",
       " 'isnumeric',\n",
       " 'isprintable',\n",
       " 'isspace',\n",
       " 'istitle',\n",
       " 'isupper',\n",
       " 'join',\n",
       " 'ljust',\n",
       " 'lower',\n",
       " 'lstrip',\n",
       " 'maketrans',\n",
       " 'partition',\n",
       " 'removeprefix',\n",
       " 'removesuffix',\n",
       " 'replace',\n",
       " 'rfind',\n",
       " 'rindex',\n",
       " 'rjust',\n",
       " 'rpartition',\n",
       " 'rsplit',\n",
       " 'rstrip',\n",
       " 'split',\n",
       " 'splitlines',\n",
       " 'startswith',\n",
       " 'strip',\n",
       " 'swapcase',\n",
       " 'title',\n",
       " 'translate',\n",
       " 'upper',\n",
       " 'zfill']"
      ]
     },
     "execution_count": 3,
     "metadata": {},
     "output_type": "execute_result"
    }
   ],
   "source": [
    "dir(language)"
   ]
  },
  {
   "cell_type": "code",
   "execution_count": 4,
   "metadata": {},
   "outputs": [],
   "source": [
    "str1 = \"Taj\"\n",
    "str2 = \"Mahal\""
   ]
  },
  {
   "cell_type": "code",
   "execution_count": 5,
   "metadata": {},
   "outputs": [
    {
     "name": "stdout",
     "output_type": "stream",
     "text": [
      "result: TajMahal\n"
     ]
    }
   ],
   "source": [
    "result = str1 + str2\n",
    "print (\"result:\", result)"
   ]
  },
  {
   "cell_type": "code",
   "execution_count": 6,
   "metadata": {},
   "outputs": [
    {
     "name": "stdout",
     "output_type": "stream",
     "text": [
      "result: TajMahal\n"
     ]
    }
   ],
   "source": [
    "result = str1.__add__(str2)\n",
    "print (\"result:\", result)"
   ]
  },
  {
   "cell_type": "code",
   "execution_count": 7,
   "metadata": {},
   "outputs": [
    {
     "name": "stdout",
     "output_type": "stream",
     "text": [
      "len(language)     : 18\n",
      "language.__len__(): 18\n"
     ]
    }
   ],
   "source": [
    "print(\"len(language)     :\", len(language))\n",
    "print(\"language.__len__():\", language.__len__())"
   ]
  },
  {
   "cell_type": "code",
   "execution_count": 8,
   "metadata": {},
   "outputs": [
    {
     "name": "stdout",
     "output_type": "stream",
     "text": [
      "result= TajTajTajTajTaj\n"
     ]
    }
   ],
   "source": [
    "# str repetetion \n",
    "result = str1 * 5\n",
    "print(\"result=\", result)"
   ]
  },
  {
   "cell_type": "code",
   "execution_count": 9,
   "metadata": {},
   "outputs": [
    {
     "name": "stdout",
     "output_type": "stream",
     "text": [
      "result= TajTajTajTajTaj\n"
     ]
    }
   ],
   "source": [
    "result = str1.__mul__(5)\n",
    "print(\"result=\", result)"
   ]
  },
  {
   "cell_type": "code",
   "execution_count": 10,
   "metadata": {},
   "outputs": [
    {
     "name": "stdout",
     "output_type": "stream",
     "text": [
      "str(language)     : Python Programming\n",
      "language.__str__(): Python Programming\n"
     ]
    }
   ],
   "source": [
    "print(\"str(language)     :\", str(language))\n",
    "print(\"language.__str__():\", language.__str__())"
   ]
  },
  {
   "cell_type": "code",
   "execution_count": 11,
   "metadata": {},
   "outputs": [
    {
     "name": "stdout",
     "output_type": "stream",
     "text": [
      "repr(language)     : 'Python Programming'\n",
      "language.__repr__(): 'Python Programming'\n"
     ]
    }
   ],
   "source": [
    "#raw representation \n",
    "print(\"repr(language)     :\", repr(language))\n",
    "print(\"language.__repr__():\", language.__repr__())"
   ]
  },
  {
   "cell_type": "code",
   "execution_count": 12,
   "metadata": {},
   "outputs": [
    {
     "name": "stdout",
     "output_type": "stream",
     "text": [
      "language             : Python Programming\n",
      "language.capitalize(): Python programming\n",
      "language.title()     : Python Programming\n",
      "language.upper()     : PYTHON PROGRAMMING\n",
      "language.lower()     : python programming\n",
      "language.swapcase()  : pYTHON pROGRAMMING\n"
     ]
    }
   ],
   "source": [
    "print(\"language             :\", language)\n",
    "print(\"language.capitalize():\", language.capitalize())\n",
    "print(\"language.title()     :\", language.title())\n",
    "print(\"language.upper()     :\", language.upper())\n",
    "print(\"language.lower()     :\", language.lower())\n",
    "print(\"language.swapcase()  :\", language.swapcase())"
   ]
  },
  {
   "cell_type": "code",
   "execution_count": 13,
   "metadata": {},
   "outputs": [
    {
     "name": "stdout",
     "output_type": "stream",
     "text": [
      "'der fluß'.lower()   : der fluß\n",
      "'der fluß'.casefold(): der fluss\n",
      "'der fluss'.lower()  : der fluss\n",
      "'der fluss'.casefold(): der fluss\n"
     ]
    }
   ],
   "source": [
    "print(\"'der fluß'.lower()   :\", \"der fluß\".lower())\n",
    "print(\"'der fluß'.casefold():\", \"der fluß\".casefold())\n",
    "print(\"'der fluss'.lower()  :\", \"der fluss\".lower())\n",
    "print(\"'der fluss'.casefold():\", \"der fluss\".casefold())"
   ]
  },
  {
   "cell_type": "code",
   "execution_count": 14,
   "metadata": {},
   "outputs": [
    {
     "name": "stdout",
     "output_type": "stream",
     "text": [
      "İstanbul.casefold() : i̇stanbul\n",
      "Μάϊος.casefold() : μάϊοσ\n",
      "Python.casefold() : python\n",
      "École.casefold() : école\n"
     ]
    }
   ],
   "source": [
    "# Assignment \n",
    "print(\"İstanbul.casefold() :\", \"İstanbul\".casefold())\n",
    "print(\"Μάϊος.casefold() :\", \"Μάϊος\".casefold())\n",
    "print(\"Python.casefold() :\", \"Python\".casefold())\n",
    "print(\"École.casefold() :\", \"École\".casefold())"
   ]
  },
  {
   "cell_type": "code",
   "execution_count": 15,
   "metadata": {},
   "outputs": [
    {
     "name": "stdout",
     "output_type": "stream",
     "text": [
      "language             : Python Programming\n",
      "language.istitle()   : True\n"
     ]
    }
   ],
   "source": [
    "print(\"language             :\", language)\n",
    "print(\"language.istitle()   :\", language.istitle())"
   ]
  },
  {
   "cell_type": "code",
   "execution_count": 16,
   "metadata": {},
   "outputs": [
    {
     "name": "stdout",
     "output_type": "stream",
     "text": [
      "\"TYTYFKUD123#\".isupper() : True\n"
     ]
    }
   ],
   "source": [
    "print('\"TYTYFKUD123#\".isupper() :', \"TYTYFKUD123#\".isupper())"
   ]
  },
  {
   "cell_type": "code",
   "execution_count": 17,
   "metadata": {},
   "outputs": [
    {
     "name": "stdout",
     "output_type": "stream",
     "text": [
      "\"TYTYFKUD12q3#\".isupper() : False\n"
     ]
    }
   ],
   "source": [
    "print('\"TYTYFKUD12q3#\".isupper() :', \"TYTYFKUD12q3#\".isupper())\n",
    "# isupper\n",
    "#     1. atleast one upper case character should present\n",
    "#     2. lower case character should NOT present\n",
    "#       and vice versa for the islower function "
   ]
  },
  {
   "cell_type": "code",
   "execution_count": 18,
   "metadata": {},
   "outputs": [
    {
     "name": "stdout",
     "output_type": "stream",
     "text": [
      "\"1234\".isdigit()     : True\n",
      "\"-1234\".isdigit()     : False\n",
      "\"1234 \".isdigit()    : False\n",
      "\"12 34\".isdigit()    : False\n",
      "\"123edsd\".isdigit()  : False\n"
     ]
    }
   ],
   "source": [
    "print('\"1234\".isdigit()     :', \"1234\".isdigit())\n",
    "print('\"-1234\".isdigit()     :', \"-1234\".isdigit())\n",
    "print('\"1234 \".isdigit()    :', \"1234 \".isdigit())\n",
    "print('\"12 34\".isdigit()    :', \"12 34\".isdigit())\n",
    "print('\"123edsd\".isdigit()  :', \"123edsd\".isdigit())"
   ]
  },
  {
   "cell_type": "code",
   "execution_count": 19,
   "metadata": {},
   "outputs": [
    {
     "name": "stdout",
     "output_type": "stream",
     "text": [
      "\"1234\".isnumeric()     : True\n",
      "\"-1234\".isnumeric()     : False\n",
      "\"1234 \".isnumeric()    : False\n",
      "\"12 34\".isnumeric()    : False\n",
      "\"123edsd\".isnumeric()  : False\n"
     ]
    }
   ],
   "source": [
    "print('\"1234\".isnumeric()     :', \"1234\".isnumeric())\n",
    "print('\"-1234\".isnumeric()     :', \"-1234\".isnumeric())\n",
    "print('\"1234 \".isnumeric()    :', \"1234 \".isnumeric())\n",
    "print('\"12 34\".isnumeric()    :', \"12 34\".isnumeric())\n",
    "print('\"123edsd\".isnumeric()  :', \"123edsd\".isnumeric())"
   ]
  },
  {
   "cell_type": "code",
   "execution_count": 20,
   "metadata": {},
   "outputs": [],
   "source": [
    "#Assignment\n",
    "# The isdigit() method accepts only decimals, subscripts, and superscripts. \n",
    "# Python isdecimal() – If all of the characters in a string are decimal characters, this function returns True, else it returns False."
   ]
  },
  {
   "cell_type": "code",
   "execution_count": 21,
   "metadata": {},
   "outputs": [
    {
     "name": "stdout",
     "output_type": "stream",
     "text": [
      "\"abcD\".isalpha()     : True\n",
      "\"abcd1\".isalpha()    : False\n"
     ]
    }
   ],
   "source": [
    "print('\"abcD\".isalpha()     :', \"abcD\".isalpha())\n",
    "print('\"abcd1\".isalpha()    :', \"abcd1\".isalpha())"
   ]
  },
  {
   "cell_type": "code",
   "execution_count": 23,
   "metadata": {},
   "outputs": [
    {
     "name": "stdout",
     "output_type": "stream",
     "text": [
      "\" \".isspace()     : True\n",
      "\"    \".isspace()     : True\n",
      "\"    a\".isspace()     : False\n",
      "\"\".isspace()     : False\n"
     ]
    }
   ],
   "source": [
    "print('\" \".isspace()     :', \" \".isspace())\n",
    "print('\"    \".isspace()     :', \"    \".isspace())\n",
    "print('\"    a\".isspace()     :', \"    a\".isspace())\n",
    "print('\"\".isspace()     :', \"\".isspace())"
   ]
  },
  {
   "cell_type": "code",
   "execution_count": 24,
   "metadata": {},
   "outputs": [
    {
     "name": "stdout",
     "output_type": "stream",
     "text": [
      "ascii(\"αλεπ\")   : '\\u03b1\\u03bb\\u03b5\\u03c0'\n",
      "ascii(\"tomtom\")   : 'tomtotm'\n",
      "ascii(\"!@#$%\")    : '!@#$%'\n"
     ]
    }
   ],
   "source": [
    "print('ascii(\"αλεπ\")   :', ascii(\"αλεπ\"))\n",
    "print('ascii(\"tomtom\")   :', ascii(\"tomtotm\"))\n",
    "print('ascii(\"!@#$%\")    :', ascii(\"!@#$%\"))"
   ]
  },
  {
   "cell_type": "code",
   "execution_count": 29,
   "metadata": {},
   "outputs": [
    {
     "name": "stdout",
     "output_type": "stream",
     "text": [
      "\"αλεπ\".isascii()     : False\n",
      "\"tomtom\".isascii()   : True\n",
      "\"!@#$\".isascii()     : True\n"
     ]
    }
   ],
   "source": [
    "print('\"αλεπ\".isascii()     :', \"αλεπ\".isascii())\n",
    "print('\"tomtom\".isascii()   :', \"tomtom\".isascii())\n",
    "print('\"!@#$\".isascii()     :', \"!@#$\".isascii())"
   ]
  },
  {
   "cell_type": "code",
   "execution_count": 30,
   "metadata": {},
   "outputs": [
    {
     "name": "stdout",
     "output_type": "stream",
     "text": [
      "\"ab\".isprintable()   : True\n",
      "\"\\n\".isprintable()   : False\n",
      "\"\\t\".isprintable()   : False\n"
     ]
    }
   ],
   "source": [
    "print('\"ab\".isprintable()   :',\"ab\".isprintable())\n",
    "print(r'\"\\n\".isprintable()   :',\"\\n\".isprintable())\n",
    "print(r'\"\\t\".isprintable()   :',\"\\t\".isprintable())"
   ]
  },
  {
   "cell_type": "code",
   "execution_count": null,
   "metadata": {},
   "outputs": [
    {
     "data": {
      "text/plain": [
       "2"
      ]
     },
     "execution_count": 31,
     "metadata": {},
     "output_type": "execute_result"
    }
   ],
   "source": [
    "# P   y  t  h  o n   P r  o g  r  a  m  m  i  n  g\n",
    "\n",
    "# 0   1  2  3  4 5 6 7 8  9 10 11 12 13 14 15 16 17    - forward indexing\n",
    "# -18                    -9 -8 -7 -6 -5 -4 -3 -2 -1    - reverse indexing\n",
    "# it only find the initial occurence \n",
    "# find -- if the things are not present then it gives -1 if we want to throw the error use index()\n",
    "\n",
    "language.find(\"t\")"
   ]
  },
  {
   "cell_type": "code",
   "execution_count": 34,
   "metadata": {},
   "outputs": [
    {
     "name": "stdout",
     "output_type": "stream",
     "text": [
      "language.find(\"n\")       : 5\n",
      "language.rfind(\"n\")       : 16\n"
     ]
    }
   ],
   "source": [
    "print('language.find(\"n\")       :', language.find(\"n\"))\n",
    "print('language.rfind(\"n\")       :', language.rfind(\"n\"))"
   ]
  },
  {
   "cell_type": "code",
   "execution_count": 33,
   "metadata": {},
   "outputs": [
    {
     "name": "stdout",
     "output_type": "stream",
     "text": [
      "language.find(\"z\")       : -1\n"
     ]
    }
   ],
   "source": [
    "print('language.find(\"z\")       :', language.find(\"z\"))"
   ]
  },
  {
   "cell_type": "code",
   "execution_count": 35,
   "metadata": {},
   "outputs": [
    {
     "name": "stdout",
     "output_type": "stream",
     "text": [
      "language.find(\"n\",6)       : 16\n",
      "language.rfind(\"n\" 15)       : 16\n"
     ]
    }
   ],
   "source": [
    "print('language.find(\"n\",6)       :', language.find(\"n\",6))\n",
    "print('language.rfind(\"n\" 15)       :', language.rfind(\"n\", 15))"
   ]
  },
  {
   "cell_type": "code",
   "execution_count": 36,
   "metadata": {},
   "outputs": [
    {
     "name": "stdout",
     "output_type": "stream",
     "text": [
      "language.rfind(\"n\", 6, 17)       : 16\n"
     ]
    }
   ],
   "source": [
    "print('language.rfind(\"n\", 6, 17)       :', language.rfind(\"n\",6, 17))"
   ]
  },
  {
   "cell_type": "code",
   "execution_count": 38,
   "metadata": {},
   "outputs": [
    {
     "name": "stdout",
     "output_type": "stream",
     "text": [
      "language.find(\"Prog\")       : 7\n",
      "language.rfind(\"Prog\")       : 7\n"
     ]
    }
   ],
   "source": [
    "print('language.find(\"Prog\")       :', language.find(\"Prog\"))\n",
    "print('language.rfind(\"Prog\")       :', language.rfind(\"Prog\"))"
   ]
  },
  {
   "cell_type": "code",
   "execution_count": 39,
   "metadata": {},
   "outputs": [
    {
     "name": "stdout",
     "output_type": "stream",
     "text": [
      "python prod    \n"
     ]
    }
   ],
   "source": [
    "# Strip \n",
    "print(\"python prod    \")"
   ]
  },
  {
   "cell_type": "code",
   "execution_count": 40,
   "metadata": {},
   "outputs": [
    {
     "data": {
      "text/plain": [
       "'python prod    '"
      ]
     },
     "execution_count": 40,
     "metadata": {},
     "output_type": "execute_result"
    }
   ],
   "source": [
    "\"python prod    \""
   ]
  },
  {
   "cell_type": "code",
   "execution_count": 41,
   "metadata": {},
   "outputs": [
    {
     "data": {
      "text/plain": [
       "'python prod'"
      ]
     },
     "execution_count": 41,
     "metadata": {},
     "output_type": "execute_result"
    }
   ],
   "source": [
    "\"python prod    \".strip()"
   ]
  },
  {
   "cell_type": "code",
   "execution_count": null,
   "metadata": {},
   "outputs": [
    {
     "data": {
      "text/plain": [
       "'ython prod    '"
      ]
     },
     "execution_count": 44,
     "metadata": {},
     "output_type": "execute_result"
    }
   ],
   "source": [
    "\"python prod    \".strip(\"p\")\n",
    "# order of strip character doesnt matter \n",
    "# if we give the character even in ziz zag pattern it works but the previous character must be removed "
   ]
  },
  {
   "cell_type": "code",
   "execution_count": 43,
   "metadata": {},
   "outputs": [
    {
     "data": {
      "text/plain": [
       "'thon prod'"
      ]
     },
     "execution_count": 43,
     "metadata": {},
     "output_type": "execute_result"
    }
   ],
   "source": [
    "\" python prod    \".strip(\"p y\")"
   ]
  },
  {
   "cell_type": "code",
   "execution_count": 46,
   "metadata": {},
   "outputs": [
    {
     "data": {
      "text/plain": [
       "'00123'"
      ]
     },
     "execution_count": 46,
     "metadata": {},
     "output_type": "execute_result"
    }
   ],
   "source": [
    "# for filling we can use zfill \n",
    "\"123\".zfill(5)"
   ]
  },
  {
   "cell_type": "code",
   "execution_count": 47,
   "metadata": {},
   "outputs": [
    {
     "data": {
      "text/plain": [
       "'123'"
      ]
     },
     "execution_count": 47,
     "metadata": {},
     "output_type": "execute_result"
    }
   ],
   "source": [
    "\"123\".zfill(2)"
   ]
  },
  {
   "cell_type": "code",
   "execution_count": null,
   "metadata": {},
   "outputs": [
    {
     "name": "stdout",
     "output_type": "stream",
     "text": [
      "['Python', 'Production']\n"
     ]
    }
   ],
   "source": [
    " # split --> divid3\n",
    "\n",
    "print(\"Python Production\".split())"
   ]
  },
  {
   "cell_type": "code",
   "execution_count": 52,
   "metadata": {},
   "outputs": [
    {
     "name": "stdout",
     "output_type": "stream",
     "text": [
      "['Python', 'Production']\n",
      "['Python', 'Production']\n",
      "['Python P', 'oduction']\n",
      "['Py', 'hon Produc', 'ion']\n"
     ]
    }
   ],
   "source": [
    "print(\"Python Production\".split())  \n",
    "print(\"Python Production\".split(\" \"))\n",
    "print(\"Python Production\".split(\"r\"))\n",
    "print(\"Python Production\".split(\"t\"))"
   ]
  },
  {
   "cell_type": "code",
   "execution_count": 53,
   "metadata": {},
   "outputs": [
    {
     "name": "stdout",
     "output_type": "stream",
     "text": [
      "['a', 'b', 'c', 'd', 'e', 'f']\n"
     ]
    }
   ],
   "source": [
    "print(\"a    b      c  d e f\".split())"
   ]
  },
  {
   "cell_type": "code",
   "execution_count": 54,
   "metadata": {},
   "outputs": [
    {
     "name": "stdout",
     "output_type": "stream",
     "text": [
      "['a', '', '', '', 'b', '', '', '', '', '', 'c', '', 'd', 'e', 'f']\n"
     ]
    }
   ],
   "source": [
    "print(\"a    b      c  d e f\".split(\" \"))"
   ]
  },
  {
   "cell_type": "code",
   "execution_count": 56,
   "metadata": {},
   "outputs": [
    {
     "name": "stdout",
     "output_type": "stream",
     "text": [
      "['1501510515841054840']\n",
      "['15', '1510515841054840']\n",
      "['15', '151', '515841054840']\n",
      "['15', '151', '515841', '54840']\n",
      "['15', '151', '515841', '5484', '']\n",
      "['15', '151', '515841', '5484', '']\n"
     ]
    }
   ],
   "source": [
    "# maxsplit using\n",
    "print(\"1501510515841054840\".split(\"0\", maxsplit=0))  \n",
    "print(\"1501510515841054840\".split(\"0\", maxsplit=1))\n",
    "print(\"1501510515841054840\".split(\"0\", maxsplit=2))\n",
    "print(\"1501510515841054840\".split(\"0\", maxsplit=3)) \n",
    "print(\"1501510515841054840\".split(\"0\", maxsplit=4))\n",
    "print(\"1501510515841054840\".split(\"0\", maxsplit=55))"
   ]
  },
  {
   "cell_type": "code",
   "execution_count": 57,
   "metadata": {},
   "outputs": [
    {
     "name": "stdout",
     "output_type": "stream",
     "text": [
      "['15', '1510515841054840']\n",
      "['150151051584105484', '']\n"
     ]
    }
   ],
   "source": [
    "print(\"1501510515841054840\".split(\"0\", maxsplit=1))\n",
    "print(\"1501510515841054840\".rsplit(\"0\", maxsplit=1))"
   ]
  },
  {
   "cell_type": "code",
   "execution_count": 58,
   "metadata": {},
   "outputs": [
    {
     "name": "stdout",
     "output_type": "stream",
     "text": [
      "['Python P', 'oduction']\n",
      "('Python P', 'r', 'oduction')\n"
     ]
    }
   ],
   "source": [
    "print(\"Python Production\".split(\"r\"))       \n",
    "print(\"Python Production\".partition(\"r\"))"
   ]
  },
  {
   "cell_type": "code",
   "execution_count": null,
   "metadata": {},
   "outputs": [
    {
     "name": "stdout",
     "output_type": "stream",
     "text": [
      "['Pytho', ' Productio', '']\n",
      "('Pytho', 'n', ' Production')\n"
     ]
    }
   ],
   "source": [
    "print(\"Python Production\".split(\"n\"))       \n",
    "print(\"Python Production\".partition(\"n\"))\n",
    "# partition only does it for the forst occurence "
   ]
  },
  {
   "cell_type": "code",
   "execution_count": 62,
   "metadata": {},
   "outputs": [
    {
     "data": {
      "text/plain": [
       "['1', '2', '3', '4', '5', '6', '7', '8', '9', '8', '7']"
      ]
     },
     "execution_count": 62,
     "metadata": {},
     "output_type": "execute_result"
    }
   ],
   "source": [
    "# converting a string to list \n",
    "list (\"12345678987\")"
   ]
  },
  {
   "cell_type": "code",
   "execution_count": 63,
   "metadata": {},
   "outputs": [
    {
     "data": {
      "text/plain": [
       "('1', '2', '3', '4', '5', '6', '7', '8', '9', '8', '7')"
      ]
     },
     "execution_count": 63,
     "metadata": {},
     "output_type": "execute_result"
    }
   ],
   "source": [
    "tuple (\"12345678987\")"
   ]
  },
  {
   "cell_type": "code",
   "execution_count": 64,
   "metadata": {},
   "outputs": [
    {
     "data": {
      "text/plain": [
       "{'1', '2', '3', '4', '5', '6', '7', '8', '9'}"
      ]
     },
     "execution_count": 64,
     "metadata": {},
     "output_type": "execute_result"
    }
   ],
   "source": [
    "set (\"12345678987\")"
   ]
  },
  {
   "cell_type": "code",
   "execution_count": 65,
   "metadata": {},
   "outputs": [
    {
     "name": "stdout",
     "output_type": "stream",
     "text": [
      "PythonProductionLanguage\n",
      "Python Production Language\n",
      "Python-Production-Language\n"
     ]
    }
   ],
   "source": [
    "# lists of strings to a single string \n",
    "print(\"Python\" + \"Production\" + \"Language\")              \n",
    "print(\"Python\" + \" \" + \"Production\" + \" \" + \"Language\")  \n",
    "print(\"Python\" + \"-\" + \"Production\" + \"-\" + \"Language\")"
   ]
  },
  {
   "cell_type": "code",
   "execution_count": 66,
   "metadata": {},
   "outputs": [
    {
     "data": {
      "text/plain": [
       "'PythonProductionLanguage'"
      ]
     },
     "execution_count": 66,
     "metadata": {},
     "output_type": "execute_result"
    }
   ],
   "source": [
    "''.join([ \"Python\", \"Production\", \"Language\"])"
   ]
  },
  {
   "cell_type": "code",
   "execution_count": 68,
   "metadata": {},
   "outputs": [
    {
     "data": {
      "text/plain": [
       "'PythonLanguageProduction'"
      ]
     },
     "execution_count": 68,
     "metadata": {},
     "output_type": "execute_result"
    }
   ],
   "source": [
    "''.join({\"Python\", \"Production\", \"Language\"})"
   ]
  },
  {
   "cell_type": "code",
   "execution_count": 70,
   "metadata": {},
   "outputs": [
    {
     "name": "stdout",
     "output_type": "stream",
     "text": [
      "PythonLanguageProduction\n",
      "Python Production Language\n",
      "Python@Production@Language\n",
      "Python-Production-Language\n"
     ]
    }
   ],
   "source": [
    "print(''.join({\"Python\", \"Production\", \"Language\"}))\n",
    "print(' '.join([\"Python\", \"Production\", \"Language\"]))\n",
    "print('@'.join([\"Python\", \"Production\", \"Language\"]))\n",
    "print('-'.join([\"Python\", \"Production\", \"Language\"]))"
   ]
  },
  {
   "cell_type": "code",
   "execution_count": 71,
   "metadata": {},
   "outputs": [
    {
     "data": {
      "text/plain": [
       "'102030405'"
      ]
     },
     "execution_count": 71,
     "metadata": {},
     "output_type": "execute_result"
    }
   ],
   "source": [
    "\"0\".join([\"1\", \"2\", \"3\", \"4\", \"5\"])"
   ]
  },
  {
   "cell_type": "code",
   "execution_count": 72,
   "metadata": {},
   "outputs": [
    {
     "ename": "TypeError",
     "evalue": "sequence item 4: expected str instance, int found",
     "output_type": "error",
     "traceback": [
      "\u001b[0;31m---------------------------------------------------------------------------\u001b[0m",
      "\u001b[0;31mTypeError\u001b[0m                                 Traceback (most recent call last)",
      "Cell \u001b[0;32mIn[72], line 1\u001b[0m\n\u001b[0;32m----> 1\u001b[0m \u001b[38;5;124;43m'\u001b[39;49m\u001b[38;5;124;43m0\u001b[39;49m\u001b[38;5;124;43m'\u001b[39;49m\u001b[38;5;241;43m.\u001b[39;49m\u001b[43mjoin\u001b[49m\u001b[43m(\u001b[49m\u001b[43m[\u001b[49m\u001b[38;5;124;43m'\u001b[39;49m\u001b[38;5;124;43m1\u001b[39;49m\u001b[38;5;124;43m'\u001b[39;49m\u001b[43m,\u001b[49m\u001b[43m \u001b[49m\u001b[38;5;124;43m'\u001b[39;49m\u001b[38;5;124;43m2\u001b[39;49m\u001b[38;5;124;43m'\u001b[39;49m\u001b[43m,\u001b[49m\u001b[43m \u001b[49m\u001b[38;5;124;43m'\u001b[39;49m\u001b[38;5;124;43m3\u001b[39;49m\u001b[38;5;124;43m'\u001b[39;49m\u001b[43m,\u001b[49m\u001b[43m \u001b[49m\u001b[38;5;124;43m'\u001b[39;49m\u001b[38;5;124;43m4\u001b[39;49m\u001b[38;5;124;43m'\u001b[39;49m\u001b[43m,\u001b[49m\u001b[43m \u001b[49m\u001b[38;5;241;43m5\u001b[39;49m\u001b[43m]\u001b[49m\u001b[43m)\u001b[49m\n",
      "\u001b[0;31mTypeError\u001b[0m: sequence item 4: expected str instance, int found"
     ]
    }
   ],
   "source": [
    "'0'.join(['1', '2', '3', '4', 5])"
   ]
  },
  {
   "cell_type": "code",
   "execution_count": 73,
   "metadata": {},
   "outputs": [
    {
     "data": {
      "text/plain": [
       "['', 'ython ', 'roduction']"
      ]
     },
     "execution_count": 73,
     "metadata": {},
     "output_type": "execute_result"
    }
   ],
   "source": [
    "\"Python Production\".split(\"P\")"
   ]
  },
  {
   "cell_type": "code",
   "execution_count": 75,
   "metadata": {},
   "outputs": [
    {
     "data": {
      "text/plain": [
       "'Python Production'"
      ]
     },
     "execution_count": 75,
     "metadata": {},
     "output_type": "execute_result"
    }
   ],
   "source": [
    "'P'.join(['', 'ython ', 'roduction'])"
   ]
  },
  {
   "cell_type": "code",
   "execution_count": 76,
   "metadata": {},
   "outputs": [
    {
     "name": "stdout",
     "output_type": "stream",
     "text": [
      "Python Production\n",
      "Rython Rroduction\n"
     ]
    }
   ],
   "source": [
    "print(\"P\".join(\"Python Production\".split(\"P\")))\n",
    "print(\"R\".join(\"Python Production\".split(\"P\")))"
   ]
  },
  {
   "cell_type": "code",
   "execution_count": 78,
   "metadata": {},
   "outputs": [
    {
     "name": "stdout",
     "output_type": "stream",
     "text": [
      "Rython Rroduction\n",
      "Python catuction\n",
      "Python Production\n"
     ]
    }
   ],
   "source": [
    "# we can use replace fuction for replacing every occurrence \n",
    "print(\"Python Production\".replace(\"P\", \"R\"))\n",
    "print(\"Python Production\".replace(\"Prod\", \"cat\"))\n",
    "print(\"Python Production\".replace(\"Prod1\", \"cat\"))"
   ]
  },
  {
   "cell_type": "code",
   "execution_count": 79,
   "metadata": {},
   "outputs": [
    {
     "data": {
      "text/plain": [
       "'bbbbbbbbbbb'"
      ]
     },
     "execution_count": 79,
     "metadata": {},
     "output_type": "execute_result"
    }
   ],
   "source": [
    "\"aaaaaaaaaaa\".replace(\"a\", \"b\")"
   ]
  },
  {
   "cell_type": "code",
   "execution_count": 80,
   "metadata": {},
   "outputs": [
    {
     "data": {
      "text/plain": [
       "'bbaaaaaaaaa'"
      ]
     },
     "execution_count": 80,
     "metadata": {},
     "output_type": "execute_result"
    }
   ],
   "source": [
    "\"aaaaaaaaaaa\".replace(\"a\", \"b\", 2)"
   ]
  },
  {
   "cell_type": "code",
   "execution_count": null,
   "metadata": {},
   "outputs": [
    {
     "data": {
      "text/plain": [
       "'aaaaaaabbbb'"
      ]
     },
     "execution_count": 88,
     "metadata": {},
     "output_type": "execute_result"
    }
   ],
   "source": [
    "#assignment\n",
    "\"aaaaaaaaaaa\"[::-1].replace(\"a\", \"b\", 4)[::-1]"
   ]
  },
  {
   "cell_type": "code",
   "execution_count": 89,
   "metadata": {},
   "outputs": [
    {
     "data": {
      "text/plain": [
       "'hi bbmy how bre you doing  '"
      ]
     },
     "execution_count": 89,
     "metadata": {},
     "output_type": "execute_result"
    }
   ],
   "source": [
    "\"hi aamy how are you doing  \"[::-1].replace(\"a\", \"b\", 3)[::-1]"
   ]
  },
  {
   "cell_type": "code",
   "execution_count": 90,
   "metadata": {},
   "outputs": [
    {
     "name": "stdout",
     "output_type": "stream",
     "text": [
      "00085\n",
      "-0085\n",
      "00arb\n"
     ]
    }
   ],
   "source": [
    "print(\"85\".zfill(5))\n",
    "print(\"-85\".zfill(5))\n",
    "print(\"arb\".zfill(5))"
   ]
  },
  {
   "cell_type": "code",
   "execution_count": 91,
   "metadata": {},
   "outputs": [
    {
     "name": "stdout",
     "output_type": "stream",
     "text": [
      "    Python Production    \n",
      "----Python Production----\n",
      "....Python Production....\n"
     ]
    }
   ],
   "source": [
    "print(\"Python Production\".center(25))\n",
    "print(\"Python Production\".center(25, \"-\"))\n",
    "print(\"Python Production\".center(25, \".\"))"
   ]
  },
  {
   "cell_type": "code",
   "execution_count": 92,
   "metadata": {},
   "outputs": [
    {
     "name": "stdout",
     "output_type": "stream",
     "text": [
      "Python Production        \n",
      "Python Production--------\n",
      "Python Production........\n"
     ]
    }
   ],
   "source": [
    "print(\"Python Production\".ljust(25))\n",
    "print(\"Python Production\".ljust(25, \"-\"))\n",
    "print(\"Python Production\".ljust(25, \".\"))"
   ]
  },
  {
   "cell_type": "code",
   "execution_count": 93,
   "metadata": {},
   "outputs": [
    {
     "name": "stdout",
     "output_type": "stream",
     "text": [
      "        Python Production\n",
      "--------Python Production\n",
      "........Python Production\n"
     ]
    }
   ],
   "source": [
    "print(\"Python Production\".rjust(25))\n",
    "print(\"Python Production\".rjust(25, \"-\"))\n",
    "print(\"Python Production\".rjust(25, \".\"))"
   ]
  },
  {
   "cell_type": "code",
   "execution_count": null,
   "metadata": {},
   "outputs": [],
   "source": []
  }
 ],
 "metadata": {
  "kernelspec": {
   "display_name": "Python 3",
   "language": "python",
   "name": "python3"
  },
  "language_info": {
   "codemirror_mode": {
    "name": "ipython",
    "version": 3
   },
   "file_extension": ".py",
   "mimetype": "text/x-python",
   "name": "python",
   "nbconvert_exporter": "python",
   "pygments_lexer": "ipython3",
   "version": "3.12.1"
  }
 },
 "nbformat": 4,
 "nbformat_minor": 2
}
