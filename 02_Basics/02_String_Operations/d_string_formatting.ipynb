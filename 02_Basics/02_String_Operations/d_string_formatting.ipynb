{
 "cells": [
  {
   "cell_type": "markdown",
   "metadata": {},
   "source": [
    "## String Formatting\n",
    "\n",
    "    Types\n",
    "            1. Old Style formatting (or literal formatting)\n",
    "            2. New Style formatting\n",
    "            3. F-Strings  ( works from python 3.6+)\n",
    "\n",
    "\n",
    "    Old-Style formatting\n",
    "        %d - integer\n",
    "        %i - integer\n",
    "\n",
    "        %c - single char\n",
    "        %s - string/char\n",
    "\n",
    "        %f - floating-point\n",
    "        %F - floating-point\n",
    "\n",
    "        %o - octal\n",
    "        %x - hexadecimal lowercase\n",
    "        %X - hexadecimal uppercase"
   ]
  },
  {
   "cell_type": "code",
   "execution_count": 54,
   "metadata": {},
   "outputs": [
    {
     "name": "stdout",
     "output_type": "stream",
     "text": [
      "\n",
      "My lucky number is %d\n",
      "My lucky number is 12\n",
      "My lucky number is 12\n"
     ]
    }
   ],
   "source": [
    "print(\"\" % ())\n",
    "print(\"My lucky number is %d\")\n",
    "\n",
    "print(\"My lucky number is %d\" % (12))\n",
    "print(\"My lucky number is %d\" % 12)"
   ]
  },
  {
   "cell_type": "code",
   "execution_count": 55,
   "metadata": {},
   "outputs": [
    {
     "name": "stdout",
     "output_type": "stream",
     "text": [
      "My lucky number is 12\n"
     ]
    }
   ],
   "source": [
    "print(\"My lucky number is %d\" % 12.34)\n",
    "# print(\"My lucky number is %d\" % '12')\n",
    "# TypeError: %d format: a real number is required, not str"
   ]
  },
  {
   "cell_type": "code",
   "execution_count": 56,
   "metadata": {},
   "outputs": [
    {
     "name": "stdout",
     "output_type": "stream",
     "text": [
      "My lucky number is 12.340000\n",
      "My lucky number is 12.000000\n",
      "My lucky number is 0.000000\n"
     ]
    }
   ],
   "source": [
    "#float \n",
    "print(\"My lucky number is %f\" % 12.34)\n",
    "print(\"My lucky number is %f\" % 12) \n",
    "print(\"My lucky number is %f\" % False)"
   ]
  },
  {
   "cell_type": "code",
   "execution_count": 57,
   "metadata": {},
   "outputs": [
    {
     "name": "stdout",
     "output_type": "stream",
     "text": [
      "My lucky number is 12.34\n",
      "My lucky number is 12\n",
      "My lucky number is False\n"
     ]
    }
   ],
   "source": [
    "# str \n",
    "print(\"My lucky number is %s\" % 12.34)\n",
    "print(\"My lucky number is %s\" % 12) \n",
    "print(\"My lucky number is %s\" % False)\n"
   ]
  },
  {
   "cell_type": "code",
   "execution_count": 58,
   "metadata": {},
   "outputs": [
    {
     "name": "stdout",
     "output_type": "stream",
     "text": [
      " 14\n",
      " 38\n",
      " 38\n"
     ]
    }
   ],
   "source": [
    "# octal \n",
    "print(\" %o\" % 12) \n",
    "print(\" %x\" % 56) \n",
    "print(\" %X\" % 56) "
   ]
  },
  {
   "cell_type": "code",
   "execution_count": 59,
   "metadata": {},
   "outputs": [
    {
     "name": "stdout",
     "output_type": "stream",
     "text": [
      "12.340000\n",
      "12.340000\n",
      "12.342658\n"
     ]
    }
   ],
   "source": [
    "# float()  -- 6 digits post decimal\n",
    "print(\"%f\" % 12.34)\n",
    "print(\"%F\" % 12.34)\n",
    "print(\"%F\" % 12.342657877767)"
   ]
  },
  {
   "cell_type": "code",
   "execution_count": 60,
   "metadata": {},
   "outputs": [
    {
     "name": "stdout",
     "output_type": "stream",
     "text": [
      "1.234000e+01\n",
      "1.234000E+01\n",
      "1.234223E+01\n"
     ]
    }
   ],
   "source": [
    "# exponential notation\n",
    "print(\"%e\" % 12.34)\n",
    "print(\"%E\" % 12.34)\n",
    "print(\"%E\" % 12.34223123123123)"
   ]
  },
  {
   "cell_type": "code",
   "execution_count": 61,
   "metadata": {},
   "outputs": [
    {
     "name": "stdout",
     "output_type": "stream",
     "text": [
      "3.141592653589793\n"
     ]
    }
   ],
   "source": [
    "import math\n",
    "print(math.pi)"
   ]
  },
  {
   "cell_type": "code",
   "execution_count": 62,
   "metadata": {},
   "outputs": [
    {
     "name": "stdout",
     "output_type": "stream",
     "text": [
      "3.141593\n",
      "  3.141593\n",
      "     3.142\n"
     ]
    }
   ],
   "source": [
    "print(\"%f\" % math.pi)\n",
    "print(\"%10f\" % math.pi) #uses 10 spaces \n",
    "print(\"%10.3f\" % math.pi) # for decimal values uses only 3 numbers in the decimal "
   ]
  },
  {
   "cell_type": "code",
   "execution_count": 63,
   "metadata": {},
   "outputs": [
    {
     "name": "stdout",
     "output_type": "stream",
     "text": [
      "my name is Naveen - Mandava.\n"
     ]
    }
   ],
   "source": [
    "print(\"my name is %s - %s.\" % (\"Naveen\", \"Mandava\"))"
   ]
  },
  {
   "cell_type": "code",
   "execution_count": 64,
   "metadata": {},
   "outputs": [
    {
     "name": "stdout",
     "output_type": "stream",
     "text": [
      "My name is Naveen. I am 88 old paying a tax of 20.300000\n"
     ]
    },
    {
     "ename": "TypeError",
     "evalue": "%d format: a real number is required, not str",
     "output_type": "error",
     "traceback": [
      "\u001b[0;31m---------------------------------------------------------------------------\u001b[0m",
      "\u001b[0;31mTypeError\u001b[0m                                 Traceback (most recent call last)",
      "Cell \u001b[0;32mIn[64], line 2\u001b[0m\n\u001b[1;32m      1\u001b[0m \u001b[38;5;28mprint\u001b[39m(\u001b[38;5;124m\"\u001b[39m\u001b[38;5;124mMy name is \u001b[39m\u001b[38;5;132;01m%s\u001b[39;00m\u001b[38;5;124m. I am \u001b[39m\u001b[38;5;132;01m%d\u001b[39;00m\u001b[38;5;124m old paying a tax of \u001b[39m\u001b[38;5;132;01m%f\u001b[39;00m\u001b[38;5;124m\"\u001b[39m \u001b[38;5;241m%\u001b[39m (\u001b[38;5;124m\"\u001b[39m\u001b[38;5;124mNaveen\u001b[39m\u001b[38;5;124m\"\u001b[39m, \u001b[38;5;241m88\u001b[39m, \u001b[38;5;241m20.3\u001b[39m))\n\u001b[0;32m----> 2\u001b[0m \u001b[38;5;28mprint\u001b[39m(\u001b[38;5;124;43m\"\u001b[39;49m\u001b[38;5;124;43mMy name is \u001b[39;49m\u001b[38;5;132;43;01m%s\u001b[39;49;00m\u001b[38;5;124;43m. I am \u001b[39;49m\u001b[38;5;132;43;01m%d\u001b[39;49;00m\u001b[38;5;124;43m old paying a tax of \u001b[39;49m\u001b[38;5;132;43;01m%f\u001b[39;49;00m\u001b[38;5;124;43m\"\u001b[39;49m\u001b[43m \u001b[49m\u001b[38;5;241;43m%\u001b[39;49m\u001b[43m \u001b[49m\u001b[43m(\u001b[49m\u001b[38;5;124;43m\"\u001b[39;49m\u001b[38;5;124;43mNaveen\u001b[39;49m\u001b[38;5;124;43m\"\u001b[39;49m\u001b[43m,\u001b[49m\u001b[43m \u001b[49m\u001b[38;5;124;43m'\u001b[39;49m\u001b[38;5;124;43m88\u001b[39;49m\u001b[38;5;124;43m'\u001b[39;49m\u001b[43m,\u001b[49m\u001b[43m \u001b[49m\u001b[38;5;241;43m20.3\u001b[39;49m\u001b[43m)\u001b[49m)\n",
      "\u001b[0;31mTypeError\u001b[0m: %d format: a real number is required, not str"
     ]
    }
   ],
   "source": [
    "print(\"My name is %s. I am %d old paying a tax of %f\" % (\"Naveen\", 88, 20.3))\n",
    "print(\"My name is %s. I am %d old paying a tax of %f\" % (\"Naveen\", '88', 20.3))"
   ]
  },
  {
   "cell_type": "code",
   "execution_count": 65,
   "metadata": {},
   "outputs": [
    {
     "name": "stdout",
     "output_type": "stream",
     "text": [
      "My name is Naveen. I am 88 old paying a tax of 20.3\n"
     ]
    },
    {
     "ename": "TypeError",
     "evalue": "not enough arguments for format string",
     "output_type": "error",
     "traceback": [
      "\u001b[0;31m---------------------------------------------------------------------------\u001b[0m",
      "\u001b[0;31mTypeError\u001b[0m                                 Traceback (most recent call last)",
      "Cell \u001b[0;32mIn[65], line 2\u001b[0m\n\u001b[1;32m      1\u001b[0m \u001b[38;5;28mprint\u001b[39m(\u001b[38;5;124m\"\u001b[39m\u001b[38;5;124mMy name is \u001b[39m\u001b[38;5;132;01m%s\u001b[39;00m\u001b[38;5;124m. I am \u001b[39m\u001b[38;5;132;01m%s\u001b[39;00m\u001b[38;5;124m old paying a tax of \u001b[39m\u001b[38;5;132;01m%s\u001b[39;00m\u001b[38;5;124m\"\u001b[39m \u001b[38;5;241m%\u001b[39m (\u001b[38;5;124m\"\u001b[39m\u001b[38;5;124mNaveen\u001b[39m\u001b[38;5;124m\"\u001b[39m, \u001b[38;5;241m88\u001b[39m, \u001b[38;5;241m20.3\u001b[39m))\n\u001b[0;32m----> 2\u001b[0m \u001b[38;5;28mprint\u001b[39m(\u001b[38;5;124;43m\"\u001b[39;49m\u001b[38;5;124;43mMy name is \u001b[39;49m\u001b[38;5;132;43;01m%s\u001b[39;49;00m\u001b[38;5;124;43m. I am \u001b[39;49m\u001b[38;5;132;43;01m%s\u001b[39;49;00m\u001b[38;5;124;43m old paying a tax of \u001b[39;49m\u001b[38;5;132;43;01m%s\u001b[39;49;00m\u001b[38;5;124;43m\"\u001b[39;49m\u001b[43m \u001b[49m\u001b[38;5;241;43m%\u001b[39;49m\u001b[43m \u001b[49m\u001b[43m(\u001b[49m\u001b[38;5;124;43m\"\u001b[39;49m\u001b[38;5;124;43mNaveen\u001b[39;49m\u001b[38;5;124;43m\"\u001b[39;49m\u001b[43m,\u001b[49m\u001b[43m \u001b[49m\u001b[38;5;241;43m20.3\u001b[39;49m\u001b[43m)\u001b[49m)\n",
      "\u001b[0;31mTypeError\u001b[0m: not enough arguments for format string"
     ]
    }
   ],
   "source": [
    "print(\"My name is %s. I am %s old paying a tax of %s\" % (\"Naveen\", 88, 20.3))\n",
    "print(\"My name is %s. I am %s old paying a tax of %s\" % (\"Naveen\", 20.3))"
   ]
  },
  {
   "cell_type": "code",
   "execution_count": null,
   "metadata": {},
   "outputs": [
    {
     "name": "stdout",
     "output_type": "stream",
     "text": [
      "Python has 002 quote types.\n",
      "Python has 002 quote types.\n"
     ]
    }
   ],
   "source": [
    "print(\n",
    "    \"%(language)s has %(My lucky number)03d quote types.\"\n",
    "    % {\"language\": \"Python\", \"My lucky number\": 2}\n",
    ")\n",
    "print(\n",
    "    \"%(language)s has %(My lucky number)03d quote types.\"\n",
    "    % { \"My lucky number\": 2, \"language\": \"Python\"}\n",
    ") # Order doesnt matter "
   ]
  },
  {
   "cell_type": "code",
   "execution_count": null,
   "metadata": {},
   "outputs": [
    {
     "name": "stdout",
     "output_type": "stream",
     "text": [
      "002\n",
      "002\n",
      "  2\n"
     ]
    }
   ],
   "source": [
    "print(\"2\".zfill(3))\n",
    "print(\"%03d\" % 2)\n",
    "print(\"%3d\" % 2)"
   ]
  },
  {
   "cell_type": "markdown",
   "metadata": {},
   "source": [
    " Limitations of old style string formatting\n",
    "1. same data types need to be passed\n",
    "2. If same value need to go more than one time,those many number of times, values need to be passed"
   ]
  },
  {
   "cell_type": "markdown",
   "metadata": {},
   "source": [
    "# New Style Formatting"
   ]
  },
  {
   "cell_type": "code",
   "execution_count": null,
   "metadata": {},
   "outputs": [
    {
     "name": "stdout",
     "output_type": "stream",
     "text": [
      "\n",
      "\n"
     ]
    }
   ],
   "source": [
    "print(\"\" % ())          # old Style\n",
    "print(\"{}\".format(\"\"))  # new Style"
   ]
  },
  {
   "cell_type": "code",
   "execution_count": null,
   "metadata": {},
   "outputs": [
    {
     "name": "stdout",
     "output_type": "stream",
     "text": [
      "Tom\n",
      "{}\n",
      "{Tom}\n",
      "{{}}\n",
      "{{Tom}}\n"
     ]
    }
   ],
   "source": [
    "print(\"{}\". format(\"Tom\"))\n",
    "print(\"{{}}\". format(\"Tom\")) # we get a brace {}\n",
    "print(\"{{{}}}\". format(\"Tom\")) # we get a brace with the value  {}\n",
    "print(\"{{{{}}}}\". format(\"Tom\"))\n",
    "print(\"{{{{{}}}}}\". format(\"Tom\"))\n"
   ]
  },
  {
   "cell_type": "code",
   "execution_count": null,
   "metadata": {},
   "outputs": [
    {
     "name": "stdout",
     "output_type": "stream",
     "text": [
      "tom and jerry\n",
      "453 and jerry\n",
      "453.0 and True\n",
      "None and True\n"
     ]
    }
   ],
   "source": [
    "print(\"{} and {}\".format(\"tom\", \"jerry\"))\n",
    "print(\"{} and {}\".format(453, \"jerry\"))\n",
    "print(\"{} and {}\".format(453.0, True))\n",
    "print(\"{} and {}\".format(None, True))"
   ]
  },
  {
   "cell_type": "code",
   "execution_count": null,
   "metadata": {},
   "outputs": [
    {
     "name": "stdout",
     "output_type": "stream",
     "text": [
      "None and True\n",
      "None and True\n",
      "True and None\n"
     ]
    }
   ],
   "source": [
    "print(\"{} and {}\".format(None, True))\n",
    "print(\"{0} and {1}\".format(None, True))\n",
    "print(\"{1} and {0}\".format(None, True))"
   ]
  },
  {
   "cell_type": "code",
   "execution_count": null,
   "metadata": {},
   "outputs": [
    {
     "name": "stdout",
     "output_type": "stream",
     "text": [
      "None and None\n"
     ]
    }
   ],
   "source": [
    "print(\"{0} and {0}\".format(None))"
   ]
  },
  {
   "cell_type": "code",
   "execution_count": null,
   "metadata": {},
   "outputs": [
    {
     "name": "stdout",
     "output_type": "stream",
     "text": [
      "11215439494.33\n",
      "11215439494.33\n",
      "11,215,439,494.33\n",
      "11_215_439_494.33\n",
      "11215439494.33\n",
      "+11215439494.33\n",
      "-11215439494.33\n"
     ]
    }
   ],
   "source": [
    "print(\"{}\".format(11215439494.33))\n",
    "print(\"{:}\".format(11215439494.33)) \n",
    "print(\"{:,}\".format(11215439494.33))\n",
    "print(\"{:_}\".format(11215439494.33))\n",
    "print(\"{:-}\".format(11215439494.33))\n",
    "print(\"{:+}\".format(11215439494.33))\n",
    "print(\"{:+}\".format(-11215439494.33))"
   ]
  },
  {
   "cell_type": "code",
   "execution_count": null,
   "metadata": {},
   "outputs": [
    {
     "name": "stdout",
     "output_type": "stream",
     "text": [
      "     15466\n",
      "0000015466\n",
      "aaaaa15466\n"
     ]
    }
   ],
   "source": [
    "# similar to str.zfill()\n",
    "print(\"{:=10}\".format(15466))   \n",
    "print(\"{:0=10}\".format(15466))\n",
    "print(\"{:a=10}\".format(15466))"
   ]
  },
  {
   "cell_type": "code",
   "execution_count": null,
   "metadata": {},
   "outputs": [
    {
     "name": "stdout",
     "output_type": "stream",
     "text": [
      "left aligned        \n",
      "       right aligned\n",
      "      centered      \n"
     ]
    }
   ],
   "source": [
    "# Alignment\n",
    "print(\"{:<20}\".format(\"left aligned\"))\n",
    "print(\"{:>20}\".format(\"right aligned\"))\n",
    "print(\"{:^20}\".format(\"centered\"))"
   ]
  },
  {
   "cell_type": "code",
   "execution_count": null,
   "metadata": {},
   "outputs": [
    {
     "name": "stdout",
     "output_type": "stream",
     "text": [
      "left aligned********\n",
      "*******right aligned\n",
      "******centered******\n"
     ]
    }
   ],
   "source": [
    "print(\"{:*<20}\".format(\"left aligned\"))\n",
    "print(\"{:*>20}\".format(\"right aligned\"))\n",
    "print(\"{:*^20}\".format(\"centered\"))"
   ]
  },
  {
   "cell_type": "code",
   "execution_count": null,
   "metadata": {},
   "outputs": [
    {
     "name": "stdout",
     "output_type": "stream",
     "text": [
      "1024 1024\n",
      "10000000000 0b10000000000\n",
      "2000 0o2000\n",
      "400 0x400\n"
     ]
    }
   ],
   "source": [
    "# Formatting\n",
    "print(\"{}\".format(1024), 1024)\n",
    "print(\"{:b}\".format(1024), bin(1024))\n",
    "print(\"{:o}\".format(1024), oct(1024))\n",
    "print(\"{:x}\".format(1024), hex(1024))"
   ]
  },
  {
   "cell_type": "code",
   "execution_count": null,
   "metadata": {},
   "outputs": [
    {
     "name": "stdout",
     "output_type": "stream",
     "text": [
      "math.pi 3.141592653589793\n",
      "3.141592653589793\n"
     ]
    }
   ],
   "source": [
    "print(\"math.pi\", math.pi)\n",
    "print(\"{}\".format(math.pi))"
   ]
  },
  {
   "cell_type": "code",
   "execution_count": null,
   "metadata": {},
   "outputs": [
    {
     "ename": "ValueError",
     "evalue": "Unknown format code 'd' for object of type 'float'",
     "output_type": "error",
     "traceback": [
      "\u001b[0;31m---------------------------------------------------------------------------\u001b[0m",
      "\u001b[0;31mValueError\u001b[0m                                Traceback (most recent call last)",
      "Cell \u001b[0;32mIn[39], line 1\u001b[0m\n\u001b[0;32m----> 1\u001b[0m \u001b[38;5;28mprint\u001b[39m(\u001b[38;5;124;43m'\u001b[39;49m\u001b[38;5;132;43;01m{:d}\u001b[39;49;00m\u001b[38;5;124;43m'\u001b[39;49m\u001b[38;5;241;43m.\u001b[39;49m\u001b[43mformat\u001b[49m\u001b[43m(\u001b[49m\u001b[43mmath\u001b[49m\u001b[38;5;241;43m.\u001b[39;49m\u001b[43mpi\u001b[49m\u001b[43m)\u001b[49m)\n",
      "\u001b[0;31mValueError\u001b[0m: Unknown format code 'd' for object of type 'float'"
     ]
    }
   ],
   "source": [
    "print('{:d}'.format(math.pi))"
   ]
  },
  {
   "cell_type": "code",
   "execution_count": null,
   "metadata": {},
   "outputs": [
    {
     "name": "stdout",
     "output_type": "stream",
     "text": [
      "3.141593\n",
      "3.141593\n",
      "3.14159\n"
     ]
    }
   ],
   "source": [
    "print(\"{:f}\".format(math.pi))\n",
    "print(\"{:F}\".format(math.pi))\n",
    "print(\"{:g}\".format(math.pi))"
   ]
  },
  {
   "cell_type": "code",
   "execution_count": null,
   "metadata": {},
   "outputs": [
    {
     "name": "stdout",
     "output_type": "stream",
     "text": [
      "3\n",
      "pi = 3.141592653589793 <class 'str'>\n"
     ]
    }
   ],
   "source": [
    "# Assignment\n",
    "print('{:d}'.format(int(math.pi)))\n",
    "pi = '{:s}'.format(str(math.pi))\n",
    "print (\"pi =\", pi, type(pi))"
   ]
  },
  {
   "cell_type": "code",
   "execution_count": null,
   "metadata": {},
   "outputs": [
    {
     "name": "stdout",
     "output_type": "stream",
     "text": [
      "314.159265%\n",
      "600.000000%\n"
     ]
    }
   ],
   "source": [
    "print(\"{:%}\".format(math.pi))\n",
    "print(\"{:%}\".format(6))"
   ]
  },
  {
   "cell_type": "code",
   "execution_count": null,
   "metadata": {},
   "outputs": [
    {
     "name": "stdout",
     "output_type": "stream",
     "text": [
      "3.141592653589793%\n"
     ]
    }
   ],
   "source": [
    "print(\"{:}%\".format(math.pi))"
   ]
  },
  {
   "cell_type": "code",
   "execution_count": 66,
   "metadata": {},
   "outputs": [
    {
     "name": "stdout",
     "output_type": "stream",
     "text": [
      "Name:Brady Age:89 Salary:98979999\n"
     ]
    }
   ],
   "source": [
    "print(\"Name:{} Age:{} Salary:{}\".format(\"Brady\", 89, 98979999))"
   ]
  },
  {
   "cell_type": "code",
   "execution_count": 67,
   "metadata": {},
   "outputs": [
    {
     "name": "stdout",
     "output_type": "stream",
     "text": [
      "\n",
      "        Name:Brady\n",
      "        Age:89 \n",
      "        Salary:98979999 \n"
     ]
    }
   ],
   "source": [
    "print(\n",
    "    \"\"\"\n",
    "        Name:{}\n",
    "        Age:{} \n",
    "        Salary:{} \"\"\".format(\n",
    "            \"Brady\", 89, 98979999\n",
    "    )\n",
    ")\n",
    "   "
   ]
  },
  {
   "cell_type": "code",
   "execution_count": 68,
   "metadata": {},
   "outputs": [
    {
     "name": "stdout",
     "output_type": "stream",
     "text": [
      "\n",
      "        Name:Brady\n",
      "        Age:89 \n",
      "        Salary:98979999 \n"
     ]
    }
   ],
   "source": [
    "print(\n",
    "    \"\"\"\n",
    "        Name:{0}\n",
    "        Age:{1} \n",
    "        Salary:{2} \"\"\".format(\n",
    "            \"Brady\", 89, 98979999\n",
    "    )\n",
    ")"
   ]
  },
  {
   "cell_type": "code",
   "execution_count": null,
   "metadata": {},
   "outputs": [
    {
     "name": "stdout",
     "output_type": "stream",
     "text": [
      "\n",
      "        Name:Brady\n",
      "        Age:Brady \n",
      "        Salary:Brady \n"
     ]
    }
   ],
   "source": [
    "print(\n",
    "    \"\"\"\n",
    "        Name:{0}\n",
    "        Age:{0} \n",
    "        Salary:{0} \"\"\".format(\n",
    "            \"Brady\", 89, 98979999\n",
    "    )\n",
    ")\n",
    "# this is syntactically correct and logicall incorrect "
   ]
  },
  {
   "cell_type": "code",
   "execution_count": null,
   "metadata": {},
   "outputs": [
    {
     "name": "stdout",
     "output_type": "stream",
     "text": [
      "\n",
      "        Name  :Brady Name  :Brady Salary:98979999\n",
      "        Age   :89 Name  :Brady\n",
      "        Salary:98979999\n"
     ]
    }
   ],
   "source": [
    "print(\n",
    "    \"\"\"\n",
    "        Name  :{NAME} Name  :{NAME} Salary:{SALARY}\n",
    "        Age   :{AGE} Name  :{NAME}\n",
    "        Salary:{SALARY}\"\"\".format(NAME=\"Brady\", AGE=89, SALARY=9897999)\n",
    "    )"
   ]
  },
  {
   "cell_type": "markdown",
   "metadata": {},
   "source": [
    "### Bank transcation "
   ]
  },
  {
   "cell_type": "code",
   "execution_count": null,
   "metadata": {},
   "outputs": [
    {
     "name": "stdout",
     "output_type": "stream",
     "text": [
      "\n",
      "        Dear Maya,\n",
      "                Your account ending with 2354 was\n",
      "                credited 2.3 lakhs  on 10th May 2022 14:34:59.\n",
      "\n",
      "        Thank you.\n",
      "        Visit again!!!\n",
      "         \n"
     ]
    }
   ],
   "source": [
    "# Method 1\n",
    "print(\n",
    "    \"\"\"\n",
    "        Dear {account_holder},\n",
    "                Your account ending with {accound_last_4_digits} was\n",
    "                credited {transaction_amount} on {transaction_time}.\n",
    "\n",
    "        Thank you.\n",
    "        Visit again!!!\n",
    "         \"\"\".format(\n",
    "        account_holder =\"Maya\",\n",
    "        accound_last_4_digits =2354,\n",
    "        transaction_amount =\"2.3 lakhs \",\n",
    "        transaction_time =\"10th May 2022 14:34:59\",\n",
    "    )\n",
    ")"
   ]
  },
  {
   "cell_type": "code",
   "execution_count": null,
   "metadata": {},
   "outputs": [
    {
     "name": "stdout",
     "output_type": "stream",
     "text": [
      "\n",
      "        Dear Maya,\n",
      "                Your account ending with 2354 was\n",
      "                credited 2.3 lakhs  on 10th May 2022 14:34:59.\n",
      "\n",
      "        Thank you.\n",
      "        Visit again!!!\n",
      "         \n"
     ]
    }
   ],
   "source": [
    "# Method 2\n",
    "result = { \n",
    "    \"account_holder\":\"Maya\",\n",
    "    \"accound_last_4_digits\": 2354,\n",
    "    \"transaction_amount\": \"2.3 lakhs \",\n",
    "    \"transaction_time\": \"10th May 2022 14:34:59\",\n",
    "}\n",
    "\n",
    "print(\n",
    "    \"\"\"\n",
    "        Dear {account_holder},\n",
    "                Your account ending with {accound_last_4_digits} was\n",
    "                credited {transaction_amount} on {transaction_time}.\n",
    "\n",
    "        Thank you.\n",
    "        Visit again!!!\n",
    "         \"\"\".format(\n",
    "       **result # for dictonary unpacking \n",
    "    )\n",
    ")"
   ]
  },
  {
   "cell_type": "code",
   "execution_count": 73,
   "metadata": {},
   "outputs": [
    {
     "data": {
      "text/plain": [
       "{'account_holder': 'Maya',\n",
       " 'accound_last_4_digits': 2354,\n",
       " 'transaction_amount': '2.3 lakhs ',\n",
       " 'transaction_time': '10th May 2022 14:34:59'}"
      ]
     },
     "execution_count": 73,
     "metadata": {},
     "output_type": "execute_result"
    }
   ],
   "source": [
    "result"
   ]
  },
  {
   "cell_type": "code",
   "execution_count": 75,
   "metadata": {},
   "outputs": [
    {
     "name": "stdout",
     "output_type": "stream",
     "text": [
      "\n",
      "        Dear Maya,\n",
      "                Your account ending with 2354 was\n",
      "                deducted 2.3 lakhs  on 10th May 2022 14:34:59.\n",
      "\n",
      "        Thank you for shopping. Visit again!\n",
      "         \n"
     ]
    }
   ],
   "source": [
    "print(\n",
    "    \"\"\"\n",
    "        Dear {account_holder},\n",
    "                Your account ending with {accound_last_4_digits} was\n",
    "                deducted {transaction_amount} on {transaction_time}.\n",
    "\n",
    "        Thank you for shopping. Visit again!\n",
    "         \"\"\".format_map(\n",
    "        result\n",
    "    )\n",
    ")"
   ]
  },
  {
   "cell_type": "markdown",
   "metadata": {},
   "source": [
    "### F Strings "
   ]
  },
  {
   "cell_type": "code",
   "execution_count": 76,
   "metadata": {},
   "outputs": [
    {
     "name": "stdout",
     "output_type": "stream",
     "text": [
      "\n",
      "\n",
      "\n"
     ]
    }
   ],
   "source": [
    "print(\"\" % ())          # OLD Style\n",
    "print(\"{}\".format(\"\"))  # NEW Style\n",
    "print(f'{\"\"}')          # F-String"
   ]
  },
  {
   "cell_type": "code",
   "execution_count": 77,
   "metadata": {},
   "outputs": [
    {
     "name": "stdout",
     "output_type": "stream",
     "text": [
      "Hello {name}\n"
     ]
    }
   ],
   "source": [
    "print(\"Hello {name}\")"
   ]
  },
  {
   "cell_type": "code",
   "execution_count": 79,
   "metadata": {},
   "outputs": [
    {
     "name": "stdout",
     "output_type": "stream",
     "text": [
      "Hello world\n"
     ]
    }
   ],
   "source": [
    "print(\"Hello {name}\".format(name=\"world\"))\n",
    "# here name is just a label we cant use it outside\n"
   ]
  },
  {
   "cell_type": "code",
   "execution_count": null,
   "metadata": {},
   "outputs": [
    {
     "name": "stdout",
     "output_type": "stream",
     "text": [
      "hello world\n"
     ]
    }
   ],
   "source": [
    "name = \"world\"  # here name is a variable not label \n",
    "print (f\"hello {name}\")"
   ]
  },
  {
   "cell_type": "code",
   "execution_count": 82,
   "metadata": {},
   "outputs": [
    {
     "name": "stdout",
     "output_type": "stream",
     "text": [
      "number is 3423\n"
     ]
    }
   ],
   "source": [
    "number =3423\n",
    "print(f\"number is {number}\")"
   ]
  },
  {
   "cell_type": "code",
   "execution_count": 83,
   "metadata": {},
   "outputs": [
    {
     "name": "stdout",
     "output_type": "stream",
     "text": [
      "Hello WORLD\n",
      "Hello World\n",
      "number is 3423\n"
     ]
    }
   ],
   "source": [
    "# we can format the name variable while using f strings \n",
    "print(f\"Hello {name.upper()}\")\n",
    "print(f\"Hello {name.title()}\")\n",
    "\n",
    "print(f\"number is {int(number)}\")"
   ]
  },
  {
   "cell_type": "code",
   "execution_count": 84,
   "metadata": {},
   "outputs": [
    {
     "name": "stdout",
     "output_type": "stream",
     "text": [
      "11215439494.33\n",
      "11215439494.33\n",
      "11,215,439,494.33\n",
      "11_215_439_494.33\n",
      "11215439494.33\n",
      "+11215439494.33\n"
     ]
    }
   ],
   "source": [
    "value = 11215439494.33\n",
    "print(f\"{value}\") \n",
    "print(f\"{value:}\") \n",
    "print(f\"{value:,}\")\n",
    "print(f\"{value:_}\")\n",
    "print(f\"{value:-}\")\n",
    "print(f\"{value:+}\")"
   ]
  },
  {
   "cell_type": "code",
   "execution_count": 86,
   "metadata": {},
   "outputs": [
    {
     "name": "stdout",
     "output_type": "stream",
     "text": [
      "left aligned        \n",
      "       right aligned\n",
      "      centered      \n",
      "******centered******\n"
     ]
    }
   ],
   "source": [
    "print(f'{\"left aligned\":<20}')      \n",
    "print(f'{\"right aligned\":>20}')    \n",
    "print(f'{\"centered\":^20}')        \n",
    "print(f'{\"centered\":*^20}')"
   ]
  },
  {
   "cell_type": "code",
   "execution_count": 87,
   "metadata": {},
   "outputs": [
    {
     "name": "stdout",
     "output_type": "stream",
     "text": [
      "1024 1024\n",
      "1024 1024\n",
      "10000000000 0b10000000000\n",
      "2000 0o2000\n",
      "400 0x400\n",
      "400 0x400\n"
     ]
    }
   ],
   "source": [
    "print(f\"{1024}\", 1024)\n",
    "print(f\"{1024:d}\", 1024)\n",
    "print(f\"{1024:b}\", bin(1024))\n",
    "print(f\"{1024:o}\", oct(1024))\n",
    "print(f\"{1024:x}\", hex(1024))\n",
    "print(f\"{1024:X}\", hex(1024))"
   ]
  },
  {
   "cell_type": "code",
   "execution_count": 89,
   "metadata": {},
   "outputs": [
    {
     "name": "stdout",
     "output_type": "stream",
     "text": [
      "math.pi :  3.141592653589793\n",
      "3.141592653589793\n",
      "3.141593\n",
      "3.141593\n",
      "3.14159\n"
     ]
    }
   ],
   "source": [
    "print(\"math.pi : \", math.pi)\n",
    "print(f\"{math.pi}\") \n",
    "print(f\"{math.pi:f}\") \n",
    "print(f\"{math.pi:F}\")\n",
    "print(f\"{math.pi:g}\")  "
   ]
  },
  {
   "cell_type": "code",
   "execution_count": null,
   "metadata": {},
   "outputs": [
    {
     "name": "stdout",
     "output_type": "stream",
     "text": [
      "3.141593\n",
      "  3.141593\n",
      "     3.142\n"
     ]
    },
    {
     "ename": "ValueError",
     "evalue": "Invalid format specifier 'a10.3f' for object of type 'float'",
     "output_type": "error",
     "traceback": [
      "\u001b[0;31m---------------------------------------------------------------------------\u001b[0m",
      "\u001b[0;31mValueError\u001b[0m                                Traceback (most recent call last)",
      "Cell \u001b[0;32mIn[93], line 4\u001b[0m\n\u001b[1;32m      2\u001b[0m \u001b[38;5;28mprint\u001b[39m(\u001b[38;5;124mf\u001b[39m\u001b[38;5;124m\"\u001b[39m\u001b[38;5;132;01m{\u001b[39;00mmath\u001b[38;5;241m.\u001b[39mpi\u001b[38;5;132;01m:\u001b[39;00m\u001b[38;5;124m10f\u001b[39m\u001b[38;5;132;01m}\u001b[39;00m\u001b[38;5;124m\"\u001b[39m)\n\u001b[1;32m      3\u001b[0m \u001b[38;5;28mprint\u001b[39m(\u001b[38;5;124mf\u001b[39m\u001b[38;5;124m\"\u001b[39m\u001b[38;5;132;01m{\u001b[39;00mmath\u001b[38;5;241m.\u001b[39mpi\u001b[38;5;132;01m:\u001b[39;00m\u001b[38;5;124m10.3f\u001b[39m\u001b[38;5;132;01m}\u001b[39;00m\u001b[38;5;124m\"\u001b[39m)\n\u001b[0;32m----> 4\u001b[0m \u001b[38;5;28mprint\u001b[39m(\u001b[38;5;124mf\u001b[39m\u001b[38;5;124m\"\u001b[39m\u001b[38;5;132;43;01m{\u001b[39;49;00m\u001b[43mmath\u001b[49m\u001b[38;5;241;43m.\u001b[39;49m\u001b[43mpi\u001b[49m\u001b[38;5;132;43;01m:\u001b[39;49;00m\u001b[38;5;124;43ma10.3f\u001b[39;49m\u001b[38;5;132;43;01m}\u001b[39;49;00m\u001b[38;5;124m\"\u001b[39m)\n",
      "\u001b[0;31mValueError\u001b[0m: Invalid format specifier 'a10.3f' for object of type 'float'"
     ]
    }
   ],
   "source": [
    "print(f\"{math.pi:f}\") \n",
    "print(f\"{math.pi:10f}\")\n",
    "print(f\"{math.pi:10.3f}\")"
   ]
  },
  {
   "cell_type": "code",
   "execution_count": 94,
   "metadata": {},
   "outputs": [
    {
     "name": "stdout",
     "output_type": "stream",
     "text": [
      "result: 15.1641364949649446464343879878945845969746976996\n",
      "result:      15.16\n"
     ]
    }
   ],
   "source": [
    "import decimal \n",
    "\n",
    "# format specifier\n",
    "width = 10\n",
    "precision = 4\n",
    "value = decimal.Decimal(\"15.1641364949649446464343879878945845969746976996\")\n",
    "print(f\"result: {value}\")\n",
    "print(f\"result: {value:{width}.{precision}}\")\n"
   ]
  },
  {
   "cell_type": "code",
   "execution_count": 95,
   "metadata": {},
   "outputs": [
    {
     "data": {
      "text/plain": [
       "15.164136494964945"
      ]
     },
     "execution_count": 95,
     "metadata": {},
     "output_type": "execute_result"
    }
   ],
   "source": [
    "value = 15.1641364949649446464343879878945845969746976996\n",
    "value"
   ]
  },
  {
   "cell_type": "code",
   "execution_count": 96,
   "metadata": {},
   "outputs": [
    {
     "name": "stdout",
     "output_type": "stream",
     "text": [
      "2024-12-02\n"
     ]
    }
   ],
   "source": [
    "from datetime import datetime \n",
    "\n",
    "today = datetime.now()\n",
    "print(f\"{today:%Y-%m-%d}\")"
   ]
  },
  {
   "cell_type": "markdown",
   "metadata": {},
   "source": [
    "### F string assignments \n",
    "\n",
    "    introduced in python 3.8"
   ]
  },
  {
   "cell_type": "code",
   "execution_count": 97,
   "metadata": {},
   "outputs": [
    {
     "name": "stdout",
     "output_type": "stream",
     "text": [
      "Python\n"
     ]
    }
   ],
   "source": [
    "language = \"Python\"\n",
    "print(language)"
   ]
  },
  {
   "cell_type": "code",
   "execution_count": 98,
   "metadata": {},
   "outputs": [
    {
     "name": "stdout",
     "output_type": "stream",
     "text": [
      "language = Python\n",
      "language = Python\n",
      "language = Python\n",
      "language = Python\n",
      "language = 'Python'\n"
     ]
    }
   ],
   "source": [
    "print(\"language =\", language)\n",
    "print(\"language = %s\" % (language))\n",
    "print(\"language = {}\".format(language))\n",
    "print(f\"language = {language}\")\n",
    "print(f\"{language = }\")"
   ]
  },
  {
   "cell_type": "code",
   "execution_count": 99,
   "metadata": {},
   "outputs": [
    {
     "name": "stdout",
     "output_type": "stream",
     "text": [
      "num = 456\n",
      "num = 456\n"
     ]
    }
   ],
   "source": [
    "num = 456\n",
    "print(f\"num = {num}\")\n",
    "print(f\"{num = }\")"
   ]
  },
  {
   "cell_type": "code",
   "execution_count": null,
   "metadata": {},
   "outputs": [
    {
     "name": "stdout",
     "output_type": "stream",
     "text": [
      "NUmber =456\n"
     ]
    },
    {
     "ename": "NameError",
     "evalue": "name 'NUmber' is not defined",
     "output_type": "error",
     "traceback": [
      "\u001b[0;31m---------------------------------------------------------------------------\u001b[0m",
      "\u001b[0;31mNameError\u001b[0m                                 Traceback (most recent call last)",
      "Cell \u001b[0;32mIn[101], line 2\u001b[0m\n\u001b[1;32m      1\u001b[0m \u001b[38;5;28mprint\u001b[39m(\u001b[38;5;124mf\u001b[39m\u001b[38;5;124m'\u001b[39m\u001b[38;5;124mNUmber =\u001b[39m\u001b[38;5;132;01m{\u001b[39;00mnum\u001b[38;5;132;01m}\u001b[39;00m\u001b[38;5;124m'\u001b[39m)\n\u001b[0;32m----> 2\u001b[0m \u001b[38;5;28mprint\u001b[39m(\u001b[38;5;124mf\u001b[39m\u001b[38;5;124m'\u001b[39m\u001b[38;5;132;01m{\u001b[39;00m\u001b[43mNUmber\u001b[49m\u001b[38;5;250m \u001b[39m\u001b[38;5;132;01m=}\u001b[39;00m\u001b[38;5;124m'\u001b[39m)\n",
      "\u001b[0;31mNameError\u001b[0m: name 'NUmber' is not defined"
     ]
    }
   ],
   "source": [
    "print(f'NUmber ={num}')\n"
   ]
  },
  {
   "cell_type": "code",
   "execution_count": 102,
   "metadata": {},
   "outputs": [
    {
     "name": "stdout",
     "output_type": "stream",
     "text": [
      "num     = 456\n",
      "num * 3 = 1368\n",
      "num / 3 = 152.0\n",
      "num % 3 = 0\n"
     ]
    }
   ],
   "source": [
    "print(f\"{num     = }\")\n",
    "print(f\"{num * 3 = }\")\n",
    "print(f\"{num / 3 = }\")\n",
    "print(f\"{num % 3 = }\")"
   ]
  },
  {
   "cell_type": "code",
   "execution_count": null,
   "metadata": {},
   "outputs": [],
   "source": []
  }
 ],
 "metadata": {
  "kernelspec": {
   "display_name": "Python 3",
   "language": "python",
   "name": "python3"
  },
  "language_info": {
   "codemirror_mode": {
    "name": "ipython",
    "version": 3
   },
   "file_extension": ".py",
   "mimetype": "text/x-python",
   "name": "python",
   "nbconvert_exporter": "python",
   "pygments_lexer": "ipython3",
   "version": "3.12.1"
  }
 },
 "nbformat": 4,
 "nbformat_minor": 2
}
